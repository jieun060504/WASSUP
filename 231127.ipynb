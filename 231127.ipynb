{
 "cells": [
  {
   "cell_type": "markdown",
   "id": "c3ef1ada",
   "metadata": {},
   "source": [
    "# 딕셔너리 자료형"
   ]
  },
  {
   "cell_type": "markdown",
   "id": "a8000927",
   "metadata": {
    "ExecuteTime": {
     "end_time": "2023-11-27T01:56:26.838474Z",
     "start_time": "2023-11-27T01:56:26.819092Z"
    }
   },
   "source": [
    "{key1 : value1, key2 : value2, key3 : value3...}"
   ]
  },
  {
   "cell_type": "code",
   "execution_count": 32,
   "id": "b95382cf",
   "metadata": {
    "ExecuteTime": {
     "end_time": "2023-11-27T01:57:45.363760Z",
     "start_time": "2023-11-27T01:57:45.358067Z"
    }
   },
   "outputs": [],
   "source": [
    "dic = {'name':'pey','phone':'010-9999-1234', 'birth':'1118'}"
   ]
  },
  {
   "cell_type": "code",
   "execution_count": null,
   "id": "1538b5ff",
   "metadata": {},
   "outputs": [],
   "source": [
    "a = {1:'hi'}\n",
    "a = {'a':[1,2,3]}"
   ]
  },
  {
   "cell_type": "markdown",
   "id": "13927b9f",
   "metadata": {},
   "source": [
    "### 딕셔너리 쌍 추가하기"
   ]
  },
  {
   "cell_type": "code",
   "execution_count": 3,
   "id": "c705d49d",
   "metadata": {
    "ExecuteTime": {
     "end_time": "2023-11-27T01:28:55.781003Z",
     "start_time": "2023-11-27T01:28:55.767790Z"
    }
   },
   "outputs": [
    {
     "data": {
      "text/plain": [
       "{1: 'a', 2: 'b'}"
      ]
     },
     "execution_count": 3,
     "metadata": {},
     "output_type": "execute_result"
    }
   ],
   "source": [
    "a = {1:'a'}\n",
    "a[2] = 'b'\n",
    "a"
   ]
  },
  {
   "cell_type": "code",
   "execution_count": null,
   "id": "878f2333",
   "metadata": {},
   "outputs": [],
   "source": [
    "a['name']"
   ]
  },
  {
   "cell_type": "markdown",
   "id": "641cb425",
   "metadata": {},
   "source": [
    "### key를 사용해 value 얻기"
   ]
  },
  {
   "cell_type": "code",
   "execution_count": 8,
   "id": "ea5bb03c",
   "metadata": {
    "ExecuteTime": {
     "end_time": "2023-11-27T01:33:57.352979Z",
     "start_time": "2023-11-27T01:33:57.343680Z"
    }
   },
   "outputs": [
    {
     "data": {
      "text/plain": [
       "10"
      ]
     },
     "execution_count": 8,
     "metadata": {},
     "output_type": "execute_result"
    }
   ],
   "source": [
    "grade = {'pey': 10, 'julliet':99}\n",
    "grade['pey']"
   ]
  },
  {
   "cell_type": "markdown",
   "id": "2eae5c1d",
   "metadata": {},
   "source": [
    " ### Key 리스트 만들기(keys)"
   ]
  },
  {
   "cell_type": "code",
   "execution_count": null,
   "id": "149696eb",
   "metadata": {},
   "outputs": [],
   "source": [
    "a = {'name':'pey'}"
   ]
  },
  {
   "cell_type": "markdown",
   "id": "abfa6f14",
   "metadata": {},
   "source": [
    "### value 리스트 만들기 - values"
   ]
  },
  {
   "cell_type": "code",
   "execution_count": 10,
   "id": "02cfcad3",
   "metadata": {
    "ExecuteTime": {
     "end_time": "2023-11-27T01:37:56.536603Z",
     "start_time": "2023-11-27T01:37:54.704900Z"
    }
   },
   "outputs": [
    {
     "ename": "NameError",
     "evalue": "name 'dict_values' is not defined",
     "output_type": "error",
     "traceback": [
      "\u001b[1;31m---------------------------------------------------------------------------\u001b[0m",
      "\u001b[1;31mNameError\u001b[0m                                 Traceback (most recent call last)",
      "Cell \u001b[1;32mIn[10], line 2\u001b[0m\n\u001b[0;32m      1\u001b[0m a\u001b[38;5;241m.\u001b[39mvalues()\n\u001b[1;32m----> 2\u001b[0m dict_values([\u001b[38;5;124m'\u001b[39m\u001b[38;5;124mpey\u001b[39m\u001b[38;5;124m'\u001b[39m, \u001b[38;5;124m'\u001b[39m\u001b[38;5;124m010-9999-1234\u001b[39m\u001b[38;5;124m'\u001b[39m, \u001b[38;5;124m'\u001b[39m\u001b[38;5;124m1118\u001b[39m\u001b[38;5;124m'\u001b[39m])\n",
      "\u001b[1;31mNameError\u001b[0m: name 'dict_values' is not defined"
     ]
    }
   ],
   "source": [
    "a.values()\n",
    "dict_values(['pey', '010-9999-1234', '1118'])"
   ]
  },
  {
   "cell_type": "code",
   "execution_count": 11,
   "id": "a1162ad6",
   "metadata": {
    "ExecuteTime": {
     "end_time": "2023-11-27T01:39:09.003441Z",
     "start_time": "2023-11-27T01:39:08.998660Z"
    }
   },
   "outputs": [],
   "source": [
    "a.get('name')"
   ]
  },
  {
   "cell_type": "markdown",
   "id": "8a60dcbd",
   "metadata": {},
   "source": [
    "# 집합 자료형"
   ]
  },
  {
   "cell_type": "code",
   "execution_count": 12,
   "id": "aadf8a2f",
   "metadata": {
    "ExecuteTime": {
     "end_time": "2023-11-27T01:43:39.082221Z",
     "start_time": "2023-11-27T01:43:39.072658Z"
    }
   },
   "outputs": [
    {
     "data": {
      "text/plain": [
       "{1, 2, 3}"
      ]
     },
     "execution_count": 12,
     "metadata": {},
     "output_type": "execute_result"
    }
   ],
   "source": [
    "s1 = set([1, 2, 3])\n",
    "s1"
   ]
  },
  {
   "cell_type": "code",
   "execution_count": 14,
   "id": "13022720",
   "metadata": {
    "ExecuteTime": {
     "end_time": "2023-11-27T01:43:56.586914Z",
     "start_time": "2023-11-27T01:43:56.577427Z"
    }
   },
   "outputs": [
    {
     "data": {
      "text/plain": [
       "{'d', 'e', 'h', 'l'}"
      ]
     },
     "execution_count": 14,
     "metadata": {},
     "output_type": "execute_result"
    }
   ],
   "source": [
    "s2 = set(\"helld\")\n",
    "s2"
   ]
  },
  {
   "cell_type": "code",
   "execution_count": 15,
   "id": "f899f852",
   "metadata": {
    "ExecuteTime": {
     "end_time": "2023-11-27T01:44:52.075474Z",
     "start_time": "2023-11-27T01:44:52.063422Z"
    }
   },
   "outputs": [
    {
     "data": {
      "text/plain": [
       "[1, 2, 3]"
      ]
     },
     "execution_count": 15,
     "metadata": {},
     "output_type": "execute_result"
    }
   ],
   "source": [
    "s1 = set([1,2,3])\n",
    "l1 = list(s1)\n",
    "l1"
   ]
  },
  {
   "cell_type": "markdown",
   "id": "45f6eb6f",
   "metadata": {},
   "source": [
    "## 교집합, 합집합, 차집합 구하기"
   ]
  },
  {
   "cell_type": "code",
   "execution_count": 16,
   "id": "0c390d10",
   "metadata": {
    "ExecuteTime": {
     "end_time": "2023-11-27T01:46:07.602677Z",
     "start_time": "2023-11-27T01:46:07.596063Z"
    }
   },
   "outputs": [],
   "source": [
    "s1 = set([1,2,3,4,5,6])\n",
    "s2 = set([4,5,6,7,8])"
   ]
  },
  {
   "cell_type": "code",
   "execution_count": 17,
   "id": "4c63dc72",
   "metadata": {
    "ExecuteTime": {
     "end_time": "2023-11-27T01:46:13.974604Z",
     "start_time": "2023-11-27T01:46:13.964252Z"
    }
   },
   "outputs": [
    {
     "data": {
      "text/plain": [
       "{4, 5, 6}"
      ]
     },
     "execution_count": 17,
     "metadata": {},
     "output_type": "execute_result"
    }
   ],
   "source": [
    "s1 & s2"
   ]
  },
  {
   "cell_type": "code",
   "execution_count": 18,
   "id": "887c30db",
   "metadata": {
    "ExecuteTime": {
     "end_time": "2023-11-27T01:46:22.413332Z",
     "start_time": "2023-11-27T01:46:22.401896Z"
    }
   },
   "outputs": [
    {
     "data": {
      "text/plain": [
       "{4, 5, 6}"
      ]
     },
     "execution_count": 18,
     "metadata": {},
     "output_type": "execute_result"
    }
   ],
   "source": [
    "s1.intersection(s2)"
   ]
  },
  {
   "cell_type": "code",
   "execution_count": 19,
   "id": "56aed998",
   "metadata": {
    "ExecuteTime": {
     "end_time": "2023-11-27T01:46:37.621699Z",
     "start_time": "2023-11-27T01:46:37.611680Z"
    }
   },
   "outputs": [
    {
     "data": {
      "text/plain": [
       "{1, 2, 3, 4, 5, 6, 7, 8}"
      ]
     },
     "execution_count": 19,
     "metadata": {},
     "output_type": "execute_result"
    }
   ],
   "source": [
    "s1 | s2"
   ]
  },
  {
   "cell_type": "code",
   "execution_count": 20,
   "id": "07beefb0",
   "metadata": {
    "ExecuteTime": {
     "end_time": "2023-11-27T01:46:45.048287Z",
     "start_time": "2023-11-27T01:46:45.036447Z"
    }
   },
   "outputs": [
    {
     "data": {
      "text/plain": [
       "{1, 2, 3, 4, 5, 6, 7, 8}"
      ]
     },
     "execution_count": 20,
     "metadata": {},
     "output_type": "execute_result"
    }
   ],
   "source": [
    "s1.union(s2)"
   ]
  },
  {
   "cell_type": "code",
   "execution_count": 23,
   "id": "2d41eb04",
   "metadata": {
    "ExecuteTime": {
     "end_time": "2023-11-27T01:47:34.253781Z",
     "start_time": "2023-11-27T01:47:34.243490Z"
    }
   },
   "outputs": [
    {
     "data": {
      "text/plain": [
       "{1, 2, 3}"
      ]
     },
     "execution_count": 23,
     "metadata": {},
     "output_type": "execute_result"
    }
   ],
   "source": [
    "s1 - s2"
   ]
  },
  {
   "cell_type": "code",
   "execution_count": 22,
   "id": "936359c4",
   "metadata": {
    "ExecuteTime": {
     "end_time": "2023-11-27T01:47:29.487821Z",
     "start_time": "2023-11-27T01:47:29.479749Z"
    }
   },
   "outputs": [
    {
     "data": {
      "text/plain": [
       "{7, 8}"
      ]
     },
     "execution_count": 22,
     "metadata": {},
     "output_type": "execute_result"
    }
   ],
   "source": [
    "s2 - s1"
   ]
  },
  {
   "cell_type": "code",
   "execution_count": 24,
   "id": "7d46b4cc",
   "metadata": {
    "ExecuteTime": {
     "end_time": "2023-11-27T01:47:42.373537Z",
     "start_time": "2023-11-27T01:47:42.364735Z"
    }
   },
   "outputs": [
    {
     "data": {
      "text/plain": [
       "{1, 2, 3}"
      ]
     },
     "execution_count": 24,
     "metadata": {},
     "output_type": "execute_result"
    }
   ],
   "source": [
    "s1.difference(s2)"
   ]
  },
  {
   "cell_type": "code",
   "execution_count": 25,
   "id": "ce21254b",
   "metadata": {
    "ExecuteTime": {
     "end_time": "2023-11-27T01:47:49.553222Z",
     "start_time": "2023-11-27T01:47:49.544694Z"
    }
   },
   "outputs": [
    {
     "data": {
      "text/plain": [
       "{7, 8}"
      ]
     },
     "execution_count": 25,
     "metadata": {},
     "output_type": "execute_result"
    }
   ],
   "source": [
    "s2.difference(s1)"
   ]
  },
  {
   "cell_type": "markdown",
   "id": "4120c490",
   "metadata": {},
   "source": [
    "## 집합 자료형 관련 함수"
   ]
  },
  {
   "cell_type": "code",
   "execution_count": 27,
   "id": "1d9bf92a",
   "metadata": {
    "ExecuteTime": {
     "end_time": "2023-11-27T01:49:23.180069Z",
     "start_time": "2023-11-27T01:49:23.170970Z"
    }
   },
   "outputs": [
    {
     "data": {
      "text/plain": [
       "{1, 2, 3, 4}"
      ]
     },
     "execution_count": 27,
     "metadata": {},
     "output_type": "execute_result"
    }
   ],
   "source": [
    "s1 = set([1,2,3])\n",
    "s1.add(4)\n",
    "s1"
   ]
  },
  {
   "cell_type": "code",
   "execution_count": 28,
   "id": "8ab7eb37",
   "metadata": {
    "ExecuteTime": {
     "end_time": "2023-11-27T01:49:37.673752Z",
     "start_time": "2023-11-27T01:49:37.662702Z"
    }
   },
   "outputs": [
    {
     "data": {
      "text/plain": [
       "{1, 2, 3, 4, 5, 6}"
      ]
     },
     "execution_count": 28,
     "metadata": {},
     "output_type": "execute_result"
    }
   ],
   "source": [
    "s1 = set([1,2,3])\n",
    "s1.update([4,5,6])\n",
    "s1"
   ]
  },
  {
   "cell_type": "code",
   "execution_count": 29,
   "id": "8b5a09c1",
   "metadata": {
    "ExecuteTime": {
     "end_time": "2023-11-27T01:49:52.700766Z",
     "start_time": "2023-11-27T01:49:52.688793Z"
    }
   },
   "outputs": [
    {
     "data": {
      "text/plain": [
       "{1, 3}"
      ]
     },
     "execution_count": 29,
     "metadata": {},
     "output_type": "execute_result"
    }
   ],
   "source": [
    "s1 = set([1,2,3])\n",
    "s1.remove(2)\n",
    "s1"
   ]
  },
  {
   "cell_type": "markdown",
   "id": "3cc4f5c9",
   "metadata": {},
   "source": [
    "# 불 자료형"
   ]
  },
  {
   "cell_type": "code",
   "execution_count": 33,
   "id": "429921b5",
   "metadata": {
    "ExecuteTime": {
     "end_time": "2023-11-27T02:03:05.194539Z",
     "start_time": "2023-11-27T02:03:05.187642Z"
    }
   },
   "outputs": [],
   "source": [
    "a = True\n",
    "b = False"
   ]
  },
  {
   "cell_type": "code",
   "execution_count": 34,
   "id": "59e01b0f",
   "metadata": {
    "ExecuteTime": {
     "end_time": "2023-11-27T02:03:22.940541Z",
     "start_time": "2023-11-27T02:03:22.931195Z"
    }
   },
   "outputs": [
    {
     "data": {
      "text/plain": [
       "bool"
      ]
     },
     "execution_count": 34,
     "metadata": {},
     "output_type": "execute_result"
    }
   ],
   "source": [
    "type(a)"
   ]
  },
  {
   "cell_type": "code",
   "execution_count": 35,
   "id": "80865b2c",
   "metadata": {
    "ExecuteTime": {
     "end_time": "2023-11-27T02:03:34.928963Z",
     "start_time": "2023-11-27T02:03:34.922024Z"
    }
   },
   "outputs": [
    {
     "data": {
      "text/plain": [
       "bool"
      ]
     },
     "execution_count": 35,
     "metadata": {},
     "output_type": "execute_result"
    }
   ],
   "source": [
    "type(b)"
   ]
  },
  {
   "cell_type": "code",
   "execution_count": 36,
   "id": "f5703922",
   "metadata": {
    "ExecuteTime": {
     "end_time": "2023-11-27T02:03:43.504833Z",
     "start_time": "2023-11-27T02:03:43.496702Z"
    }
   },
   "outputs": [
    {
     "data": {
      "text/plain": [
       "True"
      ]
     },
     "execution_count": 36,
     "metadata": {},
     "output_type": "execute_result"
    }
   ],
   "source": [
    "1 == 1"
   ]
  },
  {
   "cell_type": "code",
   "execution_count": 37,
   "id": "645eea77",
   "metadata": {
    "ExecuteTime": {
     "end_time": "2023-11-27T02:03:46.789467Z",
     "start_time": "2023-11-27T02:03:46.781392Z"
    }
   },
   "outputs": [
    {
     "data": {
      "text/plain": [
       "True"
      ]
     },
     "execution_count": 37,
     "metadata": {},
     "output_type": "execute_result"
    }
   ],
   "source": [
    "2 > 1"
   ]
  },
  {
   "cell_type": "code",
   "execution_count": 38,
   "id": "465e075c",
   "metadata": {
    "ExecuteTime": {
     "end_time": "2023-11-27T02:03:49.943064Z",
     "start_time": "2023-11-27T02:03:49.932843Z"
    }
   },
   "outputs": [
    {
     "data": {
      "text/plain": [
       "False"
      ]
     },
     "execution_count": 38,
     "metadata": {},
     "output_type": "execute_result"
    }
   ],
   "source": [
    "2 < 1"
   ]
  },
  {
   "cell_type": "markdown",
   "id": "d9cf2851",
   "metadata": {},
   "source": [
    "## 자료형의 참과 거짓"
   ]
  },
  {
   "cell_type": "code",
   "execution_count": 40,
   "id": "d4b590c8",
   "metadata": {
    "ExecuteTime": {
     "end_time": "2023-11-27T02:14:21.641867Z",
     "start_time": "2023-11-27T02:14:21.636816Z"
    }
   },
   "outputs": [
    {
     "name": "stdout",
     "output_type": "stream",
     "text": [
      "4\n",
      "3\n",
      "2\n",
      "1\n"
     ]
    }
   ],
   "source": [
    "a = [1,2,3,4] # 조건에 의한 반복문. FALSE이기에 값이 나오지 않은 것.\n",
    "##\n",
    "while a :\n",
    "    print(a.pop())"
   ]
  },
  {
   "cell_type": "code",
   "execution_count": 41,
   "id": "a8c4a684",
   "metadata": {
    "ExecuteTime": {
     "end_time": "2023-11-27T02:15:34.909075Z",
     "start_time": "2023-11-27T02:15:34.898274Z"
    }
   },
   "outputs": [
    {
     "ename": "SyntaxError",
     "evalue": "invalid syntax (2828318802.py, line 3)",
     "output_type": "error",
     "traceback": [
      "\u001b[1;36m  Cell \u001b[1;32mIn[41], line 3\u001b[1;36m\u001b[0m\n\u001b[1;33m    else :\u001b[0m\n\u001b[1;37m    ^\u001b[0m\n\u001b[1;31mSyntaxError\u001b[0m\u001b[1;31m:\u001b[0m invalid syntax\n"
     ]
    }
   ],
   "source": [
    "if[] : \n",
    "    print(\"참\")\n",
    "    else :\n",
    "        print(\"거짓\")\n",
    "    "
   ]
  },
  {
   "cell_type": "code",
   "execution_count": 42,
   "id": "934b53f0",
   "metadata": {
    "ExecuteTime": {
     "end_time": "2023-11-27T02:16:24.667720Z",
     "start_time": "2023-11-27T02:16:24.656761Z"
    }
   },
   "outputs": [
    {
     "data": {
      "text/plain": [
       "False"
      ]
     },
     "execution_count": 42,
     "metadata": {},
     "output_type": "execute_result"
    }
   ],
   "source": [
    "\"python\" == True"
   ]
  },
  {
   "cell_type": "markdown",
   "id": "a1c40aa9",
   "metadata": {},
   "source": [
    "## 불연산"
   ]
  },
  {
   "cell_type": "code",
   "execution_count": 43,
   "id": "f90c9dfb",
   "metadata": {
    "ExecuteTime": {
     "end_time": "2023-11-27T02:22:52.324165Z",
     "start_time": "2023-11-27T02:22:52.313595Z"
    }
   },
   "outputs": [
    {
     "data": {
      "text/plain": [
       "True"
      ]
     },
     "execution_count": 43,
     "metadata": {},
     "output_type": "execute_result"
    }
   ],
   "source": [
    "bool('python')"
   ]
  },
  {
   "cell_type": "code",
   "execution_count": 44,
   "id": "a646a672",
   "metadata": {
    "ExecuteTime": {
     "end_time": "2023-11-27T02:23:04.424627Z",
     "start_time": "2023-11-27T02:23:04.416932Z"
    }
   },
   "outputs": [
    {
     "data": {
      "text/plain": [
       "False"
      ]
     },
     "execution_count": 44,
     "metadata": {},
     "output_type": "execute_result"
    }
   ],
   "source": [
    "bool('')"
   ]
  },
  {
   "cell_type": "code",
   "execution_count": 45,
   "id": "bd1d65f8",
   "metadata": {
    "ExecuteTime": {
     "end_time": "2023-11-27T02:23:11.470938Z",
     "start_time": "2023-11-27T02:23:11.458688Z"
    }
   },
   "outputs": [
    {
     "data": {
      "text/plain": [
       "True"
      ]
     },
     "execution_count": 45,
     "metadata": {},
     "output_type": "execute_result"
    }
   ],
   "source": [
    "bool([1,2,3])"
   ]
  },
  {
   "cell_type": "code",
   "execution_count": 46,
   "id": "91d5d17d",
   "metadata": {
    "ExecuteTime": {
     "end_time": "2023-11-27T02:23:15.943296Z",
     "start_time": "2023-11-27T02:23:15.933317Z"
    }
   },
   "outputs": [
    {
     "data": {
      "text/plain": [
       "False"
      ]
     },
     "execution_count": 46,
     "metadata": {},
     "output_type": "execute_result"
    }
   ],
   "source": [
    "bool([])"
   ]
  },
  {
   "cell_type": "code",
   "execution_count": 47,
   "id": "7c62ba69",
   "metadata": {
    "ExecuteTime": {
     "end_time": "2023-11-27T02:23:20.557075Z",
     "start_time": "2023-11-27T02:23:20.547531Z"
    }
   },
   "outputs": [
    {
     "data": {
      "text/plain": [
       "False"
      ]
     },
     "execution_count": 47,
     "metadata": {},
     "output_type": "execute_result"
    }
   ],
   "source": [
    "bool(0)"
   ]
  },
  {
   "cell_type": "code",
   "execution_count": 48,
   "id": "82c7c8f8",
   "metadata": {
    "ExecuteTime": {
     "end_time": "2023-11-27T02:23:23.998155Z",
     "start_time": "2023-11-27T02:23:23.989292Z"
    }
   },
   "outputs": [
    {
     "data": {
      "text/plain": [
       "True"
      ]
     },
     "execution_count": 48,
     "metadata": {},
     "output_type": "execute_result"
    }
   ],
   "source": [
    "bool(3)"
   ]
  },
  {
   "cell_type": "markdown",
   "id": "fe1d4648",
   "metadata": {},
   "source": [
    "# 변수"
   ]
  },
  {
   "cell_type": "code",
   "execution_count": 49,
   "id": "89bb97ff",
   "metadata": {
    "ExecuteTime": {
     "end_time": "2023-11-27T02:25:45.823403Z",
     "start_time": "2023-11-27T02:25:45.811501Z"
    }
   },
   "outputs": [
    {
     "data": {
      "text/plain": [
       "2695023010688"
      ]
     },
     "execution_count": 49,
     "metadata": {},
     "output_type": "execute_result"
    }
   ],
   "source": [
    "a = [1,2,3]\n",
    "id(a)"
   ]
  },
  {
   "cell_type": "code",
   "execution_count": 54,
   "id": "6b3e6365",
   "metadata": {
    "ExecuteTime": {
     "end_time": "2023-11-27T02:27:12.577620Z",
     "start_time": "2023-11-27T02:27:12.571676Z"
    }
   },
   "outputs": [],
   "source": [
    "b = a"
   ]
  },
  {
   "cell_type": "code",
   "execution_count": 55,
   "id": "6e4dcaf2",
   "metadata": {
    "ExecuteTime": {
     "end_time": "2023-11-27T02:27:14.425096Z",
     "start_time": "2023-11-27T02:27:14.415268Z"
    }
   },
   "outputs": [
    {
     "data": {
      "text/plain": [
       "140727926336064"
      ]
     },
     "execution_count": 55,
     "metadata": {},
     "output_type": "execute_result"
    }
   ],
   "source": [
    "id(b)"
   ]
  },
  {
   "cell_type": "code",
   "execution_count": 56,
   "id": "3f129e91",
   "metadata": {
    "ExecuteTime": {
     "end_time": "2023-11-27T02:27:39.223524Z",
     "start_time": "2023-11-27T02:27:39.213174Z"
    }
   },
   "outputs": [
    {
     "data": {
      "text/plain": [
       "140727926336064"
      ]
     },
     "execution_count": 56,
     "metadata": {},
     "output_type": "execute_result"
    }
   ],
   "source": [
    "id(b)"
   ]
  },
  {
   "cell_type": "code",
   "execution_count": 57,
   "id": "f1cb48a2",
   "metadata": {
    "ExecuteTime": {
     "end_time": "2023-11-27T02:27:43.069761Z",
     "start_time": "2023-11-27T02:27:43.059812Z"
    }
   },
   "outputs": [
    {
     "data": {
      "text/plain": [
       "140727926336064"
      ]
     },
     "execution_count": 57,
     "metadata": {},
     "output_type": "execute_result"
    }
   ],
   "source": [
    "id(a)"
   ]
  },
  {
   "cell_type": "code",
   "execution_count": 59,
   "id": "61b591d2",
   "metadata": {
    "ExecuteTime": {
     "end_time": "2023-11-27T02:30:56.056702Z",
     "start_time": "2023-11-27T02:30:56.047209Z"
    }
   },
   "outputs": [
    {
     "data": {
      "text/plain": [
       "True"
      ]
     },
     "execution_count": 59,
     "metadata": {},
     "output_type": "execute_result"
    }
   ],
   "source": [
    "a is b"
   ]
  },
  {
   "cell_type": "code",
   "execution_count": 60,
   "id": "3e5f7b3c",
   "metadata": {
    "ExecuteTime": {
     "end_time": "2023-11-27T02:31:03.235319Z",
     "start_time": "2023-11-27T02:31:03.200988Z"
    }
   },
   "outputs": [
    {
     "ename": "TypeError",
     "evalue": "'bool' object does not support item assignment",
     "output_type": "error",
     "traceback": [
      "\u001b[1;31m---------------------------------------------------------------------------\u001b[0m",
      "\u001b[1;31mTypeError\u001b[0m                                 Traceback (most recent call last)",
      "Cell \u001b[1;32mIn[60], line 1\u001b[0m\n\u001b[1;32m----> 1\u001b[0m a[\u001b[38;5;241m1\u001b[39m] \u001b[38;5;241m=\u001b[39m \u001b[38;5;241m4\u001b[39m\n\u001b[0;32m      2\u001b[0m a\n",
      "\u001b[1;31mTypeError\u001b[0m: 'bool' object does not support item assignment"
     ]
    }
   ],
   "source": [
    "a[1] = 4\n",
    "a"
   ]
  },
  {
   "cell_type": "markdown",
   "id": "e9e51f37",
   "metadata": {},
   "source": [
    "## copy 모듈"
   ]
  },
  {
   "cell_type": "code",
   "execution_count": 61,
   "id": "75cd860b",
   "metadata": {
    "ExecuteTime": {
     "end_time": "2023-11-27T02:32:26.506082Z",
     "start_time": "2023-11-27T02:32:26.499039Z"
    }
   },
   "outputs": [],
   "source": [
    "from copy import copy\n",
    "a = [1,2,3]\n",
    "b = copy(a)"
   ]
  },
  {
   "cell_type": "code",
   "execution_count": 62,
   "id": "5bb5be00",
   "metadata": {
    "ExecuteTime": {
     "end_time": "2023-11-27T02:32:28.875576Z",
     "start_time": "2023-11-27T02:32:28.864156Z"
    }
   },
   "outputs": [
    {
     "data": {
      "text/plain": [
       "False"
      ]
     },
     "execution_count": 62,
     "metadata": {},
     "output_type": "execute_result"
    }
   ],
   "source": [
    "b is a #객체를 비교, id가 다름"
   ]
  },
  {
   "cell_type": "code",
   "execution_count": 63,
   "id": "7a2efcd3",
   "metadata": {
    "ExecuteTime": {
     "end_time": "2023-11-27T02:33:10.588299Z",
     "start_time": "2023-11-27T02:33:10.578153Z"
    }
   },
   "outputs": [
    {
     "data": {
      "text/plain": [
       "([1, 2, 3], [1, 2, 3])"
      ]
     },
     "execution_count": 63,
     "metadata": {},
     "output_type": "execute_result"
    }
   ],
   "source": [
    "a, b"
   ]
  },
  {
   "cell_type": "code",
   "execution_count": 64,
   "id": "8e7bbd0c",
   "metadata": {
    "ExecuteTime": {
     "end_time": "2023-11-27T02:33:17.246032Z",
     "start_time": "2023-11-27T02:33:17.237020Z"
    }
   },
   "outputs": [
    {
     "data": {
      "text/plain": [
       "True"
      ]
     },
     "execution_count": 64,
     "metadata": {},
     "output_type": "execute_result"
    }
   ],
   "source": [
    "b == a #요소를 비교. 1,2,3 똑같네~"
   ]
  },
  {
   "cell_type": "code",
   "execution_count": 65,
   "id": "7fa1eb99",
   "metadata": {
    "ExecuteTime": {
     "end_time": "2023-11-27T02:34:30.146711Z",
     "start_time": "2023-11-27T02:34:30.138659Z"
    }
   },
   "outputs": [
    {
     "data": {
      "text/plain": [
       "(2695044644160, 2695045664448)"
      ]
     },
     "execution_count": 65,
     "metadata": {},
     "output_type": "execute_result"
    }
   ],
   "source": [
    "id(a), id(b)"
   ]
  },
  {
   "cell_type": "markdown",
   "id": "e8350f98",
   "metadata": {},
   "source": [
    "## 변수를 만드는 여러가지 방법"
   ]
  },
  {
   "cell_type": "code",
   "execution_count": 72,
   "id": "29d7fe57",
   "metadata": {
    "ExecuteTime": {
     "end_time": "2023-11-27T02:39:33.095282Z",
     "start_time": "2023-11-27T02:39:33.088006Z"
    }
   },
   "outputs": [],
   "source": [
    "a, b = ('pyhon', 'life')"
   ]
  },
  {
   "cell_type": "code",
   "execution_count": 73,
   "id": "8d196335",
   "metadata": {
    "ExecuteTime": {
     "end_time": "2023-11-27T02:39:40.633574Z",
     "start_time": "2023-11-27T02:39:40.624442Z"
    }
   },
   "outputs": [
    {
     "data": {
      "text/plain": [
       "'pyhon'"
      ]
     },
     "execution_count": 73,
     "metadata": {},
     "output_type": "execute_result"
    }
   ],
   "source": [
    "a"
   ]
  },
  {
   "cell_type": "code",
   "execution_count": 67,
   "id": "6de0627a",
   "metadata": {
    "ExecuteTime": {
     "end_time": "2023-11-27T02:37:39.373477Z",
     "start_time": "2023-11-27T02:37:39.367861Z"
    }
   },
   "outputs": [],
   "source": [
    "(a,b) = 'python', 'life'"
   ]
  },
  {
   "cell_type": "code",
   "execution_count": 68,
   "id": "7aa65685",
   "metadata": {
    "ExecuteTime": {
     "end_time": "2023-11-27T02:37:50.917882Z",
     "start_time": "2023-11-27T02:37:50.911086Z"
    }
   },
   "outputs": [],
   "source": [
    "[a,b] = ['pyhon', 'life']"
   ]
  },
  {
   "cell_type": "code",
   "execution_count": 69,
   "id": "9936562d",
   "metadata": {
    "ExecuteTime": {
     "end_time": "2023-11-27T02:37:57.104310Z",
     "start_time": "2023-11-27T02:37:57.096882Z"
    }
   },
   "outputs": [],
   "source": [
    "a = b = 'python'"
   ]
  },
  {
   "cell_type": "code",
   "execution_count": 70,
   "id": "80842d44",
   "metadata": {
    "ExecuteTime": {
     "end_time": "2023-11-27T02:39:05.125841Z",
     "start_time": "2023-11-27T02:39:05.115368Z"
    }
   },
   "outputs": [
    {
     "data": {
      "text/plain": [
       "5"
      ]
     },
     "execution_count": 70,
     "metadata": {},
     "output_type": "execute_result"
    }
   ],
   "source": [
    "a = 3\n",
    "b = 5\n",
    "a, b = b,a\n",
    "a"
   ]
  },
  {
   "cell_type": "code",
   "execution_count": 71,
   "id": "0be72898",
   "metadata": {
    "ExecuteTime": {
     "end_time": "2023-11-27T02:39:06.748372Z",
     "start_time": "2023-11-27T02:39:06.738338Z"
    }
   },
   "outputs": [
    {
     "data": {
      "text/plain": [
       "3"
      ]
     },
     "execution_count": 71,
     "metadata": {},
     "output_type": "execute_result"
    }
   ],
   "source": [
    "b"
   ]
  },
  {
   "cell_type": "markdown",
   "id": "56f93be9",
   "metadata": {},
   "source": [
    "# 연습문제"
   ]
  },
  {
   "cell_type": "code",
   "execution_count": null,
   "id": "e8ec1bd2",
   "metadata": {},
   "outputs": [],
   "source": []
  }
 ],
 "metadata": {
  "kernelspec": {
   "display_name": "Python 3 (ipykernel)",
   "language": "python",
   "name": "python3"
  },
  "language_info": {
   "codemirror_mode": {
    "name": "ipython",
    "version": 3
   },
   "file_extension": ".py",
   "mimetype": "text/x-python",
   "name": "python",
   "nbconvert_exporter": "python",
   "pygments_lexer": "ipython3",
   "version": "3.11.5"
  },
  "toc": {
   "base_numbering": 1,
   "nav_menu": {},
   "number_sections": true,
   "sideBar": true,
   "skip_h1_title": false,
   "title_cell": "Table of Contents",
   "title_sidebar": "Contents",
   "toc_cell": false,
   "toc_position": {},
   "toc_section_display": true,
   "toc_window_display": false
  }
 },
 "nbformat": 4,
 "nbformat_minor": 5
}
