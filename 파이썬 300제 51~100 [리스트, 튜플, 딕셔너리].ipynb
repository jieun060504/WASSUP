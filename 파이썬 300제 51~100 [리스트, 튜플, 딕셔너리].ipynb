{
 "cells": [
  {
   "cell_type": "code",
   "execution_count": 7,
   "id": "ede4f005",
   "metadata": {
    "ExecuteTime": {
     "end_time": "2023-12-09T10:40:43.759258Z",
     "start_time": "2023-12-09T10:40:43.754749Z"
    }
   },
   "outputs": [
    {
     "data": {
      "text/plain": [
       "['닥터 스트레인지', '스플릿', '럭키']"
      ]
     },
     "execution_count": 7,
     "metadata": {},
     "output_type": "execute_result"
    }
   ],
   "source": [
    "#51\n",
    "movie_rank = ['닥터 스트레인지', '스플릿', '럭키']\n",
    "movie_rank\n"
   ]
  },
  {
   "cell_type": "code",
   "execution_count": 11,
   "id": "ccc8a54d",
   "metadata": {
    "ExecuteTime": {
     "end_time": "2023-12-09T10:41:43.953759Z",
     "start_time": "2023-12-09T10:41:43.948148Z"
    },
    "scrolled": true
   },
   "outputs": [
    {
     "data": {
      "text/plain": [
       "['닥터 스트레인지', '스플릿', '럭키', '배트맨', '배트맨', '배트맨']"
      ]
     },
     "execution_count": 11,
     "metadata": {},
     "output_type": "execute_result"
    }
   ],
   "source": [
    "#52\n",
    "movie_rank.append('배트맨')\n",
    "movie_rank"
   ]
  },
  {
   "cell_type": "code",
   "execution_count": 15,
   "id": "72c7b469",
   "metadata": {
    "ExecuteTime": {
     "end_time": "2023-12-09T10:43:18.802503Z",
     "start_time": "2023-12-09T10:43:18.797886Z"
    }
   },
   "outputs": [
    {
     "data": {
      "text/plain": [
       "['닥터 스트레인지', '스플릿', '럭키']"
      ]
     },
     "execution_count": 15,
     "metadata": {},
     "output_type": "execute_result"
    }
   ],
   "source": [
    "del movie_rank[3:4]\n",
    "movie_rank"
   ]
  },
  {
   "cell_type": "code",
   "execution_count": 16,
   "id": "21cf0aef",
   "metadata": {
    "ExecuteTime": {
     "end_time": "2023-12-09T10:43:28.939122Z",
     "start_time": "2023-12-09T10:43:28.933715Z"
    }
   },
   "outputs": [
    {
     "data": {
      "text/plain": [
       "['닥터 스트레인지', '스플릿', '럭키', '배트맨']"
      ]
     },
     "execution_count": 16,
     "metadata": {},
     "output_type": "execute_result"
    }
   ],
   "source": [
    "movie_rank.append('배트맨')\n",
    "movie_rank"
   ]
  },
  {
   "cell_type": "code",
   "execution_count": 18,
   "id": "9efd2f16",
   "metadata": {
    "ExecuteTime": {
     "end_time": "2023-12-09T10:46:13.189640Z",
     "start_time": "2023-12-09T10:46:13.184694Z"
    }
   },
   "outputs": [
    {
     "data": {
      "text/plain": [
       "['닥터 스트레인지', '슈퍼맨', '스플릿', '럭키', '배트맨']"
      ]
     },
     "execution_count": 18,
     "metadata": {},
     "output_type": "execute_result"
    }
   ],
   "source": [
    "#53\n",
    "movie_rank.insert(1, '슈퍼맨')\n",
    "movie_rank"
   ]
  },
  {
   "cell_type": "code",
   "execution_count": 20,
   "id": "7e405418",
   "metadata": {
    "ExecuteTime": {
     "end_time": "2023-12-09T10:47:31.169402Z",
     "start_time": "2023-12-09T10:47:31.165802Z"
    }
   },
   "outputs": [
    {
     "name": "stdout",
     "output_type": "stream",
     "text": [
      "['닥터 스트레인지', '슈퍼맨', '스플릿', '배트맨']\n"
     ]
    }
   ],
   "source": [
    "#54\n",
    "movie_rank.remove('럭키')\n",
    "print(movie_rank)\n",
    "#del a[1] -> 인덱싱 번호 삭제"
   ]
  },
  {
   "cell_type": "code",
   "execution_count": 21,
   "id": "aff2a123",
   "metadata": {
    "ExecuteTime": {
     "end_time": "2023-12-09T10:50:31.468537Z",
     "start_time": "2023-12-09T10:50:31.465195Z"
    }
   },
   "outputs": [
    {
     "name": "stdout",
     "output_type": "stream",
     "text": [
      "['닥터 스트레인지', '슈퍼맨']\n"
     ]
    }
   ],
   "source": [
    "#55\n",
    "del movie_rank[2:]\n",
    "print(movie_rank)"
   ]
  },
  {
   "cell_type": "code",
   "execution_count": 22,
   "id": "eacb4c70",
   "metadata": {
    "ExecuteTime": {
     "end_time": "2023-12-09T10:51:37.753281Z",
     "start_time": "2023-12-09T10:51:37.749259Z"
    }
   },
   "outputs": [
    {
     "name": "stdout",
     "output_type": "stream",
     "text": [
      "['C', 'C++', 'JAVA', 'Python', 'Go', 'C#']\n"
     ]
    }
   ],
   "source": [
    "#56\n",
    "lang1 = [\"C\", \"C++\", \"JAVA\"]\n",
    "lang2 = [\"Python\", \"Go\", \"C#\"]\n",
    "langs = lang1 + lang2\n",
    "print(langs)"
   ]
  },
  {
   "cell_type": "code",
   "execution_count": 26,
   "id": "9bdb0a4b",
   "metadata": {
    "ExecuteTime": {
     "end_time": "2023-12-09T10:53:30.349726Z",
     "start_time": "2023-12-09T10:53:30.345286Z"
    }
   },
   "outputs": [
    {
     "name": "stdout",
     "output_type": "stream",
     "text": [
      "max: 1\n",
      "min: 7\n"
     ]
    }
   ],
   "source": [
    "#57\n",
    "nums = [1, 2, 3, 4, 5, 6, 7]\n",
    "a = min(nums)\n",
    "b = max(nums)\n",
    "print('max:',a)\n",
    "print('min:',b)"
   ]
  },
  {
   "cell_type": "code",
   "execution_count": 28,
   "id": "6edce2ee",
   "metadata": {
    "ExecuteTime": {
     "end_time": "2023-12-09T10:56:46.798555Z",
     "start_time": "2023-12-09T10:56:46.793105Z"
    }
   },
   "outputs": [
    {
     "data": {
      "text/plain": [
       "15"
      ]
     },
     "execution_count": 28,
     "metadata": {},
     "output_type": "execute_result"
    }
   ],
   "source": [
    "#58\n",
    "nums = [1, 2, 3, 4, 5]\n",
    "a = nums\n",
    "a[0]+a[1]+a[2]+a[3]+a[4]"
   ]
  },
  {
   "cell_type": "code",
   "execution_count": 29,
   "id": "b0dc465e",
   "metadata": {
    "ExecuteTime": {
     "end_time": "2023-12-09T10:57:09.910692Z",
     "start_time": "2023-12-09T10:57:09.907479Z"
    }
   },
   "outputs": [
    {
     "name": "stdout",
     "output_type": "stream",
     "text": [
      "15\n"
     ]
    }
   ],
   "source": [
    "#58 #sum\n",
    "nums = [1, 2, 3, 4, 5]\n",
    "print(sum(nums))"
   ]
  },
  {
   "cell_type": "code",
   "execution_count": 30,
   "id": "28fc217a",
   "metadata": {
    "ExecuteTime": {
     "end_time": "2023-12-09T10:57:44.652608Z",
     "start_time": "2023-12-09T10:57:44.646657Z"
    }
   },
   "outputs": [
    {
     "data": {
      "text/plain": [
       "12"
      ]
     },
     "execution_count": 30,
     "metadata": {},
     "output_type": "execute_result"
    }
   ],
   "source": [
    "#59\n",
    "cook = [\"피자\", \"김밥\", \"만두\", \"양념치킨\", \"족발\", \"피자\", \"김치만두\", \"쫄면\", \"소시지\", \"라면\", \"팥빙수\", \"김치전\"]\n",
    "len(cook)"
   ]
  },
  {
   "cell_type": "code",
   "execution_count": 31,
   "id": "ba06bc9c",
   "metadata": {
    "ExecuteTime": {
     "end_time": "2023-12-09T10:58:50.091885Z",
     "start_time": "2023-12-09T10:58:50.088171Z"
    }
   },
   "outputs": [
    {
     "name": "stdout",
     "output_type": "stream",
     "text": [
      "3.0\n"
     ]
    }
   ],
   "source": [
    "#60\n",
    "nums = [1, 2, 3, 4, 5]\n",
    "a = sum(nums)/len(nums)\n",
    "print(a)"
   ]
  },
  {
   "cell_type": "code",
   "execution_count": 32,
   "id": "aa84833a",
   "metadata": {
    "ExecuteTime": {
     "end_time": "2023-12-09T10:59:28.149665Z",
     "start_time": "2023-12-09T10:59:28.144622Z"
    }
   },
   "outputs": [
    {
     "name": "stdout",
     "output_type": "stream",
     "text": [
      "[100, 130, 140, 150, 160, 170]\n"
     ]
    }
   ],
   "source": [
    "#61\n",
    "price = ['20180728', 100, 130, 140, 150, 160, 170]\n",
    "print(price[1:])"
   ]
  },
  {
   "cell_type": "code",
   "execution_count": 33,
   "id": "cfe84316",
   "metadata": {
    "ExecuteTime": {
     "end_time": "2023-12-09T11:00:05.337584Z",
     "start_time": "2023-12-09T11:00:05.333623Z"
    }
   },
   "outputs": [
    {
     "name": "stdout",
     "output_type": "stream",
     "text": [
      "[1, 3, 5, 7, 9]\n"
     ]
    }
   ],
   "source": [
    "#62\n",
    "nums = [1, 2, 3, 4, 5, 6, 7, 8, 9, 10]\n",
    "print(nums[::2])"
   ]
  },
  {
   "cell_type": "code",
   "execution_count": 34,
   "id": "a76881e0",
   "metadata": {
    "ExecuteTime": {
     "end_time": "2023-12-09T11:00:43.666998Z",
     "start_time": "2023-12-09T11:00:43.662803Z"
    }
   },
   "outputs": [
    {
     "name": "stdout",
     "output_type": "stream",
     "text": [
      "[2, 4, 6, 8, 10]\n"
     ]
    }
   ],
   "source": [
    "#63\n",
    "nums = [1, 2, 3, 4, 5, 6, 7, 8, 9, 10]\n",
    "print(nums[1::2])"
   ]
  },
  {
   "cell_type": "code",
   "execution_count": 41,
   "id": "4632f6e1",
   "metadata": {
    "ExecuteTime": {
     "end_time": "2023-12-09T11:02:15.850035Z",
     "start_time": "2023-12-09T11:02:15.844415Z"
    }
   },
   "outputs": [
    {
     "data": {
      "text/plain": [
       "[5, 4, 3, 2, 1]"
      ]
     },
     "execution_count": 41,
     "metadata": {},
     "output_type": "execute_result"
    }
   ],
   "source": [
    "#64\n",
    "nums = [1, 2, 3, 4, 5]\n",
    "nums.reverse()\n",
    "nums"
   ]
  },
  {
   "cell_type": "code",
   "execution_count": 47,
   "id": "f3d16420",
   "metadata": {
    "ExecuteTime": {
     "end_time": "2023-12-09T11:04:07.186000Z",
     "start_time": "2023-12-09T11:04:07.181995Z"
    }
   },
   "outputs": [
    {
     "name": "stdout",
     "output_type": "stream",
     "text": [
      "['삼성전자', 'Naver']\n"
     ]
    }
   ],
   "source": [
    "#65\n",
    "interest = ['삼성전자', 'LG전자', 'Naver']\n",
    "del interest[1]\n",
    "print(interest)"
   ]
  },
  {
   "cell_type": "code",
   "execution_count": 48,
   "id": "7d9f0d3c",
   "metadata": {
    "ExecuteTime": {
     "end_time": "2023-12-09T11:04:31.563854Z",
     "start_time": "2023-12-09T11:04:31.558689Z"
    }
   },
   "outputs": [
    {
     "name": "stdout",
     "output_type": "stream",
     "text": [
      "삼성전자 Naver\n"
     ]
    }
   ],
   "source": [
    "#65 정답확인\n",
    "interest = ['삼성전자', 'LG전자', 'Naver']\n",
    "print(interest[0], interest[2])"
   ]
  },
  {
   "cell_type": "code",
   "execution_count": 55,
   "id": "b0171678",
   "metadata": {
    "ExecuteTime": {
     "end_time": "2023-12-09T11:09:02.582153Z",
     "start_time": "2023-12-09T11:09:02.576444Z"
    }
   },
   "outputs": [
    {
     "name": "stdout",
     "output_type": "stream",
     "text": [
      "삼성전자 LG전자 Naver SK하이닉스 미래에셋대우\n"
     ]
    }
   ],
   "source": [
    "#66\n",
    "interest = ['삼성전자', 'LG전자', 'Naver', 'SK하이닉스', '미래에셋대우']\n",
    "print(\" \".join(interest))\n",
    "#'구분자'.join(리스트) -> 리스트를 문자열로 합쳐서 반환"
   ]
  },
  {
   "cell_type": "code",
   "execution_count": 57,
   "id": "b5654347",
   "metadata": {
    "ExecuteTime": {
     "end_time": "2023-12-09T11:10:32.693031Z",
     "start_time": "2023-12-09T11:10:32.688479Z"
    }
   },
   "outputs": [
    {
     "name": "stdout",
     "output_type": "stream",
     "text": [
      "삼성전자/LG전자/Naver/SK하이닉스/미래에셋대우\n"
     ]
    }
   ],
   "source": [
    "#67\n",
    "interest = ['삼성전자', 'LG전자', 'Naver', 'SK하이닉스', '미래에셋대우']\n",
    "print(\"/\".join(interest))"
   ]
  },
  {
   "cell_type": "code",
   "execution_count": 63,
   "id": "cddabaf3",
   "metadata": {
    "ExecuteTime": {
     "end_time": "2023-12-09T11:12:24.289932Z",
     "start_time": "2023-12-09T11:12:24.285987Z"
    }
   },
   "outputs": [
    {
     "name": "stdout",
     "output_type": "stream",
     "text": [
      "삼성전자\n",
      "LG전자\n",
      "Naver\n",
      "SK하이닉스\n",
      "미래에셋대우\n"
     ]
    }
   ],
   "source": [
    "#68\n",
    "print('\\n'.join(interest))"
   ]
  },
  {
   "cell_type": "code",
   "execution_count": 66,
   "id": "daf289dc",
   "metadata": {
    "ExecuteTime": {
     "end_time": "2023-12-09T11:13:25.078056Z",
     "start_time": "2023-12-09T11:13:25.073514Z"
    }
   },
   "outputs": [
    {
     "data": {
      "text/plain": [
       "['삼성전자', 'LG전자', 'Naver']"
      ]
     },
     "execution_count": 66,
     "metadata": {},
     "output_type": "execute_result"
    }
   ],
   "source": [
    "#69\n",
    "string = \"삼성전자/LG전자/Naver\"\n",
    "string.split(\"/\")"
   ]
  },
  {
   "cell_type": "code",
   "execution_count": 67,
   "id": "a52f7f1e",
   "metadata": {
    "ExecuteTime": {
     "end_time": "2023-12-09T11:13:57.496387Z",
     "start_time": "2023-12-09T11:13:57.492379Z"
    }
   },
   "outputs": [
    {
     "name": "stdout",
     "output_type": "stream",
     "text": [
      "[1, 2, 3, 4, 5, 9, 10]\n"
     ]
    }
   ],
   "source": [
    "#70\n",
    "data = [2, 4, 3, 1, 5, 10, 9]\n",
    "data.sort()\n",
    "print(data)\n",
    "#sort 오름차순\n",
    "#sorted 재선언 오름차순 (원본자료, 정렬된 자료 각각 저장 가능)"
   ]
  },
  {
   "cell_type": "code",
   "execution_count": 68,
   "id": "69c29321",
   "metadata": {
    "ExecuteTime": {
     "end_time": "2023-12-09T11:15:52.945849Z",
     "start_time": "2023-12-09T11:15:52.941359Z"
    }
   },
   "outputs": [
    {
     "name": "stdout",
     "output_type": "stream",
     "text": [
      "[10, 9, 5, 4, 3, 2, 1]\n"
     ]
    }
   ],
   "source": [
    "data = [2, 4, 3, 1, 5, 10, 9]\n",
    "data.sort(reverse = True) #내림차순\n",
    "print(data)"
   ]
  },
  {
   "cell_type": "code",
   "execution_count": 74,
   "id": "5e5cd9ae",
   "metadata": {
    "ExecuteTime": {
     "end_time": "2023-12-09T11:36:13.186759Z",
     "start_time": "2023-12-09T11:36:13.182807Z"
    }
   },
   "outputs": [
    {
     "name": "stdout",
     "output_type": "stream",
     "text": [
      "<class 'tuple'>\n"
     ]
    }
   ],
   "source": [
    "#71\n",
    "my_variable = ()\n",
    "print(type(my_variable))"
   ]
  },
  {
   "cell_type": "code",
   "execution_count": 76,
   "id": "85116c0f",
   "metadata": {
    "ExecuteTime": {
     "end_time": "2023-12-09T11:37:07.435691Z",
     "start_time": "2023-12-09T11:37:07.430995Z"
    }
   },
   "outputs": [
    {
     "name": "stdout",
     "output_type": "stream",
     "text": [
      "('닥터 스트레인지', '스플릿', '럭키')\n",
      "<class 'tuple'>\n"
     ]
    }
   ],
   "source": [
    "#72\n",
    "movie_rank = ('닥터 스트레인지', '스플릿', '럭키')\n",
    "print(movie_rank)\n",
    "print(type(movie_rank))"
   ]
  },
  {
   "cell_type": "code",
   "execution_count": 77,
   "id": "03a72180",
   "metadata": {
    "ExecuteTime": {
     "end_time": "2023-12-09T11:37:28.066963Z",
     "start_time": "2023-12-09T11:37:28.062438Z"
    }
   },
   "outputs": [
    {
     "name": "stdout",
     "output_type": "stream",
     "text": [
      "(1,)\n",
      "<class 'tuple'>\n"
     ]
    }
   ],
   "source": [
    "#73\n",
    "a = (1,)\n",
    "print(a)\n",
    "print(type(a))"
   ]
  },
  {
   "cell_type": "code",
   "execution_count": 78,
   "id": "8af4fdbf",
   "metadata": {
    "ExecuteTime": {
     "end_time": "2023-12-09T11:38:33.393074Z",
     "start_time": "2023-12-09T11:38:33.358500Z"
    }
   },
   "outputs": [
    {
     "ename": "TypeError",
     "evalue": "'tuple' object does not support item assignment",
     "output_type": "error",
     "traceback": [
      "\u001b[1;31m---------------------------------------------------------------------------\u001b[0m",
      "\u001b[1;31mTypeError\u001b[0m                                 Traceback (most recent call last)",
      "Cell \u001b[1;32mIn[78], line 3\u001b[0m\n\u001b[0;32m      1\u001b[0m \u001b[38;5;66;03m#74\u001b[39;00m\n\u001b[0;32m      2\u001b[0m t \u001b[38;5;241m=\u001b[39m (\u001b[38;5;241m1\u001b[39m, \u001b[38;5;241m2\u001b[39m, \u001b[38;5;241m3\u001b[39m)\n\u001b[1;32m----> 3\u001b[0m t[\u001b[38;5;241m0\u001b[39m] \u001b[38;5;241m=\u001b[39m \u001b[38;5;124m'\u001b[39m\u001b[38;5;124ma\u001b[39m\u001b[38;5;124m'\u001b[39m\n",
      "\u001b[1;31mTypeError\u001b[0m: 'tuple' object does not support item assignment"
     ]
    }
   ],
   "source": [
    "#74\n",
    "t = (1, 2, 3)\n",
    "t[0] = 'a'\n",
    "#오류발생원인 : 튜플 값은 수정할 수 없음"
   ]
  },
  {
   "cell_type": "code",
   "execution_count": 79,
   "id": "e24794b4",
   "metadata": {
    "ExecuteTime": {
     "end_time": "2023-12-09T11:38:52.638426Z",
     "start_time": "2023-12-09T11:38:52.635191Z"
    }
   },
   "outputs": [
    {
     "name": "stdout",
     "output_type": "stream",
     "text": [
      "<class 'tuple'>\n"
     ]
    }
   ],
   "source": [
    "#75\n",
    "t = 1, 2, 3, 4\n",
    "#튜플\n",
    "print(type(t))"
   ]
  },
  {
   "cell_type": "code",
   "execution_count": 82,
   "id": "b68be371",
   "metadata": {
    "ExecuteTime": {
     "end_time": "2023-12-09T11:40:13.885994Z",
     "start_time": "2023-12-09T11:40:13.880104Z"
    }
   },
   "outputs": [
    {
     "data": {
      "text/plain": [
       "('A', 'b', 'c')"
      ]
     },
     "execution_count": 82,
     "metadata": {},
     "output_type": "execute_result"
    }
   ],
   "source": [
    "#76\n",
    "t = ('a', 'b', 'c')\n",
    "t = ('A', 'b', 'c')\n",
    "t\n",
    "#수정할 수 없음"
   ]
  },
  {
   "cell_type": "code",
   "execution_count": 87,
   "id": "79a2512d",
   "metadata": {
    "ExecuteTime": {
     "end_time": "2023-12-09T11:41:33.468723Z",
     "start_time": "2023-12-09T11:41:33.463235Z"
    }
   },
   "outputs": [
    {
     "name": "stdout",
     "output_type": "stream",
     "text": [
      "['삼성전자', 'LG전자', 'SK Hynix']\n",
      "<class 'tuple'>\n"
     ]
    }
   ],
   "source": [
    "#77\n",
    "interest = ('삼성전자', 'LG전자', 'SK Hynix')\n",
    "print(list(interest))\n",
    "print(type(interest))\n"
   ]
  },
  {
   "cell_type": "code",
   "execution_count": 88,
   "id": "dfcc09d8",
   "metadata": {
    "ExecuteTime": {
     "end_time": "2023-12-09T11:42:02.633264Z",
     "start_time": "2023-12-09T11:42:02.629265Z"
    }
   },
   "outputs": [
    {
     "name": "stdout",
     "output_type": "stream",
     "text": [
      "('삼성전자', 'LG전자', 'SK Hynix')\n"
     ]
    }
   ],
   "source": [
    "#78\n",
    "interest = ['삼성전자', 'LG전자', 'SK Hynix']\n",
    "print(tuple(interest))"
   ]
  },
  {
   "cell_type": "code",
   "execution_count": 93,
   "id": "49fb877b",
   "metadata": {
    "ExecuteTime": {
     "end_time": "2023-12-09T11:45:15.776793Z",
     "start_time": "2023-12-09T11:45:15.772430Z"
    }
   },
   "outputs": [
    {
     "name": "stdout",
     "output_type": "stream",
     "text": [
      "apple banana cake\n",
      "apple\n",
      "banana\n",
      "cake\n"
     ]
    }
   ],
   "source": [
    "#79 정답확인\n",
    "temp = ('apple', 'banana', 'cake')\n",
    "a, b, c = temp\n",
    "print(a, b, c)\n",
    "#튜플 언패킹 -> 튜플의 각 요소를 여러 개의 변수에 할당\n",
    "print(a)\n",
    "print(b)\n",
    "print(c)"
   ]
  },
  {
   "cell_type": "code",
   "execution_count": 99,
   "id": "2e5378b6",
   "metadata": {
    "ExecuteTime": {
     "end_time": "2023-12-09T11:49:34.702964Z",
     "start_time": "2023-12-09T11:49:34.699334Z"
    }
   },
   "outputs": [
    {
     "name": "stdout",
     "output_type": "stream",
     "text": [
      "(2, 4, 6, 8, 10, 12, 14, 16, 18, 20, 22, 24, 26, 28, 30, 32, 34, 36, 38, 40, 42, 44, 46, 48, 50, 52, 54, 56, 58, 60, 62, 64, 66, 68, 70, 72, 74, 76, 78, 80, 82, 84, 86, 88, 90, 92, 94, 96, 98)\n"
     ]
    }
   ],
   "source": [
    "#80 정답확인\n",
    "a = tuple(range(2,100,2)) #2부터 99까지, 2간격으로\n",
    "print(a)"
   ]
  },
  {
   "cell_type": "code",
   "execution_count": 108,
   "id": "dccbabf6",
   "metadata": {
    "ExecuteTime": {
     "end_time": "2023-12-09T12:20:13.079690Z",
     "start_time": "2023-12-09T12:20:13.074331Z"
    }
   },
   "outputs": [
    {
     "name": "stdout",
     "output_type": "stream",
     "text": [
      "8.8\n",
      "8.9\n",
      "[7.8, 9.4]\n"
     ]
    }
   ],
   "source": [
    "#81 #재확인필요\n",
    "scores = [8.8, 8.9, 8.7, 9.2, 9.3, 9.7, 9.9, 9.5, 7.8, 9.4]\n",
    "a, b, c, d, e, f, g, h, *i = tuple(scores)\n",
    "print(a)\n",
    "print(b)\n",
    "print(i)"
   ]
  },
  {
   "cell_type": "code",
   "execution_count": 109,
   "id": "91cf1154",
   "metadata": {
    "ExecuteTime": {
     "end_time": "2023-12-09T12:24:40.309924Z",
     "start_time": "2023-12-09T12:24:40.304953Z"
    }
   },
   "outputs": [
    {
     "name": "stdout",
     "output_type": "stream",
     "text": [
      "[8.8, 8.9, 8.7, 9.2, 9.3, 9.7, 9.9, 9.5]\n"
     ]
    }
   ],
   "source": [
    "#81 정답확인\n",
    "scores = [8.8, 8.9, 8.7, 9.2, 9.3, 9.7, 9.9, 9.5, 7.8, 9.4]\n",
    "*valid_score, _, _= scores\n",
    "print(valid_score)"
   ]
  },
  {
   "cell_type": "code",
   "execution_count": 112,
   "id": "a6e6032b",
   "metadata": {
    "ExecuteTime": {
     "end_time": "2023-12-09T12:26:03.723219Z",
     "start_time": "2023-12-09T12:26:03.717855Z"
    }
   },
   "outputs": [
    {
     "name": "stdout",
     "output_type": "stream",
     "text": [
      "[8.7, 9.2, 9.3, 9.7, 9.9, 9.5, 7.8, 9.4]\n"
     ]
    }
   ],
   "source": [
    "#82\n",
    "scores = [8.8, 8.9, 8.7, 9.2, 9.3, 9.7, 9.9, 9.5, 7.8, 9.4]\n",
    "_,_,*valid_score = scores\n",
    "print(valid_score)"
   ]
  },
  {
   "cell_type": "code",
   "execution_count": 113,
   "id": "c01b5bf7",
   "metadata": {
    "ExecuteTime": {
     "end_time": "2023-12-09T12:26:31.895253Z",
     "start_time": "2023-12-09T12:26:31.890975Z"
    }
   },
   "outputs": [
    {
     "name": "stdout",
     "output_type": "stream",
     "text": [
      "[8.9, 8.7, 9.2, 9.3, 9.7, 9.9, 9.5, 7.8]\n"
     ]
    }
   ],
   "source": [
    "#83\n",
    "scores = [8.8, 8.9, 8.7, 9.2, 9.3, 9.7, 9.9, 9.5, 7.8, 9.4]\n",
    "_,*valid_score,_ = scores\n",
    "print(valid_score)"
   ]
  },
  {
   "cell_type": "code",
   "execution_count": 114,
   "id": "5960cdf0",
   "metadata": {
    "ExecuteTime": {
     "end_time": "2023-12-09T12:26:54.575276Z",
     "start_time": "2023-12-09T12:26:54.569225Z"
    }
   },
   "outputs": [
    {
     "data": {
      "text/plain": [
       "{}"
      ]
     },
     "execution_count": 114,
     "metadata": {},
     "output_type": "execute_result"
    }
   ],
   "source": [
    "#84\n",
    "temp = {}\n",
    "temp"
   ]
  },
  {
   "cell_type": "code",
   "execution_count": 116,
   "id": "45304e19",
   "metadata": {
    "ExecuteTime": {
     "end_time": "2023-12-09T12:27:51.748384Z",
     "start_time": "2023-12-09T12:27:51.743847Z"
    }
   },
   "outputs": [
    {
     "name": "stdout",
     "output_type": "stream",
     "text": [
      "{'메로나': 1000, '폴라포': 1200, '빵빠레': 1800}\n"
     ]
    }
   ],
   "source": [
    "#85\n",
    "ice = {'메로나':1000, '폴라포':1200, '빵빠레':1800}\n",
    "print(ice)"
   ]
  },
  {
   "cell_type": "code",
   "execution_count": 120,
   "id": "f7d48e94",
   "metadata": {
    "ExecuteTime": {
     "end_time": "2023-12-09T12:30:35.304319Z",
     "start_time": "2023-12-09T12:30:35.300645Z"
    }
   },
   "outputs": [
    {
     "name": "stdout",
     "output_type": "stream",
     "text": [
      "{'메로나': 1000, '폴라포': 1200, '빵빠레': 1800, '죠스바': 1200, '월드콘': 1500}\n"
     ]
    }
   ],
   "source": [
    "#86\n",
    "ice['죠스바'] = 1200\n",
    "ice['월드콘'] = 1500\n",
    "print(ice)"
   ]
  },
  {
   "cell_type": "code",
   "execution_count": 122,
   "id": "4ab25eca",
   "metadata": {
    "ExecuteTime": {
     "end_time": "2023-12-09T12:32:02.384293Z",
     "start_time": "2023-12-09T12:32:02.380229Z"
    }
   },
   "outputs": [
    {
     "name": "stdout",
     "output_type": "stream",
     "text": [
      "메로나 가격: 1000원"
     ]
    }
   ],
   "source": [
    "#87\n",
    "print('메로나 가격:', ice['메로나'], end='원')"
   ]
  },
  {
   "cell_type": "code",
   "execution_count": 123,
   "id": "2ee548ee",
   "metadata": {
    "ExecuteTime": {
     "end_time": "2023-12-09T12:32:47.248371Z",
     "start_time": "2023-12-09T12:32:47.244795Z"
    }
   },
   "outputs": [
    {
     "name": "stdout",
     "output_type": "stream",
     "text": [
      "{'메로나': 1300, '폴라포': 1200, '빵빠레': 1800, '죠스바': 1200, '월드콘': 1500}\n"
     ]
    }
   ],
   "source": [
    "#88\n",
    "ice['메로나'] = 1300\n",
    "print(ice)"
   ]
  },
  {
   "cell_type": "code",
   "execution_count": null,
   "id": "6900f907",
   "metadata": {},
   "outputs": [],
   "source": [
    "#90\n",
    ">> icecream = {'폴라포': 1200, '빵빠레': 1800, '월드콘': 1500, '메로나': 1000}\n",
    ">> icecream['누가바']\n",
    "Traceback (most recent call last):\n",
    "  File \"<pyshell#69>\", line 1, in <module>\n",
    "    icecream['누가바']\n",
    "KeyError: '누가바'\n",
    "#누가바 key값이 없음\n",
    "#icecrea.get['누가바'] -> none 으로 출력"
   ]
  },
  {
   "cell_type": "code",
   "execution_count": 127,
   "id": "be603fc1",
   "metadata": {
    "ExecuteTime": {
     "end_time": "2023-12-09T12:35:51.037289Z",
     "start_time": "2023-12-09T12:35:51.032272Z"
    },
    "scrolled": true
   },
   "outputs": [
    {
     "name": "stdout",
     "output_type": "stream",
     "text": [
      "{'메로나': [300, 20], '비비빅': [400, 3], '죠스바': [250, 100]}\n"
     ]
    }
   ],
   "source": [
    "#91\n",
    "inventory = {'메로나':[300, 20], '비비빅':[400,3], '죠스바':[250,100]}\n",
    "print(inventory)"
   ]
  },
  {
   "cell_type": "code",
   "execution_count": 136,
   "id": "b470e222",
   "metadata": {
    "ExecuteTime": {
     "end_time": "2023-12-09T12:40:20.037958Z",
     "start_time": "2023-12-09T12:40:20.034584Z"
    }
   },
   "outputs": [
    {
     "name": "stdout",
     "output_type": "stream",
     "text": [
      "300 원\n"
     ]
    }
   ],
   "source": [
    "#92\n",
    "print(inventory['메로나'][0],'원')"
   ]
  },
  {
   "cell_type": "code",
   "execution_count": 138,
   "id": "b3e6e3da",
   "metadata": {
    "ExecuteTime": {
     "end_time": "2023-12-09T12:41:16.382769Z",
     "start_time": "2023-12-09T12:41:16.378299Z"
    }
   },
   "outputs": [
    {
     "name": "stdout",
     "output_type": "stream",
     "text": [
      "20 개\n"
     ]
    }
   ],
   "source": [
    "#93\n",
    "print(inventory['메로나'][1], '개')"
   ]
  },
  {
   "cell_type": "code",
   "execution_count": 139,
   "id": "d9826c1c",
   "metadata": {
    "ExecuteTime": {
     "end_time": "2023-12-09T12:41:58.470306Z",
     "start_time": "2023-12-09T12:41:58.465941Z"
    }
   },
   "outputs": [
    {
     "name": "stdout",
     "output_type": "stream",
     "text": [
      "{'메로나': [300, 20], '비비빅': [400, 3], '죠스바': [250, 100], '월드콘': [500, 7]}\n"
     ]
    }
   ],
   "source": [
    "#94\n",
    "inventory['월드콘'] = [500, 7]\n",
    "print(inventory)"
   ]
  },
  {
   "cell_type": "code",
   "execution_count": 144,
   "id": "a0d4ba5d",
   "metadata": {
    "ExecuteTime": {
     "end_time": "2023-12-09T12:43:10.798996Z",
     "start_time": "2023-12-09T12:43:10.793290Z"
    }
   },
   "outputs": [
    {
     "name": "stdout",
     "output_type": "stream",
     "text": [
      "['탱크보이', '폴라포', '빵빠레', '월드콘', '메로나']\n",
      "<class 'list'>\n"
     ]
    }
   ],
   "source": [
    "#95\n",
    "icecream = {'탱크보이': 1200, '폴라포': 1200, '빵빠레': 1800, '월드콘': 1500, '메로나': 1000}\n",
    "ice = list(icecream.keys())\n",
    "print(ice)\n",
    "print(type(ice))"
   ]
  },
  {
   "cell_type": "code",
   "execution_count": 145,
   "id": "2d4dc835",
   "metadata": {
    "ExecuteTime": {
     "end_time": "2023-12-09T12:43:59.086506Z",
     "start_time": "2023-12-09T12:43:59.081777Z"
    }
   },
   "outputs": [
    {
     "name": "stdout",
     "output_type": "stream",
     "text": [
      "[1200, 1200, 1800, 1500, 1000]\n",
      "<class 'list'>\n"
     ]
    }
   ],
   "source": [
    "#96\n",
    "icecream = {'탱크보이': 1200, '폴라포': 1200, '빵빠레': 1800, '월드콘': 1500, '메로나': 1000}\n",
    "ice = list(icecream.values())\n",
    "print(ice)\n",
    "print(type(ice))"
   ]
  },
  {
   "cell_type": "code",
   "execution_count": 146,
   "id": "02fc4449",
   "metadata": {
    "ExecuteTime": {
     "end_time": "2023-12-09T12:44:48.772908Z",
     "start_time": "2023-12-09T12:44:48.768214Z"
    }
   },
   "outputs": [
    {
     "name": "stdout",
     "output_type": "stream",
     "text": [
      "6700\n"
     ]
    }
   ],
   "source": [
    "#97\n",
    "icecream = {'탱크보이': 1200, '폴라포': 1200, '빵빠레': 1800, '월드콘': 1500, '메로나': 1000}\n",
    "ice = icecream.values()\n",
    "print(sum(ice))"
   ]
  },
  {
   "cell_type": "code",
   "execution_count": 148,
   "id": "2b2349f2",
   "metadata": {
    "ExecuteTime": {
     "end_time": "2023-12-09T12:45:53.531841Z",
     "start_time": "2023-12-09T12:45:53.526108Z"
    }
   },
   "outputs": [
    {
     "name": "stdout",
     "output_type": "stream",
     "text": [
      "{'탱크보이': 1200, '폴라포': 1200, '빵빠레': 1800, '월드콘': 1500, '메로나': 1000, '팥빙수': 2700, '아맛나': 1000}\n"
     ]
    }
   ],
   "source": [
    "#98\n",
    "icecream = {'탱크보이': 1200, '폴라포': 1200, '빵빠레': 1800, '월드콘': 1500, '메로나': 1000}\n",
    "new_product = {'팥빙수':2700, '아맛나':1000}\n",
    "icecream.update(new_product)\n",
    "print(icecream)\n",
    "#update\n",
    "#기존 딕셔너리에 수정이나 추가하고자 할 키와 값을 남겨주면 됨"
   ]
  },
  {
   "cell_type": "code",
   "execution_count": 149,
   "id": "6d15d6d3",
   "metadata": {
    "ExecuteTime": {
     "end_time": "2023-12-09T12:48:15.069954Z",
     "start_time": "2023-12-09T12:48:15.064944Z"
    }
   },
   "outputs": [
    {
     "name": "stdout",
     "output_type": "stream",
     "text": [
      "{'탱크보이': 1500, '폴라포': 1200, '빵빠레': 1800, '월드콘': 1500, '메로나': 1000, '룰루랄라': 2300}\n"
     ]
    }
   ],
   "source": [
    "icecream = {'탱크보이': 1200, '폴라포': 1200, '빵빠레': 1800, '월드콘': 1500, '메로나': 1000}\n",
    "icecream.update({'탱크보이':1500, '룰루랄라':2300})\n",
    "print(icecream)"
   ]
  },
  {
   "cell_type": "code",
   "execution_count": 151,
   "id": "f7c349be",
   "metadata": {
    "ExecuteTime": {
     "end_time": "2023-12-09T13:01:08.138124Z",
     "start_time": "2023-12-09T13:01:08.133347Z"
    }
   },
   "outputs": [
    {
     "name": "stdout",
     "output_type": "stream",
     "text": [
      "[('apple', 300), ('pear', 250), ('peach', 400)]\n"
     ]
    }
   ],
   "source": [
    "#99\n",
    "keys = (\"apple\", \"pear\", \"peach\")\n",
    "vals = (300, 250, 400)\n",
    "result = list(zip(keys, vals))\n",
    "print(result)"
   ]
  },
  {
   "cell_type": "code",
   "execution_count": 152,
   "id": "f78d7c66",
   "metadata": {
    "ExecuteTime": {
     "end_time": "2023-12-09T13:01:40.070633Z",
     "start_time": "2023-12-09T13:01:40.066474Z"
    }
   },
   "outputs": [
    {
     "name": "stdout",
     "output_type": "stream",
     "text": [
      "{'apple': 300, 'pear': 250, 'peach': 400}\n"
     ]
    }
   ],
   "source": [
    "#99 정답확인\n",
    "keys = (\"apple\", \"pear\", \"peach\")\n",
    "vals = (300, 250, 400)\n",
    "result = dict(zip(keys, vals))\n",
    "print(result)\n",
    "#zip -> 데이터 개수가 같은 자료형 어러개를 같은 인덱스의 데이터끼리 튜플로 결합\n",
    "#dict -> 딕셔너리 형태 출력"
   ]
  },
  {
   "cell_type": "code",
   "execution_count": 155,
   "id": "5fc1c8df",
   "metadata": {
    "ExecuteTime": {
     "end_time": "2023-12-09T13:03:58.646703Z",
     "start_time": "2023-12-09T13:03:58.642703Z"
    }
   },
   "outputs": [
    {
     "name": "stdout",
     "output_type": "stream",
     "text": [
      "{'09/05': 10500, '09/06': 10300, '09/07': 10100, '09/08': 10800, '09/09': 11000}\n"
     ]
    }
   ],
   "source": [
    "#100\n",
    "date = ['09/05', '09/06', '09/07', '09/08', '09/09']\n",
    "close_price = [10500, 10300, 10100, 10800, 11000]\n",
    "close_table = dict(zip(date, close_price))\n",
    "print(close_table)"
   ]
  }
 ],
 "metadata": {
  "kernelspec": {
   "display_name": "Python 3 (ipykernel)",
   "language": "python",
   "name": "python3"
  },
  "language_info": {
   "codemirror_mode": {
    "name": "ipython",
    "version": 3
   },
   "file_extension": ".py",
   "mimetype": "text/x-python",
   "name": "python",
   "nbconvert_exporter": "python",
   "pygments_lexer": "ipython3",
   "version": "3.11.5"
  },
  "toc": {
   "base_numbering": 1,
   "nav_menu": {},
   "number_sections": true,
   "sideBar": true,
   "skip_h1_title": false,
   "title_cell": "Table of Contents",
   "title_sidebar": "Contents",
   "toc_cell": false,
   "toc_position": {},
   "toc_section_display": true,
   "toc_window_display": false
  }
 },
 "nbformat": 4,
 "nbformat_minor": 5
}
