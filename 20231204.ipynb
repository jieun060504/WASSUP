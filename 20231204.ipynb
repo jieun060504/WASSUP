{
 "cells": [
  {
   "cell_type": "code",
   "execution_count": 1,
   "id": "ae51374a",
   "metadata": {
    "ExecuteTime": {
     "end_time": "2023-12-04T04:44:25.665342Z",
     "start_time": "2023-12-04T04:44:25.661268Z"
    }
   },
   "outputs": [],
   "source": [
    "# 함수 - 인풋과 아웃풋\n",
    "# 파일 읽고 쓰기 - 파일 핸들링 하는 것.\n",
    "# 파일 생성할 때 open 내장함수 사용"
   ]
  },
  {
   "cell_type": "code",
   "execution_count": 2,
   "id": "b3e41e7a",
   "metadata": {
    "ExecuteTime": {
     "end_time": "2023-12-04T04:44:53.109168Z",
     "start_time": "2023-12-04T04:44:53.105557Z"
    }
   },
   "outputs": [],
   "source": [
    "f = open(\"새파일.txt\", 'w')\n",
    "f.close()"
   ]
  },
  {
   "cell_type": "code",
   "execution_count": 3,
   "id": "6af8a7f6",
   "metadata": {
    "ExecuteTime": {
     "end_time": "2023-12-04T04:45:56.216769Z",
     "start_time": "2023-12-04T04:45:56.213710Z"
    }
   },
   "outputs": [],
   "source": [
    "# r 읽기모드\n",
    "# w 쓰기모드\n",
    "# a 추가모드"
   ]
  },
  {
   "cell_type": "code",
   "execution_count": 4,
   "id": "e9e54d78",
   "metadata": {
    "ExecuteTime": {
     "end_time": "2023-12-04T04:46:47.137833Z",
     "start_time": "2023-12-04T04:46:47.132858Z"
    }
   },
   "outputs": [],
   "source": [
    "#경로 지정 가능\n",
    "f = open(\"C:\\workspace\\python/새파일.txt\", 'w')\n",
    "f.close()"
   ]
  },
  {
   "cell_type": "code",
   "execution_count": 5,
   "id": "3778df50",
   "metadata": {
    "ExecuteTime": {
     "end_time": "2023-12-04T04:48:17.341712Z",
     "start_time": "2023-12-04T04:48:17.337706Z"
    }
   },
   "outputs": [],
   "source": [
    "#파일 경로 설정 시 슬래시(/) 사용 가능\n",
    "#내부적으로 자동으로 처리해주는 것\n",
    "f=open(\"C:/workspace/python/새파일2.txt\",'w')\n",
    "f.close()"
   ]
  },
  {
   "cell_type": "code",
   "execution_count": 21,
   "id": "3dc209b7",
   "metadata": {
    "ExecuteTime": {
     "end_time": "2023-12-04T05:02:48.067159Z",
     "start_time": "2023-12-04T05:02:48.062501Z"
    }
   },
   "outputs": [],
   "source": [
    "#파일을 쓰기 모드로 열어 내용 쓰기\n",
    "f = open(\"C:\\workspace\\python\\WASSUP/새파일.txt\", 'w')\n",
    "for i in range(1, 11) :\n",
    "    data = \"%d번째 줄입니다.\\n\" % i\n",
    "    f.write(data) #print 함수 대신 파일 객체의 write함수를 사용함\n",
    "f.close()"
   ]
  },
  {
   "cell_type": "code",
   "execution_count": 22,
   "id": "443c8a8b",
   "metadata": {
    "ExecuteTime": {
     "end_time": "2023-12-04T05:02:49.961857Z",
     "start_time": "2023-12-04T05:02:49.947969Z"
    }
   },
   "outputs": [
    {
     "name": "stdout",
     "output_type": "stream",
     "text": [
      "1번째 줄입니다.\n",
      "\n"
     ]
    }
   ],
   "source": [
    "#readline\n",
    "f = open(\"C:\\workspace\\python\\WASSUP/새파일.txt\", 'r')\n",
    "line = f.readline()\n",
    "print(line)\n",
    "f.close()"
   ]
  },
  {
   "cell_type": "code",
   "execution_count": 24,
   "id": "6bfeacee",
   "metadata": {
    "ExecuteTime": {
     "end_time": "2023-12-04T05:03:33.581505Z",
     "start_time": "2023-12-04T05:03:33.575890Z"
    }
   },
   "outputs": [
    {
     "name": "stdout",
     "output_type": "stream",
     "text": [
      "1번째 줄입니다.\n",
      "\n",
      "2번째 줄입니다.\n",
      "\n",
      "3번째 줄입니다.\n",
      "\n",
      "4번째 줄입니다.\n",
      "\n",
      "5번째 줄입니다.\n",
      "\n",
      "6번째 줄입니다.\n",
      "\n",
      "7번째 줄입니다.\n",
      "\n",
      "8번째 줄입니다.\n",
      "\n",
      "9번째 줄입니다.\n",
      "\n",
      "10번째 줄입니다.\n",
      "\n"
     ]
    }
   ],
   "source": [
    "#모든 줄을 출력. 반복문 사용.\n",
    "#for문은 우리가 얼마나 돌아야할지 알때 사용\n",
    "#while문은 우리가 얼마나 반복해야할지 모를 때 사용\n",
    "f = open(\"C:\\workspace\\python\\WASSUP/새파일.txt\", 'r')\n",
    "while True : \n",
    "    line = f.readline() #f객체에 readline\n",
    "    if not line : break\n",
    "    print(line)\n",
    "f.close()"
   ]
  },
  {
   "cell_type": "code",
   "execution_count": 25,
   "id": "f8bb3ba4",
   "metadata": {
    "ExecuteTime": {
     "end_time": "2023-12-04T05:04:14.579885Z",
     "start_time": "2023-12-04T05:04:14.574691Z"
    }
   },
   "outputs": [
    {
     "ename": "IndentationError",
     "evalue": "unexpected indent (1784140248.py, line 4)",
     "output_type": "error",
     "traceback": [
      "\u001b[1;36m  Cell \u001b[1;32mIn[25], line 4\u001b[1;36m\u001b[0m\n\u001b[1;33m    print(data)\u001b[0m\n\u001b[1;37m    ^\u001b[0m\n\u001b[1;31mIndentationError\u001b[0m\u001b[1;31m:\u001b[0m unexpected indent\n"
     ]
    }
   ],
   "source": [
    "while True : \n",
    "    data = input()\n",
    "    if not data: break\n",
    "        print(data)"
   ]
  },
  {
   "cell_type": "code",
   "execution_count": 26,
   "id": "702c8baf",
   "metadata": {
    "ExecuteTime": {
     "end_time": "2023-12-04T05:06:37.806664Z",
     "start_time": "2023-12-04T05:06:37.788030Z"
    }
   },
   "outputs": [
    {
     "ename": "AttributeError",
     "evalue": "'_io.TextIOWrapper' object has no attribute 'realines'",
     "output_type": "error",
     "traceback": [
      "\u001b[1;31m---------------------------------------------------------------------------\u001b[0m",
      "\u001b[1;31mAttributeError\u001b[0m                            Traceback (most recent call last)",
      "Cell \u001b[1;32mIn[26], line 2\u001b[0m\n\u001b[0;32m      1\u001b[0m f \u001b[38;5;241m=\u001b[39m \u001b[38;5;28mopen\u001b[39m(\u001b[38;5;124m\"\u001b[39m\u001b[38;5;124mC:\u001b[39m\u001b[38;5;124m\\\u001b[39m\u001b[38;5;124mworkspace\u001b[39m\u001b[38;5;124m\\\u001b[39m\u001b[38;5;124mpython\u001b[39m\u001b[38;5;124m\\\u001b[39m\u001b[38;5;124mWASSUP/새파일.txt\u001b[39m\u001b[38;5;124m\"\u001b[39m, \u001b[38;5;124m'\u001b[39m\u001b[38;5;124mr\u001b[39m\u001b[38;5;124m'\u001b[39m)\n\u001b[1;32m----> 2\u001b[0m lines \u001b[38;5;241m=\u001b[39m f\u001b[38;5;241m.\u001b[39mrealines()\n\u001b[0;32m      3\u001b[0m \u001b[38;5;28mprint\u001b[39m(lines)\n\u001b[0;32m      4\u001b[0m \u001b[38;5;28;01mfor\u001b[39;00m line \u001b[38;5;129;01min\u001b[39;00m lines :\n",
      "\u001b[1;31mAttributeError\u001b[0m: '_io.TextIOWrapper' object has no attribute 'realines'"
     ]
    }
   ],
   "source": [
    "#lines로 하면 리스트를 불러와줌\n",
    "f = open(\"C:\\workspace\\python\\WASSUP/새파일.txt\", 'r')\n",
    "lines = f.realines()\n",
    "print(lines)\n",
    "for line in lines :\n",
    "    print(line)\n",
    "f.close()"
   ]
  },
  {
   "cell_type": "code",
   "execution_count": 27,
   "id": "64c09c69",
   "metadata": {
    "ExecuteTime": {
     "end_time": "2023-12-04T05:08:18.736615Z",
     "start_time": "2023-12-04T05:08:18.733954Z"
    }
   },
   "outputs": [],
   "source": [
    "#줄바꿈 문자 없애기 strip()"
   ]
  },
  {
   "cell_type": "code",
   "execution_count": 28,
   "id": "c89d791d",
   "metadata": {
    "ExecuteTime": {
     "end_time": "2023-12-04T05:09:08.162494Z",
     "start_time": "2023-12-04T05:09:08.157678Z"
    }
   },
   "outputs": [
    {
     "name": "stdout",
     "output_type": "stream",
     "text": [
      "\n"
     ]
    }
   ],
   "source": [
    "#read함수. 문자열로 리턴\n",
    "#readline함수는 리스트로 받음\n",
    "f = open(\"새파일.txt\", 'r')\n",
    "data = f.read()\n",
    "print(data)\n",
    "f.close()"
   ]
  },
  {
   "cell_type": "code",
   "execution_count": 29,
   "id": "4fd4cf3b",
   "metadata": {
    "ExecuteTime": {
     "end_time": "2023-12-04T05:09:46.275656Z",
     "start_time": "2023-12-04T05:09:46.271316Z"
    }
   },
   "outputs": [],
   "source": [
    "#파일 객체를 for문과 함께 사용하기\n",
    "f = open(\"새파일.txt\", 'r')\n",
    "for line in f:\n",
    "    print(line)\n",
    "f.close()"
   ]
  },
  {
   "cell_type": "code",
   "execution_count": 30,
   "id": "f6521bb0",
   "metadata": {
    "ExecuteTime": {
     "end_time": "2023-12-04T05:11:32.691856Z",
     "start_time": "2023-12-04T05:11:32.686949Z"
    }
   },
   "outputs": [
    {
     "ename": "SyntaxError",
     "evalue": "invalid syntax (610985015.py, line 1)",
     "output_type": "error",
     "traceback": [
      "\u001b[1;36m  Cell \u001b[1;32mIn[30], line 1\u001b[1;36m\u001b[0m\n\u001b[1;33m    my list = ['apple\\n', 'pear\\n', 'grape\\n', 'melon\\n']\u001b[0m\n\u001b[1;37m       ^\u001b[0m\n\u001b[1;31mSyntaxError\u001b[0m\u001b[1;31m:\u001b[0m invalid syntax\n"
     ]
    }
   ],
   "source": [
    "my list = ['apple\\n', 'pear\\n', 'grape\\n', 'melon\\n']\n",
    "with open('fruit.txt', 'rt') as f6\n",
    "    for item in f6 :\n",
    "        print"
   ]
  },
  {
   "cell_type": "code",
   "execution_count": 31,
   "id": "2f318ecd",
   "metadata": {
    "ExecuteTime": {
     "end_time": "2023-12-04T05:12:42.926944Z",
     "start_time": "2023-12-04T05:12:42.921864Z"
    }
   },
   "outputs": [],
   "source": [
    "#파일에 새로운 내용 추가하기\n",
    "#w는 덮어쓰는것 . 추가는 a\n",
    "f = open(\"새파일.txt\", 'a')\n",
    "for i in range(11, 20):\n",
    "    data = \"%d번째 줄입니다.\\n\" % i\n",
    "    f.write(data)\n",
    "f.close() #계속 열어두면 꼬일 수 있으니 close를 꼭 해줘야함"
   ]
  },
  {
   "cell_type": "code",
   "execution_count": 32,
   "id": "16bb712f",
   "metadata": {
    "ExecuteTime": {
     "end_time": "2023-12-04T05:14:20.508335Z",
     "start_time": "2023-12-04T05:14:20.505509Z"
    }
   },
   "outputs": [],
   "source": [
    "#절대경로\n",
    "#상대경로 - 현재 주어진 경로에서 동작함. 파일이 실행된 경로에서."
   ]
  },
  {
   "cell_type": "code",
   "execution_count": 34,
   "id": "acb4f582",
   "metadata": {
    "ExecuteTime": {
     "end_time": "2023-12-04T05:16:00.950345Z",
     "start_time": "2023-12-04T05:16:00.945546Z"
    }
   },
   "outputs": [],
   "source": [
    "#with 문\n",
    "f = open(\"새파일.txt\", 'w')\n",
    "f.write(\"Life is too short, you need python\")\n",
    "f.close()"
   ]
  },
  {
   "cell_type": "code",
   "execution_count": 35,
   "id": "b0240866",
   "metadata": {
    "ExecuteTime": {
     "end_time": "2023-12-04T05:16:31.447234Z",
     "start_time": "2023-12-04T05:16:31.443254Z"
    }
   },
   "outputs": [],
   "source": [
    "with open(\"새파일.txt\", 'w') as f:\n",
    "    f.write(\"Life is too short, you need python\")"
   ]
  },
  {
   "cell_type": "code",
   "execution_count": null,
   "id": "102964a2",
   "metadata": {},
   "outputs": [],
   "source": []
  }
 ],
 "metadata": {
  "kernelspec": {
   "display_name": "Python 3 (ipykernel)",
   "language": "python",
   "name": "python3"
  },
  "language_info": {
   "codemirror_mode": {
    "name": "ipython",
    "version": 3
   },
   "file_extension": ".py",
   "mimetype": "text/x-python",
   "name": "python",
   "nbconvert_exporter": "python",
   "pygments_lexer": "ipython3",
   "version": "3.11.5"
  },
  "toc": {
   "base_numbering": 1,
   "nav_menu": {},
   "number_sections": true,
   "sideBar": true,
   "skip_h1_title": false,
   "title_cell": "Table of Contents",
   "title_sidebar": "Contents",
   "toc_cell": false,
   "toc_position": {},
   "toc_section_display": true,
   "toc_window_display": false
  }
 },
 "nbformat": 4,
 "nbformat_minor": 5
}
