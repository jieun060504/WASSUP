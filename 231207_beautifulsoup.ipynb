{
 "cells": [
  {
   "cell_type": "code",
   "execution_count": 1,
   "id": "371212ce",
   "metadata": {
    "ExecuteTime": {
     "end_time": "2023-12-07T04:38:10.700663Z",
     "start_time": "2023-12-07T04:38:10.280434Z"
    }
   },
   "outputs": [],
   "source": [
    "from bs4 import BeautifulSoup\n",
    "import lxml"
   ]
  },
  {
   "cell_type": "code",
   "execution_count": 2,
   "id": "5f751598",
   "metadata": {
    "ExecuteTime": {
     "end_time": "2023-12-07T04:38:27.384090Z",
     "start_time": "2023-12-07T04:38:27.264186Z"
    }
   },
   "outputs": [],
   "source": [
    "BeautifulSoup?"
   ]
  },
  {
   "cell_type": "code",
   "execution_count": 3,
   "id": "72b2d806",
   "metadata": {
    "ExecuteTime": {
     "end_time": "2023-12-07T04:43:30.729025Z",
     "start_time": "2023-12-07T04:43:30.718827Z"
    }
   },
   "outputs": [],
   "source": [
    "#sample\n",
    "html = '''\n",
    "<div id=prices >\n",
    "    <table >\n",
    "        <tr class=bb>\n",
    "            <th class=\"bb lm lft\">Date\n",
    "            <th class=\"rgt bb\">Open\n",
    "            <th class=\"rgt bb\">High\n",
    "            <th class=\"rgt bb\">Low\n",
    "            <th class=\"rgt bb\">Close\n",
    "            <th class=\"rgt bb rm\">Volume\n",
    "        <tr>\n",
    "            <td class=\"lm\">Feb 28, 2014\n",
    "            <td class=\"rgt\">100.71\n",
    "            <td class=\"rgt\">100.71\n",
    "            <td class=\"rgt\">100.71\n",
    "            <td class=\"rgt\">100.71\n",
    "            <td class=\"rgt rm\">0\n",
    "     </table>\n",
    "'''\n",
    "#가상으로 리퀘스트 추출했다 가정하고 SAMPLE 데이터로 구조변환하는 것"
   ]
  },
  {
   "cell_type": "code",
   "execution_count": 4,
   "id": "0bcba4f5",
   "metadata": {
    "ExecuteTime": {
     "end_time": "2023-12-07T04:43:56.595098Z",
     "start_time": "2023-12-07T04:43:56.561792Z"
    }
   },
   "outputs": [
    {
     "data": {
      "text/plain": [
       "<html><body><div id=\"prices\">\n",
       "<table>\n",
       "<tr class=\"bb\">\n",
       "<th class=\"bb lm lft\">Date\n",
       "            </th><th class=\"rgt bb\">Open\n",
       "            </th><th class=\"rgt bb\">High\n",
       "            </th><th class=\"rgt bb\">Low\n",
       "            </th><th class=\"rgt bb\">Close\n",
       "            </th><th class=\"rgt bb rm\">Volume\n",
       "        </th></tr><tr>\n",
       "<td class=\"lm\">Feb 28, 2014\n",
       "            </td><td class=\"rgt\">100.71\n",
       "            </td><td class=\"rgt\">100.71\n",
       "            </td><td class=\"rgt\">100.71\n",
       "            </td><td class=\"rgt\">100.71\n",
       "            </td><td class=\"rgt rm\">0\n",
       "     </td></tr></table>\n",
       "</div></body></html>"
      ]
     },
     "execution_count": 4,
     "metadata": {},
     "output_type": "execute_result"
    }
   ],
   "source": [
    "BeautifulSoup(html, 'lxml')\n",
    "#lxml의 HTML 파서\n",
    "#b24 라이브러리에서 뷰티플수프 모듈을 끌어와서 쓰겠다. 해석기는 lxml을 쓸게 ~ㅁ"
   ]
  },
  {
   "cell_type": "code",
   "execution_count": 5,
   "id": "2023e9f7",
   "metadata": {
    "ExecuteTime": {
     "end_time": "2023-12-07T04:51:57.441931Z",
     "start_time": "2023-12-07T04:51:57.423737Z"
    }
   },
   "outputs": [
    {
     "data": {
      "text/plain": [
       "\n",
       "<div id=\"prices\">\n",
       "<table>\n",
       "<tr class=\"bb\">\n",
       "<th class=\"bb lm lft\">Date\n",
       "            <th class=\"rgt bb\">Open\n",
       "            <th class=\"rgt bb\">High\n",
       "            <th class=\"rgt bb\">Low\n",
       "            <th class=\"rgt bb\">Close\n",
       "            <th class=\"rgt bb rm\">Volume\n",
       "        <tr>\n",
       "<td class=\"lm\">Feb 28, 2014\n",
       "            <td class=\"rgt\">100.71\n",
       "            <td class=\"rgt\">100.71\n",
       "            <td class=\"rgt\">100.71\n",
       "            <td class=\"rgt\">100.71\n",
       "            <td class=\"rgt rm\">0\n",
       "     </td></td></td></td></td></td></tr></th></th></th></th></th></th></tr></table>\n",
       "</div>"
      ]
     },
     "execution_count": 5,
     "metadata": {},
     "output_type": "execute_result"
    }
   ],
   "source": [
    "BeautifulSoup(html, 'html.parser') #내장되어있음"
   ]
  },
  {
   "cell_type": "code",
   "execution_count": 6,
   "id": "431b6e1c",
   "metadata": {
    "ExecuteTime": {
     "end_time": "2023-12-07T05:07:04.835972Z",
     "start_time": "2023-12-07T05:07:04.825180Z"
    }
   },
   "outputs": [],
   "source": [
    "#sample 폴더 경로에 넣기\n",
    "html_file = open('sample/market.html', encoding='utf-8')\n",
    "html_src = html_file.read()\n",
    "html_file.close()\n",
    "#정적 웹페이지를 크롤링했다고 가정"
   ]
  },
  {
   "cell_type": "code",
   "execution_count": 7,
   "id": "3a264bcb",
   "metadata": {
    "ExecuteTime": {
     "end_time": "2023-12-07T05:07:15.251438Z",
     "start_time": "2023-12-07T05:07:15.240657Z"
    }
   },
   "outputs": [
    {
     "data": {
      "text/plain": [
       "'<html>\\n    <body>\\n        <h1> 과일 목록 </h1>\\n        <div>\\n                <p id=\\'banana\\' class=\\'fruit\\' title=\\'바나나\\'>\\n                      <span class = \\'price\\'> 3000원 </span>\\n                      <span class = \\'count\\'> 10개 </span>\\n                      <span class = \\'store\\'> 바나나가게 </span>\\n                      <a href = \\'https://www.banana.com\\'> banana.com </a>\\n                </p>\\n                <p id=\\'cherry\\' class=\\'fruit\\' title=\\'체리\\'>\\n                    <span class = \\'price\\'> 100원 </span>\\n                    <span class = \\'count\\'> 50개 </span>\\n                    <span class = \\'store\\'> 체리가게</span>\\n                    <a href = \\'https://www.cherry.com\\'> cherry.com </a>\\n                </p>\\n                <p id=\\'orange\\' class=\\'fruit best\\' title=\\'오렌지\\'>\\n                    <span class = \\'price\\'> 500원 </span>\\n                    <span class = \\'count\\'> 20개 </span>\\n                    <span class = \\'store\\'> 오렌지가게</span>\\n                    <a href = \\'https://www.orange.com\\'> orange.com </a>\\n                    <span>\\n                        <a href=\"https://www.orange.blog/\">오렌지 효능</a>\\n                    </span>\\n                </p>\\n        </div>\\n    </body> \\n</html>'"
      ]
     },
     "execution_count": 7,
     "metadata": {},
     "output_type": "execute_result"
    }
   ],
   "source": [
    "html_src #IDLE"
   ]
  },
  {
   "cell_type": "code",
   "execution_count": 8,
   "id": "87eb9e87",
   "metadata": {
    "ExecuteTime": {
     "end_time": "2023-12-07T05:15:31.971020Z",
     "start_time": "2023-12-07T05:15:31.963710Z"
    }
   },
   "outputs": [
    {
     "name": "stdout",
     "output_type": "stream",
     "text": [
      "<html>\n",
      "    <body>\n",
      "        <h1> 과일 목록 </h1>\n",
      "        <div>\n",
      "                <p id='banana' class='fruit' title='바나나'>\n",
      "                      <span class = 'price'> 3000원 </span>\n",
      "                      <span class = 'count'> 10개 </span>\n",
      "                      <span class = 'store'> 바나나가게 </span>\n",
      "                      <a href = 'https://www.banana.com'> banana.com </a>\n",
      "                </p>\n",
      "                <p id='cherry' class='fruit' title='체리'>\n",
      "                    <span class = 'price'> 100원 </span>\n",
      "                    <span class = 'count'> 50개 </span>\n",
      "                    <span class = 'store'> 체리가게</span>\n",
      "                    <a href = 'https://www.cherry.com'> cherry.com </a>\n",
      "                </p>\n",
      "                <p id='orange' class='fruit best' title='오렌지'>\n",
      "                    <span class = 'price'> 500원 </span>\n",
      "                    <span class = 'count'> 20개 </span>\n",
      "                    <span class = 'store'> 오렌지가게</span>\n",
      "                    <a href = 'https://www.orange.com'> orange.com </a>\n",
      "                    <span>\n",
      "                        <a href=\"https://www.orange.blog/\">오렌지 효능</a>\n",
      "                    </span>\n",
      "                </p>\n",
      "        </div>\n",
      "    </body> \n",
      "</html>\n"
     ]
    }
   ],
   "source": [
    "print(html_src) #내장함수, 그때그때 맞춰서 쓰시라"
   ]
  },
  {
   "cell_type": "code",
   "execution_count": 9,
   "id": "ae978bef",
   "metadata": {
    "ExecuteTime": {
     "end_time": "2023-12-07T05:17:35.107588Z",
     "start_time": "2023-12-07T05:17:35.095210Z"
    }
   },
   "outputs": [],
   "source": [
    "#dom구조로 변환\n",
    "soup = BeautifulSoup(html_src, 'lxml')\n",
    "#뷰티퓰 수프의 인스턴스 수프"
   ]
  },
  {
   "cell_type": "code",
   "execution_count": 10,
   "id": "664fcf0d",
   "metadata": {
    "ExecuteTime": {
     "end_time": "2023-12-07T05:17:40.400948Z",
     "start_time": "2023-12-07T05:17:40.388796Z"
    }
   },
   "outputs": [
    {
     "data": {
      "text/plain": [
       "bs4.BeautifulSoup"
      ]
     },
     "execution_count": 10,
     "metadata": {},
     "output_type": "execute_result"
    }
   ],
   "source": [
    "type(soup)"
   ]
  },
  {
   "cell_type": "code",
   "execution_count": 11,
   "id": "43a196fc",
   "metadata": {
    "ExecuteTime": {
     "end_time": "2023-12-07T05:18:01.629984Z",
     "start_time": "2023-12-07T05:18:01.611740Z"
    }
   },
   "outputs": [
    {
     "data": {
      "text/plain": [
       "<html>\n",
       "<body>\n",
       "<h1> 과일 목록 </h1>\n",
       "<div>\n",
       "<p class=\"fruit\" id=\"banana\" title=\"바나나\">\n",
       "<span class=\"price\"> 3000원 </span>\n",
       "<span class=\"count\"> 10개 </span>\n",
       "<span class=\"store\"> 바나나가게 </span>\n",
       "<a href=\"https://www.banana.com\"> banana.com </a>\n",
       "</p>\n",
       "<p class=\"fruit\" id=\"cherry\" title=\"체리\">\n",
       "<span class=\"price\"> 100원 </span>\n",
       "<span class=\"count\"> 50개 </span>\n",
       "<span class=\"store\"> 체리가게</span>\n",
       "<a href=\"https://www.cherry.com\"> cherry.com </a>\n",
       "</p>\n",
       "<p class=\"fruit best\" id=\"orange\" title=\"오렌지\">\n",
       "<span class=\"price\"> 500원 </span>\n",
       "<span class=\"count\"> 20개 </span>\n",
       "<span class=\"store\"> 오렌지가게</span>\n",
       "<a href=\"https://www.orange.com\"> orange.com </a>\n",
       "<span>\n",
       "<a href=\"https://www.orange.blog/\">오렌지 효능</a>\n",
       "</span>\n",
       "</p>\n",
       "</div>\n",
       "</body>\n",
       "</html>"
      ]
     },
     "execution_count": 11,
     "metadata": {},
     "output_type": "execute_result"
    }
   ],
   "source": [
    "soup"
   ]
  },
  {
   "cell_type": "code",
   "execution_count": 12,
   "id": "f5c215ab",
   "metadata": {
    "ExecuteTime": {
     "end_time": "2023-12-07T05:19:41.658331Z",
     "start_time": "2023-12-07T05:19:41.645508Z"
    }
   },
   "outputs": [
    {
     "data": {
      "text/plain": [
       "<p class=\"fruit\" id=\"banana\" title=\"바나나\">\n",
       "<span class=\"price\"> 3000원 </span>\n",
       "<span class=\"count\"> 10개 </span>\n",
       "<span class=\"store\"> 바나나가게 </span>\n",
       "<a href=\"https://www.banana.com\"> banana.com </a>\n",
       "</p>"
      ]
     },
     "execution_count": 12,
     "metadata": {},
     "output_type": "execute_result"
    }
   ],
   "source": [
    "#soup.find / find_all\n",
    "soup.find('p') #p태그를 찾아줘\n",
    "#find는 맨처음 발견된 것 하나만 찾아줌"
   ]
  },
  {
   "cell_type": "code",
   "execution_count": 13,
   "id": "a58fa5f2",
   "metadata": {
    "ExecuteTime": {
     "end_time": "2023-12-07T05:20:28.395306Z",
     "start_time": "2023-12-07T05:20:28.383981Z"
    }
   },
   "outputs": [
    {
     "data": {
      "text/plain": [
       "bs4.element.Tag"
      ]
     },
     "execution_count": 13,
     "metadata": {},
     "output_type": "execute_result"
    }
   ],
   "source": [
    "type(soup.find('p'))"
   ]
  },
  {
   "cell_type": "code",
   "execution_count": 14,
   "id": "5967eb4a",
   "metadata": {
    "ExecuteTime": {
     "end_time": "2023-12-07T05:20:35.798546Z",
     "start_time": "2023-12-07T05:20:35.782937Z"
    }
   },
   "outputs": [
    {
     "data": {
      "text/plain": [
       "[<p class=\"fruit\" id=\"banana\" title=\"바나나\">\n",
       " <span class=\"price\"> 3000원 </span>\n",
       " <span class=\"count\"> 10개 </span>\n",
       " <span class=\"store\"> 바나나가게 </span>\n",
       " <a href=\"https://www.banana.com\"> banana.com </a>\n",
       " </p>,\n",
       " <p class=\"fruit\" id=\"cherry\" title=\"체리\">\n",
       " <span class=\"price\"> 100원 </span>\n",
       " <span class=\"count\"> 50개 </span>\n",
       " <span class=\"store\"> 체리가게</span>\n",
       " <a href=\"https://www.cherry.com\"> cherry.com </a>\n",
       " </p>,\n",
       " <p class=\"fruit best\" id=\"orange\" title=\"오렌지\">\n",
       " <span class=\"price\"> 500원 </span>\n",
       " <span class=\"count\"> 20개 </span>\n",
       " <span class=\"store\"> 오렌지가게</span>\n",
       " <a href=\"https://www.orange.com\"> orange.com </a>\n",
       " <span>\n",
       " <a href=\"https://www.orange.blog/\">오렌지 효능</a>\n",
       " </span>\n",
       " </p>]"
      ]
     },
     "execution_count": 14,
     "metadata": {},
     "output_type": "execute_result"
    }
   ],
   "source": [
    "soup.find_all('p') #리스트 목록으로 반환"
   ]
  },
  {
   "cell_type": "code",
   "execution_count": 15,
   "id": "2347181f",
   "metadata": {
    "ExecuteTime": {
     "end_time": "2023-12-07T05:21:46.354991Z",
     "start_time": "2023-12-07T05:21:46.342004Z"
    }
   },
   "outputs": [
    {
     "data": {
      "text/plain": [
       "<p class=\"fruit best\" id=\"orange\" title=\"오렌지\">\n",
       "<span class=\"price\"> 500원 </span>\n",
       "<span class=\"count\"> 20개 </span>\n",
       "<span class=\"store\"> 오렌지가게</span>\n",
       "<a href=\"https://www.orange.com\"> orange.com </a>\n",
       "<span>\n",
       "<a href=\"https://www.orange.blog/\">오렌지 효능</a>\n",
       "</span>\n",
       "</p>"
      ]
     },
     "execution_count": 15,
     "metadata": {},
     "output_type": "execute_result"
    }
   ],
   "source": [
    "soup.find('p', id=\"orange\")"
   ]
  },
  {
   "cell_type": "code",
   "execution_count": 16,
   "id": "3f30124f",
   "metadata": {
    "ExecuteTime": {
     "end_time": "2023-12-07T05:22:00.653297Z",
     "start_time": "2023-12-07T05:22:00.637873Z"
    }
   },
   "outputs": [
    {
     "data": {
      "text/plain": [
       "<p class=\"fruit best\" id=\"orange\" title=\"오렌지\">\n",
       "<span class=\"price\"> 500원 </span>\n",
       "<span class=\"count\"> 20개 </span>\n",
       "<span class=\"store\"> 오렌지가게</span>\n",
       "<a href=\"https://www.orange.com\"> orange.com </a>\n",
       "<span>\n",
       "<a href=\"https://www.orange.blog/\">오렌지 효능</a>\n",
       "</span>\n",
       "</p>"
      ]
     },
     "execution_count": 16,
     "metadata": {},
     "output_type": "execute_result"
    }
   ],
   "source": [
    "soup.find('p', title=\"오렌지\")"
   ]
  },
  {
   "cell_type": "code",
   "execution_count": 17,
   "id": "b3f1f750",
   "metadata": {
    "ExecuteTime": {
     "end_time": "2023-12-07T05:22:09.638494Z",
     "start_time": "2023-12-07T05:22:09.626912Z"
    }
   },
   "outputs": [
    {
     "data": {
      "text/plain": [
       "<p class=\"fruit best\" id=\"orange\" title=\"오렌지\">\n",
       "<span class=\"price\"> 500원 </span>\n",
       "<span class=\"count\"> 20개 </span>\n",
       "<span class=\"store\"> 오렌지가게</span>\n",
       "<a href=\"https://www.orange.com\"> orange.com </a>\n",
       "<span>\n",
       "<a href=\"https://www.orange.blog/\">오렌지 효능</a>\n",
       "</span>\n",
       "</p>"
      ]
     },
     "execution_count": 17,
     "metadata": {},
     "output_type": "execute_result"
    }
   ],
   "source": [
    "soup.find(title=\"오렌지\")"
   ]
  },
  {
   "cell_type": "code",
   "execution_count": 18,
   "id": "3e648683",
   "metadata": {
    "ExecuteTime": {
     "end_time": "2023-12-07T05:24:19.634676Z",
     "start_time": "2023-12-07T05:24:19.614922Z"
    }
   },
   "outputs": [
    {
     "data": {
      "text/plain": [
       "[<p class=\"fruit\" id=\"banana\" title=\"바나나\">\n",
       " <span class=\"price\"> 3000원 </span>\n",
       " <span class=\"count\"> 10개 </span>\n",
       " <span class=\"store\"> 바나나가게 </span>\n",
       " <a href=\"https://www.banana.com\"> banana.com </a>\n",
       " </p>,\n",
       " <p class=\"fruit\" id=\"cherry\" title=\"체리\">\n",
       " <span class=\"price\"> 100원 </span>\n",
       " <span class=\"count\"> 50개 </span>\n",
       " <span class=\"store\"> 체리가게</span>\n",
       " <a href=\"https://www.cherry.com\"> cherry.com </a>\n",
       " </p>,\n",
       " <p class=\"fruit best\" id=\"orange\" title=\"오렌지\">\n",
       " <span class=\"price\"> 500원 </span>\n",
       " <span class=\"count\"> 20개 </span>\n",
       " <span class=\"store\"> 오렌지가게</span>\n",
       " <a href=\"https://www.orange.com\"> orange.com </a>\n",
       " <span>\n",
       " <a href=\"https://www.orange.blog/\">오렌지 효능</a>\n",
       " </span>\n",
       " </p>]"
      ]
     },
     "execution_count": 18,
     "metadata": {},
     "output_type": "execute_result"
    }
   ],
   "source": [
    "#태그, css 클래스는 객체지향의 클래스가 아님. 그룹ID 같은 것.\n",
    "#CSS 때문에. css 셀렉터\n",
    "#p중에서 fruite 클래스는 다 찾고 싶다\n",
    "soup.find_all(class_='fruit')"
   ]
  },
  {
   "cell_type": "code",
   "execution_count": 19,
   "id": "bc43b540",
   "metadata": {
    "ExecuteTime": {
     "end_time": "2023-12-07T05:27:15.305955Z",
     "start_time": "2023-12-07T05:27:15.277783Z"
    }
   },
   "outputs": [],
   "source": [
    "#select\n",
    "#select는 css 선택자를 사용\n",
    "#관계를 가지고 조회\n",
    "#select_one , find : 1개의 요소만 찾아줌\n",
    "#find_all, select : 다수의 요소를 찾아줌\n",
    "#find_all과 select는 모든 tag를 list로 반환\n",
    "soup.select?"
   ]
  },
  {
   "cell_type": "code",
   "execution_count": 20,
   "id": "62c103ca",
   "metadata": {
    "ExecuteTime": {
     "end_time": "2023-12-07T05:27:25.835663Z",
     "start_time": "2023-12-07T05:27:25.822105Z"
    }
   },
   "outputs": [
    {
     "data": {
      "text/plain": [
       "[<p class=\"fruit\" id=\"banana\" title=\"바나나\">\n",
       " <span class=\"price\"> 3000원 </span>\n",
       " <span class=\"count\"> 10개 </span>\n",
       " <span class=\"store\"> 바나나가게 </span>\n",
       " <a href=\"https://www.banana.com\"> banana.com </a>\n",
       " </p>,\n",
       " <p class=\"fruit\" id=\"cherry\" title=\"체리\">\n",
       " <span class=\"price\"> 100원 </span>\n",
       " <span class=\"count\"> 50개 </span>\n",
       " <span class=\"store\"> 체리가게</span>\n",
       " <a href=\"https://www.cherry.com\"> cherry.com </a>\n",
       " </p>,\n",
       " <p class=\"fruit best\" id=\"orange\" title=\"오렌지\">\n",
       " <span class=\"price\"> 500원 </span>\n",
       " <span class=\"count\"> 20개 </span>\n",
       " <span class=\"store\"> 오렌지가게</span>\n",
       " <a href=\"https://www.orange.com\"> orange.com </a>\n",
       " <span>\n",
       " <a href=\"https://www.orange.blog/\">오렌지 효능</a>\n",
       " </span>\n",
       " </p>]"
      ]
     },
     "execution_count": 20,
     "metadata": {},
     "output_type": "execute_result"
    }
   ],
   "source": [
    "soup.select('p')"
   ]
  },
  {
   "cell_type": "code",
   "execution_count": 21,
   "id": "568b5018",
   "metadata": {
    "ExecuteTime": {
     "end_time": "2023-12-07T05:28:05.416810Z",
     "start_time": "2023-12-07T05:28:05.403561Z"
    }
   },
   "outputs": [
    {
     "data": {
      "text/plain": [
       "<p class=\"fruit\" id=\"banana\" title=\"바나나\">\n",
       "<span class=\"price\"> 3000원 </span>\n",
       "<span class=\"count\"> 10개 </span>\n",
       "<span class=\"store\"> 바나나가게 </span>\n",
       "<a href=\"https://www.banana.com\"> banana.com </a>\n",
       "</p>"
      ]
     },
     "execution_count": 21,
     "metadata": {},
     "output_type": "execute_result"
    }
   ],
   "source": [
    "soup.select_one('p')"
   ]
  },
  {
   "cell_type": "code",
   "execution_count": 23,
   "id": "a305ecde",
   "metadata": {
    "ExecuteTime": {
     "end_time": "2023-12-07T05:28:50.535974Z",
     "start_time": "2023-12-07T05:28:50.523137Z"
    }
   },
   "outputs": [
    {
     "data": {
      "text/plain": [
       "[<p class=\"fruit best\" id=\"orange\" title=\"오렌지\">\n",
       " <span class=\"price\"> 500원 </span>\n",
       " <span class=\"count\"> 20개 </span>\n",
       " <span class=\"store\"> 오렌지가게</span>\n",
       " <a href=\"https://www.orange.com\"> orange.com </a>\n",
       " <span>\n",
       " <a href=\"https://www.orange.blog/\">오렌지 효능</a>\n",
       " </span>\n",
       " </p>]"
      ]
     },
     "execution_count": 23,
     "metadata": {},
     "output_type": "execute_result"
    }
   ],
   "source": [
    "#css 셀렉터 문법 사용\n",
    "#id 속성 : #\n",
    "soup.select('#orange')"
   ]
  },
  {
   "cell_type": "code",
   "execution_count": 25,
   "id": "31bd8ac1",
   "metadata": {
    "ExecuteTime": {
     "end_time": "2023-12-07T05:29:20.996258Z",
     "start_time": "2023-12-07T05:29:20.984779Z"
    }
   },
   "outputs": [
    {
     "data": {
      "text/plain": [
       "<p class=\"fruit best\" id=\"orange\" title=\"오렌지\">\n",
       "<span class=\"price\"> 500원 </span>\n",
       "<span class=\"count\"> 20개 </span>\n",
       "<span class=\"store\"> 오렌지가게</span>\n",
       "<a href=\"https://www.orange.com\"> orange.com </a>\n",
       "<span>\n",
       "<a href=\"https://www.orange.blog/\">오렌지 효능</a>\n",
       "</span>\n",
       "</p>"
      ]
     },
     "execution_count": 25,
     "metadata": {},
     "output_type": "execute_result"
    }
   ],
   "source": [
    "soup.select_one('#orange')"
   ]
  },
  {
   "cell_type": "code",
   "execution_count": 26,
   "id": "bd002fea",
   "metadata": {
    "ExecuteTime": {
     "end_time": "2023-12-07T05:29:40.861591Z",
     "start_time": "2023-12-07T05:29:40.849023Z"
    }
   },
   "outputs": [
    {
     "data": {
      "text/plain": [
       "[<span class=\"price\"> 3000원 </span>,\n",
       " <span class=\"price\"> 100원 </span>,\n",
       " <span class=\"price\"> 500원 </span>]"
      ]
     },
     "execution_count": 26,
     "metadata": {},
     "output_type": "execute_result"
    }
   ],
   "source": [
    "#클래스 조회 : .\n",
    "soup.select('.price')"
   ]
  },
  {
   "cell_type": "code",
   "execution_count": 27,
   "id": "2be59eda",
   "metadata": {
    "ExecuteTime": {
     "end_time": "2023-12-07T05:30:36.850149Z",
     "start_time": "2023-12-07T05:30:36.834986Z"
    }
   },
   "outputs": [
    {
     "data": {
      "text/plain": [
       "[<p class=\"fruit best\" id=\"orange\" title=\"오렌지\">\n",
       " <span class=\"price\"> 500원 </span>\n",
       " <span class=\"count\"> 20개 </span>\n",
       " <span class=\"store\"> 오렌지가게</span>\n",
       " <a href=\"https://www.orange.com\"> orange.com </a>\n",
       " <span>\n",
       " <a href=\"https://www.orange.blog/\">오렌지 효능</a>\n",
       " </span>\n",
       " </p>]"
      ]
     },
     "execution_count": 27,
     "metadata": {},
     "output_type": "execute_result"
    }
   ],
   "source": [
    "#and 관계 : A#B\n",
    "soup.select('p#orange')"
   ]
  },
  {
   "cell_type": "code",
   "execution_count": 29,
   "id": "2b808963",
   "metadata": {
    "ExecuteTime": {
     "end_time": "2023-12-07T05:32:03.872493Z",
     "start_time": "2023-12-07T05:32:03.859918Z"
    }
   },
   "outputs": [
    {
     "data": {
      "text/plain": [
       "[<span class=\"store\"> 바나나가게 </span>,\n",
       " <a href=\"https://www.banana.com\"> banana.com </a>,\n",
       " <span class=\"store\"> 체리가게</span>,\n",
       " <a href=\"https://www.cherry.com\"> cherry.com </a>,\n",
       " <span class=\"store\"> 오렌지가게</span>,\n",
       " <a href=\"https://www.orange.com\"> orange.com </a>,\n",
       " <a href=\"https://www.orange.blog/\">오렌지 효능</a>]"
      ]
     },
     "execution_count": 29,
     "metadata": {},
     "output_type": "execute_result"
    }
   ],
   "source": [
    "#or 관계 : , .\n",
    "#a태그 또는 스토어클래스에 해당하는 요소를 찾아줘\n",
    "soup.select('a, .store')"
   ]
  },
  {
   "cell_type": "code",
   "execution_count": 30,
   "id": "65758bd9",
   "metadata": {
    "ExecuteTime": {
     "end_time": "2023-12-07T05:32:51.522247Z",
     "start_time": "2023-12-07T05:32:51.510682Z"
    }
   },
   "outputs": [
    {
     "data": {
      "text/plain": [
       "[<p class=\"fruit best\" id=\"orange\" title=\"오렌지\">\n",
       " <span class=\"price\"> 500원 </span>\n",
       " <span class=\"count\"> 20개 </span>\n",
       " <span class=\"store\"> 오렌지가게</span>\n",
       " <a href=\"https://www.orange.com\"> orange.com </a>\n",
       " <span>\n",
       " <a href=\"https://www.orange.blog/\">오렌지 효능</a>\n",
       " </span>\n",
       " </p>]"
      ]
     },
     "execution_count": 30,
     "metadata": {},
     "output_type": "execute_result"
    }
   ],
   "source": [
    "#클래스 값이 2개인 태그\n",
    "#and요소는 붙이면 된다.\n",
    "soup.select('.fruit.best')"
   ]
  },
  {
   "cell_type": "code",
   "execution_count": 31,
   "id": "2cf205eb",
   "metadata": {
    "ExecuteTime": {
     "end_time": "2023-12-07T05:36:45.133101Z",
     "start_time": "2023-12-07T05:36:45.120881Z"
    }
   },
   "outputs": [
    {
     "data": {
      "text/plain": [
       "[<a href=\"https://www.orange.com\"> orange.com </a>]"
      ]
     },
     "execution_count": 31,
     "metadata": {},
     "output_type": "execute_result"
    }
   ],
   "source": [
    "#>는 자식관계를 의미\n",
    "# > 자식관계(공백주의) 붙여쓸것\n",
    "soup.select('.fruit.best>a')\n",
    "#자식이 1개만 나옴."
   ]
  },
  {
   "cell_type": "code",
   "execution_count": 32,
   "id": "ce884518",
   "metadata": {
    "ExecuteTime": {
     "end_time": "2023-12-07T05:37:38.430180Z",
     "start_time": "2023-12-07T05:37:38.418056Z"
    }
   },
   "outputs": [
    {
     "data": {
      "text/plain": [
       "[<a href=\"https://www.orange.com\"> orange.com </a>,\n",
       " <a href=\"https://www.orange.blog/\">오렌지 효능</a>]"
      ]
     },
     "execution_count": 32,
     "metadata": {},
     "output_type": "execute_result"
    }
   ],
   "source": [
    "#공백 자손 관계 -> 공백으로 표현\n",
    "#자식, 손자 다 나옴. 그래서 자손관계. 그 안에 속해있는것들을 다 뽑음.\n",
    "soup.select('.fruit.best a')\n",
    "#다 객체"
   ]
  },
  {
   "cell_type": "code",
   "execution_count": 33,
   "id": "d511a1f4",
   "metadata": {
    "ExecuteTime": {
     "end_time": "2023-12-07T05:40:01.309267Z",
     "start_time": "2023-12-07T05:40:01.297994Z"
    }
   },
   "outputs": [
    {
     "data": {
      "text/plain": [
       "[<a href=\"https://www.orange.blog/\">오렌지 효능</a>]"
      ]
     },
     "execution_count": 33,
     "metadata": {},
     "output_type": "execute_result"
    }
   ],
   "source": [
    "soup.select('.fruit.best > span > a')"
   ]
  },
  {
   "cell_type": "code",
   "execution_count": 48,
   "id": "f39466b0",
   "metadata": {
    "ExecuteTime": {
     "end_time": "2023-12-07T05:58:59.654161Z",
     "start_time": "2023-12-07T05:58:59.645224Z"
    }
   },
   "outputs": [],
   "source": [
    "mylist = soup.select('.fruit.best a')"
   ]
  },
  {
   "cell_type": "code",
   "execution_count": 42,
   "id": "d0fe0d69",
   "metadata": {
    "ExecuteTime": {
     "end_time": "2023-12-07T05:46:26.066672Z",
     "start_time": "2023-12-07T05:46:26.057744Z"
    }
   },
   "outputs": [
    {
     "data": {
      "text/plain": [
       "bs4.element.ResultSet"
      ]
     },
     "execution_count": 42,
     "metadata": {},
     "output_type": "execute_result"
    }
   ],
   "source": [
    "type(mylist)\n",
    "#객체. 이 안에서 메소드를 사용할 수 있겠구나.\n",
    "#리스트가 아니라 엘리멘트 요소 나옴. 객체 안에 객체."
   ]
  },
  {
   "cell_type": "code",
   "execution_count": 43,
   "id": "8eb85bca",
   "metadata": {
    "ExecuteTime": {
     "end_time": "2023-12-07T05:46:36.170438Z",
     "start_time": "2023-12-07T05:46:36.159546Z"
    }
   },
   "outputs": [
    {
     "data": {
      "text/plain": [
       "bs4.element.Tag"
      ]
     },
     "execution_count": 43,
     "metadata": {},
     "output_type": "execute_result"
    }
   ],
   "source": [
    "type(mylist[0])"
   ]
  },
  {
   "cell_type": "code",
   "execution_count": 50,
   "id": "5f19a090",
   "metadata": {
    "ExecuteTime": {
     "end_time": "2023-12-07T05:59:13.438803Z",
     "start_time": "2023-12-07T05:59:13.431178Z"
    }
   },
   "outputs": [
    {
     "name": "stdout",
     "output_type": "stream",
     "text": [
      " orange.com \n",
      "오렌지 효능\n"
     ]
    }
   ],
   "source": [
    "for tagitem in mylist:\n",
    "    print(tagitem.text)"
   ]
  },
  {
   "cell_type": "code",
   "execution_count": 45,
   "id": "c6600223",
   "metadata": {
    "ExecuteTime": {
     "end_time": "2023-12-07T05:47:35.318701Z",
     "start_time": "2023-12-07T05:47:35.311991Z"
    }
   },
   "outputs": [
    {
     "name": "stdout",
     "output_type": "stream",
     "text": [
      "<a href=\"https://www.orange.com\"> orange.com </a>\n"
     ]
    }
   ],
   "source": [
    "print(tagItem)"
   ]
  },
  {
   "cell_type": "code",
   "execution_count": 46,
   "id": "547a5433",
   "metadata": {
    "ExecuteTime": {
     "end_time": "2023-12-07T05:49:16.706216Z",
     "start_time": "2023-12-07T05:49:16.696529Z"
    }
   },
   "outputs": [
    {
     "name": "stdout",
     "output_type": "stream",
     "text": [
      "https://www.orange.com\n",
      "https://www.orange.blog/\n"
     ]
    }
   ],
   "source": [
    "for item in mylist :\n",
    "    print(item['href'])\n",
    "#속성값 추출"
   ]
  },
  {
   "cell_type": "code",
   "execution_count": 54,
   "id": "21aa6b3e",
   "metadata": {
    "ExecuteTime": {
     "end_time": "2023-12-07T06:07:12.739651Z",
     "start_time": "2023-12-07T06:07:12.684970Z"
    }
   },
   "outputs": [
    {
     "ename": "NameError",
     "evalue": "name 'items' is not defined",
     "output_type": "error",
     "traceback": [
      "\u001b[1;31m---------------------------------------------------------------------------\u001b[0m",
      "\u001b[1;31mNameError\u001b[0m                                 Traceback (most recent call last)",
      "Cell \u001b[1;32mIn[54], line 1\u001b[0m\n\u001b[1;32m----> 1\u001b[0m \u001b[38;5;28;01mfor\u001b[39;00m item \u001b[38;5;129;01min\u001b[39;00m items :\n\u001b[0;32m      2\u001b[0m     name \u001b[38;5;241m=\u001b[39m item[\u001b[38;5;124m'\u001b[39m\u001b[38;5;124mtitle\u001b[39m\u001b[38;5;124m'\u001b[39m]\n\u001b[0;32m      3\u001b[0m     price \u001b[38;5;241m=\u001b[39m item\u001b[38;5;241m.\u001b[39mfind(\u001b[38;5;124m'\u001b[39m\u001b[38;5;124mspan\u001b[39m\u001b[38;5;124m'\u001b[39m,\u001b[38;5;124m'\u001b[39m\u001b[38;5;124mprice\u001b[39m\u001b[38;5;124m'\u001b[39m)\u001b[38;5;241m.\u001b[39mtext\n",
      "\u001b[1;31mNameError\u001b[0m: name 'items' is not defined"
     ]
    }
   ],
   "source": [
    "for item in items :\n",
    "    name = item['title']\n",
    "    price = item.find('span','price').text\n",
    "    count = item.find('span','count').text\n",
    "    store = item.find('span','store').text\n",
    "    print(name, price, count, store)"
   ]
  },
  {
   "cell_type": "code",
   "execution_count": 57,
   "id": "c8308c36",
   "metadata": {
    "ExecuteTime": {
     "end_time": "2023-12-07T06:10:11.330518Z",
     "start_time": "2023-12-07T06:10:11.278935Z"
    }
   },
   "outputs": [
    {
     "ename": "NameError",
     "evalue": "name 'items' is not defined",
     "output_type": "error",
     "traceback": [
      "\u001b[1;31m---------------------------------------------------------------------------\u001b[0m",
      "\u001b[1;31mNameError\u001b[0m                                 Traceback (most recent call last)",
      "Cell \u001b[1;32mIn[57], line 1\u001b[0m\n\u001b[1;32m----> 1\u001b[0m \u001b[38;5;28;01mfor\u001b[39;00m item \u001b[38;5;129;01min\u001b[39;00m items:\n\u001b[0;32m      2\u001b[0m     name \u001b[38;5;241m=\u001b[39m item[\u001b[38;5;124m'\u001b[39m\u001b[38;5;124mtitle\u001b[39m\u001b[38;5;124m'\u001b[39m]\n\u001b[0;32m      3\u001b[0m     price \u001b[38;5;241m=\u001b[39m item\u001b[38;5;241m.\u001b[39mfind(\u001b[38;5;124m'\u001b[39m\u001b[38;5;124mspan\u001b[39m\u001b[38;5;124m'\u001b[39m,\u001b[38;5;124m'\u001b[39m\u001b[38;5;124mprice\u001b[39m\u001b[38;5;124m'\u001b[39m)\u001b[38;5;241m.\u001b[39mtext\n",
      "\u001b[1;31mNameError\u001b[0m: name 'items' is not defined"
     ]
    }
   ],
   "source": [
    "for item in items:\n",
    "    name = item['title']\n",
    "    price = item.find('span','price').text\n",
    "    count = item.find('span','count').text\n",
    "    store = item.find('span','store').text\n",
    "    print(name, price, count, store)"
   ]
  },
  {
   "cell_type": "code",
   "execution_count": 58,
   "id": "13527279",
   "metadata": {
    "ExecuteTime": {
     "end_time": "2023-12-07T06:10:23.981865Z",
     "start_time": "2023-12-07T06:10:23.968316Z"
    }
   },
   "outputs": [
    {
     "data": {
      "text/plain": [
       "<p class=\"fruit best\" id=\"orange\" title=\"오렌지\">\n",
       "<span class=\"price\"> 500원 </span>\n",
       "<span class=\"count\"> 20개 </span>\n",
       "<span class=\"store\"> 오렌지가게</span>\n",
       "<a href=\"https://www.orange.com\"> orange.com </a>\n",
       "<span>\n",
       "<a href=\"https://www.orange.blog/\">오렌지 효능</a>\n",
       "</span>\n",
       "</p>"
      ]
     },
     "execution_count": 58,
     "metadata": {},
     "output_type": "execute_result"
    }
   ],
   "source": [
    "soup.find('p', id=\"orange\")"
   ]
  },
  {
   "cell_type": "code",
   "execution_count": 59,
   "id": "ed51d2a1",
   "metadata": {
    "ExecuteTime": {
     "end_time": "2023-12-07T06:10:35.635071Z",
     "start_time": "2023-12-07T06:10:35.628591Z"
    }
   },
   "outputs": [],
   "source": [
    "e = soup.find('p', id=\"orange\")\n",
    "#css 셀렉터가 아니기에 # 안됨. find는 요소, select는 관계"
   ]
  },
  {
   "cell_type": "code",
   "execution_count": 60,
   "id": "066c81dd",
   "metadata": {
    "ExecuteTime": {
     "end_time": "2023-12-07T06:10:40.449355Z",
     "start_time": "2023-12-07T06:10:40.438466Z"
    }
   },
   "outputs": [
    {
     "data": {
      "text/plain": [
       "bs4.element.Tag"
      ]
     },
     "execution_count": 60,
     "metadata": {},
     "output_type": "execute_result"
    }
   ],
   "source": [
    "type(e)"
   ]
  },
  {
   "cell_type": "code",
   "execution_count": 61,
   "id": "4b9f561a",
   "metadata": {
    "ExecuteTime": {
     "end_time": "2023-12-07T06:11:00.312001Z",
     "start_time": "2023-12-07T06:11:00.301783Z"
    }
   },
   "outputs": [
    {
     "data": {
      "text/plain": [
       "'p'"
      ]
     },
     "execution_count": 61,
     "metadata": {},
     "output_type": "execute_result"
    }
   ],
   "source": [
    "e.name #태그요소의 이름은 p"
   ]
  },
  {
   "cell_type": "code",
   "execution_count": 62,
   "id": "1ccbd1ac",
   "metadata": {
    "ExecuteTime": {
     "end_time": "2023-12-07T06:11:13.838326Z",
     "start_time": "2023-12-07T06:11:13.829649Z"
    }
   },
   "outputs": [
    {
     "data": {
      "text/plain": [
       "{'id': 'orange', 'class': ['fruit', 'best'], 'title': '오렌지'}"
      ]
     },
     "execution_count": 62,
     "metadata": {},
     "output_type": "execute_result"
    }
   ],
   "source": [
    "e.attrs #e가 가진 속성. 딕셔너리로 나옴"
   ]
  },
  {
   "cell_type": "code",
   "execution_count": 63,
   "id": "c1c155aa",
   "metadata": {
    "ExecuteTime": {
     "end_time": "2023-12-07T06:11:50.958592Z",
     "start_time": "2023-12-07T06:11:50.951502Z"
    }
   },
   "outputs": [
    {
     "data": {
      "text/plain": [
       "'오렌지'"
      ]
     },
     "execution_count": 63,
     "metadata": {},
     "output_type": "execute_result"
    }
   ],
   "source": [
    "e['title']"
   ]
  },
  {
   "cell_type": "code",
   "execution_count": 64,
   "id": "4dc07794",
   "metadata": {
    "ExecuteTime": {
     "end_time": "2023-12-07T06:11:57.870273Z",
     "start_time": "2023-12-07T06:11:57.861030Z"
    }
   },
   "outputs": [
    {
     "data": {
      "text/plain": [
       "<generator object Tag._all_strings at 0x000002498CF71D40>"
      ]
     },
     "execution_count": 64,
     "metadata": {},
     "output_type": "execute_result"
    }
   ],
   "source": [
    "e.strings"
   ]
  },
  {
   "cell_type": "code",
   "execution_count": 65,
   "id": "5a0518bb",
   "metadata": {
    "ExecuteTime": {
     "end_time": "2023-12-07T06:12:09.187318Z",
     "start_time": "2023-12-07T06:12:09.180753Z"
    }
   },
   "outputs": [
    {
     "name": "stdout",
     "output_type": "stream",
     "text": [
      "\n",
      "\n",
      " 500원 \n",
      "\n",
      "\n",
      " 20개 \n",
      "\n",
      "\n",
      " 오렌지가게\n",
      "\n",
      "\n",
      " orange.com \n",
      "\n",
      "\n",
      "\n",
      "\n",
      "오렌지 효능\n",
      "\n",
      "\n",
      "\n",
      "\n"
     ]
    }
   ],
   "source": [
    "for item in e.strings:\n",
    "    print(item)"
   ]
  },
  {
   "cell_type": "code",
   "execution_count": 66,
   "id": "f5640b81",
   "metadata": {
    "ExecuteTime": {
     "end_time": "2023-12-07T06:12:16.790607Z",
     "start_time": "2023-12-07T06:12:16.781371Z"
    }
   },
   "outputs": [
    {
     "data": {
      "text/plain": [
       "'\\n 500원 \\n 20개 \\n 오렌지가게\\n orange.com \\n\\n오렌지 효능\\n\\n'"
      ]
     },
     "execution_count": 66,
     "metadata": {},
     "output_type": "execute_result"
    }
   ],
   "source": [
    "e.text"
   ]
  },
  {
   "cell_type": "code",
   "execution_count": 67,
   "id": "9279d2b6",
   "metadata": {
    "ExecuteTime": {
     "end_time": "2023-12-07T06:15:35.366216Z",
     "start_time": "2023-12-07T06:15:35.349950Z"
    }
   },
   "outputs": [
    {
     "data": {
      "text/plain": [
       "<div>\n",
       "<p class=\"fruit\" id=\"banana\" title=\"바나나\">\n",
       "<span class=\"price\"> 3000원 </span>\n",
       "<span class=\"count\"> 10개 </span>\n",
       "<span class=\"store\"> 바나나가게 </span>\n",
       "<a href=\"https://www.banana.com\"> banana.com </a>\n",
       "</p>\n",
       "<p class=\"fruit\" id=\"cherry\" title=\"체리\">\n",
       "<span class=\"price\"> 100원 </span>\n",
       "<span class=\"count\"> 50개 </span>\n",
       "<span class=\"store\"> 체리가게</span>\n",
       "<a href=\"https://www.cherry.com\"> cherry.com </a>\n",
       "</p>\n",
       "<p class=\"fruit best\" id=\"orange\" title=\"오렌지\">\n",
       "<span class=\"price\"> 500원 </span>\n",
       "<span class=\"count\"> 20개 </span>\n",
       "<span class=\"store\"> 오렌지가게</span>\n",
       "<a href=\"https://www.orange.com\"> orange.com </a>\n",
       "<span>\n",
       "<a href=\"https://www.orange.blog/\">오렌지 효능</a>\n",
       "</span>\n",
       "</p>\n",
       "</div>"
      ]
     },
     "execution_count": 67,
     "metadata": {},
     "output_type": "execute_result"
    }
   ],
   "source": [
    "e.parent\n",
    "#부모가 div"
   ]
  },
  {
   "cell_type": "code",
   "execution_count": 68,
   "id": "aa9b53a4",
   "metadata": {
    "ExecuteTime": {
     "end_time": "2023-12-07T06:17:05.269411Z",
     "start_time": "2023-12-07T06:17:05.260019Z"
    }
   },
   "outputs": [
    {
     "data": {
      "text/plain": [
       "<generator object PageElement.parents at 0x000002498DDA41C0>"
      ]
     },
     "execution_count": 68,
     "metadata": {},
     "output_type": "execute_result"
    }
   ],
   "source": [
    "e.parents\n",
    "#객체"
   ]
  },
  {
   "cell_type": "code",
   "execution_count": 69,
   "id": "10e189e4",
   "metadata": {
    "ExecuteTime": {
     "end_time": "2023-12-07T06:17:35.261441Z",
     "start_time": "2023-12-07T06:17:35.252827Z"
    }
   },
   "outputs": [
    {
     "name": "stdout",
     "output_type": "stream",
     "text": [
      "div\n",
      "body\n",
      "html\n",
      "[document]\n"
     ]
    }
   ],
   "source": [
    "for item in e.parents:\n",
    "    print(item.name)\n",
    "#모든 조상들"
   ]
  },
  {
   "cell_type": "code",
   "execution_count": 70,
   "id": "39a33097",
   "metadata": {
    "ExecuteTime": {
     "end_time": "2023-12-07T06:18:03.053854Z",
     "start_time": "2023-12-07T06:18:03.043796Z"
    }
   },
   "outputs": [
    {
     "data": {
      "text/plain": [
       "['\\n',\n",
       " <span class=\"price\"> 500원 </span>,\n",
       " '\\n',\n",
       " <span class=\"count\"> 20개 </span>,\n",
       " '\\n',\n",
       " <span class=\"store\"> 오렌지가게</span>,\n",
       " '\\n',\n",
       " <a href=\"https://www.orange.com\"> orange.com </a>,\n",
       " '\\n',\n",
       " <span>\n",
       " <a href=\"https://www.orange.blog/\">오렌지 효능</a>\n",
       " </span>,\n",
       " '\\n']"
      ]
     },
     "execution_count": 70,
     "metadata": {},
     "output_type": "execute_result"
    }
   ],
   "source": [
    "e.contents\n",
    "#모든 자식 요소(list), 자손들"
   ]
  },
  {
   "cell_type": "code",
   "execution_count": 71,
   "id": "d4cb01a0",
   "metadata": {
    "ExecuteTime": {
     "end_time": "2023-12-07T06:18:13.670686Z",
     "start_time": "2023-12-07T06:18:13.661541Z"
    }
   },
   "outputs": [
    {
     "data": {
      "text/plain": [
       "<list_iterator at 0x2498e47ed70>"
      ]
     },
     "execution_count": 71,
     "metadata": {},
     "output_type": "execute_result"
    }
   ],
   "source": [
    "e.children"
   ]
  },
  {
   "cell_type": "code",
   "execution_count": 73,
   "id": "ef669a77",
   "metadata": {
    "ExecuteTime": {
     "end_time": "2023-12-07T06:19:17.659474Z",
     "start_time": "2023-12-07T06:19:17.650608Z"
    }
   },
   "outputs": [
    {
     "name": "stdout",
     "output_type": "stream",
     "text": [
      "None\n",
      "span\n",
      "None\n",
      "span\n",
      "None\n",
      "span\n",
      "None\n",
      "a\n",
      "None\n",
      "span\n",
      "None\n"
     ]
    }
   ],
   "source": [
    "#모든 자식 요소(eter)\n",
    "for item in e.children:\n",
    "    print(item.name) #자식"
   ]
  },
  {
   "cell_type": "code",
   "execution_count": null,
   "id": "978ff7b6",
   "metadata": {},
   "outputs": [],
   "source": []
  }
 ],
 "metadata": {
  "kernelspec": {
   "display_name": "Python 3 (ipykernel)",
   "language": "python",
   "name": "python3"
  },
  "language_info": {
   "codemirror_mode": {
    "name": "ipython",
    "version": 3
   },
   "file_extension": ".py",
   "mimetype": "text/x-python",
   "name": "python",
   "nbconvert_exporter": "python",
   "pygments_lexer": "ipython3",
   "version": "3.11.5"
  },
  "toc": {
   "base_numbering": 1,
   "nav_menu": {},
   "number_sections": true,
   "sideBar": true,
   "skip_h1_title": false,
   "title_cell": "Table of Contents",
   "title_sidebar": "Contents",
   "toc_cell": false,
   "toc_position": {},
   "toc_section_display": true,
   "toc_window_display": false
  }
 },
 "nbformat": 4,
 "nbformat_minor": 5
}
