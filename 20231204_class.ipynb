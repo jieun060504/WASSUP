{
 "cells": [
  {
   "cell_type": "code",
   "execution_count": 1,
   "id": "028f8e23",
   "metadata": {
    "ExecuteTime": {
     "end_time": "2023-12-04T05:47:20.712321Z",
     "start_time": "2023-12-04T05:47:20.708513Z"
    }
   },
   "outputs": [
    {
     "name": "stdout",
     "output_type": "stream",
     "text": [
      "3\n",
      "7\n"
     ]
    }
   ],
   "source": [
    "#클래스\n",
    "result = 0\n",
    "def add(num):\n",
    "    global result \n",
    "    result += num\n",
    "    return result\n",
    "print(add(3))\n",
    "print(add(4))\n",
    "#global result를 한 이유 : 함수는 매번 불러올 때마다 새로 불러와짐. 지역수가. \n",
    "#그래서 밖에 창고로 쓸려고 다시 만들어놓은 것. 글로벌을 통해 result 변수를 함수에서 쓸거야."
   ]
  },
  {
   "cell_type": "code",
   "execution_count": 3,
   "id": "404c3309",
   "metadata": {
    "ExecuteTime": {
     "end_time": "2023-12-04T05:51:01.068405Z",
     "start_time": "2023-12-04T05:51:01.063814Z"
    }
   },
   "outputs": [
    {
     "name": "stdout",
     "output_type": "stream",
     "text": [
      "3\n",
      "7\n",
      "3\n",
      "10\n"
     ]
    }
   ],
   "source": [
    "#한 프로그램에서 두 대의 계산기가 필요한 상황. 별도로 관리해야함.\n",
    "# 각 계산기는 각각의 결과값을 유지해야 하므로 별도로 각각 함수를 따로 만들어야함.\n",
    "result1 = 0\n",
    "result2 = 0\n",
    "\n",
    "def add1(num) :\n",
    "    global result1\n",
    "    result1 += num\n",
    "    return result1\n",
    "\n",
    "def add2(num) :\n",
    "    global result2\n",
    "    result2 += num\n",
    "    return result2\n",
    "\n",
    "print(add1(3))\n",
    "print(add1(4))\n",
    "print(add2(3))\n",
    "print(add2(7))"
   ]
  },
  {
   "cell_type": "code",
   "execution_count": 9,
   "id": "151cdb82",
   "metadata": {
    "ExecuteTime": {
     "end_time": "2023-12-04T06:07:05.885090Z",
     "start_time": "2023-12-04T06:07:05.880102Z"
    }
   },
   "outputs": [
    {
     "name": "stdout",
     "output_type": "stream",
     "text": [
      "3\n",
      "7\n",
      "3\n",
      "10\n"
     ]
    }
   ],
   "source": [
    "class Calculator:\n",
    "    def __init__(self):\n",
    "        self.result = 0\n",
    "    def add(self, num):\n",
    "        self.result += num\n",
    "        return self.result\n",
    "\n",
    "cal1 = Calculator()\n",
    "cal2 = Calculator()\n",
    "#계산기 객체가 2개 생성\n",
    "print(cal1.add(3))\n",
    "print(cal1.add(4))\n",
    "print(cal2.add(3))\n",
    "print(cal2.add(7))"
   ]
  },
  {
   "cell_type": "code",
   "execution_count": 10,
   "id": "2186ae20",
   "metadata": {
    "ExecuteTime": {
     "end_time": "2023-12-04T06:10:56.613185Z",
     "start_time": "2023-12-04T06:10:56.605973Z"
    }
   },
   "outputs": [
    {
     "ename": "SyntaxError",
     "evalue": "invalid syntax (10871059.py, line 2)",
     "output_type": "error",
     "traceback": [
      "\u001b[1;36m  Cell \u001b[1;32mIn[10], line 2\u001b[1;36m\u001b[0m\n\u001b[1;33m    a.\u001b[0m\n\u001b[1;37m      ^\u001b[0m\n\u001b[1;31mSyntaxError\u001b[0m\u001b[1;31m:\u001b[0m invalid syntax\n"
     ]
    }
   ],
   "source": [
    "a = '안녕하세요'\n",
    "a.\n",
    "#str 라이브러리 안에 수없이 많은 def 함수가 들어가있는 것. 이것이 메소드로 작용.\n",
    "#맹광국은 객체, 사람이 틀. 객체 안에 들어있는 데이터가 서로 다른 것. \n",
    "#이미 구체화 되어 있는 것을 추상화 한다.\n",
    "#클래스로 만든 객체는 각 객체마다 고유한 특성을 가지고 있음.\n",
    "#맹광국과 오지은은 서로 영향을 주지 않음.\n",
    "#클래스명을 지을 때 반드시 첫번째 문자는 대문자 !. 변수와 구분해주기 위한 규칙."
   ]
  },
  {
   "cell_type": "code",
   "execution_count": 11,
   "id": "27308a06",
   "metadata": {
    "ExecuteTime": {
     "end_time": "2023-12-04T06:11:28.738461Z",
     "start_time": "2023-12-04T06:11:28.735229Z"
    }
   },
   "outputs": [],
   "source": [
    "class Cookie : #아무런 기능을 갖고있지 않은 쿠키 껍질.\n",
    "    pass"
   ]
  },
  {
   "cell_type": "code",
   "execution_count": 12,
   "id": "3379c38c",
   "metadata": {
    "ExecuteTime": {
     "end_time": "2023-12-04T06:11:57.751149Z",
     "start_time": "2023-12-04T06:11:57.732804Z"
    }
   },
   "outputs": [
    {
     "ename": "NameError",
     "evalue": "name 'Cookei' is not defined",
     "output_type": "error",
     "traceback": [
      "\u001b[1;31m---------------------------------------------------------------------------\u001b[0m",
      "\u001b[1;31mNameError\u001b[0m                                 Traceback (most recent call last)",
      "Cell \u001b[1;32mIn[12], line 2\u001b[0m\n\u001b[0;32m      1\u001b[0m a \u001b[38;5;241m=\u001b[39m Cookie()\n\u001b[1;32m----> 2\u001b[0m b \u001b[38;5;241m=\u001b[39m Cookei()\n",
      "\u001b[1;31mNameError\u001b[0m: name 'Cookei' is not defined"
     ]
    }
   ],
   "source": [
    "a = Cookie()\n",
    "b = Cookei()"
   ]
  },
  {
   "cell_type": "code",
   "execution_count": 13,
   "id": "996d7ee2",
   "metadata": {
    "ExecuteTime": {
     "end_time": "2023-12-04T06:13:42.073589Z",
     "start_time": "2023-12-04T06:13:42.070550Z"
    }
   },
   "outputs": [],
   "source": [
    "#인스턴트와 객체의 차이\n",
    "#틀이 글래스, 객체가 인스턴스. 인스턴스는 어떤 객체인지 관계를 설명할 때 인스턴스라고 표현.\n",
    "#관계 위주로 설명할 때 인스턴스. a는 쿠키의 인스턴스입니다."
   ]
  },
  {
   "cell_type": "code",
   "execution_count": 14,
   "id": "b3938ce1",
   "metadata": {
    "ExecuteTime": {
     "end_time": "2023-12-04T06:14:52.580542Z",
     "start_time": "2023-12-04T06:14:52.562743Z"
    }
   },
   "outputs": [
    {
     "ename": "NameError",
     "evalue": "name 'FourCal' is not defined",
     "output_type": "error",
     "traceback": [
      "\u001b[1;31m---------------------------------------------------------------------------\u001b[0m",
      "\u001b[1;31mNameError\u001b[0m                                 Traceback (most recent call last)",
      "Cell \u001b[1;32mIn[14], line 1\u001b[0m\n\u001b[1;32m----> 1\u001b[0m a \u001b[38;5;241m=\u001b[39m FourCal\n\u001b[0;32m      2\u001b[0m a\u001b[38;5;241m.\u001b[39msetdata(\u001b[38;5;241m4\u001b[39m, \u001b[38;5;241m2\u001b[39m)\n\u001b[0;32m      3\u001b[0m a\u001b[38;5;241m.\u001b[39madd()\n",
      "\u001b[1;31mNameError\u001b[0m: name 'FourCal' is not defined"
     ]
    }
   ],
   "source": [
    "a = FourCal\n",
    "a.setdata(4, 2) #데이터를 세팅할 수 있는 기능. 입력할 수 있는 기능.\n",
    "a.add()\n",
    "a.mul()\n",
    "a.sub()\n",
    "a.div()"
   ]
  },
  {
   "cell_type": "code",
   "execution_count": 15,
   "id": "83cd54e1",
   "metadata": {
    "ExecuteTime": {
     "end_time": "2023-12-04T06:15:07.346083Z",
     "start_time": "2023-12-04T06:15:07.342465Z"
    }
   },
   "outputs": [],
   "source": [
    "class FourCal:\n",
    "    pass"
   ]
  },
  {
   "cell_type": "code",
   "execution_count": 16,
   "id": "9b7ce58d",
   "metadata": {
    "ExecuteTime": {
     "end_time": "2023-12-04T06:15:17.925850Z",
     "start_time": "2023-12-04T06:15:17.917100Z"
    }
   },
   "outputs": [
    {
     "data": {
      "text/plain": [
       "__main__.FourCal"
      ]
     },
     "execution_count": 16,
     "metadata": {},
     "output_type": "execute_result"
    }
   ],
   "source": [
    "a = FourCal()\n",
    "type(a)\n",
    "#이 변수 안에 있는 객체는 어디로부터 이루어졌는지. FourCal로부터 이루어진 a 인스턴스"
   ]
  },
  {
   "cell_type": "code",
   "execution_count": 17,
   "id": "808a13f6",
   "metadata": {
    "ExecuteTime": {
     "end_time": "2023-12-04T06:16:54.752243Z",
     "start_time": "2023-12-04T06:16:54.748415Z"
    }
   },
   "outputs": [],
   "source": [
    "class FourCal: #클래스 안에 구현된 함수는 메서드라 표현\n",
    "    def setdata(self, first, second): #set데이터 안에 들어가있는 인자는 메서드의 매개변수.\n",
    "        self.first = first #set데이터를 실행했을 때 수행할 것.\n",
    "        self.second = second #셀프에 세컨드에다가 세컨드를 넣어줘."
   ]
  },
  {
   "cell_type": "code",
   "execution_count": 18,
   "id": "48bd875a",
   "metadata": {
    "ExecuteTime": {
     "end_time": "2023-12-04T06:19:27.921673Z",
     "start_time": "2023-12-04T06:19:27.918531Z"
    }
   },
   "outputs": [],
   "source": [
    "#set데이터 매개변수. self가 중요.\n",
    "a = FourCal()\n",
    "a.setdata(4, 2)"
   ]
  },
  {
   "cell_type": "code",
   "execution_count": 19,
   "id": "a528df93",
   "metadata": {
    "ExecuteTime": {
     "end_time": "2023-12-04T06:23:40.424772Z",
     "start_time": "2023-12-04T06:23:40.421105Z"
    }
   },
   "outputs": [],
   "source": [
    "#a가 변수 self로 들어가고, 4가 first에, 2가 second에\n",
    "#인스턴스마다 따로 계산이 들어가야함. 내가 호출하는 메서드 밸류뿐만 아니라 어느 인스턴스가 호출했는지 알아야함.\n",
    "#함수는 대상이 하나라 값만 넣어주면 됨. \n",
    "#setdata는 무엇을 호출했는지 알려줘야함."
   ]
  },
  {
   "cell_type": "code",
   "execution_count": 20,
   "id": "6cf48d45",
   "metadata": {
    "ExecuteTime": {
     "end_time": "2023-12-04T06:24:41.829895Z",
     "start_time": "2023-12-04T06:24:41.827217Z"
    }
   },
   "outputs": [],
   "source": [
    "#setdata 메서드 수행문\n",
    "#객체에 생성되는 객체만의 변수를 객체변수 또는 속성이라고 부른다"
   ]
  },
  {
   "cell_type": "code",
   "execution_count": 22,
   "id": "81f59c42",
   "metadata": {
    "ExecuteTime": {
     "end_time": "2023-12-04T06:25:58.577710Z",
     "start_time": "2023-12-04T06:25:58.574686Z"
    }
   },
   "outputs": [],
   "source": [
    "def setdata(self, first, second):\n",
    "    self.first = first\n",
    "    self.secone = second\n",
    "    self.first=4\n",
    "    self.second=2"
   ]
  },
  {
   "cell_type": "code",
   "execution_count": 23,
   "id": "cecd44a8",
   "metadata": {
    "ExecuteTime": {
     "end_time": "2023-12-04T06:26:13.677132Z",
     "start_time": "2023-12-04T06:26:13.670002Z"
    }
   },
   "outputs": [
    {
     "data": {
      "text/plain": [
       "4"
      ]
     },
     "execution_count": 23,
     "metadata": {},
     "output_type": "execute_result"
    }
   ],
   "source": [
    "a = FourCal()\n",
    "a.setdata(4, 2)\n",
    "a. first"
   ]
  },
  {
   "cell_type": "code",
   "execution_count": 24,
   "id": "b558c612",
   "metadata": {
    "ExecuteTime": {
     "end_time": "2023-12-04T06:26:17.071548Z",
     "start_time": "2023-12-04T06:26:17.067142Z"
    }
   },
   "outputs": [
    {
     "data": {
      "text/plain": [
       "2"
      ]
     },
     "execution_count": 24,
     "metadata": {},
     "output_type": "execute_result"
    }
   ],
   "source": [
    "a.second"
   ]
  },
  {
   "cell_type": "code",
   "execution_count": 25,
   "id": "602ae59c",
   "metadata": {
    "ExecuteTime": {
     "end_time": "2023-12-04T06:26:40.024037Z",
     "start_time": "2023-12-04T06:26:40.019046Z"
    }
   },
   "outputs": [
    {
     "data": {
      "text/plain": [
       "4"
      ]
     },
     "execution_count": 25,
     "metadata": {},
     "output_type": "execute_result"
    }
   ],
   "source": [
    "a = FourCal()\n",
    "b = FourCal()\n",
    "a.setdata(4, 2)\n",
    "a.first"
   ]
  },
  {
   "cell_type": "code",
   "execution_count": 26,
   "id": "06f75c72",
   "metadata": {
    "ExecuteTime": {
     "end_time": "2023-12-04T06:26:47.536232Z",
     "start_time": "2023-12-04T06:26:47.530767Z"
    }
   },
   "outputs": [
    {
     "data": {
      "text/plain": [
       "3"
      ]
     },
     "execution_count": 26,
     "metadata": {},
     "output_type": "execute_result"
    }
   ],
   "source": [
    "b.setdata(3, 7)\n",
    "b.first"
   ]
  },
  {
   "cell_type": "code",
   "execution_count": 27,
   "id": "e9b9724f",
   "metadata": {
    "ExecuteTime": {
     "end_time": "2023-12-04T06:28:41.075715Z",
     "start_time": "2023-12-04T06:28:41.073431Z"
    }
   },
   "outputs": [],
   "source": [
    "#()괄호 - 기능. 동작을 하기 위해서 값을 받는 것.\n",
    "#없는 경우, 객체 변수. 그 안의 값을 조회한 것"
   ]
  },
  {
   "cell_type": "code",
   "execution_count": 29,
   "id": "56a8d9fb",
   "metadata": {
    "ExecuteTime": {
     "end_time": "2023-12-04T06:31:29.548809Z",
     "start_time": "2023-12-04T06:31:29.532605Z"
    }
   },
   "outputs": [
    {
     "ename": "AttributeError",
     "evalue": "'FourCal' object has no attribute 'add'",
     "output_type": "error",
     "traceback": [
      "\u001b[1;31m---------------------------------------------------------------------------\u001b[0m",
      "\u001b[1;31mAttributeError\u001b[0m                            Traceback (most recent call last)",
      "Cell \u001b[1;32mIn[29], line 4\u001b[0m\n\u001b[0;32m      2\u001b[0m a \u001b[38;5;241m=\u001b[39m FourCal()\n\u001b[0;32m      3\u001b[0m a\u001b[38;5;241m.\u001b[39msetdata(\u001b[38;5;241m4\u001b[39m, \u001b[38;5;241m2\u001b[39m)\n\u001b[1;32m----> 4\u001b[0m a\u001b[38;5;241m.\u001b[39madd()\n",
      "\u001b[1;31mAttributeError\u001b[0m: 'FourCal' object has no attribute 'add'"
     ]
    }
   ],
   "source": [
    "#더하기 기능\n",
    "a = FourCal()\n",
    "a.setdata(4, 2)\n",
    "a.add()"
   ]
  },
  {
   "cell_type": "code",
   "execution_count": 37,
   "id": "468fbb2f",
   "metadata": {
    "ExecuteTime": {
     "end_time": "2023-12-04T06:38:42.993825Z",
     "start_time": "2023-12-04T06:38:42.986632Z"
    }
   },
   "outputs": [
    {
     "data": {
      "text/plain": [
       "6"
      ]
     },
     "execution_count": 37,
     "metadata": {},
     "output_type": "execute_result"
    }
   ],
   "source": [
    "class FourCal:\n",
    "    def setdata(self, first, second) :\n",
    "        self.first = first\n",
    "        self.second = second\n",
    "    def add(self):\n",
    "        result = self.first + self.second\n",
    "        return result\n",
    "a = FourCal()\n",
    "a.setdata(4, 2)\n",
    "a.add()"
   ]
  },
  {
   "cell_type": "code",
   "execution_count": 38,
   "id": "39683698",
   "metadata": {
    "ExecuteTime": {
     "end_time": "2023-12-04T06:38:45.098400Z",
     "start_time": "2023-12-04T06:38:45.093666Z"
    }
   },
   "outputs": [],
   "source": [
    "class FourCal:\n",
    "    def mul(self):\n",
    "        result = self.first * self.second\n",
    "        return result\n",
    "    def sub(self):\n",
    "        result = self.first - self.second\n",
    "        return result\n",
    "    def div(self) :\n",
    "        result = self.first / self.second\n",
    "        return result"
   ]
  },
  {
   "cell_type": "code",
   "execution_count": 39,
   "id": "4cb2af8f",
   "metadata": {
    "ExecuteTime": {
     "end_time": "2023-12-04T06:38:47.508810Z",
     "start_time": "2023-12-04T06:38:47.480806Z"
    }
   },
   "outputs": [
    {
     "ename": "AttributeError",
     "evalue": "'FourCal' object has no attribute 'setdata'",
     "output_type": "error",
     "traceback": [
      "\u001b[1;31m---------------------------------------------------------------------------\u001b[0m",
      "\u001b[1;31mAttributeError\u001b[0m                            Traceback (most recent call last)",
      "Cell \u001b[1;32mIn[39], line 3\u001b[0m\n\u001b[0;32m      1\u001b[0m a \u001b[38;5;241m=\u001b[39m FourCal()\n\u001b[0;32m      2\u001b[0m b \u001b[38;5;241m=\u001b[39m FourCal()\n\u001b[1;32m----> 3\u001b[0m a\u001b[38;5;241m.\u001b[39msetdata(\u001b[38;5;241m4\u001b[39m, \u001b[38;5;241m2\u001b[39m)\n\u001b[0;32m      4\u001b[0m b\u001b[38;5;241m.\u001b[39msetdata(\u001b[38;5;241m3\u001b[39m, \u001b[38;5;241m8\u001b[39m)\n\u001b[0;32m      5\u001b[0m a\u001b[38;5;241m.\u001b[39mmul()\n",
      "\u001b[1;31mAttributeError\u001b[0m: 'FourCal' object has no attribute 'setdata'"
     ]
    }
   ],
   "source": [
    "a = FourCal()\n",
    "b = FourCal()\n",
    "a.setdata(4, 2)\n",
    "b.setdata(3, 8)\n",
    "a.mul()"
   ]
  },
  {
   "cell_type": "code",
   "execution_count": 40,
   "id": "7667f2fb",
   "metadata": {
    "ExecuteTime": {
     "end_time": "2023-12-04T06:45:32.070278Z",
     "start_time": "2023-12-04T06:45:32.066437Z"
    }
   },
   "outputs": [],
   "source": [
    "#생성자\n",
    "class FourCal:\n",
    "    def __init__(self, first, second):\n",
    "        self.first = first\n",
    "        self.second = second"
   ]
  },
  {
   "cell_type": "code",
   "execution_count": null,
   "id": "1f723b27",
   "metadata": {},
   "outputs": [],
   "source": [
    "#예제)은행 예금 출금 클래스 만들기\n",
    "#input : 계좌번호, 계좌소유자명, 잔액\n",
    "#기능 1 : 입금\n",
    "#기능 2 : 출금\n",
    "#기능 3 : 조회\n",
    "class Bank :\n",
    "    def __init__(self, first, second):\n",
    "        self.first = first\n",
    "        self.second = second\n",
    "    def add(self)\n",
    "    result = self.first + self.second"
   ]
  }
 ],
 "metadata": {
  "kernelspec": {
   "display_name": "Python 3 (ipykernel)",
   "language": "python",
   "name": "python3"
  },
  "language_info": {
   "codemirror_mode": {
    "name": "ipython",
    "version": 3
   },
   "file_extension": ".py",
   "mimetype": "text/x-python",
   "name": "python",
   "nbconvert_exporter": "python",
   "pygments_lexer": "ipython3",
   "version": "3.11.5"
  },
  "toc": {
   "base_numbering": 1,
   "nav_menu": {},
   "number_sections": true,
   "sideBar": true,
   "skip_h1_title": false,
   "title_cell": "Table of Contents",
   "title_sidebar": "Contents",
   "toc_cell": false,
   "toc_position": {},
   "toc_section_display": true,
   "toc_window_display": false
  }
 },
 "nbformat": 4,
 "nbformat_minor": 5
}
