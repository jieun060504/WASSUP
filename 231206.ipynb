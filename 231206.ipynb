{
 "cells": [
  {
   "cell_type": "code",
   "execution_count": 2,
   "id": "65886566",
   "metadata": {
    "ExecuteTime": {
     "end_time": "2023-12-06T05:06:51.681120Z",
     "start_time": "2023-12-06T05:06:49.675579Z"
    }
   },
   "outputs": [
    {
     "ename": "NameError",
     "evalue": "name 'os' is not defined",
     "output_type": "error",
     "traceback": [
      "\u001b[1;31m---------------------------------------------------------------------------\u001b[0m",
      "\u001b[1;31mNameError\u001b[0m                                 Traceback (most recent call last)",
      "Cell \u001b[1;32mIn[2], line 1\u001b[0m\n\u001b[1;32m----> 1\u001b[0m os\u001b[38;5;241m.\u001b[39mgetcwd()\n",
      "\u001b[1;31mNameError\u001b[0m: name 'os' is not defined"
     ]
    }
   ],
   "source": [
    "os.getcwd()"
   ]
  },
  {
   "cell_type": "code",
   "execution_count": 3,
   "id": "6e17e1ae",
   "metadata": {
    "ExecuteTime": {
     "end_time": "2023-12-06T05:08:15.864586Z",
     "start_time": "2023-12-06T05:08:15.819377Z"
    }
   },
   "outputs": [
    {
     "ename": "NameError",
     "evalue": "name 'os' is not defined",
     "output_type": "error",
     "traceback": [
      "\u001b[1;31m---------------------------------------------------------------------------\u001b[0m",
      "\u001b[1;31mNameError\u001b[0m                                 Traceback (most recent call last)",
      "Cell \u001b[1;32mIn[3], line 1\u001b[0m\n\u001b[1;32m----> 1\u001b[0m os\u001b[38;5;241m.\u001b[39mchdir()\n",
      "\u001b[1;31mNameError\u001b[0m: name 'os' is not defined"
     ]
    }
   ],
   "source": [
    "os.chdir(\"\")"
   ]
  },
  {
   "cell_type": "code",
   "execution_count": 4,
   "id": "9014f575",
   "metadata": {
    "ExecuteTime": {
     "end_time": "2023-12-06T05:08:53.074982Z",
     "start_time": "2023-12-06T05:08:53.067525Z"
    }
   },
   "outputs": [],
   "source": [
    "#zipfile\n",
    "#압축, 압축 해제 가능"
   ]
  },
  {
   "cell_type": "code",
   "execution_count": 5,
   "id": "0ca8163f",
   "metadata": {
    "ExecuteTime": {
     "end_time": "2023-12-06T05:10:13.602545Z",
     "start_time": "2023-12-06T05:10:13.595824Z"
    }
   },
   "outputs": [],
   "source": [
    "#threading\n",
    "#완전 중요 ~\n",
    "#데이터 처리를 병렬로 가능하도록 해줌\n",
    "#데이터가 꼬일 수 있으니 빡셈\n",
    "#하드웨어 성능 공부"
   ]
  },
  {
   "cell_type": "code",
   "execution_count": 6,
   "id": "38df3c60",
   "metadata": {
    "ExecuteTime": {
     "end_time": "2023-12-06T05:10:44.537540Z",
     "start_time": "2023-12-06T05:10:44.531500Z"
    }
   },
   "outputs": [],
   "source": [
    "#traceback\n",
    "#오류가 난 부분을 찾아줌"
   ]
  },
  {
   "cell_type": "code",
   "execution_count": 7,
   "id": "e0b777dc",
   "metadata": {
    "ExecuteTime": {
     "end_time": "2023-12-06T05:11:50.825175Z",
     "start_time": "2023-12-06T05:11:50.804551Z"
    }
   },
   "outputs": [
    {
     "data": {
      "text/plain": [
       "{'name': '홍길동', 'birth': '0525', 'age': 30}"
      ]
     },
     "execution_count": 7,
     "metadata": {},
     "output_type": "execute_result"
    }
   ],
   "source": [
    "#json\n",
    "{\n",
    "    \"name\" : \"홍길동\",\n",
    "    \"birth\" : \"0525\",\n",
    "    \"age\" : 30\n",
    "}"
   ]
  },
  {
   "cell_type": "code",
   "execution_count": 10,
   "id": "5b046afc",
   "metadata": {
    "ExecuteTime": {
     "end_time": "2023-12-06T05:15:48.472658Z",
     "start_time": "2023-12-06T05:15:48.333731Z"
    },
    "scrolled": true
   },
   "outputs": [
    {
     "ename": "UnsupportedOperation",
     "evalue": "not readable",
     "output_type": "error",
     "traceback": [
      "\u001b[1;31m---------------------------------------------------------------------------\u001b[0m",
      "\u001b[1;31mUnsupportedOperation\u001b[0m                      Traceback (most recent call last)",
      "Cell \u001b[1;32mIn[10], line 3\u001b[0m\n\u001b[0;32m      1\u001b[0m \u001b[38;5;28;01mimport\u001b[39;00m \u001b[38;5;21;01mjson\u001b[39;00m\n\u001b[0;32m      2\u001b[0m \u001b[38;5;28;01mwith\u001b[39;00m \u001b[38;5;28mopen\u001b[39m(\u001b[38;5;124m'\u001b[39m\u001b[38;5;124mmyinfo.json\u001b[39m\u001b[38;5;124m'\u001b[39m, \u001b[38;5;124m'\u001b[39m\u001b[38;5;124mw\u001b[39m\u001b[38;5;124m'\u001b[39m) \u001b[38;5;28;01mas\u001b[39;00m f:\n\u001b[1;32m----> 3\u001b[0m     data \u001b[38;5;241m=\u001b[39m json\u001b[38;5;241m.\u001b[39mload(f)\n\u001b[0;32m      4\u001b[0m \u001b[38;5;28mtype\u001b[39m(data)\n",
      "File \u001b[1;32m~\\anaconda3\\Lib\\json\\__init__.py:293\u001b[0m, in \u001b[0;36mload\u001b[1;34m(fp, cls, object_hook, parse_float, parse_int, parse_constant, object_pairs_hook, **kw)\u001b[0m\n\u001b[0;32m    274\u001b[0m \u001b[38;5;28;01mdef\u001b[39;00m \u001b[38;5;21mload\u001b[39m(fp, \u001b[38;5;241m*\u001b[39m, \u001b[38;5;28mcls\u001b[39m\u001b[38;5;241m=\u001b[39m\u001b[38;5;28;01mNone\u001b[39;00m, object_hook\u001b[38;5;241m=\u001b[39m\u001b[38;5;28;01mNone\u001b[39;00m, parse_float\u001b[38;5;241m=\u001b[39m\u001b[38;5;28;01mNone\u001b[39;00m,\n\u001b[0;32m    275\u001b[0m         parse_int\u001b[38;5;241m=\u001b[39m\u001b[38;5;28;01mNone\u001b[39;00m, parse_constant\u001b[38;5;241m=\u001b[39m\u001b[38;5;28;01mNone\u001b[39;00m, object_pairs_hook\u001b[38;5;241m=\u001b[39m\u001b[38;5;28;01mNone\u001b[39;00m, \u001b[38;5;241m*\u001b[39m\u001b[38;5;241m*\u001b[39mkw):\n\u001b[0;32m    276\u001b[0m \u001b[38;5;250m    \u001b[39m\u001b[38;5;124;03m\"\"\"Deserialize ``fp`` (a ``.read()``-supporting file-like object containing\u001b[39;00m\n\u001b[0;32m    277\u001b[0m \u001b[38;5;124;03m    a JSON document) to a Python object.\u001b[39;00m\n\u001b[0;32m    278\u001b[0m \n\u001b[1;32m   (...)\u001b[0m\n\u001b[0;32m    291\u001b[0m \u001b[38;5;124;03m    kwarg; otherwise ``JSONDecoder`` is used.\u001b[39;00m\n\u001b[0;32m    292\u001b[0m \u001b[38;5;124;03m    \"\"\"\u001b[39;00m\n\u001b[1;32m--> 293\u001b[0m     \u001b[38;5;28;01mreturn\u001b[39;00m loads(fp\u001b[38;5;241m.\u001b[39mread(),\n\u001b[0;32m    294\u001b[0m         \u001b[38;5;28mcls\u001b[39m\u001b[38;5;241m=\u001b[39m\u001b[38;5;28mcls\u001b[39m, object_hook\u001b[38;5;241m=\u001b[39mobject_hook,\n\u001b[0;32m    295\u001b[0m         parse_float\u001b[38;5;241m=\u001b[39mparse_float, parse_int\u001b[38;5;241m=\u001b[39mparse_int,\n\u001b[0;32m    296\u001b[0m         parse_constant\u001b[38;5;241m=\u001b[39mparse_constant, object_pairs_hook\u001b[38;5;241m=\u001b[39mobject_pairs_hook, \u001b[38;5;241m*\u001b[39m\u001b[38;5;241m*\u001b[39mkw)\n",
      "\u001b[1;31mUnsupportedOperation\u001b[0m: not readable"
     ]
    }
   ],
   "source": [
    "import json\n",
    "with open('myinfo.json', 'w') as f:\n",
    "    data = json.load(f)\n",
    "type(data)"
   ]
  },
  {
   "cell_type": "code",
   "execution_count": 11,
   "id": "7307fee9",
   "metadata": {
    "ExecuteTime": {
     "end_time": "2023-12-06T05:21:33.630559Z",
     "start_time": "2023-12-06T05:21:33.621063Z"
    }
   },
   "outputs": [],
   "source": [
    "#urllib\n",
    "import urllib.request\n",
    "def get_wikidocs(page) :\n",
    "    resource = 'https://wikidocs.net/{}'.format(page)\n",
    "    with urllib.request.urlopen(resource) as s:\n",
    "        with open('wikidocs_%s.html' % page, 'wb') as f:\n",
    "            f.write(s.read())"
   ]
  },
  {
   "cell_type": "code",
   "execution_count": 12,
   "id": "d653e934",
   "metadata": {
    "ExecuteTime": {
     "end_time": "2023-12-06T05:24:50.686515Z",
     "start_time": "2023-12-06T05:24:50.680083Z"
    }
   },
   "outputs": [],
   "source": [
    "#외부 라이브러리\n",
    "#설치할 때는 pip 를 사용.\n",
    "#a패키지 설치할 때 a라이브러리와 a라이브러리가 종속되어있는 다른 라이브러리도 같이 설치됨.\n",
    "#잘못하다가 꼬일 수도 있음."
   ]
  },
  {
   "cell_type": "code",
   "execution_count": 13,
   "id": "47200523",
   "metadata": {
    "ExecuteTime": {
     "end_time": "2023-12-06T05:25:00.963432Z",
     "start_time": "2023-12-06T05:24:53.309768Z"
    }
   },
   "outputs": [
    {
     "name": "stdout",
     "output_type": "stream",
     "text": [
      "Package                           Version\n",
      "--------------------------------- ---------------\n",
      "aiobotocore                       2.5.0\n",
      "aiofiles                          22.1.0\n",
      "aiohttp                           3.8.5\n",
      "aioitertools                      0.7.1\n",
      "aiosignal                         1.2.0\n",
      "aiosqlite                         0.18.0\n",
      "alabaster                         0.7.12\n",
      "anaconda-anon-usage               0.4.2\n",
      "anaconda-catalogs                 0.2.0\n",
      "anaconda-client                   1.12.1\n",
      "anaconda-cloud-auth               0.1.3\n",
      "anaconda-navigator                2.5.0\n",
      "anaconda-project                  0.11.1\n",
      "anyio                             3.5.0\n",
      "appdirs                           1.4.4\n",
      "argon2-cffi                       21.3.0\n",
      "argon2-cffi-bindings              21.2.0\n",
      "arrow                             1.2.3\n",
      "astroid                           2.14.2\n",
      "astropy                           5.1\n",
      "asttokens                         2.0.5\n",
      "async-timeout                     4.0.2\n",
      "atomicwrites                      1.4.0\n",
      "attrs                             22.1.0\n",
      "Automat                           20.2.0\n",
      "autopep8                          1.6.0\n",
      "Babel                             2.11.0\n",
      "backcall                          0.2.0\n",
      "backports.functools-lru-cache     1.6.4\n",
      "backports.tempfile                1.0\n",
      "backports.weakref                 1.0.post1\n",
      "bcrypt                            3.2.0\n",
      "beautifulsoup4                    4.12.2\n",
      "binaryornot                       0.4.4\n",
      "black                             0.0\n",
      "bleach                            4.1.0\n",
      "bokeh                             3.2.1\n",
      "boltons                           23.0.0\n",
      "botocore                          1.29.76\n",
      "Bottleneck                        1.3.5\n",
      "brotlipy                          0.7.0\n",
      "certifi                           2023.7.22\n",
      "cffi                              1.15.1\n",
      "chardet                           4.0.0\n",
      "charset-normalizer                2.0.4\n",
      "click                             8.0.4\n",
      "cloudpickle                       2.2.1\n",
      "clyent                            1.2.2\n",
      "colorama                          0.4.6\n",
      "colorcet                          3.0.1\n",
      "comm                              0.1.2\n",
      "conda                             23.7.4\n",
      "conda-build                       3.26.1\n",
      "conda-content-trust               0.2.0\n",
      "conda_index                       0.3.0\n",
      "conda-libmamba-solver             23.7.0\n",
      "conda-pack                        0.6.0\n",
      "conda-package-handling            2.2.0\n",
      "conda_package_streaming           0.9.0\n",
      "conda-repo-cli                    1.0.75\n",
      "conda-token                       0.4.0\n",
      "conda-verify                      3.4.2\n",
      "constantly                        15.1.0\n",
      "contourpy                         1.0.5\n",
      "cookiecutter                      1.7.3\n",
      "cryptography                      41.0.3\n",
      "cssselect                         1.1.0\n",
      "cycler                            0.11.0\n",
      "cytoolz                           0.12.0\n",
      "daal4py                           2023.1.1\n",
      "dask                              2023.6.0\n",
      "datasets                          2.12.0\n",
      "datashader                        0.15.2\n",
      "datashape                         0.5.4\n",
      "debugpy                           1.6.7\n",
      "decorator                         5.1.1\n",
      "defusedxml                        0.7.1\n",
      "diff-match-patch                  20200713\n",
      "dill                              0.3.6\n",
      "distributed                       2023.6.0\n",
      "docstring-to-markdown             0.11\n",
      "docutils                          0.18.1\n",
      "entrypoints                       0.4\n",
      "et-xmlfile                        1.1.0\n",
      "executing                         0.8.3\n",
      "fastjsonschema                    2.16.2\n",
      "filelock                          3.9.0\n",
      "flake8                            6.0.0\n",
      "Flask                             2.2.2\n",
      "fonttools                         4.25.0\n",
      "frozenlist                        1.3.3\n",
      "fsspec                            2023.4.0\n",
      "future                            0.18.3\n",
      "gensim                            4.3.0\n",
      "glob2                             0.7\n",
      "greenlet                          2.0.1\n",
      "h5py                              3.9.0\n",
      "HeapDict                          1.0.1\n",
      "holoviews                         1.17.1\n",
      "huggingface-hub                   0.15.1\n",
      "hvplot                            0.8.4\n",
      "hyperlink                         21.0.0\n",
      "idna                              3.4\n",
      "imagecodecs                       2023.1.23\n",
      "imageio                           2.26.0\n",
      "imagesize                         1.4.1\n",
      "imbalanced-learn                  0.10.1\n",
      "importlib-metadata                6.0.0\n",
      "incremental                       21.3.0\n",
      "inflection                        0.5.1\n",
      "iniconfig                         1.1.1\n",
      "intake                            0.6.8\n",
      "intervaltree                      3.1.0\n",
      "ipykernel                         6.25.0\n",
      "ipython                           8.15.0\n",
      "ipython-genutils                  0.2.0\n",
      "ipywidgets                        8.0.4\n",
      "isort                             5.9.3\n",
      "itemadapter                       0.3.0\n",
      "itemloaders                       1.0.4\n",
      "itsdangerous                      2.0.1\n",
      "jaraco.classes                    3.2.1\n",
      "jedi                              0.18.1\n",
      "jellyfish                         1.0.1\n",
      "Jinja2                            3.1.2\n",
      "jinja2-time                       0.2.0\n",
      "jmespath                          0.10.0\n",
      "joblib                            1.2.0\n",
      "json5                             0.9.6\n",
      "jsonpatch                         1.32\n",
      "jsonpointer                       2.1\n",
      "jsonschema                        4.17.3\n",
      "jupyter                           1.0.0\n",
      "jupyter_client                    7.4.9\n",
      "jupyter-console                   6.6.3\n",
      "jupyter-contrib-core              0.4.2\n",
      "jupyter-contrib-nbextensions      0.7.0\n",
      "jupyter_core                      5.3.0\n",
      "jupyter-events                    0.6.3\n",
      "jupyter-highlight-selected-word   0.2.0\n",
      "jupyter-nbextensions-configurator 0.6.3\n",
      "jupyter-server                    1.23.4\n",
      "jupyter_server_fileid             0.9.0\n",
      "jupyter_server_ydoc               0.8.0\n",
      "jupyter-ydoc                      0.2.4\n",
      "jupyterlab                        3.6.3\n",
      "jupyterlab-pygments               0.1.2\n",
      "jupyterlab_server                 2.22.0\n",
      "jupyterlab-widgets                3.0.5\n",
      "kaleido                           0.2.1\n",
      "keyring                           23.13.1\n",
      "kiwisolver                        1.4.4\n",
      "lazy_loader                       0.2\n",
      "lazy-object-proxy                 1.6.0\n",
      "libarchive-c                      2.9\n",
      "libmambapy                        1.5.1\n",
      "linkify-it-py                     2.0.0\n",
      "llvmlite                          0.40.0\n",
      "lmdb                              1.4.1\n",
      "locket                            1.0.0\n",
      "lxml                              4.9.3\n",
      "lz4                               4.3.2\n",
      "Markdown                          3.4.1\n",
      "markdown-it-py                    2.2.0\n",
      "MarkupSafe                        2.1.1\n",
      "matplotlib                        3.7.2\n",
      "matplotlib-inline                 0.1.6\n",
      "mccabe                            0.7.0\n",
      "mdit-py-plugins                   0.3.0\n",
      "mdurl                             0.1.0\n",
      "menuinst                          1.4.19\n",
      "mistune                           0.8.4\n",
      "mkl-fft                           1.3.8\n",
      "mkl-random                        1.2.4\n",
      "mkl-service                       2.4.0\n",
      "more-itertools                    8.12.0\n",
      "mpmath                            1.3.0\n",
      "msgpack                           1.0.3\n",
      "multidict                         6.0.2\n",
      "multipledispatch                  0.6.0\n",
      "multiprocess                      0.70.14\n",
      "munkres                           1.1.4\n",
      "mypy-extensions                   1.0.0\n",
      "navigator-updater                 0.4.0\n",
      "nbclassic                         0.5.5\n",
      "nbclient                          0.5.13\n",
      "nbconvert                         6.5.4\n",
      "nbformat                          5.9.2\n",
      "nest-asyncio                      1.5.6\n",
      "networkx                          3.1\n",
      "nltk                              3.8.1\n",
      "notebook                          6.5.4\n",
      "notebook_shim                     0.2.2\n",
      "numba                             0.57.1\n",
      "numexpr                           2.8.4\n",
      "numpy                             1.24.3\n",
      "numpydoc                          1.5.0\n",
      "openpyxl                          3.0.10\n",
      "packaging                         23.1\n",
      "pandas                            2.0.3\n",
      "pandocfilters                     1.5.0\n",
      "panel                             1.2.3\n",
      "param                             1.13.0\n",
      "paramiko                          2.8.1\n",
      "parsel                            1.6.0\n",
      "parso                             0.8.3\n",
      "partd                             1.4.0\n",
      "pathlib                           1.0.1\n",
      "pathspec                          0.10.3\n",
      "patsy                             0.5.3\n",
      "pep8                              1.7.1\n",
      "pexpect                           4.8.0\n",
      "pickleshare                       0.7.5\n",
      "Pillow                            9.4.0\n",
      "pip                               23.2.1\n",
      "pkce                              1.0.3\n",
      "pkginfo                           1.9.6\n",
      "platformdirs                      3.10.0\n",
      "plotly                            5.9.0\n",
      "pluggy                            1.0.0\n",
      "ply                               3.11\n",
      "poyo                              0.5.0\n",
      "prometheus-client                 0.14.1\n",
      "prompt-toolkit                    3.0.36\n",
      "Protego                           0.1.16\n",
      "psutil                            5.9.0\n",
      "ptyprocess                        0.7.0\n",
      "pure-eval                         0.2.2\n",
      "py-cpuinfo                        8.0.0\n",
      "pyarrow                           11.0.0\n",
      "pyasn1                            0.4.8\n",
      "pyasn1-modules                    0.2.8\n",
      "pycodestyle                       2.10.0\n",
      "pycosat                           0.6.4\n",
      "pycparser                         2.21\n",
      "pyct                              0.5.0\n",
      "pycurl                            7.45.2\n",
      "pydantic                          1.10.8\n",
      "PyDispatcher                      2.0.5\n",
      "pydocstyle                        6.3.0\n",
      "pyerfa                            2.0.0\n",
      "pyflakes                          3.0.1\n",
      "Pygments                          2.15.1\n",
      "PyJWT                             2.4.0\n",
      "pylint                            2.16.2\n",
      "pylint-venv                       2.3.0\n",
      "pyls-spyder                       0.4.0\n",
      "PyNaCl                            1.5.0\n",
      "pyodbc                            4.0.34\n",
      "pyOpenSSL                         23.2.0\n",
      "pyparsing                         3.0.9\n",
      "PyQt5                             5.15.7\n",
      "PyQt5-sip                         12.11.0\n",
      "PyQtWebEngine                     5.15.4\n",
      "pyrsistent                        0.18.0\n",
      "PySocks                           1.7.1\n",
      "pytest                            7.4.0\n",
      "python-dateutil                   2.8.2\n",
      "python-dotenv                     0.21.0\n",
      "python-json-logger                2.0.7\n",
      "python-lsp-black                  1.2.1\n",
      "python-lsp-jsonrpc                1.0.0\n",
      "python-lsp-server                 1.7.2\n",
      "python-slugify                    5.0.2\n",
      "python-snappy                     0.6.1\n",
      "pytoolconfig                      1.2.5\n",
      "pytz                              2023.3.post1\n",
      "pyviz-comms                       2.3.0\n",
      "PyWavelets                        1.4.1\n",
      "pywin32                           305.1\n",
      "pywin32-ctypes                    0.2.0\n",
      "pywinpty                          2.0.10\n",
      "PyYAML                            6.0\n",
      "pyzmq                             23.2.0\n",
      "QDarkStyle                        3.0.2\n",
      "qstylizer                         0.2.2\n",
      "QtAwesome                         1.2.2\n",
      "qtconsole                         5.4.2\n",
      "QtPy                              2.2.0\n",
      "queuelib                          1.5.0\n",
      "regex                             2022.7.9\n",
      "requests                          2.31.0\n",
      "requests-file                     1.5.1\n",
      "requests-toolbelt                 1.0.0\n",
      "responses                         0.13.3\n",
      "rfc3339-validator                 0.1.4\n",
      "rfc3986-validator                 0.1.1\n",
      "rope                              1.7.0\n",
      "Rtree                             1.0.1\n",
      "ruamel.yaml                       0.17.21\n",
      "ruamel-yaml-conda                 0.17.21\n",
      "s3fs                              2023.4.0\n",
      "safetensors                       0.3.2\n",
      "scikit-image                      0.20.0\n",
      "scikit-learn                      1.3.0\n",
      "scikit-learn-intelex              20230426.121932\n",
      "scipy                             1.11.1\n",
      "Scrapy                            2.8.0\n",
      "seaborn                           0.12.2\n",
      "Send2Trash                        1.8.0\n",
      "service-identity                  18.1.0\n",
      "setuptools                        68.0.0\n",
      "sip                               6.6.2\n",
      "six                               1.16.0\n",
      "smart-open                        5.2.1\n",
      "sniffio                           1.2.0\n",
      "snowballstemmer                   2.2.0\n",
      "sortedcontainers                  2.4.0\n",
      "soupsieve                         2.4\n",
      "Sphinx                            5.0.2\n",
      "sphinxcontrib-applehelp           1.0.2\n",
      "sphinxcontrib-devhelp             1.0.2\n",
      "sphinxcontrib-htmlhelp            2.0.0\n",
      "sphinxcontrib-jsmath              1.0.1\n",
      "sphinxcontrib-qthelp              1.0.3\n",
      "sphinxcontrib-serializinghtml     1.1.5\n",
      "spyder                            5.4.3\n",
      "spyder-kernels                    2.4.4\n",
      "SQLAlchemy                        1.4.39\n",
      "stack-data                        0.2.0\n",
      "statsmodels                       0.14.0\n",
      "sympy                             1.11.1\n",
      "tables                            3.8.0\n",
      "tabulate                          0.8.10\n",
      "TBB                               0.2\n",
      "tblib                             1.7.0\n",
      "tenacity                          8.2.2\n",
      "terminado                         0.17.1\n",
      "text-unidecode                    1.3\n",
      "textdistance                      4.2.1\n",
      "threadpoolctl                     2.2.0\n",
      "three-merge                       0.1.1\n",
      "tifffile                          2023.4.12\n",
      "tinycss2                          1.2.1\n",
      "tldextract                        3.2.0\n",
      "tokenizers                        0.13.2\n",
      "toml                              0.10.2\n",
      "tomlkit                           0.11.1\n",
      "toolz                             0.12.0\n",
      "tornado                           6.3.2\n",
      "tqdm                              4.65.0\n",
      "traitlets                         5.7.1\n",
      "transformers                      4.32.1\n",
      "Twisted                           22.10.0\n",
      "twisted-iocpsupport               1.0.2\n",
      "typing_extensions                 4.7.1\n",
      "tzdata                            2023.3\n",
      "uc-micro-py                       1.0.1\n",
      "ujson                             5.4.0\n",
      "Unidecode                         1.2.0\n",
      "urllib3                           1.26.16\n",
      "w3lib                             1.21.0\n",
      "watchdog                          2.1.6\n",
      "wcwidth                           0.2.5\n",
      "webencodings                      0.5.1\n",
      "websocket-client                  0.58.0\n",
      "Werkzeug                          2.2.3\n",
      "whatthepatch                      1.0.2\n",
      "wheel                             0.38.4\n",
      "widgetsnbextension                4.0.5\n",
      "win-inet-pton                     1.1.0\n",
      "wrapt                             1.14.1\n",
      "xarray                            2023.6.0\n",
      "xlwings                           0.29.1\n",
      "xxhash                            2.0.2\n",
      "xyzservices                       2022.9.0\n",
      "y-py                              0.5.9\n",
      "yapf                              0.31.0\n",
      "yarl                              1.8.1\n",
      "ypy-websocket                     0.8.2\n",
      "zict                              2.2.0\n",
      "zipp                              3.11.0\n",
      "zope.interface                    5.4.0\n",
      "zstandard                         0.19.0\n",
      "Note: you may need to restart the kernel to use updated packages.\n"
     ]
    }
   ],
   "source": [
    "pip list\n",
    "#아나콘다가 기본적으로 설치를 많이 해준 것."
   ]
  },
  {
   "cell_type": "code",
   "execution_count": 14,
   "id": "4605ee5b",
   "metadata": {
    "ExecuteTime": {
     "end_time": "2023-12-06T05:26:07.052648Z",
     "start_time": "2023-12-06T05:26:05.817649Z"
    }
   },
   "outputs": [
    {
     "name": "stdout",
     "output_type": "stream",
     "text": [
      "pip 23.2.1 from C:\\Users\\nb772\\anaconda3\\Lib\\site-packages\\pip (python 3.11)\n",
      "\n"
     ]
    }
   ],
   "source": [
    "!pip --version #느낌표는 코랩"
   ]
  },
  {
   "cell_type": "code",
   "execution_count": 15,
   "id": "17ae32c3",
   "metadata": {
    "ExecuteTime": {
     "end_time": "2023-12-06T05:26:18.339914Z",
     "start_time": "2023-12-06T05:26:17.059472Z"
    }
   },
   "outputs": [
    {
     "name": "stdout",
     "output_type": "stream",
     "text": [
      "pip 23.2.1 from C:\\Users\\nb772\\anaconda3\\Lib\\site-packages\\pip (python 3.11)\n",
      "\n",
      "Note: you may need to restart the kernel to use updated packages.\n"
     ]
    }
   ],
   "source": [
    "pip --version #최신버전으로 해달라"
   ]
  },
  {
   "cell_type": "code",
   "execution_count": 17,
   "id": "c7b11c94",
   "metadata": {
    "ExecuteTime": {
     "end_time": "2023-12-06T05:27:18.438966Z",
     "start_time": "2023-12-06T05:27:18.424162Z"
    }
   },
   "outputs": [
    {
     "ename": "SyntaxError",
     "evalue": "invalid syntax (629497118.py, line 1)",
     "output_type": "error",
     "traceback": [
      "\u001b[1;36m  Cell \u001b[1;32mIn[17], line 1\u001b[1;36m\u001b[0m\n\u001b[1;33m    python -m pip install --upgrade pip\u001b[0m\n\u001b[1;37m              ^\u001b[0m\n\u001b[1;31mSyntaxError\u001b[0m\u001b[1;31m:\u001b[0m invalid syntax\n"
     ]
    },
    {
     "name": "stdout",
     "output_type": "stream",
     "text": [
      "Requirement already satisfied: pip in c:\\users\\nb772\\anaconda3\\lib\\site-packages (23.2.1)\n",
      "Collecting pip\n",
      "  Obtaining dependency information for pip from https://files.pythonhosted.org/packages/47/6a/453160888fab7c6a432a6e25f8afe6256d0d9f2cbd25971021da6491d899/pip-23.3.1-py3-none-any.whl.metadata\n",
      "  Downloading pip-23.3.1-py3-none-any.whl.metadata (3.5 kB)\n",
      "Downloading pip-23.3.1-py3-none-any.whl (2.1 MB)\n",
      "   ---------------------------------------- 0.0/2.1 MB ? eta -:--:--\n",
      "   ---------------------------------------- 0.0/2.1 MB ? eta -:--:--\n",
      "   ---------------------------------------- 0.0/2.1 MB ? eta -:--:--\n",
      "   ---------------------------------------- 0.0/2.1 MB ? eta -:--:--\n",
      "   - -------------------------------------- 0.1/2.1 MB 656.4 kB/s eta 0:00:04\n",
      "   ------- -------------------------------- 0.4/2.1 MB 3.3 MB/s eta 0:00:01\n",
      "   ---------------- ----------------------- 0.8/2.1 MB 4.9 MB/s eta 0:00:01\n",
      "   -------------------------- ------------- 1.4/2.1 MB 6.4 MB/s eta 0:00:01\n",
      "   ---------------------------------- ----- 1.8/2.1 MB 6.8 MB/s eta 0:00:01\n",
      "   ---------------------------------------  2.1/2.1 MB 7.0 MB/s eta 0:00:01\n",
      "   ---------------------------------------- 2.1/2.1 MB 6.4 MB/s eta 0:00:00\n",
      "Installing collected packages: pip\n",
      "  Attempting uninstall: pip\n",
      "    Found existing installation: pip 23.2.1\n",
      "    Uninstalling pip-23.2.1:\n",
      "      Successfully uninstalled pip-23.2.1\n",
      "Successfully installed pip-23.3.1\n"
     ]
    }
   ],
   "source": [
    "python -m pip install --upgrade pip"
   ]
  },
  {
   "cell_type": "code",
   "execution_count": 21,
   "id": "17767b5b",
   "metadata": {
    "ExecuteTime": {
     "end_time": "2023-12-06T05:30:34.693904Z",
     "start_time": "2023-12-06T05:30:34.685039Z"
    }
   },
   "outputs": [
    {
     "ename": "SyntaxError",
     "evalue": "invalid syntax (2724940688.py, line 1)",
     "output_type": "error",
     "traceback": [
      "\u001b[1;36m  Cell \u001b[1;32mIn[21], line 1\u001b[1;36m\u001b[0m\n\u001b[1;33m    conda list\u001b[0m\n\u001b[1;37m          ^\u001b[0m\n\u001b[1;31mSyntaxError\u001b[0m\u001b[1;31m:\u001b[0m invalid syntax\n"
     ]
    }
   ],
   "source": [
    "conda list\n",
    "#파이썬에서 많이 사용한느 레포지토리에서 제공하는 기준이 있음. \n",
    "#파이썬 디펜던시와 콘다에서 제공하는 디펜던시가 다름.\n",
    "#이 둘이 섞이면 안된다 ~ 하나만 쓰세요.\n",
    "#pip list / conda list 둘 중 하나만 쓰시라 "
   ]
  },
  {
   "cell_type": "code",
   "execution_count": 22,
   "id": "f4d0b98b",
   "metadata": {
    "ExecuteTime": {
     "end_time": "2023-12-06T05:31:26.569563Z",
     "start_time": "2023-12-06T05:30:50.840158Z"
    }
   },
   "outputs": [
    {
     "name": "stdout",
     "output_type": "stream",
     "text": [
      "Collecting Faker\n",
      "  Downloading Faker-20.1.0-py3-none-any.whl.metadata (15 kB)\n",
      "Requirement already satisfied: python-dateutil>=2.4 in c:\\users\\nb772\\anaconda3\\lib\\site-packages (from Faker) (2.8.2)\n",
      "Requirement already satisfied: six>=1.5 in c:\\users\\nb772\\anaconda3\\lib\\site-packages (from python-dateutil>=2.4->Faker) (1.16.0)\n",
      "Downloading Faker-20.1.0-py3-none-any.whl (1.7 MB)\n",
      "   ---------------------------------------- 0.0/1.7 MB ? eta -:--:--\n",
      "   ---------------------------------------- 0.0/1.7 MB ? eta -:--:--\n",
      "   -- ------------------------------------- 0.1/1.7 MB 1.6 MB/s eta 0:00:02\n",
      "   ------------- -------------------------- 0.6/1.7 MB 5.4 MB/s eta 0:00:01\n",
      "   ---------------------------- ----------- 1.3/1.7 MB 8.9 MB/s eta 0:00:01\n",
      "   ---------------------------------------  1.7/1.7 MB 9.2 MB/s eta 0:00:01\n",
      "   ---------------------------------------- 1.7/1.7 MB 8.5 MB/s eta 0:00:00\n",
      "Installing collected packages: Faker\n",
      "Successfully installed Faker-20.1.0\n",
      "Note: you may need to restart the kernel to use updated packages.\n"
     ]
    }
   ],
   "source": [
    "pip install Faker"
   ]
  },
  {
   "cell_type": "code",
   "execution_count": 23,
   "id": "644b075c",
   "metadata": {
    "ExecuteTime": {
     "end_time": "2023-12-06T05:31:57.957903Z",
     "start_time": "2023-12-06T05:31:56.860688Z"
    }
   },
   "outputs": [
    {
     "data": {
      "text/plain": [
       "'Julian Pham'"
      ]
     },
     "execution_count": 23,
     "metadata": {},
     "output_type": "execute_result"
    }
   ],
   "source": [
    "from faker import Faker\n",
    "fake = Faker()\n",
    "fake.name()"
   ]
  },
  {
   "cell_type": "code",
   "execution_count": 24,
   "id": "68b0ed47",
   "metadata": {
    "ExecuteTime": {
     "end_time": "2023-12-06T05:32:10.062417Z",
     "start_time": "2023-12-06T05:32:09.684830Z"
    }
   },
   "outputs": [
    {
     "data": {
      "text/plain": [
       "'허예진'"
      ]
     },
     "execution_count": 24,
     "metadata": {},
     "output_type": "execute_result"
    }
   ],
   "source": [
    "fake = Faker('ko-KR')\n",
    "fake.name()"
   ]
  },
  {
   "cell_type": "code",
   "execution_count": 25,
   "id": "68f07f4e",
   "metadata": {
    "ExecuteTime": {
     "end_time": "2023-12-06T05:32:15.971419Z",
     "start_time": "2023-12-06T05:32:15.958266Z"
    }
   },
   "outputs": [
    {
     "data": {
      "text/plain": [
       "'경상남도 안양시 만안구 석촌호수06거리 (보람윤읍)'"
      ]
     },
     "execution_count": 25,
     "metadata": {},
     "output_type": "execute_result"
    }
   ],
   "source": [
    "fake.address()"
   ]
  },
  {
   "cell_type": "code",
   "execution_count": 26,
   "id": "5539ba4f",
   "metadata": {
    "ExecuteTime": {
     "end_time": "2023-12-06T05:32:41.065281Z",
     "start_time": "2023-12-06T05:32:41.048588Z"
    }
   },
   "outputs": [],
   "source": [
    "test_data = [(fake.name(), fake.address()) for i in range (30)]"
   ]
  },
  {
   "cell_type": "code",
   "execution_count": 27,
   "id": "03d21c00",
   "metadata": {
    "ExecuteTime": {
     "end_time": "2023-12-06T05:32:48.483254Z",
     "start_time": "2023-12-06T05:32:48.473017Z"
    }
   },
   "outputs": [
    {
     "data": {
      "text/plain": [
       "[('김영일', '세종특별자치시 동구 반포대9거리'),\n",
       " ('홍은주', '서울특별시 서초구 선릉가'),\n",
       " ('김중수', '전라북도 태백시 서초대로 (준영이박동)'),\n",
       " ('황미숙', '세종특별자치시 강남구 봉은사9길 (춘자황박리)'),\n",
       " ('김지민', '충청남도 수원시 영통구 압구정6가 (정숙김고읍)'),\n",
       " ('이영일', '경기도 양평군 석촌호수72거리'),\n",
       " ('류정식', '세종특별자치시 동구 백제고분로 (보람김마을)'),\n",
       " ('우성호', '제주특별자치도 남양주시 반포대81가 (미숙나읍)'),\n",
       " ('고은서', '세종특별자치시 강남구 백제고분745로'),\n",
       " ('강준영', '인천광역시 남구 영동대길'),\n",
       " ('이종수', '강원도 평택시 석촌호수거리 (미영김박마을)'),\n",
       " ('최현지', '전라남도 화천군 언주거리 (미영김김리)'),\n",
       " ('지민수', '경상북도 홍성군 삼성길 (영식권리)'),\n",
       " ('김지은', '강원도 고양시 덕양구 도산대01거리 (종수권마을)'),\n",
       " ('정현지', '강원도 부천시 언주가 (상호김동)'),\n",
       " ('황시우', '강원도 괴산군 석촌호수14로'),\n",
       " ('박승현', '대전광역시 용산구 삼성거리 (정숙박읍)'),\n",
       " ('김진우', '대전광역시 용산구 영동대613가'),\n",
       " ('윤정숙', '강원도 천안시 동남구 압구정79거리 (경수오면)'),\n",
       " ('강중수', '세종특별자치시 서초구 압구정7길'),\n",
       " ('김준영', '충청남도 서천군 도산대로 (지영이동)'),\n",
       " ('박순옥', '제주특별자치도 이천시 백제고분로'),\n",
       " ('김영순', '제주특별자치도 용인시 수지구 역삼504가'),\n",
       " ('김혜진', '제주특별자치도 안산시 상록구 오금로'),\n",
       " ('안병철', '대전광역시 북구 삼성거리 (성현김면)'),\n",
       " ('이종수', '대전광역시 송파구 테헤란거리'),\n",
       " ('박옥자', '충청남도 청양군 역삼2가 (현숙조강동)'),\n",
       " ('김경자', '서울특별시 은평구 오금1길 (옥순최읍)'),\n",
       " ('이은주', '경상남도 고양시 삼성26로'),\n",
       " ('민은영', '광주광역시 양천구 양재천가 (영진김김동)')]"
      ]
     },
     "execution_count": 27,
     "metadata": {},
     "output_type": "execute_result"
    }
   ],
   "source": [
    "test_data"
   ]
  },
  {
   "cell_type": "code",
   "execution_count": 28,
   "id": "45cc8799",
   "metadata": {
    "ExecuteTime": {
     "end_time": "2023-12-06T05:33:10.034346Z",
     "start_time": "2023-12-06T05:33:10.015467Z"
    }
   },
   "outputs": [],
   "source": [
    "test_data = [(fake.name(), fake.address(), fake.job()) for i in range (30)]"
   ]
  },
  {
   "cell_type": "code",
   "execution_count": 29,
   "id": "b9852554",
   "metadata": {
    "ExecuteTime": {
     "end_time": "2023-12-06T05:33:19.846506Z",
     "start_time": "2023-12-06T05:33:19.835693Z"
    }
   },
   "outputs": [
    {
     "data": {
      "text/plain": [
       "[('이현숙', '제주특별자치도 안산시 상록구 테헤란거리 (영순고최리)', '노점 및 이동 판매원'),\n",
       " ('김은서', '충청남도 고양시 덕양구 테헤란길', '육아 도우미'),\n",
       " ('박진우', '충청남도 시흥시 도산대로 (상훈홍이마을)', '기타 공학관련 기술자 및 시험원'),\n",
       " ('백중수', '강원도 화성시 논현3거리 (은영이우마을)', '기타 석유 및 화학물 가공장치 조작원'),\n",
       " ('김지훈', '경상북도 청주시 상당구 논현135가', '안내 / 접수 사무원 및 전화교환원'),\n",
       " ('안은지', '인천광역시 강서구 영동대12가 (성민류리)', '제관기 조작원'),\n",
       " ('성현지', '충청남도 안양시 만안구 테헤란6가', '금속기계부품 조립원'),\n",
       " ('이수진', '경상북도 증평군 석촌호수233로', '경리 사무원'),\n",
       " ('한수민', '세종특별자치시 서구 강남대길', '콘크리트공'),\n",
       " ('김영진', '경기도 시흥시 테헤란99가 (주원이최읍)', '대학 시간강사'),\n",
       " ('서상호', '광주광역시 중구 영동대길 (정자서동)', '성직자'),\n",
       " ('고승현', '인천광역시 강동구 테헤란9길 (영진박리)', '문리 및 어학 강사'),\n",
       " ('김정호', '인천광역시 양천구 반포대94길 (은주한리)', '바텐더'),\n",
       " ('안영자', '경상북도 남양주시 논현가 (서현김동)', '사회복지관련 관리자'),\n",
       " ('권영길', '인천광역시 강동구 양재천거리', '일반 의사'),\n",
       " ('김하은', '충청남도 아산시 테헤란거리 (도현오한읍)', '버스 운전원'),\n",
       " ('이승현', '충청남도 성남시 분당구 개포로', '증권 및 외환 딜러'),\n",
       " ('김춘자', '전라남도 안양시 동안구 서초대가', '하역 및 적재 단순 종사원'),\n",
       " ('박옥순', '경기도 부천시 소사구 양재천349거리', '주차 관리원 및 안내원'),\n",
       " ('송성수', '전라남도 동해시 양재천길', '구두 미화원'),\n",
       " ('심영순', '세종특별자치시 송파구 압구정012로 (경자성이동)', '기타 의복 제조원'),\n",
       " ('서상훈', '전라남도 용인시 수지구 선릉길 (예준김리)', '표백 및 염색 관련 조작원'),\n",
       " ('김재호', '경상북도 광명시 가락917거리 (영식권김동)', '기타 채굴 및 토목 관련 종사자'),\n",
       " ('장지아', '대구광역시 성동구 개포거리 (성호윤마을)', '관세행정 사무원'),\n",
       " ('김동현', '경상남도 철원군 영동대830거리 (숙자김김면)', '세탁관련 기계조작원'),\n",
       " ('최옥순', '경기도 파주시 반포대8길', '비서'),\n",
       " ('김정훈', '경상남도 성남시 개포7로', '전기 부품 및 제품제조 기계조작원'),\n",
       " ('이수진', '전라남도 부천시 오정구 잠실길', '환경공학 시험원'),\n",
       " ('김영자', '제주특별자치도 고양시 잠실1가', '증권 및 외환 딜러'),\n",
       " ('임춘자', '세종특별자치시 도봉구 테헤란610로 (서윤강이리)', '공업기계 설치 및 정비원')]"
      ]
     },
     "execution_count": 29,
     "metadata": {},
     "output_type": "execute_result"
    }
   ],
   "source": [
    "test_data"
   ]
  },
  {
   "cell_type": "code",
   "execution_count": 31,
   "id": "084eb24b",
   "metadata": {
    "ExecuteTime": {
     "end_time": "2023-12-06T05:35:03.966653Z",
     "start_time": "2023-12-06T05:35:03.958975Z"
    }
   },
   "outputs": [],
   "source": [
    "test_data = [fake.user_name for i in range (30)]"
   ]
  },
  {
   "cell_type": "code",
   "execution_count": 32,
   "id": "4f58b9cd",
   "metadata": {
    "ExecuteTime": {
     "end_time": "2023-12-06T05:35:08.157042Z",
     "start_time": "2023-12-06T05:35:08.143973Z"
    }
   },
   "outputs": [
    {
     "data": {
      "text/plain": [
       "[<bound method Provider.user_name of <faker.providers.internet.ko_KR.Provider object at 0x00000234497F3B90>>,\n",
       " <bound method Provider.user_name of <faker.providers.internet.ko_KR.Provider object at 0x00000234497F3B90>>,\n",
       " <bound method Provider.user_name of <faker.providers.internet.ko_KR.Provider object at 0x00000234497F3B90>>,\n",
       " <bound method Provider.user_name of <faker.providers.internet.ko_KR.Provider object at 0x00000234497F3B90>>,\n",
       " <bound method Provider.user_name of <faker.providers.internet.ko_KR.Provider object at 0x00000234497F3B90>>,\n",
       " <bound method Provider.user_name of <faker.providers.internet.ko_KR.Provider object at 0x00000234497F3B90>>,\n",
       " <bound method Provider.user_name of <faker.providers.internet.ko_KR.Provider object at 0x00000234497F3B90>>,\n",
       " <bound method Provider.user_name of <faker.providers.internet.ko_KR.Provider object at 0x00000234497F3B90>>,\n",
       " <bound method Provider.user_name of <faker.providers.internet.ko_KR.Provider object at 0x00000234497F3B90>>,\n",
       " <bound method Provider.user_name of <faker.providers.internet.ko_KR.Provider object at 0x00000234497F3B90>>,\n",
       " <bound method Provider.user_name of <faker.providers.internet.ko_KR.Provider object at 0x00000234497F3B90>>,\n",
       " <bound method Provider.user_name of <faker.providers.internet.ko_KR.Provider object at 0x00000234497F3B90>>,\n",
       " <bound method Provider.user_name of <faker.providers.internet.ko_KR.Provider object at 0x00000234497F3B90>>,\n",
       " <bound method Provider.user_name of <faker.providers.internet.ko_KR.Provider object at 0x00000234497F3B90>>,\n",
       " <bound method Provider.user_name of <faker.providers.internet.ko_KR.Provider object at 0x00000234497F3B90>>,\n",
       " <bound method Provider.user_name of <faker.providers.internet.ko_KR.Provider object at 0x00000234497F3B90>>,\n",
       " <bound method Provider.user_name of <faker.providers.internet.ko_KR.Provider object at 0x00000234497F3B90>>,\n",
       " <bound method Provider.user_name of <faker.providers.internet.ko_KR.Provider object at 0x00000234497F3B90>>,\n",
       " <bound method Provider.user_name of <faker.providers.internet.ko_KR.Provider object at 0x00000234497F3B90>>,\n",
       " <bound method Provider.user_name of <faker.providers.internet.ko_KR.Provider object at 0x00000234497F3B90>>,\n",
       " <bound method Provider.user_name of <faker.providers.internet.ko_KR.Provider object at 0x00000234497F3B90>>,\n",
       " <bound method Provider.user_name of <faker.providers.internet.ko_KR.Provider object at 0x00000234497F3B90>>,\n",
       " <bound method Provider.user_name of <faker.providers.internet.ko_KR.Provider object at 0x00000234497F3B90>>,\n",
       " <bound method Provider.user_name of <faker.providers.internet.ko_KR.Provider object at 0x00000234497F3B90>>,\n",
       " <bound method Provider.user_name of <faker.providers.internet.ko_KR.Provider object at 0x00000234497F3B90>>,\n",
       " <bound method Provider.user_name of <faker.providers.internet.ko_KR.Provider object at 0x00000234497F3B90>>,\n",
       " <bound method Provider.user_name of <faker.providers.internet.ko_KR.Provider object at 0x00000234497F3B90>>,\n",
       " <bound method Provider.user_name of <faker.providers.internet.ko_KR.Provider object at 0x00000234497F3B90>>,\n",
       " <bound method Provider.user_name of <faker.providers.internet.ko_KR.Provider object at 0x00000234497F3B90>>,\n",
       " <bound method Provider.user_name of <faker.providers.internet.ko_KR.Provider object at 0x00000234497F3B90>>]"
      ]
     },
     "execution_count": 32,
     "metadata": {},
     "output_type": "execute_result"
    }
   ],
   "source": [
    "test_data"
   ]
  },
  {
   "cell_type": "code",
   "execution_count": 33,
   "id": "68c221b4",
   "metadata": {
    "ExecuteTime": {
     "end_time": "2023-12-06T06:57:05.966835Z",
     "start_time": "2023-12-06T06:57:05.820293Z"
    }
   },
   "outputs": [
    {
     "ename": "TypeError",
     "evalue": "Hangman() takes no arguments",
     "output_type": "error",
     "traceback": [
      "\u001b[1;31m---------------------------------------------------------------------------\u001b[0m",
      "\u001b[1;31mTypeError\u001b[0m                                 Traceback (most recent call last)",
      "Cell \u001b[1;32mIn[33], line 51\u001b[0m\n\u001b[0;32m     48\u001b[0m         \u001b[38;5;28;01melse\u001b[39;00m:\n\u001b[0;32m     49\u001b[0m             \u001b[38;5;28mprint\u001b[39m(\u001b[38;5;124m\"\u001b[39m\u001b[38;5;124mʕ•̫͡ʕ•̫͡ʕ•̫͡ʕ•̫͡•ʔ•̫͡•ʔ•̫͡•ʔ•̫͡•ʔ 나가.\u001b[39m\u001b[38;5;124m\"\u001b[39m)\n\u001b[1;32m---> 51\u001b[0m game \u001b[38;5;241m=\u001b[39m Hangman(word_list)\n\u001b[0;32m     52\u001b[0m game\u001b[38;5;241m.\u001b[39mplay()\n",
      "\u001b[1;31mTypeError\u001b[0m: Hangman() takes no arguments"
     ]
    }
   ],
   "source": [
    "import random\n",
    "\n",
    "word_list = [\"wassup\", \"kangkyu\", \"radio\", \"guhyun\", \"meang\", \"mayday\"]\n",
    "\n",
    "class Hangman:\n",
    "    def init(self, word_list):\n",
    "        self.chosen_word = random.choice(wordlist)\n",
    "        self.lives = 5\n",
    "        self.display = [\"\"] * len(self.chosen_word)\n",
    "        self.stages = [\"\\n\\n 　 /)⋈/)\\n\",\n",
    "        \"    (｡•ㅅ•｡)♡\\n\",\n",
    "        \" ┏--∪-∪━━━━━┓\\n\",\n",
    "        \"♡ 　　오답 *.。    ♡\\n\",\n",
    "        \" ┗-━━━━━━━━┛\\n\"]\n",
    "\n",
    "    def displayhangman(self):\n",
    "        if 5-self.lives:\n",
    "            for i in range(5 - self.lives):\n",
    "                print(self.stages[i])\n",
    "\n",
    "    def play(self):\n",
    "        while \"\" in self.display and self.lives > 0:\n",
    "            clear_screen()\n",
    "            self.display_hangman()\n",
    "            print(f\"{' '.join(self.display)}\")\n",
    "            guess = input(\"맞춰봐 ( ＾◡＾)っ ♡ : \").lower()\n",
    "\n",
    "            if guess in self.display:\n",
    "                print(f\"이미 했던거잖아!! {guess}. 다시 해..\\n\\n\")\n",
    "                time.sleep(2)\n",
    "                continue\n",
    "\n",
    "            guess_found = False\n",
    "            for i in range(len(self.chosen_word)):\n",
    "                if self.chosen_word[i] == guess:\n",
    "                    self.display[i] = guess\n",
    "                    guess_found = True\n",
    "\n",
    "            if not guess_found:\n",
    "                self.lives -= 1\n",
    "                print(f\"틀렸지롱 o͡͡͡╮(^ ਊ ^)╭o͡͡͡. {self.lives} 남았다. \\n\\n\")\n",
    "                time.sleep(2)\n",
    "\n",
    "        clear_screen()\n",
    "        self.displayhangman()\n",
    "        if \"\" not in self.display:\n",
    "            print(\"\\n\\n 이겼어 축하해!\")\n",
    "        else:\n",
    "            print(\"ʕ•̫͡ʕ•̫͡ʕ•̫͡ʕ•̫͡•ʔ•̫͡•ʔ•̫͡•ʔ•̫͡•ʔ 나가.\")\n",
    "\n",
    "game = Hangman(word_list)\n",
    "game.play() "
   ]
  },
  {
   "cell_type": "code",
   "execution_count": 34,
   "id": "0b8bae78",
   "metadata": {
    "ExecuteTime": {
     "end_time": "2023-12-06T07:00:21.535218Z",
     "start_time": "2023-12-06T06:59:58.506251Z"
    }
   },
   "outputs": [
    {
     "name": "stdout",
     "output_type": "stream",
     "text": [
      "_ _ _ _ _ _ _\n",
      "맞춰봐 ( ＾◡＾)っ ♡ : p\n",
      "틀렸지롱 o͡͡͡╮(^ ਊ ^)╭o͡͡͡. 4 남았다. \n",
      "\n",
      "\n",
      "\n",
      "\n",
      " 　 /)⋈/)\n",
      "\n",
      "_ _ _ _ _ _ _\n",
      "맞춰봐 ( ＾◡＾)っ ♡ : d\n",
      "틀렸지롱 o͡͡͡╮(^ ਊ ^)╭o͡͡͡. 3 남았다. \n",
      "\n",
      "\n",
      "\n",
      "\n",
      " 　 /)⋈/)\n",
      "\n",
      "    (｡•ㅅ•｡)♡\n",
      "\n",
      "_ _ _ _ _ _ _\n",
      "맞춰봐 ( ＾◡＾)っ ♡ : d\n",
      "틀렸지롱 o͡͡͡╮(^ ਊ ^)╭o͡͡͡. 2 남았다. \n",
      "\n",
      "\n",
      "\n",
      "\n",
      " 　 /)⋈/)\n",
      "\n",
      "    (｡•ㅅ•｡)♡\n",
      "\n",
      " ┏--∪-∪━━━━━┓\n",
      "\n",
      "_ _ _ _ _ _ _\n",
      "맞춰봐 ( ＾◡＾)っ ♡ : s\n",
      "틀렸지롱 o͡͡͡╮(^ ਊ ^)╭o͡͡͡. 1 남았다. \n",
      "\n",
      "\n",
      "\n",
      "\n",
      " 　 /)⋈/)\n",
      "\n",
      "    (｡•ㅅ•｡)♡\n",
      "\n",
      " ┏--∪-∪━━━━━┓\n",
      "\n",
      "♡ 　　오답 *.。    ♡\n",
      "\n",
      "_ _ _ _ _ _ _\n",
      "맞춰봐 ( ＾◡＾)っ ♡ : q\n",
      "틀렸지롱 o͡͡͡╮(^ ਊ ^)╭o͡͡͡. 0 남았다. \n",
      "\n",
      "\n",
      "\n",
      "\n",
      " 　 /)⋈/)\n",
      "\n",
      "    (｡•ㅅ•｡)♡\n",
      "\n",
      " ┏--∪-∪━━━━━┓\n",
      "\n",
      "♡ 　　오답 *.。    ♡\n",
      "\n",
      " ┗-━━━━━━━━┛\n",
      "\n",
      "ʕ•̫͡ʕ•̫͡ʕ•̫͡ʕ•̫͡•ʔ•̫͡•ʔ•̫͡•ʔ•̫͡•ʔ 나가.\n"
     ]
    }
   ],
   "source": [
    "import random\n",
    "import time\n",
    "import os\n",
    "\n",
    "def clear_screen():\n",
    "    os.system('cls' if os.name == 'nt' else 'clear')\n",
    "\n",
    "word_list = [\"wassup\", \"kangkyu\", \"radio\", \"guhyun\", \"meang\", \"mayday\"]\n",
    "\n",
    "class Hangman:\n",
    "    def __init__(self, word_list):\n",
    "        self.chosen_word = random.choice(word_list)\n",
    "        self.lives = 5\n",
    "        self.display = [\"_\"] * len(self.chosen_word)\n",
    "        self.stages = [\"\\n\\n 　 /)⋈/)\\n\",\n",
    "                       \"    (｡•ㅅ•｡)♡\\n\",\n",
    "                       \" ┏--∪-∪━━━━━┓\\n\",\n",
    "                       \"♡ 　　오답 *.。    ♡\\n\",\n",
    "                       \" ┗-━━━━━━━━┛\\n\"]\n",
    "\n",
    "    def display_hangman(self):\n",
    "        if 5 - self.lives:\n",
    "            for i in range(5 - self.lives):\n",
    "                print(self.stages[i])\n",
    "\n",
    "    def play(self):\n",
    "        while \"_\" in self.display and self.lives > 0:\n",
    "            clear_screen()\n",
    "            self.display_hangman()\n",
    "            print(f\"{' '.join(self.display)}\")\n",
    "            guess = input(\"맞춰봐 ( ＾◡＾)っ ♡ : \").lower()\n",
    "\n",
    "            if guess in self.display:\n",
    "                print(f\"이미 했던거잖아!! {guess}. 다시 해..\\n\\n\")\n",
    "                time.sleep(2)\n",
    "                continue\n",
    "\n",
    "            guess_found = False\n",
    "            for i in range(len(self.chosen_word)):\n",
    "                if self.chosen_word[i] == guess:\n",
    "                    self.display[i] = guess\n",
    "                    guess_found = True\n",
    "\n",
    "            if not guess_found:\n",
    "                self.lives -= 1\n",
    "                print(f\"틀렸지롱 o͡͡͡╮(^ ਊ ^)╭o͡͡͡. {self.lives} 남았다. \\n\\n\")\n",
    "                time.sleep(2)\n",
    "\n",
    "        clear_screen()\n",
    "        self.display_hangman()\n",
    "        if \"_\" not in self.display:\n",
    "            print(\"\\n\\n 이겼어 축하해!\")\n",
    "        else:\n",
    "            print(\"ʕ•̫͡ʕ•̫͡ʕ•̫͡ʕ•̫͡•ʔ•̫͡•ʔ•̫͡•ʔ•̫͡•ʔ 나가.\")\n",
    "\n",
    "game = Hangman(word_list)\n",
    "game.play()\n"
   ]
  }
 ],
 "metadata": {
  "kernelspec": {
   "display_name": "Python 3 (ipykernel)",
   "language": "python",
   "name": "python3"
  },
  "language_info": {
   "codemirror_mode": {
    "name": "ipython",
    "version": 3
   },
   "file_extension": ".py",
   "mimetype": "text/x-python",
   "name": "python",
   "nbconvert_exporter": "python",
   "pygments_lexer": "ipython3",
   "version": "3.11.5"
  },
  "toc": {
   "base_numbering": 1,
   "nav_menu": {},
   "number_sections": true,
   "sideBar": true,
   "skip_h1_title": false,
   "title_cell": "Table of Contents",
   "title_sidebar": "Contents",
   "toc_cell": false,
   "toc_position": {},
   "toc_section_display": true,
   "toc_window_display": false
  }
 },
 "nbformat": 4,
 "nbformat_minor": 5
}
