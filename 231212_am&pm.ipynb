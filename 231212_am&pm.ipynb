{
 "cells": [
  {
   "cell_type": "markdown",
   "id": "c6b83dc4",
   "metadata": {},
   "source": [
    "selenium 사용하기\n",
    "\n",
    "셀레니움으로는 스크래핑하면 너무 느리므로, 동적 웹페이지 접속 및 이벤트 발생 역할만 하고, 파싱은 bs4 쓰는게 좋음"
   ]
  },
  {
   "cell_type": "code",
   "execution_count": 1,
   "id": "23ad4006",
   "metadata": {
    "ExecuteTime": {
     "end_time": "2023-12-12T01:12:12.812113Z",
     "start_time": "2023-12-12T01:11:27.309397Z"
    },
    "scrolled": true
   },
   "outputs": [
    {
     "name": "stdout",
     "output_type": "stream",
     "text": [
      "Collecting selenium\n",
      "  Downloading selenium-4.16.0-py3-none-any.whl.metadata (6.9 kB)\n",
      "Requirement already satisfied: urllib3<3,>=1.26 in c:\\users\\nb772\\anaconda3\\lib\\site-packages (from urllib3[socks]<3,>=1.26->selenium) (1.26.16)\n",
      "Collecting trio~=0.17 (from selenium)\n",
      "  Downloading trio-0.23.1-py3-none-any.whl.metadata (4.9 kB)\n",
      "Collecting trio-websocket~=0.9 (from selenium)\n",
      "  Downloading trio_websocket-0.11.1-py3-none-any.whl.metadata (4.7 kB)\n",
      "Requirement already satisfied: certifi>=2021.10.8 in c:\\users\\nb772\\anaconda3\\lib\\site-packages (from selenium) (2023.7.22)\n",
      "Requirement already satisfied: attrs>=20.1.0 in c:\\users\\nb772\\anaconda3\\lib\\site-packages (from trio~=0.17->selenium) (22.1.0)\n",
      "Requirement already satisfied: sortedcontainers in c:\\users\\nb772\\anaconda3\\lib\\site-packages (from trio~=0.17->selenium) (2.4.0)\n",
      "Requirement already satisfied: idna in c:\\users\\nb772\\anaconda3\\lib\\site-packages (from trio~=0.17->selenium) (3.4)\n",
      "Collecting outcome (from trio~=0.17->selenium)\n",
      "  Downloading outcome-1.3.0.post0-py2.py3-none-any.whl.metadata (2.6 kB)\n",
      "Collecting sniffio>=1.3.0 (from trio~=0.17->selenium)\n",
      "  Downloading sniffio-1.3.0-py3-none-any.whl (10 kB)\n",
      "Requirement already satisfied: cffi>=1.14 in c:\\users\\nb772\\anaconda3\\lib\\site-packages (from trio~=0.17->selenium) (1.15.1)\n",
      "Collecting wsproto>=0.14 (from trio-websocket~=0.9->selenium)\n",
      "  Downloading wsproto-1.2.0-py3-none-any.whl (24 kB)\n",
      "Requirement already satisfied: PySocks!=1.5.7,<2.0,>=1.5.6 in c:\\users\\nb772\\anaconda3\\lib\\site-packages (from urllib3[socks]<3,>=1.26->selenium) (1.7.1)\n",
      "Requirement already satisfied: pycparser in c:\\users\\nb772\\anaconda3\\lib\\site-packages (from cffi>=1.14->trio~=0.17->selenium) (2.21)\n",
      "Requirement already satisfied: h11<1,>=0.9.0 in c:\\users\\nb772\\anaconda3\\lib\\site-packages (from wsproto>=0.14->trio-websocket~=0.9->selenium) (0.14.0)\n",
      "Downloading selenium-4.16.0-py3-none-any.whl (10.0 MB)\n",
      "   ---------------------------------------- 0.0/10.0 MB ? eta -:--:--\n",
      "    --------------------------------------- 0.2/10.0 MB 5.1 MB/s eta 0:00:02\n",
      "   -- ------------------------------------- 0.6/10.0 MB 7.0 MB/s eta 0:00:02\n",
      "   ---- ----------------------------------- 1.2/10.0 MB 9.7 MB/s eta 0:00:01\n",
      "   ------- -------------------------------- 1.8/10.0 MB 10.5 MB/s eta 0:00:01\n",
      "   ---------- ----------------------------- 2.6/10.0 MB 11.8 MB/s eta 0:00:01\n",
      "   ------------- -------------------------- 3.4/10.0 MB 12.8 MB/s eta 0:00:01\n",
      "   ----------------- ---------------------- 4.3/10.0 MB 13.7 MB/s eta 0:00:01\n",
      "   -------------------- ------------------- 5.2/10.0 MB 14.3 MB/s eta 0:00:01\n",
      "   ----------------------- ---------------- 5.8/10.0 MB 14.2 MB/s eta 0:00:01\n",
      "   ------------------------- -------------- 6.4/10.0 MB 14.1 MB/s eta 0:00:01\n",
      "   ----------------------------- ---------- 7.4/10.0 MB 14.7 MB/s eta 0:00:01\n",
      "   -------------------------------- ------- 8.1/10.0 MB 14.8 MB/s eta 0:00:01\n",
      "   ----------------------------------- ---- 8.8/10.0 MB 14.8 MB/s eta 0:00:01\n",
      "   ---------------------------------------  10.0/10.0 MB 15.9 MB/s eta 0:00:01\n",
      "   ---------------------------------------- 10.0/10.0 MB 14.8 MB/s eta 0:00:00\n",
      "Downloading trio-0.23.1-py3-none-any.whl (448 kB)\n",
      "   ---------------------------------------- 0.0/448.3 kB ? eta -:--:--\n",
      "   --------------------------------------- 448.3/448.3 kB 14.1 MB/s eta 0:00:00\n",
      "Downloading trio_websocket-0.11.1-py3-none-any.whl (17 kB)\n",
      "Downloading outcome-1.3.0.post0-py2.py3-none-any.whl (10 kB)\n",
      "Installing collected packages: wsproto, sniffio, outcome, trio, trio-websocket, selenium\n",
      "  Attempting uninstall: sniffio\n",
      "    Found existing installation: sniffio 1.2.0\n",
      "    Uninstalling sniffio-1.2.0:\n",
      "      Successfully uninstalled sniffio-1.2.0\n",
      "Successfully installed outcome-1.3.0.post0 selenium-4.16.0 sniffio-1.3.0 trio-0.23.1 trio-websocket-0.11.1 wsproto-1.2.0\n"
     ]
    }
   ],
   "source": [
    "!pip install selenium"
   ]
  },
  {
   "cell_type": "code",
   "execution_count": 3,
   "id": "abf5dd7a",
   "metadata": {
    "ExecuteTime": {
     "end_time": "2023-12-12T01:14:54.755236Z",
     "start_time": "2023-12-12T01:14:54.747675Z"
    }
   },
   "outputs": [],
   "source": [
    "from selenium import webdriver\n",
    "from selenium.webdriver.common.by import By\n",
    "from selenium.webdriver.chrome.options import Options\n",
    "import time\n",
    "\n",
    "options = Options() \n",
    "#Options(클래스) 객체(인스턴스). ui에 대해 어떻게 쓸것인지 설정값을 바꿀 것. 옵션에 대한 객체 만든 것.\n",
    "options.add_experimental_option(\"detach\",True)\n",
    "#특정 함수 안에 드라이버 생성 시 함수 종료될 때 브라우저 같이 종료되는 문제 대응\n",
    "#특정 반복문, 함수가 끝났을 때 셀레니움 동작중이면 같이 끝나는 경우가 있음.\n",
    "#반복문이 끝나더라도 셀레니움은 유지. 그 다음 반복문을 위해."
   ]
  },
  {
   "cell_type": "markdown",
   "id": "f3006290",
   "metadata": {},
   "source": [
    "브라우저 실행 및 페이지 접속"
   ]
  },
  {
   "cell_type": "code",
   "execution_count": 14,
   "id": "ea505b55",
   "metadata": {
    "ExecuteTime": {
     "end_time": "2023-12-12T01:29:11.861270Z",
     "start_time": "2023-12-12T01:29:05.274162Z"
    }
   },
   "outputs": [],
   "source": [
    "url = \"http://naver.com\"\n",
    "driver = webdriver.Chrome(options=options)#객체를 생성한 것\n",
    "driver.get(url) #드라이브 객체에 겟함수를 통해 url을 넣어줘\n",
    "#GET URL 가지고 실행한 것!\n",
    "time.sleep(2)#렌더링 되지 않았는데 실행되면 에러나기 때문. 그래서 시간차를 둔 것."
   ]
  },
  {
   "cell_type": "markdown",
   "id": "56c05d84",
   "metadata": {},
   "source": [
    "상호작용"
   ]
  },
  {
   "cell_type": "code",
   "execution_count": 5,
   "id": "7bb6aec8",
   "metadata": {
    "ExecuteTime": {
     "end_time": "2023-12-12T01:22:08.433228Z",
     "start_time": "2023-12-12T01:22:08.305256Z"
    }
   },
   "outputs": [],
   "source": [
    "driver.back()"
   ]
  },
  {
   "cell_type": "code",
   "execution_count": 6,
   "id": "23b977dc",
   "metadata": {
    "ExecuteTime": {
     "end_time": "2023-12-12T01:22:19.800661Z",
     "start_time": "2023-12-12T01:22:18.027985Z"
    }
   },
   "outputs": [],
   "source": [
    "driver.forward()"
   ]
  },
  {
   "cell_type": "code",
   "execution_count": 7,
   "id": "c3aceffb",
   "metadata": {
    "ExecuteTime": {
     "end_time": "2023-12-12T01:22:36.642684Z",
     "start_time": "2023-12-12T01:22:35.731355Z"
    }
   },
   "outputs": [],
   "source": [
    "driver.refresh()"
   ]
  },
  {
   "cell_type": "markdown",
   "id": "281c3c7f",
   "metadata": {},
   "source": [
    "페이지 정보 가져오기"
   ]
  },
  {
   "cell_type": "code",
   "execution_count": null,
   "id": "35307ed4",
   "metadata": {},
   "outputs": [],
   "source": [
    "driver."
   ]
  },
  {
   "cell_type": "code",
   "execution_count": 11,
   "id": "e199f0a9",
   "metadata": {
    "ExecuteTime": {
     "end_time": "2023-12-12T01:24:38.242295Z",
     "start_time": "2023-12-12T01:24:38.179270Z"
    }
   },
   "outputs": [
    {
     "name": "stdout",
     "output_type": "stream",
     "text": [
      "NAVER https://www.naver.com/ D7BD17EE0439F5849685E7F5D6AF8A43\\/"
     ]
    }
   ],
   "source": [
    "title = driver.title\n",
    "url = driver.current_url\n",
    "handle = driver.current_window_handle \n",
    "#브라우저의 id, 웹페이지를 여러개 운용할 수 있음. 브라우저를 여러개 띄울 수 있다.id지정해서 각각 다른 명령 지정할 수 있음.\n",
    "print(title, url, handle)"
   ]
  },
  {
   "cell_type": "markdown",
   "id": "9f3b0a2b",
   "metadata": {},
   "source": [
    "html 요소 찾기\n",
    "\n",
    "<input id=\"query\" name=\"query\" type=\"search\" title=\"검색어를 입력해 주세요.\" placeholder=\"검색어를 입력해 주세요.\" maxlength=\"255\" autocomplete=\"off\" class=\"search_input\" data-atcmp-element=\"\">"
   ]
  },
  {
   "cell_type": "code",
   "execution_count": 12,
   "id": "a55ec4bd",
   "metadata": {
    "ExecuteTime": {
     "end_time": "2023-12-12T01:26:00.360726Z",
     "start_time": "2023-12-12T01:26:00.347790Z"
    }
   },
   "outputs": [],
   "source": [
    "driver.find_element?"
   ]
  },
  {
   "cell_type": "code",
   "execution_count": 15,
   "id": "4bebca9d",
   "metadata": {
    "ExecuteTime": {
     "end_time": "2023-12-12T01:29:23.607235Z",
     "start_time": "2023-12-12T01:29:23.529697Z"
    }
   },
   "outputs": [
    {
     "data": {
      "text/plain": [
       "<selenium.webdriver.remote.webelement.WebElement (session=\"c41e49f477c98f6d3483152569c6f0cd\", element=\"FB8F24E1552BC46A8BC2F33F936A5287_element_105\")>"
      ]
     },
     "execution_count": 15,
     "metadata": {},
     "output_type": "execute_result"
    }
   ],
   "source": [
    "#위에 import By 에서 가져오는 것\n",
    "driver.find_element(By.ID, \"query\")"
   ]
  },
  {
   "cell_type": "code",
   "execution_count": 16,
   "id": "80f6da54",
   "metadata": {
    "ExecuteTime": {
     "end_time": "2023-12-12T01:29:53.937621Z",
     "start_time": "2023-12-12T01:29:53.642845Z"
    }
   },
   "outputs": [],
   "source": [
    "driver.find_element(By.ID, \"query\").send_keys('세븐틴')"
   ]
  },
  {
   "cell_type": "code",
   "execution_count": 17,
   "id": "9bdbb710",
   "metadata": {
    "ExecuteTime": {
     "end_time": "2023-12-12T01:31:48.075365Z",
     "start_time": "2023-12-12T01:31:47.912324Z"
    }
   },
   "outputs": [],
   "source": [
    "driver.find_element(By.CLASS_NAME, \"search_input\").send_keys('손오공')"
   ]
  },
  {
   "cell_type": "code",
   "execution_count": 19,
   "id": "5f5630dd",
   "metadata": {
    "ExecuteTime": {
     "end_time": "2023-12-12T01:33:11.608209Z",
     "start_time": "2023-12-12T01:33:11.462203Z"
    }
   },
   "outputs": [],
   "source": [
    "driver.find_element(By.NAME, \"query\").send_keys('우지')"
   ]
  },
  {
   "cell_type": "code",
   "execution_count": 20,
   "id": "23a0577b",
   "metadata": {
    "ExecuteTime": {
     "end_time": "2023-12-12T01:34:01.291956Z",
     "start_time": "2023-12-12T01:34:01.137918Z"
    }
   },
   "outputs": [],
   "source": [
    "driver.find_element(By.CSS_SELECTOR, \".search_input\").send_keys('지구마블')\n",
    "#클래스는 . 으로 구분"
   ]
  },
  {
   "cell_type": "code",
   "execution_count": 21,
   "id": "15084ab6",
   "metadata": {
    "ExecuteTime": {
     "end_time": "2023-12-12T01:34:42.631216Z",
     "start_time": "2023-12-12T01:34:42.473125Z"
    }
   },
   "outputs": [],
   "source": [
    "driver.find_element(By.CSS_SELECTOR, \"#query\").send_keys('히히')"
   ]
  },
  {
   "cell_type": "code",
   "execution_count": 23,
   "id": "d2f1022c",
   "metadata": {
    "ExecuteTime": {
     "end_time": "2023-12-12T01:36:10.134564Z",
     "start_time": "2023-12-12T01:36:09.967878Z"
    }
   },
   "outputs": [],
   "source": [
    "driver.find_element(By.CSS_SELECTOR, \"[title='검색어를 입력해 주세요.']\").send_keys('트와이스')"
   ]
  },
  {
   "cell_type": "code",
   "execution_count": 24,
   "id": "fd6f3ded",
   "metadata": {
    "ExecuteTime": {
     "end_time": "2023-12-12T01:36:19.800810Z",
     "start_time": "2023-12-12T01:36:19.665296Z"
    }
   },
   "outputs": [],
   "source": [
    "driver.find_element(By.CSS_SELECTOR, \"[placeholder='검색어를 입력해 주세요.']\").send_keys('트와이스2')"
   ]
  },
  {
   "cell_type": "code",
   "execution_count": 29,
   "id": "e6a47a6d",
   "metadata": {
    "ExecuteTime": {
     "end_time": "2023-12-12T01:38:57.021834Z",
     "start_time": "2023-12-12T01:38:56.747892Z"
    }
   },
   "outputs": [],
   "source": [
    "driver.find_element(By.XPATH,'//*[@id=\"query\"]').send_keys('BTS')"
   ]
  },
  {
   "cell_type": "markdown",
   "id": "f0752079",
   "metadata": {},
   "source": [
    "클릭"
   ]
  },
  {
   "cell_type": "code",
   "execution_count": 30,
   "id": "eea4aa36",
   "metadata": {
    "ExecuteTime": {
     "end_time": "2023-12-12T01:41:25.393438Z",
     "start_time": "2023-12-12T01:41:25.317609Z"
    }
   },
   "outputs": [
    {
     "data": {
      "text/plain": [
       "<selenium.webdriver.remote.webelement.WebElement (session=\"c41e49f477c98f6d3483152569c6f0cd\", element=\"FB8F24E1552BC46A8BC2F33F936A5287_element_28478\")>"
      ]
     },
     "execution_count": 30,
     "metadata": {},
     "output_type": "execute_result"
    }
   ],
   "source": [
    "driver.find_element(By.LINK_TEXT, '쇼핑')\n",
    "#링크텍스트 - 특정 텍스트를 가지고 있는 링크를 실행해줘\n",
    "#값이 뜬것은 찾았다는 뜻. 뒤에 이벤트를 주지 않았기 때문."
   ]
  },
  {
   "cell_type": "code",
   "execution_count": 32,
   "id": "ba5d5ff5",
   "metadata": {
    "ExecuteTime": {
     "end_time": "2023-12-12T01:41:54.607663Z",
     "start_time": "2023-12-12T01:41:54.287784Z"
    }
   },
   "outputs": [],
   "source": [
    "driver.find_element(By.LINK_TEXT, '쇼핑').click()"
   ]
  },
  {
   "cell_type": "code",
   "execution_count": 33,
   "id": "5219dbf2",
   "metadata": {
    "ExecuteTime": {
     "end_time": "2023-12-12T01:42:35.560919Z",
     "start_time": "2023-12-12T01:42:35.266865Z"
    }
   },
   "outputs": [],
   "source": [
    "driver.find_element(By.PARTIAL_LINK_TEXT, '쇼').click()\n",
    "#텍스트안에 포함된 것"
   ]
  },
  {
   "cell_type": "code",
   "execution_count": 34,
   "id": "a6b2eb30",
   "metadata": {
    "ExecuteTime": {
     "end_time": "2023-12-12T01:44:20.469196Z",
     "start_time": "2023-12-12T01:44:20.404579Z"
    }
   },
   "outputs": [
    {
     "data": {
      "text/plain": [
       "<selenium.webdriver.remote.webelement.WebElement (session=\"c41e49f477c98f6d3483152569c6f0cd\", element=\"FB8F24E1552BC46A8BC2F33F936A5287_element_15821\")>"
      ]
     },
     "execution_count": 34,
     "metadata": {},
     "output_type": "execute_result"
    }
   ],
   "source": [
    "driver.find_element(By.TAG_NAME, 'div')\n",
    "#가장 첫번째 div 찾아줌\n",
    "#태그는 많아서 정확하게 대상 찾을때에는 사용안함"
   ]
  },
  {
   "cell_type": "code",
   "execution_count": 36,
   "id": "3fe6b810",
   "metadata": {
    "ExecuteTime": {
     "end_time": "2023-12-12T01:53:51.743375Z",
     "start_time": "2023-12-12T01:53:51.681063Z"
    },
    "scrolled": true
   },
   "outputs": [],
   "source": [
    "#여러개 요소 찾을 때\n",
    "links = driver.find_elements(By.CSS_SELECTOR, '.link_service')\n",
    "#link service클래스, elements(복수)"
   ]
  },
  {
   "cell_type": "code",
   "execution_count": 37,
   "id": "ad577b2a",
   "metadata": {
    "ExecuteTime": {
     "end_time": "2023-12-12T01:54:31.411289Z",
     "start_time": "2023-12-12T01:54:31.402612Z"
    },
    "scrolled": true
   },
   "outputs": [
    {
     "name": "stdout",
     "output_type": "stream",
     "text": [
      "<selenium.webdriver.remote.webelement.WebElement (session=\"c41e49f477c98f6d3483152569c6f0cd\", element=\"FB8F24E1552BC46A8BC2F33F936A5287_element_37401\")>\n",
      "<selenium.webdriver.remote.webelement.WebElement (session=\"c41e49f477c98f6d3483152569c6f0cd\", element=\"FB8F24E1552BC46A8BC2F33F936A5287_element_37402\")>\n",
      "<selenium.webdriver.remote.webelement.WebElement (session=\"c41e49f477c98f6d3483152569c6f0cd\", element=\"FB8F24E1552BC46A8BC2F33F936A5287_element_37403\")>\n",
      "<selenium.webdriver.remote.webelement.WebElement (session=\"c41e49f477c98f6d3483152569c6f0cd\", element=\"FB8F24E1552BC46A8BC2F33F936A5287_element_28478\")>\n",
      "<selenium.webdriver.remote.webelement.WebElement (session=\"c41e49f477c98f6d3483152569c6f0cd\", element=\"FB8F24E1552BC46A8BC2F33F936A5287_element_37404\")>\n",
      "<selenium.webdriver.remote.webelement.WebElement (session=\"c41e49f477c98f6d3483152569c6f0cd\", element=\"FB8F24E1552BC46A8BC2F33F936A5287_element_34226\")>\n",
      "<selenium.webdriver.remote.webelement.WebElement (session=\"c41e49f477c98f6d3483152569c6f0cd\", element=\"FB8F24E1552BC46A8BC2F33F936A5287_element_34221\")>\n",
      "<selenium.webdriver.remote.webelement.WebElement (session=\"c41e49f477c98f6d3483152569c6f0cd\", element=\"FB8F24E1552BC46A8BC2F33F936A5287_element_37405\")>\n",
      "<selenium.webdriver.remote.webelement.WebElement (session=\"c41e49f477c98f6d3483152569c6f0cd\", element=\"FB8F24E1552BC46A8BC2F33F936A5287_element_37406\")>\n",
      "<selenium.webdriver.remote.webelement.WebElement (session=\"c41e49f477c98f6d3483152569c6f0cd\", element=\"FB8F24E1552BC46A8BC2F33F936A5287_element_37407\")>\n"
     ]
    }
   ],
   "source": [
    "for link in links:\n",
    "    print(link)"
   ]
  },
  {
   "cell_type": "code",
   "execution_count": 38,
   "id": "45461b1c",
   "metadata": {
    "ExecuteTime": {
     "end_time": "2023-12-12T01:55:16.122782Z",
     "start_time": "2023-12-12T01:55:15.571037Z"
    },
    "scrolled": true
   },
   "outputs": [
    {
     "name": "stdout",
     "output_type": "stream",
     "text": [
      "<a href=\"https://mail.naver.com\" class=\"link_service\" target=\"_blank\"><span class=\"service_icon type_mail\"></span><span class=\"service_name\">메일</span></a>\n",
      "\n",
      "<a href=\"https://cafe.naver.com\" class=\"link_service\" target=\"_blank\"><span class=\"service_icon type_cafe\"></span><span class=\"service_name\">카페</span></a>\n",
      "\n",
      "<a href=\"https://blog.naver.com\" class=\"link_service\" target=\"_blank\"><span class=\"service_icon type_blog\"></span><span class=\"service_name\">블로그</span></a>\n",
      "\n",
      "<a href=\"https://shopping.naver.com/home\" class=\"link_service\" target=\"_blank\"><span class=\"service_icon type_shopping\"></span><span class=\"service_name\">쇼핑</span></a>\n",
      "\n",
      "<a href=\"https://news.naver.com/\" class=\"link_service\" target=\"_blank\"><span class=\"service_icon type_news\"></span><span class=\"service_name\">뉴스</span></a>\n",
      "\n",
      "<a href=\"https://finance.naver.com/\" class=\"link_service\" target=\"_blank\"><span class=\"service_icon type_stock\"></span><span class=\"service_name\">증권</span></a>\n",
      "\n",
      "<a href=\"https://land.naver.com/\" class=\"link_service\" target=\"_blank\"><span class=\"service_icon type_real\"></span><span class=\"service_name\">부동산</span></a>\n",
      "\n",
      "<a href=\"https://map.naver.com\" class=\"link_service\" target=\"_blank\"><span class=\"service_icon type_map\"></span><span class=\"service_name\">지도</span></a>\n",
      "\n",
      "<a href=\"https://comic.naver.com\" class=\"link_service\" target=\"_blank\"><span class=\"service_icon type_webtoon\"></span><span class=\"service_name\">웹툰</span></a>\n",
      "\n",
      "<a href=\"#\" class=\"link_service\" role=\"button\"><span class=\"service_icon type_more\"></span><span class=\"blind\">바로가기 펼침</span></a>\n",
      "\n"
     ]
    }
   ],
   "source": [
    "#해당 클래스가 속한 요소의 자식 html을 출력\n",
    "for link in links:\n",
    "    print(link.get_attribute(\"outerHTML\"))#outerHTML -> 소스 찾아올 때 사용하는 속성\n",
    "    #내가 찾은 요소(a) html을 다 찾아줘\n",
    "    print()"
   ]
  },
  {
   "cell_type": "code",
   "execution_count": 39,
   "id": "47d89592",
   "metadata": {
    "ExecuteTime": {
     "end_time": "2023-12-12T02:01:46.889852Z",
     "start_time": "2023-12-12T02:01:46.407306Z"
    }
   },
   "outputs": [
    {
     "name": "stdout",
     "output_type": "stream",
     "text": [
      "https://mail.naver.com/\n",
      "\n",
      "https://cafe.naver.com/\n",
      "\n",
      "https://blog.naver.com/\n",
      "\n",
      "https://shopping.naver.com/home\n",
      "\n",
      "https://news.naver.com/\n",
      "\n",
      "https://finance.naver.com/\n",
      "\n",
      "https://land.naver.com/\n",
      "\n",
      "https://map.naver.com/\n",
      "\n",
      "https://comic.naver.com/\n",
      "\n",
      "https://www.naver.com/#\n",
      "\n"
     ]
    }
   ],
   "source": [
    "for link in links:\n",
    "    print(link.get_attribute(\"href\"))\n",
    "    print()"
   ]
  },
  {
   "cell_type": "markdown",
   "id": "cb3ef4ab",
   "metadata": {},
   "source": [
    "자동 로그인 연습\n"
   ]
  },
  {
   "cell_type": "code",
   "execution_count": 65,
   "id": "b3ec8f4e",
   "metadata": {
    "ExecuteTime": {
     "end_time": "2023-12-12T02:20:50.119939Z",
     "start_time": "2023-12-12T02:20:44.688719Z"
    }
   },
   "outputs": [],
   "source": [
    "url = \"file:///C:/Users/nb772/Downloads/sample-20231212T014852Z-001/sample/signin.html\"\n",
    "driver = webdriver.Chrome(options=options)#객체를 생성한 것\n",
    "driver.get(url) \n",
    "time.sleep(2)"
   ]
  },
  {
   "cell_type": "code",
   "execution_count": 66,
   "id": "50222784",
   "metadata": {
    "ExecuteTime": {
     "end_time": "2023-12-12T02:20:52.087828Z",
     "start_time": "2023-12-12T02:20:51.875028Z"
    }
   },
   "outputs": [],
   "source": [
    "username = driver.find_element(By.NAME, \"username\").send_keys(\"오지은\")"
   ]
  },
  {
   "cell_type": "code",
   "execution_count": 67,
   "id": "dddaffae",
   "metadata": {
    "ExecuteTime": {
     "end_time": "2023-12-12T02:20:53.666145Z",
     "start_time": "2023-12-12T02:20:53.590168Z"
    }
   },
   "outputs": [],
   "source": [
    "username = driver.find_element(By.NAME, \"password\").send_keys(\"짱이지\")"
   ]
  },
  {
   "cell_type": "code",
   "execution_count": 68,
   "id": "c329f489",
   "metadata": {
    "ExecuteTime": {
     "end_time": "2023-12-12T02:20:55.913683Z",
     "start_time": "2023-12-12T02:20:55.755490Z"
    }
   },
   "outputs": [],
   "source": [
    "driver.find_element(By.NAME, \"continue\").click()"
   ]
  },
  {
   "cell_type": "code",
   "execution_count": 69,
   "id": "e64e5d65",
   "metadata": {
    "ExecuteTime": {
     "end_time": "2023-12-12T02:21:00.755079Z",
     "start_time": "2023-12-12T02:20:58.540849Z"
    }
   },
   "outputs": [
    {
     "ename": "NoSuchElementException",
     "evalue": "Message: no such element: Unable to locate element: {\"method\":\"xpath\",\"selector\":\"//*[@id=\"loginForm\"]/input[3]\"}\n  (Session info: chrome=119.0.6045.200); For documentation on this error, please visit: https://www.selenium.dev/documentation/webdriver/troubleshooting/errors#no-such-element-exception\nStacktrace:\n\tGetHandleVerifier [0x00007FF75F9882B2+55298]\n\t(No symbol) [0x00007FF75F8F5E02]\n\t(No symbol) [0x00007FF75F7B05AB]\n\t(No symbol) [0x00007FF75F7F175C]\n\t(No symbol) [0x00007FF75F7F18DC]\n\t(No symbol) [0x00007FF75F82CBC7]\n\t(No symbol) [0x00007FF75F8120EF]\n\t(No symbol) [0x00007FF75F82AAA4]\n\t(No symbol) [0x00007FF75F811E83]\n\t(No symbol) [0x00007FF75F7E670A]\n\t(No symbol) [0x00007FF75F7E7964]\n\tGetHandleVerifier [0x00007FF75FD00AAB+3694587]\n\tGetHandleVerifier [0x00007FF75FD5728E+4048862]\n\tGetHandleVerifier [0x00007FF75FD4F173+4015811]\n\tGetHandleVerifier [0x00007FF75FA247D6+695590]\n\t(No symbol) [0x00007FF75F900CE8]\n\t(No symbol) [0x00007FF75F8FCF34]\n\t(No symbol) [0x00007FF75F8FD062]\n\t(No symbol) [0x00007FF75F8ED3A3]\n\tBaseThreadInitThunk [0x00007FFE58EF257D+29]\n\tRtlUserThreadStart [0x00007FFE5A74AA58+40]\n",
     "output_type": "error",
     "traceback": [
      "\u001b[1;31m---------------------------------------------------------------------------\u001b[0m",
      "\u001b[1;31mNoSuchElementException\u001b[0m                    Traceback (most recent call last)",
      "Cell \u001b[1;32mIn[69], line 1\u001b[0m\n\u001b[1;32m----> 1\u001b[0m driver\u001b[38;5;241m.\u001b[39mfind_element(By\u001b[38;5;241m.\u001b[39mXPATH, \u001b[38;5;124m'\u001b[39m\u001b[38;5;124m//*[@id=\u001b[39m\u001b[38;5;124m\"\u001b[39m\u001b[38;5;124mloginForm\u001b[39m\u001b[38;5;124m\"\u001b[39m\u001b[38;5;124m]/input[3]\u001b[39m\u001b[38;5;124m'\u001b[39m)\u001b[38;5;241m.\u001b[39mclick()\n",
      "File \u001b[1;32m~\\anaconda3\\Lib\\site-packages\\selenium\\webdriver\\remote\\webdriver.py:742\u001b[0m, in \u001b[0;36mWebDriver.find_element\u001b[1;34m(self, by, value)\u001b[0m\n\u001b[0;32m    739\u001b[0m     by \u001b[38;5;241m=\u001b[39m By\u001b[38;5;241m.\u001b[39mCSS_SELECTOR\n\u001b[0;32m    740\u001b[0m     value \u001b[38;5;241m=\u001b[39m \u001b[38;5;124mf\u001b[39m\u001b[38;5;124m'\u001b[39m\u001b[38;5;124m[name=\u001b[39m\u001b[38;5;124m\"\u001b[39m\u001b[38;5;132;01m{\u001b[39;00mvalue\u001b[38;5;132;01m}\u001b[39;00m\u001b[38;5;124m\"\u001b[39m\u001b[38;5;124m]\u001b[39m\u001b[38;5;124m'\u001b[39m\n\u001b[1;32m--> 742\u001b[0m \u001b[38;5;28;01mreturn\u001b[39;00m \u001b[38;5;28mself\u001b[39m\u001b[38;5;241m.\u001b[39mexecute(Command\u001b[38;5;241m.\u001b[39mFIND_ELEMENT, {\u001b[38;5;124m\"\u001b[39m\u001b[38;5;124musing\u001b[39m\u001b[38;5;124m\"\u001b[39m: by, \u001b[38;5;124m\"\u001b[39m\u001b[38;5;124mvalue\u001b[39m\u001b[38;5;124m\"\u001b[39m: value})[\u001b[38;5;124m\"\u001b[39m\u001b[38;5;124mvalue\u001b[39m\u001b[38;5;124m\"\u001b[39m]\n",
      "File \u001b[1;32m~\\anaconda3\\Lib\\site-packages\\selenium\\webdriver\\remote\\webdriver.py:348\u001b[0m, in \u001b[0;36mWebDriver.execute\u001b[1;34m(self, driver_command, params)\u001b[0m\n\u001b[0;32m    346\u001b[0m response \u001b[38;5;241m=\u001b[39m \u001b[38;5;28mself\u001b[39m\u001b[38;5;241m.\u001b[39mcommand_executor\u001b[38;5;241m.\u001b[39mexecute(driver_command, params)\n\u001b[0;32m    347\u001b[0m \u001b[38;5;28;01mif\u001b[39;00m response:\n\u001b[1;32m--> 348\u001b[0m     \u001b[38;5;28mself\u001b[39m\u001b[38;5;241m.\u001b[39merror_handler\u001b[38;5;241m.\u001b[39mcheck_response(response)\n\u001b[0;32m    349\u001b[0m     response[\u001b[38;5;124m\"\u001b[39m\u001b[38;5;124mvalue\u001b[39m\u001b[38;5;124m\"\u001b[39m] \u001b[38;5;241m=\u001b[39m \u001b[38;5;28mself\u001b[39m\u001b[38;5;241m.\u001b[39m_unwrap_value(response\u001b[38;5;241m.\u001b[39mget(\u001b[38;5;124m\"\u001b[39m\u001b[38;5;124mvalue\u001b[39m\u001b[38;5;124m\"\u001b[39m, \u001b[38;5;28;01mNone\u001b[39;00m))\n\u001b[0;32m    350\u001b[0m     \u001b[38;5;28;01mreturn\u001b[39;00m response\n",
      "File \u001b[1;32m~\\anaconda3\\Lib\\site-packages\\selenium\\webdriver\\remote\\errorhandler.py:229\u001b[0m, in \u001b[0;36mErrorHandler.check_response\u001b[1;34m(self, response)\u001b[0m\n\u001b[0;32m    227\u001b[0m         alert_text \u001b[38;5;241m=\u001b[39m value[\u001b[38;5;124m\"\u001b[39m\u001b[38;5;124malert\u001b[39m\u001b[38;5;124m\"\u001b[39m]\u001b[38;5;241m.\u001b[39mget(\u001b[38;5;124m\"\u001b[39m\u001b[38;5;124mtext\u001b[39m\u001b[38;5;124m\"\u001b[39m)\n\u001b[0;32m    228\u001b[0m     \u001b[38;5;28;01mraise\u001b[39;00m exception_class(message, screen, stacktrace, alert_text)  \u001b[38;5;66;03m# type: ignore[call-arg]  # mypy is not smart enough here\u001b[39;00m\n\u001b[1;32m--> 229\u001b[0m \u001b[38;5;28;01mraise\u001b[39;00m exception_class(message, screen, stacktrace)\n",
      "\u001b[1;31mNoSuchElementException\u001b[0m: Message: no such element: Unable to locate element: {\"method\":\"xpath\",\"selector\":\"//*[@id=\"loginForm\"]/input[3]\"}\n  (Session info: chrome=119.0.6045.200); For documentation on this error, please visit: https://www.selenium.dev/documentation/webdriver/troubleshooting/errors#no-such-element-exception\nStacktrace:\n\tGetHandleVerifier [0x00007FF75F9882B2+55298]\n\t(No symbol) [0x00007FF75F8F5E02]\n\t(No symbol) [0x00007FF75F7B05AB]\n\t(No symbol) [0x00007FF75F7F175C]\n\t(No symbol) [0x00007FF75F7F18DC]\n\t(No symbol) [0x00007FF75F82CBC7]\n\t(No symbol) [0x00007FF75F8120EF]\n\t(No symbol) [0x00007FF75F82AAA4]\n\t(No symbol) [0x00007FF75F811E83]\n\t(No symbol) [0x00007FF75F7E670A]\n\t(No symbol) [0x00007FF75F7E7964]\n\tGetHandleVerifier [0x00007FF75FD00AAB+3694587]\n\tGetHandleVerifier [0x00007FF75FD5728E+4048862]\n\tGetHandleVerifier [0x00007FF75FD4F173+4015811]\n\tGetHandleVerifier [0x00007FF75FA247D6+695590]\n\t(No symbol) [0x00007FF75F900CE8]\n\t(No symbol) [0x00007FF75F8FCF34]\n\t(No symbol) [0x00007FF75F8FD062]\n\t(No symbol) [0x00007FF75F8ED3A3]\n\tBaseThreadInitThunk [0x00007FFE58EF257D+29]\n\tRtlUserThreadStart [0x00007FFE5A74AA58+40]\n"
     ]
    }
   ],
   "source": [
    "driver.find_element(By.XPATH, '//*[@id=\"loginForm\"]/input[3]').click()"
   ]
  },
  {
   "cell_type": "code",
   "execution_count": null,
   "id": "bcc440be",
   "metadata": {
    "ExecuteTime": {
     "end_time": "2023-12-12T02:21:00.761097Z",
     "start_time": "2023-12-12T02:21:00.761097Z"
    }
   },
   "outputs": [],
   "source": [
    "driver.find_dlement(By. CSS_SELECTOR, \"[value='Login']\").click()"
   ]
  },
  {
   "cell_type": "code",
   "execution_count": 57,
   "id": "a08e53a9",
   "metadata": {
    "ExecuteTime": {
     "end_time": "2023-12-12T02:17:34.124295Z",
     "start_time": "2023-12-12T02:17:33.996283Z"
    }
   },
   "outputs": [],
   "source": [
    "username = driver.find_element(By.NAME, \"username\")\n",
    "username.clear()"
   ]
  },
  {
   "cell_type": "code",
   "execution_count": 58,
   "id": "b3ab3d6e",
   "metadata": {
    "ExecuteTime": {
     "end_time": "2023-12-12T02:17:39.908786Z",
     "start_time": "2023-12-12T02:17:39.646827Z"
    }
   },
   "outputs": [],
   "source": [
    "username.submit()"
   ]
  },
  {
   "cell_type": "code",
   "execution_count": 62,
   "id": "a444b28d",
   "metadata": {
    "ExecuteTime": {
     "end_time": "2023-12-12T02:18:37.514511Z",
     "start_time": "2023-12-12T02:18:37.443375Z"
    }
   },
   "outputs": [
    {
     "data": {
      "text/plain": [
       "'Are you sure you want to do this?'"
      ]
     },
     "execution_count": 62,
     "metadata": {},
     "output_type": "execute_result"
    }
   ],
   "source": [
    "driver.find_element(By.TAG_NAME, 'p').text"
   ]
  },
  {
   "cell_type": "code",
   "execution_count": 63,
   "id": "80384846",
   "metadata": {
    "ExecuteTime": {
     "end_time": "2023-12-12T02:19:20.184743Z",
     "start_time": "2023-12-12T02:19:20.169807Z"
    }
   },
   "outputs": [
    {
     "data": {
      "text/plain": [
       "'<html><head></head><body>\\n        <h1> Sign In </h1>\\n        <form action=\"moved.html\" id=\"loginForm\">\\n            ID : <input name=\"username\" type=\"text\"> <br>\\n            Password : <input name=\"password\" type=\"password\"> <br>\\n\\n            <input name=\"continue\" type=\"submit\" value=\"Login\">\\n            <input name=\"continue\" type=\"button\" value=\"Clear\">\\n        \\n        </form>\\n\\n        <p>Are you sure you want to do this?</p>\\n        <a href=\"continue.html\">Continue</a>\\n        <a href=\"cancel.html\">Cancel</a>\\n\\n        <h1>Welcome</h1>\\n        <p>Site content goes here.</p>\\n        <p class=\"content\">Site content goes here.</p>\\n    \\n</body></html>'"
      ]
     },
     "execution_count": 63,
     "metadata": {},
     "output_type": "execute_result"
    }
   ],
   "source": [
    "# html 소스 가져오기\n",
    "driver.page_source"
   ]
  },
  {
   "cell_type": "code",
   "execution_count": 64,
   "id": "1f65b5c9",
   "metadata": {
    "ExecuteTime": {
     "end_time": "2023-12-12T02:19:29.937417Z",
     "start_time": "2023-12-12T02:19:29.761541Z"
    }
   },
   "outputs": [],
   "source": [
    "driver.close()"
   ]
  },
  {
   "cell_type": "markdown",
   "id": "70e5c9c2",
   "metadata": {},
   "source": [
    "옵션"
   ]
  },
  {
   "cell_type": "code",
   "execution_count": 71,
   "id": "cc087b65",
   "metadata": {
    "ExecuteTime": {
     "end_time": "2023-12-12T02:22:10.777828Z",
     "start_time": "2023-12-12T02:22:10.768819Z"
    }
   },
   "outputs": [],
   "source": [
    "from selenium import webdriver\n",
    "from selenium.webdriver.common.by import By\n",
    "from selenium.webdriver.chrome.options import Options\n",
    "import time\n",
    "\n",
    "options = Options()\n",
    "options.add_argument(\"--headless=new\")\n",
    "options.add_experimental_option(\"detach\", True)"
   ]
  },
  {
   "cell_type": "code",
   "execution_count": 72,
   "id": "93f99846",
   "metadata": {
    "ExecuteTime": {
     "end_time": "2023-12-12T02:22:29.752491Z",
     "start_time": "2023-12-12T02:22:23.621431Z"
    }
   },
   "outputs": [],
   "source": [
    "url = 'http://naver.com'\n",
    "driver = webdriver.Chrome(options=options)\n",
    "driver.get(url)\n",
    "time.sleep(2) #안보이는 것. 이상태로 코랩에서 사용 가능."
   ]
  },
  {
   "cell_type": "code",
   "execution_count": 73,
   "id": "be6dbe1b",
   "metadata": {
    "ExecuteTime": {
     "end_time": "2023-12-12T02:22:43.770558Z",
     "start_time": "2023-12-12T02:22:43.749917Z"
    }
   },
   "outputs": [
    {
     "name": "stdout",
     "output_type": "stream",
     "text": [
      "NAVER\n"
     ]
    }
   ],
   "source": [
    "print(driver.title)"
   ]
  },
  {
   "cell_type": "code",
   "execution_count": 74,
   "id": "a91b0b44",
   "metadata": {
    "ExecuteTime": {
     "end_time": "2023-12-12T02:23:17.038056Z",
     "start_time": "2023-12-12T02:23:14.467718Z"
    }
   },
   "outputs": [],
   "source": [
    "driver.quit()\n",
    "#큇과 클로즈, 브라우저 종료하냐, 탭을 닫냐.\n",
    "#탭 하나면 브라우저도 종료됨."
   ]
  },
  {
   "cell_type": "markdown",
   "id": "f2fd908f",
   "metadata": {},
   "source": [
    "윈도우 컨트롤"
   ]
  },
  {
   "cell_type": "code",
   "execution_count": 75,
   "id": "3f8a31ca",
   "metadata": {
    "ExecuteTime": {
     "end_time": "2023-12-12T02:24:25.178690Z",
     "start_time": "2023-12-12T02:24:15.193221Z"
    }
   },
   "outputs": [],
   "source": [
    "from selenium import webdriver\n",
    "from selenium.webdriver.common.by import By\n",
    "from selenium.webdriver.chrome.options import Options\n",
    "import time\n",
    "\n",
    "options = Options()\n",
    "# options.add_argument(\"--start-maximized\")\n",
    "# options.add_argument(\"--headless=new\") \n",
    "options.add_experimental_option(\"detach\", True) #\n",
    "\n",
    "url = 'http://naver.com'\n",
    "driver = webdriver.Chrome(options=options)\n",
    "driver.get(url)\n",
    "time.sleep(2)"
   ]
  },
  {
   "cell_type": "code",
   "execution_count": 81,
   "id": "129f2189",
   "metadata": {
    "ExecuteTime": {
     "end_time": "2023-12-12T02:26:43.128320Z",
     "start_time": "2023-12-12T02:26:43.112325Z"
    }
   },
   "outputs": [
    {
     "name": "stdout",
     "output_type": "stream",
     "text": [
      "984px str(height)px\n"
     ]
    }
   ],
   "source": [
    "#창의 너비/높이 구하기\n",
    "size = driver.get_window_size()\n",
    "width = size.get(\"width\")\n",
    "height = size.get(\"height\")\n",
    "\n",
    "print(str(width)+\"px\"+\" \"+\"str(height)\"+\"px\")"
   ]
  },
  {
   "cell_type": "code",
   "execution_count": 84,
   "id": "b4dcc85d",
   "metadata": {
    "ExecuteTime": {
     "end_time": "2023-12-12T02:28:13.219500Z",
     "start_time": "2023-12-12T02:28:13.091119Z"
    }
   },
   "outputs": [],
   "source": [
    "#브라우저 창 사이즈 바꾸기\n",
    "driver.set_window_size(800, 700)"
   ]
  },
  {
   "cell_type": "code",
   "execution_count": 85,
   "id": "2aebcd5b",
   "metadata": {
    "ExecuteTime": {
     "end_time": "2023-12-12T02:29:19.704120Z",
     "start_time": "2023-12-12T02:29:19.679291Z"
    }
   },
   "outputs": [
    {
     "name": "stdout",
     "output_type": "stream",
     "text": [
      "x : 943 y : 0\n"
     ]
    }
   ],
   "source": [
    "#스크린 상에서의 창 좌표\n",
    "position = driver.get_window_position()\n",
    "x = position.get('x')\n",
    "y = position.get('y')\n",
    "\n",
    "print(\"x : \"+str(x)+\" \"+\"y : \"+str(y))"
   ]
  },
  {
   "cell_type": "code",
   "execution_count": 86,
   "id": "5cd0cd39",
   "metadata": {
    "ExecuteTime": {
     "end_time": "2023-12-12T02:29:29.863789Z",
     "start_time": "2023-12-12T02:29:29.726434Z"
    }
   },
   "outputs": [
    {
     "data": {
      "text/plain": [
       "{'height': 700, 'width': 800, 'x': 10, 'y': 10}"
      ]
     },
     "execution_count": 86,
     "metadata": {},
     "output_type": "execute_result"
    }
   ],
   "source": [
    "driver.set_window_position(10,10)"
   ]
  },
  {
   "cell_type": "code",
   "execution_count": 87,
   "id": "3ea59254",
   "metadata": {
    "ExecuteTime": {
     "end_time": "2023-12-12T02:29:38.621705Z",
     "start_time": "2023-12-12T02:29:38.433000Z"
    }
   },
   "outputs": [],
   "source": [
    "# 창 크기 최대화\n",
    "driver.maximize_window()"
   ]
  },
  {
   "cell_type": "code",
   "execution_count": 88,
   "id": "2603af4c",
   "metadata": {
    "ExecuteTime": {
     "end_time": "2023-12-12T02:29:44.744342Z",
     "start_time": "2023-12-12T02:29:44.729660Z"
    }
   },
   "outputs": [],
   "source": [
    "# 창 크기 최소화\n",
    "driver.minimize_window()"
   ]
  },
  {
   "cell_type": "code",
   "execution_count": 91,
   "id": "0410cb99",
   "metadata": {
    "ExecuteTime": {
     "end_time": "2023-12-12T02:30:59.213312Z",
     "start_time": "2023-12-12T02:30:58.910637Z"
    },
    "scrolled": true
   },
   "outputs": [
    {
     "ename": "WebDriverException",
     "evalue": "Message: unknown error: failed to change window state to 'normal', current state is 'maximized'\n  (Session info: chrome=119.0.6045.200)\nStacktrace:\n\tGetHandleVerifier [0x00007FF75F9882B2+55298]\n\t(No symbol) [0x00007FF75F8F5E02]\n\t(No symbol) [0x00007FF75F7B05AB]\n\t(No symbol) [0x00007FF75F792B20]\n\t(No symbol) [0x00007FF75F79139E]\n\t(No symbol) [0x00007FF75F792189]\n\t(No symbol) [0x00007FF75F83E509]\n\t(No symbol) [0x00007FF75F8120AA]\n\t(No symbol) [0x00007FF75F82AAA4]\n\t(No symbol) [0x00007FF75F811E83]\n\t(No symbol) [0x00007FF75F7E670A]\n\t(No symbol) [0x00007FF75F7E7964]\n\tGetHandleVerifier [0x00007FF75FD00AAB+3694587]\n\tGetHandleVerifier [0x00007FF75FD5728E+4048862]\n\tGetHandleVerifier [0x00007FF75FD4F173+4015811]\n\tGetHandleVerifier [0x00007FF75FA247D6+695590]\n\t(No symbol) [0x00007FF75F900CE8]\n\t(No symbol) [0x00007FF75F8FCF34]\n\t(No symbol) [0x00007FF75F8FD062]\n\t(No symbol) [0x00007FF75F8ED3A3]\n\tBaseThreadInitThunk [0x00007FFE58EF257D+29]\n\tRtlUserThreadStart [0x00007FFE5A74AA58+40]\n",
     "output_type": "error",
     "traceback": [
      "\u001b[1;31m---------------------------------------------------------------------------\u001b[0m",
      "\u001b[1;31mWebDriverException\u001b[0m                        Traceback (most recent call last)",
      "Cell \u001b[1;32mIn[91], line 2\u001b[0m\n\u001b[0;32m      1\u001b[0m \u001b[38;5;66;03m# 전체 화면\u001b[39;00m\n\u001b[1;32m----> 2\u001b[0m driver\u001b[38;5;241m.\u001b[39mfullscreen_window()\n",
      "File \u001b[1;32m~\\anaconda3\\Lib\\site-packages\\selenium\\webdriver\\remote\\webdriver.py:504\u001b[0m, in \u001b[0;36mWebDriver.fullscreen_window\u001b[1;34m(self)\u001b[0m\n\u001b[0;32m    502\u001b[0m \u001b[38;5;28;01mdef\u001b[39;00m \u001b[38;5;21mfullscreen_window\u001b[39m(\u001b[38;5;28mself\u001b[39m) \u001b[38;5;241m-\u001b[39m\u001b[38;5;241m>\u001b[39m \u001b[38;5;28;01mNone\u001b[39;00m:\n\u001b[0;32m    503\u001b[0m \u001b[38;5;250m    \u001b[39m\u001b[38;5;124;03m\"\"\"Invokes the window manager-specific 'full screen' operation.\"\"\"\u001b[39;00m\n\u001b[1;32m--> 504\u001b[0m     \u001b[38;5;28mself\u001b[39m\u001b[38;5;241m.\u001b[39mexecute(Command\u001b[38;5;241m.\u001b[39mFULLSCREEN_WINDOW)\n",
      "File \u001b[1;32m~\\anaconda3\\Lib\\site-packages\\selenium\\webdriver\\remote\\webdriver.py:348\u001b[0m, in \u001b[0;36mWebDriver.execute\u001b[1;34m(self, driver_command, params)\u001b[0m\n\u001b[0;32m    346\u001b[0m response \u001b[38;5;241m=\u001b[39m \u001b[38;5;28mself\u001b[39m\u001b[38;5;241m.\u001b[39mcommand_executor\u001b[38;5;241m.\u001b[39mexecute(driver_command, params)\n\u001b[0;32m    347\u001b[0m \u001b[38;5;28;01mif\u001b[39;00m response:\n\u001b[1;32m--> 348\u001b[0m     \u001b[38;5;28mself\u001b[39m\u001b[38;5;241m.\u001b[39merror_handler\u001b[38;5;241m.\u001b[39mcheck_response(response)\n\u001b[0;32m    349\u001b[0m     response[\u001b[38;5;124m\"\u001b[39m\u001b[38;5;124mvalue\u001b[39m\u001b[38;5;124m\"\u001b[39m] \u001b[38;5;241m=\u001b[39m \u001b[38;5;28mself\u001b[39m\u001b[38;5;241m.\u001b[39m_unwrap_value(response\u001b[38;5;241m.\u001b[39mget(\u001b[38;5;124m\"\u001b[39m\u001b[38;5;124mvalue\u001b[39m\u001b[38;5;124m\"\u001b[39m, \u001b[38;5;28;01mNone\u001b[39;00m))\n\u001b[0;32m    350\u001b[0m     \u001b[38;5;28;01mreturn\u001b[39;00m response\n",
      "File \u001b[1;32m~\\anaconda3\\Lib\\site-packages\\selenium\\webdriver\\remote\\errorhandler.py:229\u001b[0m, in \u001b[0;36mErrorHandler.check_response\u001b[1;34m(self, response)\u001b[0m\n\u001b[0;32m    227\u001b[0m         alert_text \u001b[38;5;241m=\u001b[39m value[\u001b[38;5;124m\"\u001b[39m\u001b[38;5;124malert\u001b[39m\u001b[38;5;124m\"\u001b[39m]\u001b[38;5;241m.\u001b[39mget(\u001b[38;5;124m\"\u001b[39m\u001b[38;5;124mtext\u001b[39m\u001b[38;5;124m\"\u001b[39m)\n\u001b[0;32m    228\u001b[0m     \u001b[38;5;28;01mraise\u001b[39;00m exception_class(message, screen, stacktrace, alert_text)  \u001b[38;5;66;03m# type: ignore[call-arg]  # mypy is not smart enough here\u001b[39;00m\n\u001b[1;32m--> 229\u001b[0m \u001b[38;5;28;01mraise\u001b[39;00m exception_class(message, screen, stacktrace)\n",
      "\u001b[1;31mWebDriverException\u001b[0m: Message: unknown error: failed to change window state to 'normal', current state is 'maximized'\n  (Session info: chrome=119.0.6045.200)\nStacktrace:\n\tGetHandleVerifier [0x00007FF75F9882B2+55298]\n\t(No symbol) [0x00007FF75F8F5E02]\n\t(No symbol) [0x00007FF75F7B05AB]\n\t(No symbol) [0x00007FF75F792B20]\n\t(No symbol) [0x00007FF75F79139E]\n\t(No symbol) [0x00007FF75F792189]\n\t(No symbol) [0x00007FF75F83E509]\n\t(No symbol) [0x00007FF75F8120AA]\n\t(No symbol) [0x00007FF75F82AAA4]\n\t(No symbol) [0x00007FF75F811E83]\n\t(No symbol) [0x00007FF75F7E670A]\n\t(No symbol) [0x00007FF75F7E7964]\n\tGetHandleVerifier [0x00007FF75FD00AAB+3694587]\n\tGetHandleVerifier [0x00007FF75FD5728E+4048862]\n\tGetHandleVerifier [0x00007FF75FD4F173+4015811]\n\tGetHandleVerifier [0x00007FF75FA247D6+695590]\n\t(No symbol) [0x00007FF75F900CE8]\n\t(No symbol) [0x00007FF75F8FCF34]\n\t(No symbol) [0x00007FF75F8FD062]\n\t(No symbol) [0x00007FF75F8ED3A3]\n\tBaseThreadInitThunk [0x00007FFE58EF257D+29]\n\tRtlUserThreadStart [0x00007FFE5A74AA58+40]\n"
     ]
    }
   ],
   "source": [
    "# 전체 화면\n",
    "driver.fullscreen_window()"
   ]
  },
  {
   "cell_type": "code",
   "execution_count": 90,
   "id": "7012550d",
   "metadata": {
    "ExecuteTime": {
     "end_time": "2023-12-12T02:30:16.775785Z",
     "start_time": "2023-12-12T02:30:15.916421Z"
    }
   },
   "outputs": [
    {
     "data": {
      "text/plain": [
       "True"
      ]
     },
     "execution_count": 90,
     "metadata": {},
     "output_type": "execute_result"
    }
   ],
   "source": [
    "# 스크린 샷\n",
    "driver.save_screenshot('./image.png')"
   ]
  },
  {
   "cell_type": "markdown",
   "id": "227499f7",
   "metadata": {},
   "source": [
    "예제)네이버 블로그 수집"
   ]
  },
  {
   "cell_type": "code",
   "execution_count": 107,
   "id": "b2ec862c",
   "metadata": {
    "ExecuteTime": {
     "end_time": "2023-12-12T04:33:10.340524Z",
     "start_time": "2023-12-12T04:33:10.335656Z"
    }
   },
   "outputs": [],
   "source": [
    "from selenium import webdriver\n",
    "from selenium.webdriver.common.by import By\n",
    "from selenium.webdriver.chrome.options import Options\n",
    "import time\n",
    "\n",
    "options = Options()\n",
    "options.add_argument('--window-size=974,1047') #옵션설정\n",
    "options.add_argument('--window-position=953,0')\n",
    "options.add_experimental_option(\"detach\", True)"
   ]
  },
  {
   "cell_type": "code",
   "execution_count": 108,
   "id": "31332be3",
   "metadata": {
    "ExecuteTime": {
     "end_time": "2023-12-12T04:33:14.612031Z",
     "start_time": "2023-12-12T04:33:12.005021Z"
    }
   },
   "outputs": [],
   "source": [
    "# 웹드라이버 로드\n",
    "driver = webdriver.Chrome( options = options)"
   ]
  },
  {
   "cell_type": "code",
   "execution_count": 109,
   "id": "92dccc0e",
   "metadata": {
    "ExecuteTime": {
     "end_time": "2023-12-12T04:33:14.618508Z",
     "start_time": "2023-12-12T04:33:14.614037Z"
    }
   },
   "outputs": [],
   "source": [
    "# 조건 설정\n",
    "where = 'blog'\n",
    "query = '인공지능'\n",
    "dateform = '20221001to20231212'\n",
    "url = f'https://search.naver.com/search.naver?where=blog&query=%EC%9D%B8%EA%B3%B5%EC%A7%80%EB%8A%A5&sm=tab_opt&nso=so:r,p:from20221001to20231212'\n",
    "fname = f'{where}_{query}_{dateform}'"
   ]
  },
  {
   "cell_type": "code",
   "execution_count": 110,
   "id": "51b9698d",
   "metadata": {
    "ExecuteTime": {
     "end_time": "2023-12-12T04:33:17.938785Z",
     "start_time": "2023-12-12T04:33:15.422638Z"
    }
   },
   "outputs": [],
   "source": [
    "# url 접속\n",
    "driver.get(url)\n",
    "time.sleep(2)"
   ]
  },
  {
   "cell_type": "markdown",
   "id": "b65463e5",
   "metadata": {},
   "source": [
    "excute_script()\n",
    "\n",
    "자바스크립트 함수"
   ]
  },
  {
   "cell_type": "code",
   "execution_count": 111,
   "id": "683558bc",
   "metadata": {
    "ExecuteTime": {
     "end_time": "2023-12-12T04:33:40.013815Z",
     "start_time": "2023-12-12T04:33:19.833035Z"
    }
   },
   "outputs": [],
   "source": [
    "#네이버 뷰는 최대 1050까지만 노출 # 스크롤 10번\n",
    "for i in range(10):\n",
    "    driver.execute_script('window.scrollTo(0, document.body.scrollHeight);')\n",
    "    time.sleep(2)"
   ]
  },
  {
   "cell_type": "code",
   "execution_count": 112,
   "id": "64853ade",
   "metadata": {
    "ExecuteTime": {
     "end_time": "2023-12-12T04:33:55.039902Z",
     "start_time": "2023-12-12T04:33:42.330842Z"
    },
    "scrolled": true
   },
   "outputs": [
    {
     "name": "stdout",
     "output_type": "stream",
     "text": [
      "{'title': '인공지능 기반 AI 로봇 똘똘이 로아이젠 돌봄 로봇 마이봄...', 'text': '인공지능 시스템이 우리 일상에 어느 정도 자리 잡아 나가고 있습니다. AI 로봇이 등장한 이후, 편리함을 추구함과 동시에 추후 휴머니즘이... 각설하고 이번 포스팅에서 소개하려는 제품은 인공지능 기반 AI 로봇 똘똘이 로아이젠 돌봄 로봇 마이봄이라는 제품입니다. 언박싱 및...', 'date': '4주 전'}\n",
      "{'title': '브로드컴 주가 실적 전망 인공지능 관련주 (배당도 훌륭)', 'text': '브로드컴은 분명한 인공지능 관련주 브로드컴, 미국 반도체 기업 중 하나인데, 사실 한국인들에게는 많이 낯선 기업이다. 하지만 인공지능 산업에서는 아주 핵심적인 기업이다. 생성형 AI 하면 GPU가 대표적으로 필요한 반도체 칩이다. 하지만 GPU 칩 1개만 필요한게 아니라...', 'date': '5시간 전'}\n",
      "{'title': '인공지능 영상 편집 기능을 가진 필모라로 동영상 오디오...', 'text': '최근 프로그램에 인공지능 기능을 도입하여 이전보다 편하게 기능을 사용할 수 있는 프로그램들이 점점 늘어나고 있습니다.... 필모라에도 인공지능 코 파일럿을 추가하였습니다. AI 편집 도구를 통해 더욱 쉽게 동영상 편집이 가능해졌고, AI 텍스트 기반 편집과 영상 변환이 가능한...', 'date': '3일 전'}\n",
      "{'title': 'AI 인공지능 관련주 대장주 TOP2!', 'text': 'AI 인공지능 관련주 대장주! 주식 투자 노하우 함께 공유! 11월도 오늘 포함 3일 남았네요. 날씨도 많이 추워지고, 인제 이렇게 추운... 오늘은 주식 관련해서는, 최근 시장에서 주목을 많이 받는 섹터인 AI 인공지능 관련주에 대해 한 번 살펴볼께요. © wocintechchat, 출처 Unsplash...', 'date': '2주 전'}\n",
      "{'title': '[12월 8일 마감시황] AMD 가 인공지능(AI)용 반도체를...', 'text': 'AMD의 인공지능(AI) 신제품 기대감에 나스닥 지수가 상승하며 외국인의 현·선물 순 매수 유입 확대에 시가총액 대형주 전반이 상승... 전날 인공지능(AI) 제미나이가 뒤늦게 시장의 주목을 받으며 5% 넘게 급등했던 알파벳은 이날 차익실현 매물로 고전 경쟁사 AMD가 AI...', 'date': '2일 전'}\n",
      "{'title': '인공지능 투자 엔비디아에 가려져 있던 AI ETF', 'text': '© markuswinkler, 출처 Unsplash 자산 7억 달러 규모의 Global X 인공지능 및 기술 ETF(AIQ)에 속한 두 종목, 아이온큐(IONQ)와... 하지만 인공지능 세대가 주식 시장을 구한 것은 사실입니다. 그렇다면 승자는 누구일까요? AI 투자 ETF로 © meric, 출처 Unsplash 일부 투자자는...', 'date': '2주 전'}\n",
      "{'title': 'AI관련주 인공지능시대를 이끄는 기업은?', 'text': 'AI(Artificial Inelligence) © coopery, 출처 Unsplash AI(인공지능)란 컴퓨터와 같은 기계적인것뿐만 아니라 인간의 학습능력과 추론능력, 지각능력을 인공적으로 구현하려는 기술 또는 그 연구 분야 등을 총칭하는 용어를 뜻합니다. 우리는 사실 몇년전만해도 AI를 경험한적이 있었습니다....', 'date': '5일 전'}\n",
      "{'title': '알짜배기 무료 인공지능 유튜브 동영상 요약 서비스...', 'text': '인공지능이 동영상 내용을 인식, 분석하여 텍스트로 요약을 해 준다. 어떤 내용을 알고자 할 때 동영상이라는 매체가 여러모로 편리한 점이... 인공지능 도구라 언어장벽을 뛰어넘는다는 사실은 큰 장점이다. 하지만 외국 도구들은 아무래도 한글 지원에 한계가 있다. 인식률이...', 'date': '2주 전'}\n",
      "{'title': '구글 네스트 미니 허브 AI 인공지능 스피커 구글홈 미니홈 설정...', 'text': '이번 포스팅에서는 구글 네스트 미니 허브 AI 인공지능 스피커 구글홈 미니홈 설정 설치 방법에 대하여 간단하게 작성을 해보도록 하겠습니다. 구글 네스트 미니 인공지능 AI 블루투스 스피커 홈미니 2세대 제품으로 색상은 블랙과 그레이가 있는데 그레이를 구매했습니다. 크기는...', 'date': '4일 전'}\n",
      "{'title': '매수 / 구글은 재미니(Gemini) 인공지능이 대중화되고있다', 'text': \"지수는 인공지능(AI) 관련주의 강세에 힘입어 일제히 상승 구글이 차세대 대규모언어모델(LLM) '제미나이'를 공개하면서다. 제미나이는 문서와 이미지, 오디오, 영상 등을 분석하고 추론할 수 있도록 설계 한국경제 4찬산업 혁명에서 주요 키워드였던 ‘ AI’ 처음...\", 'date': '3일 전'}\n",
      "{'title': 'AI 개발 위한 인공지능 동맹 구축 결정 (2023.12.06) [미국증시]', 'text': '글로벌 주요 마켓 및 특징주 ■ [미국 - AI] 메타, IBM 등 미국 대기업 오픈소스 방식의 AI 개발을 위한 인공지능 동맹을 구축 결정. 오픈소스 생태계를 구축하는데 방점을 찍었으며 안전과 모델 검증 위한 도구를 우선 출시 예정. ■ [미국 - 전기차]...', 'date': '6일 전'}\n",
      "{'title': '라인프렌즈 브라운 M-612 블루투스 스피커,AI(인공지능) 스피커', 'text': '휴대폰 제조사에서 처음 시작한 인공지능 스피커는 이제 웬만한 가정에서는 한두번 다 경험하셨고 내용도 다 아실정도의 친근한 스피커가 되었습니다. 블루투스 연결도 자유롭기 때문에 평소에는 인공지능 스피커로 사용하다가 집에 돌아와서 피곤한 몸을 안정시키기 위한 블루투스...', 'date': '3주 전'}\n",
      "{'title': '구글홈 네스트 미니 허브 AI 인공지능 스피커 특징은?', 'text': '오늘은 구글스피커 구글미니홈 홈미니 AI 인공지능 스피커 가정 IOT 제품 매력을 한번 살펴보려고 합니다. 집에서 보통 자주 듣는 스피커 어떤 종류를 사용하시나요? 저는 AI 인공지능이 탑재된 스피커를 이번에 처음 만나보게 되었는데요. 한마디로 말해서 삶의 질이 달라질 정도로...', 'date': '4시간 전'}\n",
      "{'title': '한국딥러닝 인공지능 수묵화 AI 생성 프로그램 신개념...', 'text': '인공지능의 발달은 우리 일상에 점점 상용화되어 가고 있으며 적지 않은 변화를 주고 있습니다. AI를 통해 자동으로 그림을 그리는 일이 가능한 것을 보고 이러다 인간이 설자리가 없어질 우려가 될 만큼 인공지능에 대한 향후 미래에 대한 의견이 분분하죠. 하지만 필자는...', 'date': '2주 전'}\n",
      "{'title': '개발자 공부,이직,취업준비 데이터, 딥러닝 인공지능 강의...', 'text': '학부 시절부터 이러한 인공지능에 대한 기술에 관심이 많았는데요. 하지만, 당시 이론 위주에 서적, 교육 인프라로 한계를 겪었습니다.... 초기는 시작 단계인 만큼 머신러닝, 인공지능에 필요한 학습 데이터 준비 및 데이터 모델 필요한 전체적인 과정 등 을 자세히...', 'date': '2주 전'}\n",
      "{'title': '일산 옷가게CCTV 대형 매장 효율적인 보안 인공지능cctv로', 'text': '옷가게cctv 또한 자비스넷의 장점 중 하나로는 자비스넷은 인공지능 영상보안에 최적화 된 자가영상보안 회사이기에 모든 카메라에 인공지능 영상분석 기능을 탑재하고 있습니다. 이 인공지능 영상분석으로 사용자가 내내 모니터를 보고 있지 않아도 상황이 감지되는...', 'date': '5일 전'}\n",
      "{'title': '인공지능(AI) 영상 통한 침수 영역 검출 솔루션 에너자이', 'text': '인공지능(AI) 전문 스타트업 에너자이는 과학기술정보통신부와 정보통신산업진흥원(NIPA) 주관하는 ‘AI융합 지역특화산업 지원사업’ 중... #AI융합지역특화산업 #인공지능 #AI융합지역특화산업지원사업 #AI솔루션 #테크노파크 #AI기반영상 #에너자이', 'date': '2주 전'}\n",
      "{'title': '불빛으로” 스마트시티 밝히는 ‘친환경 인공지능 전자현수막’', 'text': '‘친환경 인공지능(AI) 전자현수막’입니다. 전자현수막은 시의성과 독창성이 높은 제품으로, 지난 2023 조달청 나라장터 엑스포에서 큰 주목을 받기도 했습니다. 단순히 주변 경관을 밝히는 기술을 넘어서, 이제는 친환경과 (AI)을 접목한 기술로 만들어진 똑똑한 현수막이...', 'date': '3주 전'}\n",
      "{'title': '인공지능 AI GEN 2로 사진에서 일부만 움직이는 동영상...', 'text': '인공지능 AI GEN 2는 이메일을 입력하고 인증 절차를 거쳐서 로그인만 하면 한정된 크레디트로 해당 기능을 무료로 사용할 수 있습니다.... 인공지능 AI GEN 2에 대한 사용 팁 4가지가 나오는데 한 번씩 읽어봅니다. 사진을 사이트에 업로드하는 방식으로 AI 기능을 적용할 수...', 'date': '3일 전'}\n",
      "{'title': '반려동물의 건강을 위한 인공지능 AI 펫테크, SKT X Caliber', 'text': '인공지능(AI)이나 사물인터넷(IoT)을 활용한 제품들, 특히 반려동물의 건강 관리 제품들이 많이 등장하고, 주목을 받았습니다. 의사소통... 이미지 출처: SK텔레콤 뉴스룸 X Caliber는 AI(인공지능) 기반의 동물 진단 보조 서비스입니다. 동물 병원에서 반려동물의 엑스레이를...', 'date': '4주 전'}\n",
      "{'title': '교사 번아웃 방지를 위한 특급 인공지능 비서...', 'text': \"이런 상황에서 인공지능의 도움을 받으면 의외로 쉽게 문제를 해결할 수 있다. 매직스쿨의 교사 도우미 중 '수업참관 문구 작성 도우미... 생성형 인공지능 서비스들은 대부분 자동 번역을 할 수 있다. 즉 한글로 내용을 입력해도 영어로 자동인식한다. 예시로 장점, 단점, 기타...\", 'date': '2023.11.03.'}\n",
      "{'title': '현대차 인공지능 관련주 ( 현대자동차그룹 싱가포르 글로벌...', 'text': '현대차 그룹은 HMGICS에 ▲인공지능(AI), 로보틱스 등 첨단기술 적용된 고도로 자동화된 셀(Cell) 기반 유연생산 시스템 ▲현실과 가상을 동기화하는 디지털 트윈 기술 기반 효율적인 생산 운영 ▲데이터 기반 지능형 운영시스템 ▲인간과 로봇이 조화를 이루는 인간 중심의...', 'date': '2주 전'}\n",
      "{'title': '인공지능 ai 사진 만들기 Artbreeder 사용법', 'text': '버들붕어입니다.^^ 이번 시간에는 인공지능 ai 사진 만들기 Artbreeder 사용법에 대해 알아보도록 하겠습니다. ai 사진이란 인공지능이 임의로 생성한 이미지를 이야기하는데요. 실제 존재하지 않는 인물이나 풍경, 동물 등을 현실적으로 표현할 수 있기 때문에 다양한...', 'date': '2023.11.09.'}\n",
      "{'title': '인공지능(AI)으로 공공 건축공사 현장실시간 위험 감지합니다.', 'text': '위해 지능형 씨씨티비(CCTV), 붕괴·변위 위험 경보장치를 무상으로 지원하는 사업입니다. 스마트 건축 안전관리는 건설현장의 사고나 위험요소를 사전에 감지하여 대규모 피해를 선제적으로 예방하기 위한 것으로, 무선통신, (AI), 사물인터넷(loT) 등이 결합한 융복합...', 'date': '4일 전'}\n",
      "{'title': '상세페이지 제작 에디봇 인공지능에게 디자인 맡겨요', 'text': '온라인 쇼핑몰 창업을 계획하고 있거나 초보 창업하신 사장님에게 상세페이지 제작을 위한 인공지능 에디봇을 소개할게요. 상세페이지 제작 디자인 인공지능에게 요청하기 저는 웹디자이너 경력이 있긴 하지만 아직도 상세페이지를 제작하다 보면 이 자동으로 만들어주면...', 'date': '2023.10.23.'}\n",
      "{'title': 'LG U플러스,네이버 CLOCK+,인공지능 스피커 시계', 'text': '인공지능 스피커가 생활화되어 있는 요즘입니다. 전화브랜드별로 인공지능 스피커를 선보이고 있고 저역시 라디오, TV 컨트롤 용도로 잘 써먹고 있습니다. skt를 사용하기 때문에 누구스피커를 메인으로 사용하고 있기는 합니다만 타사의 스피커가 궁금할 때도 있습니다....', 'date': '4주 전'}\n",
      "{'title': 'ETRI, 로봇 자율 제품조립 인공지능 기술 개발', 'text': '로봇 자율 제품조립 지능 프레임워크 구성도 ETRI가 개발한 자율 제품조립 로봇 인공지능 기술은 △4개 부품의 강제 끼우기(snap-fit) △구멍 넣기(peg-in-hole) △나사 조이기(screw-fit) 같은 세 가지 방식으로 조립되는 자동차 서스펜션 제품 제작에 적용되었습니다. 성능은 로봇 두...', 'date': '3주 전'}\n",
      "{'title': '구글의 제미나이(Gemini), 인공지능의 미래를 어떻게 바꿀...', 'text': '지금까지 인공지능 모델 중 가장 똑똑하고 범용적이라고 하는데, 제미나이는 텍스트, 오디오, 이미지, 동영상 등 모든 형태의 입력을... 고객 서비스, 교육, 의료, 마케팅 등 다양한 분야에서 자연스럽고 유용한 인공지능 서비스를 제공할 것으로 기대되고 있다. 제미나이는 크게 두...', 'date': '3일 전'}\n",
      "{'title': '구글 네스트 미니 2세대 인공지능 AI 스피커', 'text': '구글 네스트 미니 2세대 인공지능 AI 스피커 살펴보겠습니다. 인공지능(AI) 스피커는 이제 우리 일상의 필수품이 되었습니다. 수많은 제품들 중에서도 구글의 네스트 미니 2세대 모델이 주목을 받고 있는데, 이 제품은 작은 크기와 심플한 디자인으로 많은 이들의 관심을 끌고...', 'date': '6일 전'}\n",
      "{'title': '사람을 대신하는 오감인공지능기술', 'text': '인공지능기술은 과연 사람의 기능을 어디까지 가능하게 해줄 것일까요? 과연 한계가 있을까 하는 생각도 들긴 하는데 현재 개발 중인... 시각, 촉각, 미각, 청각, 후각은 완전히 해결되지 않은 인공지능기술입니다. 인공지능 눈은 뉴런 소자에 빛을 주입하여 나타나는 주파수를...', 'date': '2023.11.02.'}\n",
      "{'title': '파이어플라이, 생성형 채우기로 인공지능 이미지 합성', 'text': '어도비 파이어플라이 인공지능 서비스가 시작되고 누구나 무료로 쉽게 활용해 볼 수 있게 되었습니다. 지난 포스팅에서는 텍스트 프롬프트를 통해 인공지능 이미지를 생성하는 기능을 소개해 드렸는데요. 오늘은 생성형 채우기를 통해 이미지 합성을 진행해 보도록...', 'date': '2주 전'}\n",
      "{'title': '혁신제품 ‘인공지능 기반 발전기기 진단장비’ [이 주의...', 'text': '조달청 혁신제품으로 해외시장에서 먼저 시범사용할 ‘인공지능 기반 발전기기 진단장비’ ‘인공지능 기반 발전기기 진단장비’의 가장 큰 특징은 인공기능 진단 기술을 이용하여 실제 산업현장에서 사용하고 있는 기기의 주요 고장 원인을 전문가가 분석하지 않고도 수행할 수...', 'date': '1일 전'}\n",
      "{'title': '구글 AI 인공지능 제미나이(GEMINI) Multimodal...', 'text': '플라스틱이랑 러버로 만들어졌구나 보면서 (인공지능이 추정) 잘 모르겠는데 손으로 오리를 누르고 꽥꽥 소리가 나니까 (인공지능이) 하는 말 오 물에 뜨겠는데 미!!!친!!! 장난 아니다. 꼭 한번 보시길 영상에 5분 후반대 부터 보시면 됨 수학 문제 푸는 것도 압권인데 17분부터...', 'date': '5일 전'}\n",
      "{'title': '온라인 퀴즈 서비스 대표주자 인공지능을 도입하다...', 'text': \"오늘은 퀴지즈에 새롭게 도입된 생성형 인공지능 활용 메뉴에 대해 소개하고자 한다. 1. 인공지능 활용 메뉴 사용자 대시보드에서 '만들기'(Create)를 선택한다. 퀴즈와 레슨 중 하나를 선택한다. 퀴즈는 하나의 시험지, 레슨은 퀴즈 문제와 함께 수업에 필요한 파워 포인트...\", 'date': '3주 전'}\n",
      "{'title': '제주기업, 인공지능 활용 모델 개발로 해외시장 공략 성공', 'text': '- 퀸텀솔루션‧플렉싱크‧넥스트이지, 2023 스마트시티엑스포서 해외 기업과 수출 계약 체결 - 제주도, 인공지능(AI) 융합 지역특화산업 지원사업 통해 관련 기업 지속 육성 제주도에 있는 기업들이 개발한 인공지능 활용 모델이 해외 수출 계약을 맺어 주목을 받고...', 'date': '3주 전'}\n",
      "{'title': 'AI 인공지능 대체가능 업무들', 'text': 'AI 인공지능 대체가능 업무들 이제 AI 인공지능이 상용화되면서 그림이나 문학, 스토리 등 예술 분야까지도 영역을 넓혀가고 있는데요. 가까운 미래 ai로 대체될 가능성이 큰 직업들 기자, 변호사, 의사 등 명확한 지식들은 아무래도 AI 이 월등한 실력을 나타낼 거...', 'date': '2023.10.22.'}\n",
      "{'title': '성동구 물류창고의 화재감시CCTV 더욱 안전하게 인공지능으로', 'text': '화재cctv 이러한 공간에 보안과 화재 감시를 동시에 할 수 있는 인공지능cctv를 설치하면 좋은 효과를 누리실 수 있지 않을까, 그... 같이 인공지능cctv에 온도, 습도, 연기, 미세먼지 등 화재에 기초가 되는 실내 환경을 감지하는 실내 환경 감지 센서가 탑재되어 있어 화재 감지와...', 'date': '20시간 전'}\n",
      "{'title': 'MLOps 데이터,인공지능 인터넷강의는 패스트캠퍼스...', 'text': '인공지능 초격차 패키지 온라인 강의가 있어 좋은 기회로 수강해 봤습니다. 특히 실무 기반의 MLOps 파이프라인 구축 노하우를 학습할 수 있었는데요. 어떤 특징이 있는지 살펴보겠습니다. 지금 시작할게요 : ) 1. 초격차패키지 인터넷강의 특징 강의 목표는 AI...', 'date': '2주 전'}\n",
      "{'title': '인공지능학과 다들 이렇게 한다는데?', 'text': '인공지능은 사회 전반에 걸쳐 많이 사용되는 기술인데요. 이제는 생소한 분야가 아니죠. 그만큼 학위+자격증 확보를 통해, 다양한 진로를 모색할 수 있어서 인기인데요. 만약, 이번 입시에서 인공지능학과를 목표로 한다면? 좀 더 유리하고, 빠르게 학위 취득을 하고 진로 확보까지...', 'date': '6일 전'}\n",
      "{'title': '현장 교원이 주도하는 ‘인공지능(AI)‧디지털 교육혁신...', 'text': '첨부파일 [교육부 12-01(금) 조간보도자료] 현장 교원이 주도하는 ‘인공지능(AI)‧디지털 교육혁신 우수사례’ 확산.pdf 2023년 아이에답(AIEDAP) 사업 성과보고회 개최 마스터교원(846명), 리더교원(1,500명)의 인공지능(AI)‧디지털 교육 실천 사례 공유 및 2024년 현장 안착...', 'date': '2주 전'}\n",
      "{'title': '기-승-전-인공지능=챗GPT 의 시대', 'text': '지금은 기.승.전.인공지능 이라는 말에 대해 토를 달 사람은 없다고 생각합니다. 한단계 더 나아가서 기.승.전.챗GPT 라는 것으로 정리가... 말 잘 하는 인공지능도 대단하지만, 말을 이해하고 그림을 그려주는 인공지능... 와우~ 제 전공이 디자인이라서 그런지.. 더욱 매력적입니다....', 'date': '2023.11.03.'}\n"
     ]
    },
    {
     "name": "stdout",
     "output_type": "stream",
     "text": [
      "{'title': '성원정보기술 인공지능(AI) 제조공정 지능화 시스템', 'text': '대구지역 소프트웨어개발업체 성원정보기술에서 개발한 인공지능(AI)기반 제조공정 지능화 시스템을 이용하면 제품의 배합에 영향을 미치는 다양한 데이터를 수집하고 수집한 데이터를 분석하여, 원료 간의 상관관계, 최적 배합 비율 등을 파악해서 사용자가 입력한 조건을...', 'date': '2주 전'}\n",
      "{'title': '수묵화 예술 작품을 인공지능으로! 한국딥러닝 생성형 AI SUMUK', 'text': '분명 인공지능은 우리의 일상 그리고 산업을 변화시키고 있습니다. 예술 역시 마찬가지에요. 예를 들어 AI 그림, 수묵화를 인공지능으로 만드는 것과 같은 거 말이죠. 우리나라에도 AI 생성형 인공지능을 활용한 예술 프로젝트가 있습니다. 한국딥러닝AI사업-K-Art 수묵화와 관련된...', 'date': '2주 전'}\n",
      "{'title': '네이버 AI 큐(Cue:), 이제 특화된 대화형 인공지능!', 'text': '네이버 AI 클로바X가 서비스된지 얼마 되지 않았는데 네이버에서 추가로 새로운 인공지능 서비스가 시작되었습니다. 바로 네이버 AI 큐(Cue... 기존 검색 사이트를 이용하는 방식과 달리 인공지능으로 원하는 정보를 좀 더 빠르게 확인할 수 있어 맘에 드네요. 앞으로의 새로운...', 'date': '2023.10.04.'}\n",
      "{'title': '디지털금융 특강시리즈 1주차(ft. 산업인공지능, 강화학습)', 'text': '1주차 특강 주제는 산업인공지능과 Python 입문이었다. IFC 출입증도 발급받았는데 특강기간 중에 여의도 교육장을 쓸 수 있다고 한다.... 산업인공지능 : 의사결정을 위한 인공지능 KAIST 산업및시스템공학과 박진규 부교수 LG CNS, KAIST와 협력해 교육 프로그램 신설...', 'date': '4주 전'}\n",
      "{'title': '영국 인공지능(AI) 산업동향', 'text': '□ 인공지능 관련 규제에 대해 친혁신 프레임워크로 유연한 규제 방향 채택 □ AI 안정성 정상회의, 국제사회의 인공지능 개발 안전성과 책임 강조·공감 © elenikoureas, 출처 Unsplash 기후변화에서 의료에 이르기까지 다양한 산업 전반에서 (AI)의 활용이...', 'date': '13시간 전'}\n",
      "{'title': '인공지능 AI 스타트업 성과보고 _ 사업계획서 ppt 예시샘플...', 'text': \"기획보고발표연구소 이석우강사 <인공지능 AI 스타트업 성과보고 _ 사업계획서 ppt 예시샘플 목차양식 _ 프레젠테이션 IR 스피치말하기 광주전남 강사강의> 안녕하세요. '평범한 사원도 칭찬받는 사내 프레젠테이션 101' 저자 이석우입니다. AI 산업 일선에서...\", 'date': '2주 전'}\n",
      "{'title': '인공지능 AI 사진 보정 편집 프로그램 Evoto 써보니', 'text': '원클릭 편집으로 자동으로 보정되는 타사 툴은 다양하지만 인공적인 느낌이 드는 경우가 부지기수이지만 이 프로그램은 하나의 시리즈... 지금까지 인공지능 AI 사진 보정 편집 프로그램 Evoto에 대해 알아보았는데요. 확실히 써볼 만한 툴이죠? 물론 유료형 프로그램이며 크레딧...', 'date': '4주 전'}\n",
      "{'title': '딥페이크 뜻, AI 인공지능 기술 살펴보자', 'text': '딥페이크(Deepfake) 기술은 인공지능(AI)과 딥 러닝을 활용해 실제로 존재하지 않는 사람의 이미지나 비디오를 생성하거나 기존의 이미지나... 딥페이크 기술의 핵심은 인공신경망, 특히 생성적 적대 신경망(GAN)에 있습니다. GAN은 두 개의 네트워크, 생성자(generator)와 판별자...', 'date': '2주 전'}\n",
      "{'title': '용인 주유소CCTV 실외의 안전을 확실하게 하는 인공지능...', 'text': '경기도 용인시의 셀프주유소, 안전을 책임지는 인공지능cctv 수도권cctv 운전자 분들이라면 꼭 들리는 장소, 바로 주유소 입니다. 요즘은... 바탕으로 인공지능cctv를 곳곳에 설치하였습니다. 주유소cctv 이번에 설치를 진행한 카메라는 영상분석 기능이 포함된 400만...', 'date': '3일 전'}\n",
      "{'title': '국내 AI 인공지능 관련주 대장주 의료 반도체 챗GPT 종목 소개...', 'text': '국내 AI 인공지능 관련주 대장주 의료 반도체 챗GPT 종목 소개 및 현황 정리 최근 국내 증시는 테마주들이 이끌고 가고 있다고 해도 무방한 상황입니다. 그리고 현재 이러한 손바뀜이 현상이 계속 이어지고 있는 가운데 다시 국내 AI 관련주들이 관심을...', 'date': '2023.09.04.'}\n",
      "{'title': '그려달라고 했더니... #생성AI (인공지능 학습 데이터의 중요성)', 'text': '(그림을 말로만 가르치거나 배울 수는 없는 듯 해요) 이번엔 인공지능이 흰 소에 집중하며 디지털 아트로 만 그려주었을 뿐 아예... 할루시네이션은 점점 많은 인류의 노력으로 줄고 있고, 좀 더 우리 인간의 감성과 사상, 문화의 차이를 체득한 을 만날 걸로 기대해...', 'date': '2주 전'}\n",
      "{'title': \"내년 CES 2024 키워드는 '인공지능(AI)'\", 'text': \"내년 1월 열리는 세계 최대 가전·IT 전시회 ‘CES 2024’에서 최대 화두로 '인공지능(AI)'이 주목받을 전망입니다. 생성형 AI의... 주인공이 될 유망주 기업들을 만나볼 수 있습니다. 디지털 헬스 디지털 헬스 분야는 팬데믹 이후 더욱 주목받고 있는데요. CES 2024에서는...\", 'date': '2023.11.02.'}\n",
      "{'title': '인공지능(AI) 디지털교과서 법적 지위를 얻다', 'text': '이번 개정안에는 인공지능(AI) 디지털교과서가 차질 없이 개발되고 학교 현장에서 안정적으로 사용될 수 있도록 디지털 교과서의 정의, 검정 절차별 필요 사항을 담았다. 즉, 디지털교과서를 지능정보화 기술을 활용한 학습지원 소프트웨어로 정의하고, 기술결함 조사 및 기술...', 'date': '2023.10.17.'}\n",
      "{'title': '신기술 - 인공지능', 'text': '인공지능 개발자/관련 사업 준비하는 분들 만나면 어떤 상황인지를 묻곤 하는데, 많은 사람들이 기술의 영향을 덜 받는다고 생각하는... 학부명에 인공지능을 추가했는데, 막상 뭘 어떻게 가르칠지.. 국내 대학 교수님들은 새로운 지식 습득에 진심이므로, 말도 안되는 주장이라고...', 'date': '4주 전'}\n",
      "{'title': '제조현장 문제, 데이터와 인공지능으로 푼다', 'text': '중소벤처기업부(장관 이영)는 28일 aT센터에서 ‘제3회 K-인공지능 제조데이터 분석 경진대회(이하 경진대회)’ 시상식을 개최하고 입상한 8개 팀을 시상했습니다. 올해로 3회째를 맞는 경진대회는 제조데이터와 인공지능을 활용하여 제조현장의 문제를 해결하는...', 'date': '2주 전'}\n",
      "{'title': '인공지능이 과연 인류를 지배할까? 약인공지능과 강인공지능', 'text': '강인공지능은 일반적으로 모든 상황에 대해 스스로 행동과 학습이 가능하며, 그것을 수행할 수 있는 인간 수준의 지능을 지닙니다. 현재 인류의 인공지능 발달 단계는? 현재 인공지능의 발전 단계는 어느 정도까지 와 있는 걸까요? 사실 현재까지는 강이라고 불릴 만한...', 'date': '2일 전'}\n",
      "{'title': '미디어와 인공지능의 만남', 'text': '인공지능의 발달로 인해 현재 미술, 예술, 음악 등 많은 분야에서 변화가 일어나고 있습니다. 사람이 원하는 그림을 입력만 하면 키, 몸무게, 인종 등에 따라 완벽히 그려 나가는 인공지능 기술을 보고 많은 사람들이 놀람을 금치 못했습니다. 음악도 작곡, 작사를 내가 원하는 부분만...', 'date': '2023.10.21.'}\n",
      "{'title': '전참시 자이언티 ai 어플 앱 챗봇 챗gpt 인공지능...', 'text': '전참시 자이언티 ai 어플 앱 챗봇 챗gpt 인공지능 사용방법 여러분 안녕하세요 오늘은 자이언티 ai 관련하여 어플과 앱이 무엇인지 챗봇 사용방법 등에 대해서 알려드리도록 하겠습니다 어제 전참시 자이언티가 나왔는데요 대화형 챗gpt가 나와서 진짜 놀라웠던 것 같아요!!!...', 'date': '1일 전'}\n",
      "{'title': '인간의 잠재력과 인공지능-Human Potential & AI', 'text': '인공지능(AI)로 인해 많은 직종이 사라질 것이라는 이야기를 자주 듣는다. 개인과 조직의 성공을 위해 필요한 인력 구성도 달라진다.... 인공지능을 어떻게 활용해야 더 창의적이고 생산적으로 일할 수 있을지 더 전략적으로 생각해야 한다. 어디에나 있는 을 어떻게...', 'date': '2주 전'}\n",
      "{'title': '서초구 치과CCTV 병원의 감시카메라 문의 인공지능cctv로 해결', 'text': '인공지능cctv 이 제품을 포함해 자비스넷의 모든 카메라는 자가설치임을 막론하고 모두 인공지능 영상분석 기능을 도입하였는데요, 인공지능 자가보안 이 인공지능 영상분석 기능으로 여러 상황에 대한 감지가 가능한데요, 이 모든 상황들은 고객님의 스마트폰 속 전용...', 'date': '6일 전'}\n",
      "{'title': '매장 가게CCTV 인공지능 보안으로 빈틈없는 감시 솔루션 완성', 'text': '경기도 일산의 과일가게cctv 왜 인공지능으로 설치해야 할까요? 경기cctv 퇴근하고, 아니면 주말에 시간이 날 때 비어있는 냉장고를... 알려주는 인공지능cctv를 설치하게 되었습니다. 인공지능 영상분석 자비스넷에서 제공하고 있는 모든 cctv의 경우 영상분석 기능을...', 'date': '2주 전'}\n",
      "{'title': \"[K-인공지능] 한국 수묵화 그림 생성형 AI 예고, 'K-Art...\", 'text': '이미 인공지능은 글로 설명하면 그림으로 그리는 단계(Text to Image)를 넘어서 동영상(Text to Video & Image to Video)과 3D 모델링(Text to 3D)까지... 보여드렸듯이 인공지능은 실행하는 입력값대로 편집되는 포토샵과는 달리 창의적 발상을 곁들여 재해석된 결과를 보여줍니다. 이...', 'date': '2주 전'}\n",
      "{'title': '디지털치료기기·인공지능(AI) 건강보험 등재 가이드라인 마련', 'text': '디지털치료기기·인공지능(AI) 건강보험 등재 가이드라인 마련 기존 현행 건강보험 제도 상 혁신의료기술(AI, 3D프린팅 등)에 대한 건강보험... 의료기기 인공지능(AI) 의료용 빅데이터를 인공지능 기술로 분석하여 질병을 진단, 관리, 예측하여 의료인의 업무를 보조하는 소프트웨어...', 'date': '4주 전'}\n",
      "{'title': '인공지능시험 AICE BASIC 시험 후기', 'text': 'AT에서 운영하는 인공지능 시험 AICE BASIC을 봤습니다. 일단 처음에 인공지능 시험이 있다는 것을 알면서 뭔가 새로운 것이라 배워보기로 했는데요. 나름 만족스럽더라고요. 그래서 시험 본 내용을 좀 정리해 봤습니다. 먼저 이론 정리 지도학습 어떤 값을 예측하고자...', 'date': '1일 전'}\n",
      "{'title': '클럽 2023 하반기 회의, 챗GPT와 인공지능AI이 가져올 미래', 'text': '한국에서도 챗GPT가 개발되었으면 좋겠습니다. 네이버의 큐는 이제 걸음마를 막 시작한 아기(지능 수준이) 같아 보입니다. 2023.11.22. Jeonju 전북 글로벌 비즈니스 클럽 2023 하반기 회의 #더메이호텔 전주 2023 #챗GPT #AI # 행사 안내', 'date': '3주 전'}\n",
      "{'title': '인공지능 사진 편집 프로그램 Evoto AI로 쉽게 사진 몸매...', 'text': '기술의 발전으로 많은 것을 이뤘지만 최근 가장 눈에 띄는 것은 역시 인공지능 AI라고 할 수 있을 것 같습니다. 특히 요즘에는 이 인공지능을 이용한 사진 보정이 정말 핫한데요~ 사진 보정에 대한 지식이 없어도 메뉴에 있는 슬라이스 바만 움직여도 만족스러운 결과를 보여줘...', 'date': '2023.10.27.'}\n",
      "{'title': '생성형 AI, 딥러닝, LMM, 인공지능 (시간과 비용을 아껴주는...', 'text': '생성형 AI AI가 그려준 생성형 ai ↓ 다음 주인공은? PC(원도우/D램)→ 인터넷 →모바일/클라우드 → AI(모빌리티/GPU) → 인공지능 ? ↓ 3차산업혁명 → 4차산업혁명 ↓ 인류 최대 발명품 세탁기 ↓ 시간을 아껴주는 악마의 유혹 AI 인류의 시간을 아껴 주는 AI ↓ AI...', 'date': '2일 전'}\n",
      "{'title': '인공지능 사진 편집 프로그램 Evoto AI(이보토) 순식간에...', 'text': '인공지능 기술의 발전은 고전적인 사진 편집 및 보정 작업 루틴의 큰 변화를 일으켰어요. 각종 도구와 브러쉬를 활용하여 보정이 필요한 부분을 노가다처럼 일일이 수정하는 기존 작업 과정을 인공지능이 축적한 빅데이터를 기반으로 쉽고 빠르게 완료할 수 있게 되었으니까요....', 'date': '4주 전'}\n",
      "{'title': 'chatGPT생성형 인공지능 LAB 탐방', 'text': '대전사이언스페스티벌 기간(2023년 10월 20일~22일)동안 연계행사로 SPACE-S에서 \" chatGPT 생성형 인공지능 LAB 탐방\" 이란 제목으로 행사를 진행했습니다. SPACE-S는 인공지능 협업공간으로 AI 기술을 활용한 (예비)창업자와 기업을 지원하는 공간입니다. 일반인에게 공개되지 않는...', 'date': '2023.10.23.'}\n",
      "{'title': '호주의 인공지능 혁신: 미래 성장을 위한 전략적 투자', 'text': '□ 호주 정부, 인공지능 기술을 미래 성장 기술로 인식하고 집중 연구 및 투자 □ 공공과 민간 부문에서 AI 기술을 적극 활용하여 호주 인공지능 산업의 발전을 촉진 중 © joey_csunyo, 출처 Unsplash 호주는 인공지능(AI)에 대한 투자가 활발하며, 이를 통해 다양한 분야에서...', 'date': '6일 전'}\n",
      "{'title': '항행안전시설 국제세미나…위성·인공지능 활용 항공안전 방안...', 'text': '항행안전시설 국제세미나…위성·인공지능 활용 항공안전 방안 모색 항공교통의 안전을 위해 2023년말 항공위성을 이용한... 정용식 국토부 항공정책실장은 \"최근 원격조종항공기, 자동화된 인공지능이 혼합된 항행안전기술의 발전에 따라 항공교통체계에 많은...', 'date': '6일 전'}\n",
      "{'title': 'AI 인공지능 사진편집 포토샵이 어렵다면 Evoto 프로그램 추천', 'text': '하루가 멀다하고 새로운 AI 인공지능 프로그램이 나오고 있다. 사진편집도 예외는 아니다. 대표적인게 포토샵이다. 하지만 여전히 초보들이 사용하기에는 어렵다. 오늘 소개할 Evoto 프로그램 또한 인공지능 사진편집 기능을 제공한다. 무엇보다 쉽다는게 장점이다. 본문에서는...', 'date': '2023.11.02.'}\n",
      "{'title': '인공지능을 활용한 스마트한 일상, 초거대AI 총정리!', 'text': '인공지능은 어느새 우리의 일상 깊숙이 침투해 함께 공존하고 있습니다. 과거 간단한 명령만 실행하던 인공지능이 이제는 의료, 법률, 문화예술 분야로 내용이 확대되면서 거의 모든 영역에서 인공지능을 활용하는 사람들이 늘어나고 있습니다. 이러한 의 확대를...', 'date': '2023.09.19.'}\n",
      "{'title': '유튜버 조코딩의 텍스트 투 에브리씽 인공지능 추천도서', 'text': '요즘 인공지능에 대해 관심을 갖고 있어서 읽게 되었는데요. 일단 조코 딘이라는 분이 이 분야에 정통하신 분이라는 사실을 알게 되었고요. 인공지능에 대한 대부분의 모든 정보가 들어있는 책입니다. 그래서 에브리씽이라고 작성한 것 같아요. 많은 정보를 소개하기 때문에...', 'date': '4주 전'}\n",
      "{'title': '[12월 20일 특강 마감 공지] 외식업 경영자를 위한 인공지능...', 'text': \"#상권분석전문가과정 #소상공인을위한특강 #인공지능활용 #2024외식산업트렌드예측 #경영마케팅전략 #한경기획 #청년다방 온라인마케팅MBA, 상권분석전문가과정 김영갑 교수입니다. 며칠 전에 공지하였던 12월 20일 진행하는 '외식업 경영자를 위한 활용 경영 및 마케팅...\", 'date': '1일 전'}\n",
      "{'title': '인공지능이 불러올 충격파 그리고 남은 숙제 (ft. 빌 게이츠)', 'text': '인공지능은 거의 모든 활동과 삶의 모든 영역에서 도움을 줄 수 있게 될 것입니다. 소프트웨어 비즈니스와 사회에 미칠 파급 효과는... 인공지능이 다음 플랫폼이 될 것입니다. © redaquamedia, 출처 Unsplash \"새로운 앱이나 서비스를 만들려면 에게 원하는 것을 말하기만...', 'date': '1주 전'}\n",
      "{'title': '동대문 치킨집CCTV 식당의 감시 필요한 부분을 인공지능과 함께', 'text': '호프집cctv 이러한 안전사고 관리와 더불어 침입 등의 상황을 감시하기 위해 자비스넷의 인공지능cctv를 이곳에 설치하였습니다. 그렇다면 인공지능cctv는 왜 인공지능이란 단어가 붙여서 나올까요? 이것은 자비스넷에서 서비스하는 영상분석 기능과 관련이...', 'date': '4일 전'}\n",
      "{'title': '과천시, 인공지능(AI)기반 「지능형교통체계(ITS) 고도화...', 'text': '교통기술 교통 안전&편의뿐만 아니라, 교통관리 효율을 높여 탄소 배출을 줄이는 친환경적 교통체계 구현을 위해 지속적으로 노력하겠습니다! #과천시 #과천시청 #ITS #지능형교통체계 #고도화 #AI #인공지능 #첨단기술 #도입 #적용 #스마트교차로 #긴급 #통행 #긴급차량 #우선신호', 'date': '6일 전'}\n",
      "{'title': \"인공지능 AI '뤼튼' 전면 무료제공으로 푼다는 반가운 소식\", 'text': \"인공지능 AI '뤼튼' 전면 무료제공으로 푼다는 소식 © iammottakin, 출처 Unsplash 뤼튼이 모두에게 한도 없는 AI를 제공하는 이유 뤼튼 인공지능은 발전을 거듭하고, 생성 AI의 영향력은 산업의 경계를 넘어 우리 일상의 모든 측면에 스며들고 있습니다. AI의 등장으로 우리는...\", 'date': '3주 전'}\n"
     ]
    },
    {
     "name": "stdout",
     "output_type": "stream",
     "text": [
      "{'title': '생성형 인공지능 바이블-Generative AI Bible', 'text': \"시장조사/기업분석 전문회사 CB 인사이트는 '생성형 인공지능 바이블'을 펴냈다. 122쪽 자료가 공개되어 배울 목적으로 한글 130쪽으로 정리했다. 배경과 개발 역사, 주요 이벤트 타임라인, 향후 향방 예측, 25분야 시장과 335개 공급 업체, 투자 현황, 전문가들이 엄선한...\", 'date': '3주 전'}\n",
      "{'title': '온도에 민감한 농원에 화재감시까지 더한 인공지능CCTV', 'text': '일반 인공지능 영상분석으로 인한 침입 등에 대한 보안 역시 제공하고 있어 많은 사업주분들이 찾는 보안 솔루션입니다. 경기cctv... 대한 인공지능 영상분석을 제공합니다. 수도권cctv 이 실내 환경을 감지하는 것은 화재의 기초가 되는 상황을 감지해 초기에 바로 대응할 수...', 'date': '5일 전'}\n",
      "{'title': '생성형_인공지능_공부 3-Exploring Generative AI', 'text': '인간만이 가질 수 있는 지능이라고 생각해 왔다. 그러나 역사상 처음으로 많은 분야에서 대부분의 인간보다 뛰어난 기계 지능을... ● 힘과 예측-인공지능의 파괴적 경제학 토론토대학 로트만 경영대학원 경제학 교수 아제이 아그라왈(Ajay Agrawal), 조슈아 갠즈...', 'date': '6일 전'}\n",
      "{'title': '우리와 대화하는 인공지능, 챗봇', 'text': \"우리와 대화하는 인공지능, 챗봇 김은정 기자 여러분은 챗봇이 뭔지 아시나요? 챗봇이란 채팅과 로봇의 합성어이며 문자 또는 음성으로 대화하는 기능이 있는 인공지능을 말합니다. 최근 주변에 많은 챗봇이 우리를 도와주고 있는데요 비서 애플의 '시리' 삼성의 '빅스비...\", 'date': '6일 전'}\n",
      "{'title': '오산시, 먼저 만나는 미래 <인공지능(AI)코딩에듀랩> 개관!', 'text': '오산시가 지난 21일 디지털 교육 전용 공간 ‘오산인공지능(AI)코딩에듀랩’을 개관했습니다. 이곳은 관내 청소년들이 인공지능, 자율주행 등 미래 기술을 체험할 수 있도록 한 장소로, 민선 8기 오산시가 중점적으로 추진한 사업으로, 지난 9월부터 시범 운영을 거쳐 정식...', 'date': '2주 전'}\n",
      "{'title': '구글이 만든 딥드림 그림을 그리는 인공지능 화가(AI)', 'text': '학습 인공지능 구글에서 만든 AI 화가 2016년 발표된 구글이 만든 컴퓨터 비전 프로그램 인공신경망에 기반을 둔 딥러닝 시각 이미지 창조 기술 수백 개의 연습 샘플을 이용해 인공신경망을 훈련시켜 사물을 분별할 수 있도록 한 후에 수많은 데이터에서 패턴을 구분해 낸...', 'date': '5일 전'}\n",
      "{'title': '생성형_인공지능_공부 4-Exploring Generative AI', 'text': '인간과 공존하는 인공지능 ● AI와 통제 문제: 인공지능, 알고리즘, 기계학습을 연구하는 UC버클리 컴퓨터공학 교수 스튜어트 러셀(Stuart Russell)은 기계가 날로 지능화되는 세상에서 인간과 인공지능이 어떻게 공존할 수 있는지 질문을 던진다. AI 시스템 접근 방식을...', 'date': '5일 전'}\n",
      "{'title': '[충무로cctv] 음식점 화재 감시까지 인공지능CCTV로 하는 법', 'text': 'AI 영상 화재 감시 솔루션 이 AI 영상 화재 감시 솔루션은 특수 인공지능cctv를 이용해 상황 발생 시 고객님께 실시간 알림을... 자비스넷의 솔루션의 장점을 꼽으라면 이러한 화재 솔루션에도 원하시는 보안을 더욱 추가하실 수 있다는 것인데요, cctv 더욱 확실한...', 'date': '1주 전'}\n",
      "{'title': 'KT의 초거대 인공지능(AI) ‘믿음(Mi:dm)’ 알아보기', 'text': 'KT가 매개변수 최대 2,000억 개 수준의 초거대 인공지능(AI) ‘믿음(Mi:dm)’을 공개하였습니다. 출시 모델은 베이직, 스탠다드, 프리미엄... 오늘은 KT의 초거대 인공지능(AI) ‘믿음(Mi:dm)’에 대해 알아보았습니다. 기업은 용도에 맞춰 AI 모델을 선택하고 미세조정(파인 튜닝)을...', 'date': '3주 전'}\n",
      "{'title': '[인공지능 활용하기] 무료로 사진 배경 이미지 지우기 및...', 'text': '오늘 인공지능 활용하기 주제는 \"무료로 사진 배경 이미지 지우고 편집하기\"입니다. 활용할 인공지능 플랫폼은 Remove.bg로 해외 사이트입니다. https://www.remove.bg/ 현재 무료로 사용되고 있어 업무에 편리하게 활용할 수 있습니다. 사이트에서는 아래와 같이 사진의 이미지 배경에...', 'date': '3주 전'}\n",
      "{'title': '사진편집 프로그램 Evoto AI 인공지능 인물 보정', 'text': '따라서 오늘은 이런 시간을 줄여줄 수 있는 인공지능 AI 사진 편집 프로그램 Evoto AI 프로그램에 대한 소개를 한다. Evoto 편집 프로그램 인물 사진 리터칭 기능 포토샵 같은 사진 편집프로그램을 활용하여 사진 편집이 가능하지만 아무래도 직접 일일이 리터칭을 해야 되는...', 'date': '2주 전'}\n",
      "{'title': '인공지능이 또 저를 울리네요', 'text': '그동안 인공지능이 개발되고 세상이 경천동지 상전벽해되어 강호에 나설까 하면 태클을 거는 족속들 때문에 고민이 많았는데 ... 아 ... 챗... 그래그래 우리나라 인공지능 화이팅이다 ! 라고 하려고 했는데 야 ... 뭐라고라 ?? 휴우 ... 이제 한테도 무시받는 사람이 되었나 ...', 'date': '2023.10.08.'}\n",
      "{'title': '생성형 인공지능 공부 1 -Exploring Generative AI', 'text': \"자율적이고 지능적이며, 자기 복제 알고리즘을 기반으로 구축한 인공지능(AI)은 양자 컴퓨팅으로 가속하여, 모든 것을... 인공일반지능(AGI)의 급속한 발전으로 AI가 독자적인 생명을 갖게 되는 이른바 특이점(Singularity)이 다가올 조짐을 보이자, '진보와 신중...\", 'date': '2주 전'}\n",
      "{'title': '‘인공지능·첨단바이오 전략로드맵’ 수립', 'text': '미래혁신을 이끌 초격차 기술 확보전략, ‘인공지능·첨단바이오 전략로드맵’ 수립 2023.10.31 과학기술정보통신부 과학기술정보통신부... 개최하고, 인공지능, 첨단바이오 분야의 ‘국가전략기술 임무중심 전략로드맵(Ⅱ) - 미래혁신 분야’(이하 ‘전략로드맵’)를 심의·의결...', 'date': '2023.10.31.'}\n",
      "{'title': '갤럭시S24 울트라의 인공지능 삼성 가우스(Samsung Gauss)...', 'text': '삼성이 자체 개발한 인공지능 모델 삼성 가우스가 과연 얼마나 높은 만족도를 선보이게 될지 주목됩니다. 얼마 전에 갤럭시S24... 개인적으로는 인공지능 삼성 가우스만큼이나 기다리는 것은 위성통신폰이 될 것이냐입니다. 갤럭시S24 울트라 출시는 빠르면 2024년 1월...', 'date': '2주 전'}\n",
      "{'title': '대구시 120달구벌콜센터 인공지능(AI) 상담', 'text': '인공지능(AI) 상담 대구 뉴스/기타 by 요즘대구 2023. 11. 22. 15:25 공감 대구광역시 120달구벌콜센터는 콜시스템 개선, 음성 AI상담에 필요한 AI상담 환경 구축 및 민원인이 휴대폰 화면에서 간단한 행정업무 처리 가능토록 보이는 ARS 서비스 제공(’23.12.1.시행)으로 (AI)...', 'date': '3주 전'}\n",
      "{'title': '리테일 업계의 인공지능(AI) 사용 원칙 4가지', 'text': '리테일 업계의 인공지능(AI) 사용 원칙 4가지 New Tech/AI(인공지능) by 마켓캐스트 2023. 12. 1. 08:30 공감 전미소매협회(NRF)는 오늘 소매업계의 인공지능(AI) 거버넌스 및 전략 계획을 지원하기 위해 소매업계의 인공지능 사용 원칙을 발표했다. 디지털 리스크 및 혁신 센터를...', 'date': '2주 전'}\n",
      "{'title': '생성형 인공지능(AI)으로 만들어진 제니퍼 로페즈의 가상...', 'text': '생성형 인공지능(AI)으로 만들어진 제니퍼 로페즈의 가상 캐릭터(Jen AI)는? 디지털마케팅 by 마켓캐스트 2023. 12. 4. 08:30 공감 크루즈... 가수 겸 댄서이자 배우인 제니퍼 로페즈는 인공지능(AI) 프로그램에 자신의 모습을 부여한 최초의 유명인이 되어 사람들을 항해에...', 'date': '2주 전'}\n",
      "{'title': '갤럭시S24 울트라 인공지능(AI) 가우스 위해 베이퍼 챔버...', 'text': '삼성전자의 최신폰 갤럭시S24 울트라에 탑재될 인공지능(AI) 가우스(GAUSS)에 대해 기대가 많아지고 있습니다. 애플의 아이폰15 프로보다 빨리 적용되어 더 기다려집니다. 물론 애플이 아이폰16 프로에 인공지능을 탑재하게 될지는 아직 모르겠습니다. 물론 갤럭시S24...', 'date': '1주 전'}\n",
      "{'title': '쉽고 재미있게 배우는 인공지능···NIA, 대국민 인공지능...', 'text': 'NIA 한국지능정보사회진흥원 >한국지능정보사회진흥원 www.nia.or.kr 한편, ⌜인공지능 훈민정음⌟ 보고서는 ‘NIA 누리집(www.nia.or.kr) - 지식정보 – 간행물 – 지능사회 이슈분석’를 통해 누구나 열람할 수 있다. 공감 구독하기', 'date': '20시간 전'}\n",
      "{'title': '인공지능 데이터라벨링 알바 크라우드웍스 택한이유', 'text': '더욱 더 핫하다 요즘은 인공지능 관련 기술이 널리 쓰이고 있다. 예컨대 누구나 갖고 있는 스마트폰만 따져봐도 그렇다. 스마트폰... 또한 시리와 빅스비 같은 인공지능 시스템은 이미 보편화 된 지 오래다. 그리고 이런 기술은 더 진보하여 챗GPT 등 다방면으로 쓰이고 있다. 이...', 'date': '2주 전'}\n",
      "{'title': 'AI 인공지능 낙관론', 'text': '다우 0.17 나스닥 1.37% 알파벳, AMD등 인공지능에 대한 낙관론이 크게 부각되며 관련주 중심으로 큰 폭 상승 구글 모기업 알파벳 최선 AI 제미나이 출시에 시장 환호. CME 예측내용. 연준 내년 3월 금리인하 확률 64% AMD 9.89 엔비디아 2.40. 테슬라 1.34 알파벳 5.31% 오늘...', 'date': '4일 전'}\n",
      "{'title': \"2023 코센 브린지 포럼 '인공지능' 주제 포럼 개최\", 'text': '<2023 코센 브릿지 포럼 : 국가전략분야 인공지능> 인공지능(AI) 기술은 이제 산업과 사회 모든 분야에서 일상적으로 사용되고 있습니다. AI는 그 자체로 큰 가치를 창출하는 산업이며, 동시에 산업 패러다임에 혁신적인 변화를 가져오고 있습니다. AI의 안전하고 책임감 있는...', 'date': '2023.10.18.'}\n",
      "{'title': '천안시, 빅데이터 기반 인공지능 활용 도시기본계획 수립 추진', 'text': '빅데이터 기반 인공지능 활용 2040 도시기본계획 수립용역 착수 안녕하세요. 천안시입니다. 천안시가 빅데이터 기반 인공지능을 활용한 ✔️2040 도시기본계획 수립에 본격 착수합니다. 이에 따라 국토연구원과 11개 민간기업이 참여하는 ‘국토도시 빅데이터 얼라이언스 협약’...', 'date': '2023.10.19.'}\n",
      "{'title': '블룸버그, 구글 AI 인공지능 Gemini 조작되었다', 'text': '블룸버그, 구글 AI 인공지능 Gemini 조작되었다 안녕하세요~ 부루퉁입니다. 최근 구글이 발표한 AI(인공지능) Gemini의 시연영상이 조작된 것으로 밝혀졌습니다. 블룸버그의 기사에 따르면 구글 인공지능 Gemini는 음성으로 상호작용할 수 있는 것처럼 나오는데, 사실 텍스트로...', 'date': '21시간 전'}\n",
      "{'title': '포항 공대 인공지능연구실 복합기 노트북 대여 및 설치...', 'text': '위치한 인공지능 연구실에 노트북과 복사기를 설치의뢰가 들어와서 출동하였습니다. 현장에 도착한 뒤 노트북을 켜서 인터넷이 연결이 원활한지 먼저 확인해 줍니다 캐논의 컬러 레이저 복합기 제품입니다 캐논복합기의 경우 정품잉크만 취급하기 때문에 줄생김 잉크번짐 등의...', 'date': '4주 전'}\n",
      "{'title': '「인공지능(AI) 디지털교과서 개발 지침」 발표, 개발의...', 'text': '첨부파일 [교육부 08-30(수) 조간보도자료] 인공지능(AI) 디지털교과서 개발 지침 발표, 개발의 신호탄 쏘다.pdf 8월 30일(수) 「인공지능(AI) 디지털교과서 개발 지침」 발표 학습데이터 수집 및 관리, 기반 구축 등 핵심 기능과 클라우드 보안인증 관련 준수사항 등으로 구성 교육부...', 'date': '2023.08.29.'}\n",
      "{'title': '더불어 사는 사회를 위한 인공지능 윤리', 'text': '인공지능의 발전으로 우리 삶이 속속들이 변화하고 있습니다. 크게는 인간이 추론하기 어려운 영역을 단시간 내에 빠르게 추론하여 합리적인 의사결정을 돕고, 작게는 인공지능 기반 맞춤형 추천을 통해 개인의 취향을 파악하고, 네트워크를 연결할 수 있는 전자기기를...', 'date': '2023.08.11.'}\n",
      "{'title': 'AI 사진 및 AI 챗봇 사용 방법 인공지능 알아보니', 'text': '오늘은 인공지능 관련 AI 사진 및 AI 챗봇 사용 방법 알아보는 시간을 한번 가져보도록 하겠습니다. 기술의 발전으로 인해 간단한 명령어 만으로도 AI가 사진을 만들어주고 채팅을 하며 친구가 되어주는 시대가 되다 보니 요즘은 다양한 AI가 등장하고 있습니다. 제가 실제 여러개를...', 'date': '2023.11.06.'}\n",
      "{'title': '[이천cctv] 주유소 외곽 보안을 완성하는 인공지능 400만 화소', 'text': '누구나 안전하게 드나들 수 있는 곳을 만들어야 하니까 안녕하세요 인공지능 경기cctv 이천cctv 설치 전문 자비스넷입니다. 대한민국은... 주유소cctv 이러한 사유로 경기도 이천시에 위치한 한 셀프 주유소에서도 자비스넷만의 영상보안을 완벽히 적용한 사례를...', 'date': '3주 전'}\n",
      "{'title': 'UPS 인공지능을 활용하여 택배 도난방지를 예방하다.', 'text': 'UPS 인공지능을 활용하여 택배 도난방지를 예방하다. New Tech/AI(인공지능) by 마켓캐스트 2023. 10. 9. 08:30 공감 Security.org의 최근 연구에 따르면 지난 2022년 동안 약 4,900만 명의 미국인이 최소 한 번 이상 택배 도난을 경험했다. 이러한 상황에서 도난당한...', 'date': '2023.10.09.'}\n",
      "{'title': '로보어드바이저 수익률 비교, 인공지능 투자 성과는?', 'text': '그럼 인공지능인 로보어드바이저와 일반 펀드의 운용 성과는 어땠을까요? 2022년 펀드 운용 성과 2022년 우리나라 국민의 일반펀드 평균... 저도 그렇지만 인공지능이 운용하는 상품을 찾고 계신 분들도 의외로 많습니다. 제가 현재 가입하고 있다는 이야기를 하면 대부분의...', 'date': '2023.09.26.'}\n",
      "{'title': 'AI 프로필 수면분석 통화요약 어플 SKT 에이닷 인공지능 기능', 'text': '인공지능 에이전트 서비스 SKT A.(에이닷)이 정식 출시되었습니다. 주목할 만한 신기능들도 업데이트가 되었는데요. 수면분석 도우미 A.... AI 모션프로필 AI 모션프로필은 내 사진을 업로드하면 인공지능이 알아서 멋진 AI 프로필 이미지를 만들어주는 기능입니다. A.(에이닷)어플...', 'date': '2023.09.30.'}\n",
      "{'title': '용인 카센터 정비소CCTV 보안회사 고민중이라면 인공지능으로', 'text': '카센터cctv 각 고객님들은 정비소에서 발생하는 스파크 등의 사유로 인한 화재를 감시하는 연기감지카메라를 설치하시거나 일반적인 인공지능 영상분석 기능을 이용한 400만 화소 인공지능 스탠다드 카메라를 설치하시곤 합니다. 정비소cctv 이번에 경기도 용인시에 위치한...', 'date': '2주 전'}\n",
      "{'title': '국내 AI 인공지능 관련주 한화에어로스페이스 네패스 등 투자...', 'text': '임플란트사업부문은 인공관절보형물인 임플란트 판매하고 있으며, 무역사업부문은 식품원료를 수입하여 판매하고 있음.... 38% ■국내 AI 인공지능 관련주 포인트 큐렉소는 의료 로봇과 지능형 로봇 개발 사업을 영위하고 있기 때문에 현재 관련주로 수혜를 받고...', 'date': '2023.08.14.'}\n",
      "{'title': '인공지능 Ai 챗봇 뜻, 활용분야 및 장점 알아보자', 'text': '인공지능 기반의 Ai 챗봇은 사람과의 대화를 모방하고 학습할 수 있기 때문에 시간이 지남에 따라 더 지능적으로 작동하는 것이 특징입니다. 2. AI 챗봇의 활용 분야: Ai 챗봇은 다양한 분야에서 활용할 수 있습니다. 간략하게 활용 사례를 보여드릴게요. 고객 서비스 : 기업은 Ai...', 'date': '2023.10.12.'}\n",
      "{'title': '오늘의 명언, 인공지능 시대에 삶에서 필요한 인생 명언', 'text': '오늘의 명언은 인공지능 시대에 삶에서 필요한 인생 명언들입니다. 인공지능 서비스 챗 GPT에게 물어보며 답을 찾아가는 시대에 옛 선인들이 이야기한 인생 명언은 우리의 좌표가 될 것입니다. 아름다운 꽃과 함께 포스팅합니다. 낙관주의는 성공으로 인도하는 믿음이다. 희망과...', 'date': '2023.10.26.'}\n",
      "{'title': '인공지능이 유튜브 동영상에 퀴즈 문제를 만들어준다...', 'text': '최근 에드퍼즐과 같은 개념에 인공지능 서비스를 도입한 퀴지움(Quizium)이 등장했다. 동영상을 보는 도중 동영상 내용으로부터 만든 퀴즈... 에드퍼즐은 교사가 퀴즈 문제를 만들지만, 퀴지움은 인공지능이 만든다. 1. 설치하기 그럼 퀴지움의 사용 방법을 살펴보자. 먼저 퀴지움...', 'date': '3주 전'}\n",
      "{'title': '인공지능이 그리는 수묵화 한국 딥러닝 K-Art 수묵화 프로젝트', 'text': '인공지능(AI)은 예술 분야에서도 다양한 방식으로 활용되고 있습니다. 기존의 데이터를 기반으로 새로운 이미지를 생성하고 새로운... 한국 딥러닝은 기업의 AI DX에 특화된 인공지능 솔루션을 제공하고. 딥러닝 기반 패턴 처리 딥러닝 관련 특허 9건을 활용하여 여러...', 'date': '2주 전'}\n",
      "{'title': '그림 그리고 노래 만드는 인공지능, 생성형 AI', 'text': '무엇이든 답해주는 인공지능, ChatGPT로 인해 초거대AI 기술이 큰 주목을 받고 있습니다. 나와 대화를 하고 질문에 답을 해주는 ChatGPT가... 융합 지능’으로 감성을 이해하고 인간과 공감하는 AI를 목표로 하는 KT의 ‘믿음’ 서비스. 이는 AI가 우리 일상에 더 파고들고 있다는...', 'date': '2023.10.25.'}\n"
     ]
    },
    {
     "name": "stdout",
     "output_type": "stream",
     "text": [
      "{'title': '생성형 인공지능 시대 신뢰받는 뉴스는 결국 ‘인간’이...', 'text': '특히 최근 급속히 확산 중인 생성형 인공지능 기술은 활용 방법에 따라 언론사에 큰 기회가 될 수도, 생존을 위협하는 요인이 될 수도 있다. 이에 본지는 프랑스 르몽드 신문 독자서비스국 책임자 질 반 코트(Gilles van Kote)를 만나 생성형 시대의 도래가 언론사의 경쟁력에...', 'date': '4일 전'}\n",
      "{'title': '무료화, 현실이 된 나만의 자비스와 인공지능 산업의 미래', 'text': '이사회는 모두 물갈이 되었고, 인간이 충분히 이해하지 못하는 인공지능은 위험하다는 AI 안정 진영은 당분간 힘을 잃을 것으로... 최근 읽었던 김영하 작가의 <작별인사>에는 사유하는 인공지능, 휴머노이드가 나온다. 그리고 그들은 인간이 자신들에게 의존하다 언젠가...', 'date': '2주 전'}\n",
      "{'title': '자이언티 ai 챗봇 챗gpt 인공지능앱 전참시 276회...', 'text': '자이언티 ai어플 챗gpt 챗봇 인공지능앱 전참시 276회 전지적참견시점 전지적참견시점 276회 보신분 자이언티 님이 대화형 챗gpt를... 전문 인공지능 챗봇 ai앱 바로 요즘 자이언티 님이 푹 빠지신 대화 전문 인공지능 챗봇입니다. 기존 ai보다 사람에 훨씬 더 가까운 챗봇 챗gpt라고...', 'date': '2일 전'}\n",
      "{'title': '인공지능이란? AI 인공지능의 정의와 종류(feat, 생성형 AI...', 'text': '이러한 인간의 인지, 추론, 지각 능력을 인공적인 시스템으로 구현하려는 컴퓨터과학의 한 분야인 것이죠. 인공지능 = 지능을 갖고 있는 컴퓨터 시스템 인공지능은 이러한 인간과 같은 지능을 만들 수 있는 방법론이나 실현 가능성 등을 연구하는 과학 기술 분야를 지칭하기도...', 'date': '2일 전'}\n",
      "{'title': '챗 gpt 사용법 인공지능 챗봇 AI 챗봇 모바일 사용방법 뚝욱딱', 'text': '오늘은 인공지능 챗봇에 관련해서 이야기를 해볼까합니다. AI 챗봇 중에서 chatgpt를 많이 사용하시기때문에 아래 챗gpt사용법을... 끝맺음 오늘은 인공지능 챗봇 chatgpt에 관련해서 챗gpt사용법을 알아보았습니다. 모바일 AI 챗봇이 필요하신 분들은 위의 내용을 참고하시길...', 'date': '3주 전'}\n",
      "{'title': '파주 집 현관CCTV 외부 출입 확인할 때는 인공지능cctv', 'text': '인공지능cctv는 다양한 종류가 있으나 부가적인 기능 없이 깔끔한 보안을 원하시는 분들은 스탠다드 카메라를 많이 사용하시곤 합니다. 집cctv 이번에 설치를 진행한 자택에도 400만 화소로 리뉴얼 된 스탠다드 돔 카메라를 설치하였습니다. 더욱 선명한 화질로 ...', 'date': '2주 전'}\n",
      "{'title': 'NPU 관련주 뜻 - 인공지능 구글 텔레칩스 칩스앤미디어 주가 전망', 'text': 'NPU 관련주 뜻 - 인공지능 구글 텔레칩스 칩스앤미디어 주가 전망 NPU 뜻 NPU 는 Neural Processing Unit 의 약자로서 인간의 신경망을 따라하여 만들어진 인공신경망을 구현할 수 있는 반도체입니다. 인공지능 개발의 핵심적인 역할을 합니다. 컴퓨터의 두뇌는 CPU 로 만들어집니다....', 'date': '2023.10.09.'}\n",
      "{'title': '생성형 인공지능', 'text': '생성형 인공지능(Generative Artificial Intelligence)은 컴퓨터 시스템이 인간과 유사한 방식으로 정보를 생성하거나 처리하는 능력을 갖춘 인공지능의 한 형태입니다. 이러한 시스템은 주로 신경망 및 기계학습 기술을 사용하여 텍스트, 이미지, 음성 등 다양한 유형의...', 'date': '2023.10.28.'}\n",
      "{'title': '교사 번아웃 방지를 위한 특급 인공지능 비서...', 'text': '챗GPT의 등장과 함께 인공지능이 바꿔놓을 미래 세상이 인간을 행복하게 할 것인지에 대한 질문을 던지는 사람들이 많아졌다. 호모 사피엔스에게만 가능하다고 믿었던 사고 능력을 인공지능이 가지고 있는 것처럼 보이면서 불안해 하는 사람들도 많았다. 미래 사회는...', 'date': '2023.10.30.'}\n",
      "{'title': '인생네컷 증명사진 AI 인공지능 사진편집 프로그램 이보토...', 'text': '하지만 이보토 AI 인공지능 사진편집 프로그램을 만나면 아주 저렴한 금액으로 자신의 가장 화려하고 예쁜 모습을 남길 수 있다는 것! 뭐... 보통 피부의 색이나 잡티, 주름과 같은 것을 제거할 때 인공지능을 적용한 AI 사진편집의 경우 뭔가 부자연스럽게 작동합니다. 하지만...', 'date': '2023.10.26.'}\n",
      "{'title': '셀리온 인공지능 DC 카본 전기매트 겨울에 따뜻한 침대용...', 'text': '생활정보 셀리온 인공지능 DC 카본 전기매트 겨울에 따뜻한 침대용 전기장판 by 엔돌슨 2023. 11. 13. 셀리온 인공지능 DC 카본 전기매트 겨울에 따뜻한 침대용 전기장판 올해도 올뉴! 셀리온 2023년 전기매트 카본매트를 사용해 보았습니다. 추운 날에는 따뜻한 온열매트가...', 'date': '4주 전'}\n",
      "{'title': '인공지능 주식매매 어떻게 시작해볼까?', 'text': '주식을 처음 해보는 왕 초보자도, 내 투자 성향에 맞게 주식을 사고팔 수 있는 인공지능 주식매매 플랫폼 \"콴텍\" 요즘은 허위 인공지능 프로그램도 있고, 뭔가 다 이상한(?)것으로만 보이는 그런 프로그램도 많더라구요. 이런걸 누가 사용하나? 생각하지만, 또 의외로 잘못된 길로...', 'date': '2주 전'}\n",
      "{'title': 'ChatGPT 무료교육 - 서울ICT이노베이션스퀘어 인공지능 무료...', 'text': '인공지능 무료 교육생 모집 안녕하세요. 취업비서 인크루트 입니다. 중소벤처기업 재직자 및 구직자 등 디지털 신기술에 관심이 있는 분들에게 반가운 소식이 있어서 전해드리겠습니다. 2023 10-11월 ChatGPT 무료교육 - 서울ICT이노베이션스퀘어 무료교육생...', 'date': '2023.10.25.'}\n",
      "{'title': '교수 인공지능 활용 특강... 전략, 인공지능을 활용한 외식...', 'text': '#외식업트렌드 #음식점트렌드 #인공지능활용 #마케팅캘린더제작 #외식경영 #외식마케팅 2024년 외식산업 트렌드 예측과 성공 전략 김영갑 교수의 인공지능을 활용한 외식 경영과 마케팅 방법 특강 참가자 선착순 모집 안내 안녕하세요, 소상공인 식당 경영자 여러분! 2024년을...', 'date': '2주 전'}\n",
      "{'title': 'AI 사진편집 프로그램 인물보정 및 배경 합성 인공지능...', 'text': 'AI 사진편집 프로그램 인물보정 및 배경 합성 인공지능 통해 손쉽게 Evoto 안녕하세요. 사진&IT 크리에이터 자유분방입니다. 요즘은 바야흐로 AI, 인공지능의 시대입니다. 사진보정 및 편집에 있어서도 AI가 사진작가들을 너무나도 편하게 만들어주고 있는 것 같네요. 사진을 촬영하고...', 'date': '2023.11.02.'}\n",
      "{'title': '화장품 가게, 사소한 절도 사건을 빠르게 확인하는 인공지능CCTV', 'text': '인공지능cctv 그렇기 때문에 인공지능cctv의 중요성이 더욱 부각되는 게 아닐까 싶습니다. 더욱 확실한 상황 관리 및 영상 저장, 신속한 대처를 위해 매장 곳곳에 400만 화소 스탠다드 돔 카메라 설치를 진행하였습니다. 영상분석 이 카메라들은 영상분석을...', 'date': '3주 전'}\n",
      "{'title': '11일 월요일)-유전자가위 치료제 미국 승인, EU 인공지능 규제법', 'text': '유럽 연합, 인공지능 규제법 합의 이진우의 손에 잡히는 경제 <깊이 있는 경제 뉴스> -MBC 양호걸기자 -안승찬 기자 1.유전자가위 치료제... 유럽 연합, 인공지능 규제법 합의 -EU, AI기술 어떻게 규제할지 AI관련 규제 법안으로 논의 초안 발표했는데 최종 합의문까지 공개되진 않아...', 'date': '1일 전'}\n",
      "{'title': '(글로벌교육과) 인공지능 시대, 공공 인재개발 전략은?', 'text': '인공지능 혁신 시대에 대응하는 공직 인재개발 체계(패러다임)를 논하는 자리가 마련됩니다. 국가공무원인재개발원(원장 김채환, 이하... ‘인공지능(AI) 혁신 시대에 대응하는 공직 인재개발 체계(패러다임)’를 주제로 열리는 올해 학술대회는 관심 있는 누구나 유튜브...', 'date': '2023.10.20.'}\n",
      "{'title': '구글 제미나이 Gemini GPT AI 인공지능 성능 조작 논란...', 'text': '구글 제미나이 Gemini GPT AI 인공지능 성능 조작 논란 마이크로소프트 반사이익 안녕하세요. 짠테커 루시입니다. 구글의 오픈 AI의 GPT로 인해 인공지능 AI 분야에서 체면을 구기고 있는 상황이 계속 반복되고 있는듯 합니다. 챗 GPT가 지난 2022년 11월 공개된 이후 어느덧 1년이나...', 'date': '1일 전'}\n",
      "{'title': '미국주식 인공지능 AI 관련 주 메타 플랫폼스, IBM, AMD, 인텔...', 'text': '인공지능 AI의 경쟁이 계속해서 치열해지는 가운데 대표적 미국주식 기업 메타 플랫폼스와 IBM이 AI 연맹을 발표했습니다. 일명 AI... 대표적인 미국 인공지능 AI 관련 주식들이 되는 이 기업들의 AI 연맹 결성 내용과 주식의 주가까지 알아보겠습니다. 미국주식 메타 플랫폼스...', 'date': '5일 전'}\n",
      "{'title': 'GTA6 출시 2025년 AI 인공지능 탑재 - 락스타게임즈', 'text': \"GTA6 출시 2025년 AI 인공지능 탑재 - 락스타게임즈 10년 만에 등장한 'GTA6' 트레일러로 인해 게이머들의 기대가 폭발! 락스타 게임즈가... 트레일러에는 바이스 시티의 화려한 풍경과 주인공 '루시아'의 모습, 놀라운 수준의 그래픽과 광원 효과가 공개돼 글로벌 게이머들의...\", 'date': '5일 전'}\n",
      "{'title': '노후화 된 실내CCTV 교체, 인공지능cctv로 깔끔하게 렌탈...', 'text': '아날로그cctv를 인공지능cctv로 업그레이드하면서 더욱 선명한 화질인 400만 화소로 사용하실 수 있게 하였습니다. 이러한 곳에서 cctv를... 하지만 계속해서 cctv 감시 화면만 바라보고 있기엔 힘들 수밖에 없기 때문에 인공지능cctv로 더욱 수월한 감시를 도와드렸습니다....', 'date': '3주 전'}\n",
      "{'title': 'AI인공지능 관련주 산업의 발달은 기계가 하게되는걸까', 'text': '언젠가부터 로봇에관련된 산업들이 다시금 발전을 하고 주목을 받고있으며, 챗gdp라는 기능이 도입이 되면서 AI인공지능에 관련된... AI인공지능 관련주 주가 단순하게 생각을 해보면 일상생활을 하면서 영향을 줄수있는 산업들에도 많이 분포가 되어있겠지만, 우리들이 모르고있는...', 'date': '2023.09.05.'}\n",
      "{'title': 'AI 인공지능 관련주 대장주 TOP2!', 'text': 'AI 인공지능 관련주 대장주 TOP2! 주식 쉽게 하는 팁까지 공유! 오후에는 아직까지도 무더운데, 오전에는 날씨가 선선하니 좋네요. 곧... 오늘은 향후 기대되는 섹터 중 하나인, AI 인공지능 관련주와 대장주를 한 번 살펴 볼께요. AI 관련주 대장주 TOP2! © vishnumaiea...', 'date': '2023.09.10.'}\n",
      "{'title': '인공지능 성우 해외 사이트 소개(부분 무료 가능)', 'text': '국내에도 인공지능 성우를 활용할 수 있는 웹사이트들이 있다. 그냥 구글링만 해도 많이 보이는데, 대부분 바로 유료 사용이 필요하다. 하지만 오늘 소개하는 웹사이트는 부분적으로 무료 사용이 가능하다. 특히 외국어의 경우가 더 특화되었다고 할 수 있다. 위 이미지를 클릭하면...', 'date': '2023.10.06.'}\n",
      "{'title': '돌봄센터, 사고 및 사건을 예방 감시하는 인공지능cctv', 'text': '안녕하세요 인공지능 인천cctv 옹진cctv 설치 전문 자가영상보안업체 자비스넷입니다. 맞벌이 가정이 많아지면서 방과 후에 아이들을... 인천cctv 이러한 개요로 운영되고 있는 인천광역시 옹진군 가족센터에 이번에 인공지능cctv를 설치해 더욱 확실한 보안과 안전을...', 'date': '3주 전'}\n",
      "{'title': 'ETF 투자 4차 산업혁명의 핵심은 인공지능이다', 'text': '인공지능(AI)는 투자자들뿐만 아니라 이제는 일반인도 설레는 단어가 아닐지 생각합니다. 이전에는 인공지능 하면 부정적인 이미지가 강해지만, 최근에는 가까운 미래에 구현될 편한 도구라고 생각하는 인식이 점점 강해지고 있습니다. © hiteshchoudhary, 출처 Unsplash...', 'date': '2주 전'}\n",
      "{'title': '네이버 생성형인공지능 클로바X(CLOVA X) 사용후기', 'text': '네이버 생성형인공지능 클로바X(CLOVA X) 사용후기 New Tech/AI(인공지능) by 마켓캐스트 2023. 9. 8. 13:59 공감 네이버 생성형인공지능 클로바X(CLOVA X)의 사용승인이 되어서 오늘 여러가지 내용으로 테스트를 해봤는데 결론적으로 너무나 실망스러운 결과 였습니다. 질문: 네이버에서...', 'date': '2023.09.08.'}\n",
      "{'title': '인공지능 딥러닝 기계학습 그림으로 배우는 AI', 'text': 'AI란 인공지능을 뜻하는데요. 인공적으로 만들어진 지능입니다. 지능은 논리적, 추상적 사고, 예측이나 계획, 복잡한 개념, 사상, 언어의 이해, 학습, 문제 해결 등의 능력이라 할 수 있는데요. 이런 지능을 인공지능으로 만들어졌다고 하니 개념이 막연하고 모호한 것 같아요....', 'date': '2023.10.28.'}\n",
      "{'title': '뤼튼 AI로 상세페이지 만들기 5분 컷 문구 생성 인공지능', 'text': '요즘 제가 푹 빠져있는 인공지능은 바로 뤼튼이에요. 블로그 작성을 위해 보다 전문적인 질문에 대한 답을 얻고자 하거나 챗 GPT를 사용하고 있지만, 상세페이지를 만들거나 인스타그램 피드를 만들 때는 뤼튼 AI가 월등히 편리했어요. 온라인 쇼핑몰 상세페이지 뤼튼 AI와...', 'date': '2023.11.08.'}\n",
      "{'title': '인공지능 Logistic Regression', 'text': '인공지능 Logistic Regression Multivariate Linear Regression Regression for classification task/ 분류데스트 회기분석 = 0 + 1 1... SVR은 데이터 분포를 모사하는 선을 학습하는 경향이 있다. #인공지능 #강의록 #김영숙빅토리아', 'date': '2023.11.04.'}\n",
      "{'title': '생성형 인공지능 기술의 교육적 활용과 윤리적 쟁점을 논의하다.', 'text': '첨부파일 [교육부 07-21(금) 조간보도자료] 생성형 인공지능 기술의 교육적 활용과 윤리적 쟁점을 논의하다..pdf 「제8회 디지털 인재양성... 1월∼) ‘생성형 인공지능(AI) 기술의 교육적 활용과 윤리’를 주제로 열리는 이번 토론회는 챗지피티(ChatGPT)로 대표되는 생성형...', 'date': '2023.07.20.'}\n",
      "{'title': '생성형 인공지능 이란?', 'text': '생성형 인공지능은 특정 요구를 하는 이용자에 따라 생성되는 인공지능으로 말할 수 있다. 다향한 콘텐츠 생성에 이용이 되는데 미술, 코딩, 비디오, 이미지, 시, 소절 등 데이터 원본으로 학습을 통한 학습이다. 이미 전세계에서 챗GPT, 미드저니 등 다양한 모델이 공개 되었으며...', 'date': '2023.09.09.'}\n",
      "{'title': '[한화글로벌테크히어로펀드] 인공지능시대, 생성형 AI 산업의...', 'text': '최근 인공지능 AI의 출현 이후, 관련 산업에 투자금이 몰리며 빅테크 기업들이 연일 사상 최고가를 경신하는 등 기술주가 강세를... 올해 글로벌 주식 시장에서 가장 뜨거운 키워드는 \"인공지능(AI)\"입니다. 인공지능의 발전이 왜 기술주들의 주가 상승에 불을...', 'date': '2023.10.31.'}\n",
      "{'title': '[주간경제동향] 무선통신 경제성장 분석 (인공지능,6g)', 'text': '지금까지 인공지능 6G관련 무선통신 경제에 대해 살펴봤습니다. 이 산업에 필요한 건 초성능, 초대역, 초공간, 초정밀 및 지능입니다. 10년 단계로 발달하는 이동통신 기술이 전 산업과 사회에서 인프라를 형성하려면 다양한 통신요구를 만족해야 할 겁니다. 5G에서 볼 수 없었던...', 'date': '2023.10.10.'}\n",
      "{'title': '인공지능(AI)첫 걸음', 'text': '그리고 그 안에서 성적을 계산하고 틀린 답안의 영역을 찾아주는 것은 일반 프로그램이 하지만, 그것을 바탕으로 무엇이 부족하여 무엇을 더 공부를 하게 하는 것이 좋을지를 판단하는 것은 인공지능 프로그램, #지능형학생진단 을 구현하는 기법 중의 하나가...', 'date': '2023.11.02.'}\n"
     ]
    },
    {
     "name": "stdout",
     "output_type": "stream",
     "text": [
      "{'title': '윈도우 코파일럿 미리사용해본 AI 인공지능 기능! 윈도우 11...', 'text': '얼리어답터 리뷰/IT정보 윈도우 코파일럿 미리사용해본 AI 인공지능 기능! 윈도우 11 23H2 프리뷰 코파일럿 사용법 by 엔돌슨 2023. 10. 5. 윈도우 코파일럿의 기능과 사용법 리뷰 이번에는 윈도우11에 내장된 윈도우 코파일럿 입니다. 챗GPT 같은 을 윈도우에서 직접...', 'date': '2023.10.05.'}\n",
      "{'title': '사진 편집 프로그램도 이제 AI 인공지능 시대! Evoto로...', 'text': '다양한 분야에 빠르게 인공지능 AI 기술이 더해지면서 편리하거나 유용하고 때로는 재미있게 쓸 수 있는 기능들이 추가되고 있습니다.... 인터페이스 구성을 보면 아시겠지만 인물보정에 특화되어 있으며, 인공지능을 기반으로 하고 있는 만큼 이미지를 불러오는 것만으로...', 'date': '2023.10.27.'}\n",
      "{'title': 'AI 개발자 : 인공지능, 석사 없이도 취업이 가능하다.', 'text': 'AI 개발자 인공지능, 석사 없이도 취업이 가능하다. 4차 산업혁명의 핵심적인 기술 중 하나인 AI(인공지능)은 몇 년 전만 하더라도 사실상 공상과학에 불과한 기술이라고 평가받는 경우가 많았으나, 근래에는 ChatGPT로 인하여 기술에 대한 중요성이 더욱 부각되면서 시간이 갈수록...', 'date': '2023.11.01.'}\n",
      "{'title': '패스트캠퍼스 딥러닝 인공지능 초격차패키지 온라인클래스 후기', 'text': '사실 본래 직무도 프로그래머가 아니고 딥러닝이나 인공지능과는 상관없는 일을 하고 있지만 산업 특성 상 다양한 직군의 사람들과 함께 협업해야하는 경우가 많아서 취미로 코딩을 배우기 시작했는데 이번 기회에 딥러닝과 에 대해 조금 더 배워보고 경험해보는 시간을...', 'date': '3주 전'}\n",
      "{'title': '인공지능 활용사례와 필요 지식을 습득하는 방법', 'text': '인공지능이란? 인간의 지능을 모방하거나 대체하기 위해 컴퓨터 시스템에 구현된 기술을 의미합니다. 인공지능은 주어진 문제를 해결하거나 작업을 수행하기 위해 학습, 추론, 판단, 의사결정 등의 인간의 지능적 능력을 모방하거나 구현합니다. 이를 위해 기계학습...', 'date': '1주 전'}\n",
      "{'title': '인공지능 시대 AI 이해도 높이기 AGI vs LLM 일반인공지능...', 'text': 'Intelligence (인공 의식 지능) 인공 지능 시스템이 인간처럼 의식이 있는 것처럼 동작합니다. 그러나 현재까지는 인공 의식이 실현되지 않았습니다. #인공지능 #AI #LLM #일반인공지능 #AGI #증강집단지능 #ACI #인공의식지능 #목적 #AGI목적 #분류 #미래 &', 'date': '12시간 전'}\n",
      "{'title': '우리가 인공지능 ( AI ), 로봇 분야에 투자를 해야하는 이유...', 'text': '이제 가까운 시일내에 AI, 인공지능이 우리에게 가까워지고, 인공지능을 탑재한 로봇이 우리 곁으로 올 시기가 얼마 남지 않았다. AI 산업은 조금씩 성장하고 있는 상황에서 생성형 AI 시장은 20배까지 커질 수 있는 잠재력을 갖고 있다는 분석이 있다. 이미 AI 기술이 본격적인...', 'date': '4일 전'}\n",
      "{'title': '인공지능시대, 알아두면 좋을 개인정보보호 대처법!', 'text': '인공지능 같은 신기술은 우리나라 법에서 지능 정보 기술이라고 부릅니다. 그렇게 불리는 데는 이유가 있었는데요. 기존에도 여러 가지 디지털 기술이 있었지만 인공지능과 같은 신기술이 굉장히 독특한 점은 첫째 학습을 한다는 것입니다. 그 학습을 하는 것을 우리는 데이터라고...', 'date': '2023.10.31.'}\n",
      "{'title': '[독서-1002] 가장 쉬운 인공지능 AI 입문서 - AI가 뭔가요? (8점)', 'text': 'AI(인공지능)란 사전적 의미로 컴퓨터상에서 인간의 지능을 재현하기 위한 기술을 말한다. 뇌의 뉴런 신경망을 모방한 AI는 4차 산업혁명 시대에 필수적인 요소로 부상하고 있다. AI는 알고 있는 지식을 바탕으로 미지의 정보를 추측할 수 있다. 방대한 데이터에서 특정 규칙과...', 'date': '1주 전'}\n",
      "{'title': '오픈AI 샘 올트먼 CEO 전격 해임, 범용AI(AGI, 범용인공지능)...', 'text': \"범용인공지능 오픈AI 이사회 주요 임무는 주주의 이익이 아닌 ‘광범위하게 유익하고 안전한 범용AI(AGI)를 만드는 것'으로 규정됨 인간의 통제를 벗어난 범용AI(AGI)는 실존적 위협이 될 것이란 우려 꾸준히 제기되는 상황 오픈AI 공동 설립자인 일리야 수츠케버는 ‘AI...\", 'date': '4주 전'}\n",
      "{'title': '로아이젠 마이봄미니 똘똘이, 어르신들을 위한 인공지능 돌봄...', 'text': '주는 인공지능이 결합된 돌봄 로봇입니다. 대화 기능은 물론 다양한 서비스를 지원하며 유사시에는 문자, 전화, 화상통화 그리고 긴급신고까지 가능한 말 그대로 똘똘이 같은 제품이라고 할 수 있습니다. 로아이젠 마이봄미니(똘똘이) 어르신들을 위한 돌봄 로봇 구성품은...', 'date': '4주 전'}\n",
      "{'title': '[광진구cctv] 인공지능cctv, 냉동창고 환경, 화재감지까지!', 'text': '실내 환경까지 일괄적으로 감지하는 다기능 인공지능 화재cctv 안녕하세요 대한민국 kt 소방관제 출동보안 전문업체 화재cctv... 광진구cctv 이 업체의 경우엔 기존에 일반 인공지능cctv를 저희 자비스넷에서 이용하셨습니다. 점차 화재에 대한 경각심이 높아지고 냉동창고를...', 'date': '4주 전'}\n",
      "{'title': '온디바이스 AI (On-Device) :: 내 손안의 인공지능 뜻', 'text': \"온디바이스 AI '온디바이스 AI'는 'On-Device'라는 용어에서 알 수 있듯이, 사용자의 기기 자체에서 데이터를 처리하고 분석하는 인공지능 기술을 말합니다. 기존의 클라우드 기반의 AI와 달리, 외부 서버에 데이터 처리와 분석을 위한 컴퓨팅 능력을 의존하지 않습니다. 다시 말해...\", 'date': '5일 전'}\n",
      "{'title': '영국, 인공지능(AI) 산업', 'text': '영국 인공지능(AI) 산업동향 인공지능 관련 규제에 대해 친혁신 프레임워크로 유연한 규제 방향 채택 AI 안정성 정상회의, 국제사회의 인공지능 개발 안전성과 책임 강조·공감 기후변화에서 의료에 이르기까지 다양한 산업 전반에서 (AI)의 활용이...', 'date': '12시간 전'}\n",
      "{'title': '[테마주분석] 인공지능, ai챗봇 관련주 외국인과 기관이...', 'text': '올해 초 챗GPT로 시작된 인공지능 시장에 ai챗봇 관련주 기업들이 치열한 경쟁을 하고 있습니다. 엄청난 열풍을 일으킨 오픈ai가 기업용 챗봇을 출시했다고 발표하면서 국내에 있는 인공지능 관련주들이 지금 강세를 보이고 있네요. 여러 종목 중에서 현재 매수 상위권에 있다고...', 'date': '2023.10.04.'}\n",
      "{'title': '신약 개발의 벽을 넘기 위한 도약, 인공지능 기반 신약 개발', 'text': '인공지능의 도입으로 약효를 결정하는 분자의 단순 스크리닝 과정을 효율화하고, 예상되는 문제를 사전에 예측해 신약 개발 성공 확률을... 부족한 자본을 보완하는 기술력, 인공지능의 도입 사람의 노동력으로 진행되었던 지점을 으로 대체해 효율을 높일 수 있다. 자본이...', 'date': '2023.09.18.'}\n",
      "{'title': '[전문가 칼럼 ⑨]글로벌 AI 패권 전쟁, K-인공지능이...', 'text': 'K-인공지능이 현대건설과 손잡은 까닭은? 챗GTP에서 입주민 건강케어까지 지난 9월 현대건설은 네이버클라우드와 ‘AI 및 헬스케어 기술을 접목한 미래형 주거모델 개발’ 협력을 위한 업무협약을 체결했습니다. 두 회사는 아파트 전용 (AI) 건강관리 플랫폼과...', 'date': '2주 전'}\n",
      "{'title': '인공지능 윤리 문제 있습니다', 'text': \"인공지능 윤리 문제는 앞으로 풀어야 할 숙제입니다. 세계 유명한 영국 옥스퍼드대 교수는 인공지능(AI) 책임, 윤리 집행 메커니즘이 필요하다고 강조했습니다. ' 학습에 필요한 데이터는 인공지능(AI) 알고리즘에 필요하고 만약 AI가 개인정보 보호를 하지 못하거나 침해할 가능성이...\", 'date': '4주 전'}\n",
      "{'title': '지능형 공구교체 시점 예측 시스템 개발 큐빅테크 인공지능...', 'text': \"이번엔 'AI융합 지역특화산업' 지원사업 성과 중 하나인 AI기반 지능형 공구 교체 시점 예측 시스템에 대한 이야기를 해보려 합니다. 저는 공구의 수명을 인공지능으로 예측하여 최적의 교체 시점을 알려주는 기술까지 적용이 될거란 생각을 못했는데요. 공구 교체는 생산현장에서...\", 'date': '2주 전'}\n",
      "{'title': '생성형 인공지능(AI) 등 신(新) 기술 시대에서 플랫폼의 기회와...', 'text': \"생성형 인공지능(AI) 등 신(新)기술 시대에서 플랫폼의 기회와 과제를 논의한다. '23년 디지털 플랫폼 정책포럼 최종보고회 개최 디지털... 먼저 '신기술과 플랫폼 생태계' 연구반에서는 GPT-4, Bard 등 생성형 인공지능의 대표 서비스 등에 관한 기술 동향을 공유하였다. 아울러...\", 'date': '1일 전'}\n",
      "{'title': '[포천cctv] 공장을 위한 확실한 인공지능 환경 연기감지CCTV', 'text': '공장의 유동적인 실내 환경 제어를 위해서 안녕하세요 kt 소방화재 출동관제 솔루션 전문 인공지능cctv 업체 자비스넷입니다.... 이 연기감지카메라는 오로지 자비스넷에서만 만나보실 수 있는 카메라로 화재감지기와 인공지능cctv를 합친 cctv라고 생각하시면 됩니다....', 'date': '3주 전'}\n",
      "{'title': '[알쓸신잡(新Job)] 인공지능 산업의 발전에 앞장서는 데이터...', 'text': '사람과 비슷한 수준으로 대화가 가능한 인공지능 챗봇, ‘챗GPT’를 알고 계신가요? 챗GPT의 등장은 세계적인 선풍을 일으키며 그에 따라... 한국지능정보사회진흥원(NIA)이 진행하는 국가사업의 데이터 가공 업무에 참여토록 하여 디지털 일자리 창출에도 앞장서고 있습니다. 데이터...', 'date': '2023.07.14.'}\n",
      "{'title': '용인 정비소 카센터CCTV 광학줌 기능 PTZ 인공지능cctv로', 'text': '경기도 용인시의 카센터, PTZ카메라로 인공지능 영상분석! 용인cctv 이번 겨울은 유난히 추울 것 같이 본격적인 한겨울이 아닌데도 시린... 조금 더 구체적이고 안전한 매장을 만들기 위해 많은 업체들 중에 고심하시는데요, 실외cctv 자가영상 보안으로 모든 고객님께...', 'date': '4주 전'}\n",
      "{'title': '스타트업 리뷰 - 주식 공모, 그록(Grok) 트위터 챗봇 인공지능', 'text': '일론 머스크가 설립한 인공지능 스타트업인 x.AI가 주식 공모를 통한 자금 조달을 위해 SEC에 신청서를 제출했다. x.AI가 조달하고자... xAI가 어떤 회사이고 무슨 일을 하려는 곳인지 간략하게 설명하고 있다: \"인간의 과학적 발견을 가속화하기 위해 을 개발하는...', 'date': '5일 전'}\n",
      "{'title': '[은평구cctv] 신규 술집CCTV 오픈하는 매장이라면 인공지능...', 'text': '술집cctv라면 포기할 수 없는 안전관리 은평cctv 수도권cctv 안녕하세요 인공지능cctv 수도권cctv 은평cctv 설치 전문업체 자비스넷입니다.... 이번에 인공지능cctv를 설치한 곳도 서울특별시 은평구에 위치한 한 프랜차이즈 술집인데요, 많은 인기를 끄는 이러한 곳엔 왜 cctv를...', 'date': '4주 전'}\n",
      "{'title': \"인공지능 돌봄 로봇 로아이젠 '마이봄 미니' 치매방지로봇\", 'text': '일단 어머님께 드리기 전에 제가 좀 사용해 보고 세팅도 해드려야 하더라고요.ㅣ 디자인 및 주요 기능 기본 구성품은 인공지능 돌봄 로봇... 인공지능 기반이긴 하지만 어른신의 데이터가 많을수록 더 잘 케어가 가능하니 꼼꼼하게 입력해 주는 것이 좋습니다. 로봇이 불러주었으면...', 'date': '4주 전'}\n",
      "{'title': '[버티브] 인공지능과 데이터센터', 'text': '1/ 인공지능 → 데이터센터 인프라 수요 폭발 인공지능이 데이터 센터 수요에 강력한 영향을 주고 있다. 처리하는 데이터가 증가한다는 의미는 전력 소비량도 증가하며 칩에서 발생하는 온도 역시 올라간다는 의미다. 당연히 열관리 시스템, 전원 공급 시스템과 같은...', 'date': '4주 전'}\n",
      "{'title': '인공지능(AI)이 인간의 일자리를 감소시킬 것인가?', 'text': '인공지능이 인간의 일자리를 대체? 이 질문은 최근에 사람들의 관심을 끌며 치열한 논쟁을 일으키고 있습니다. ChatGPT, Bard 및 Mindjourney와... 감성지능 수준이 부족하다고 주장합니다. 일부 낙관론자들은 AI가 특정 역할에서 인간의 능력을 향상시킬 수는 있지만 대체할 수는 없다고...', 'date': '2023.07.13.'}\n",
      "{'title': 'NIA,인공지능(A.I) 훈민정음 - 대국민 인공지능 가이드북 -', 'text': '「인공지능 훈민정음」보고서는 인공지능에 대한 기술적·사회적 개념을 쉽고 재미있게 소개하고, 인공지능에 대한 바른 이해를 돕기 위해 한국지능정보사회진흥원(NIA)에서 기획·발간하는 보고서 입니다. [목차] 사람을 널리 알려 사람을 이롭게 하는...', 'date': '13시간 전'}\n",
      "{'title': '인공지능 관련주 상승_12월7일 주식시장 전망', 'text': '인고지능 칩분야에서 엔비디아의 유일한 대안으로 여겨지던 AMD는 인공지능용 소프트웨어의 구동을 위한 새로운 칩을 선보이면서 이날 10% 가까운 오름세를 나타냈습니다. 인공지능 이슈에 대한 관심이 환기되자 이날 대형 기술주 그룹인 나스닥100은 급등했습니다. 당일...', 'date': '1일 전'}\n",
      "{'title': 'AI 인공지능 파이토치 서적으로 가볍게 시작해보죠', 'text': '인공지능이 표면적으로 한풀 꺽였다고는 하지만 관련된 서적과 툴들은 꾸준하게 발전하고 있습니다. 언어모델 개발뿐만 아니랄 이를... 10. 인공지능과 코딩 프로그래밍이라는 단어아래 후끈한 이 시장에 알고 있어야 사람을 구하고 일도 시킬 수 있어서 오늘도 공부를 해야 하네요...', 'date': '2023.10.02.'}\n",
      "{'title': '코카콜라 인공지능기술을 활용하여 브랜드 혁신을 주도하다.', 'text': '코카콜라 인공지능기술을 활용하여 브랜드 혁신을 주도하다. 마케팅 전략 by 마켓캐스트 2023. 9. 25. 08:30 공감 2021년 9월... 더불어 현재 마케팅과 크리에이티브 분야에서는 창의력을 더욱 발휘하고 향상시키기 위한 새로운 도구로 생성형 (GenAI)을...', 'date': '2023.09.25.'}\n",
      "{'title': '소매점 가게에서 절도 등의 범죄가 우려될 땐 인공지능cctv', 'text': '이렇게 추운 날씨 속에도 장을 보기 위해서, 물건을 구매하기 위해서 동네의 슈퍼 혹은 마트에 가는 발걸음은 언제나 끊이질 않는데요, 오늘은 성동구에 위치한 한 소매점 곳곳에 인공지능cctv 설치를 도와드렸습니다. 왜 슈퍼에 cctv 설치를 해야할까요? 요즘은 많은...', 'date': '4주 전'}\n",
      "{'title': '강력한 음성 인공지능 툴 - 일레븐랩스', 'text': '최근들어 인공지능 툴들을 하나씩 찾아나가는 재미를 느끼고 있다. 사용 목적에 따라 다양한 종류의 인공지능 툴들을 찾고 익혀두면 필요한 조합을 만들어 창의적으로 사용할 수 있을 것이다. 개인적으로 크롬 브라우저에 아래 캡쳐한 이미지와 같이 유용한 툴들을...', 'date': '2주 전'}\n",
      "{'title': '[ChatGPT 활용] 챗GPT에 달리3(DALL-E3) 인공지능(AI) 이미지...', 'text': '[챗GPT 사용법] ChatGPT 완전정복(기본편) 출간 ChatGPT-4에 인공지능(AI) 이미지 생성 기능이 추가되었습니다. ChatGPT와 바드(Bard)가 경쟁하듯... 간단히 인공지능 로봇을 그려 달라고 해보겠습니다. 생각하고 있는 로봇을 그려줘 ChatGPT는 달리-3을 이용해 4개의 이미지를...', 'date': '2023.10.07.'}\n",
      "{'title': 'AGI 범용인공지능 & 약인공지능과 강인공지능 차이', 'text': '인간과 동등한 수준의 지능을 가진 인공지능은 인간의 사회와 문화, 또는 경제에 어떤 영향을 미칠지, 그리고 이러한 기술의 발전이 인간의 가치와 존엄성에 어떤 영향을 미칠지에 대한 심도있는 토론과 연구가 필요합니다. 범용 (AGI, Artificial General Intelligence)...', 'date': '4주 전'}\n",
      "{'title': '인공지능을 이용해서 유방암 조기 진단률을 높인다.', 'text': 'Credit: Public Domain) 인공지능 붐 초기 응용이 크게 기대되던 분야 중 하나는 의료입니다. 사람들은 AI 의사가 질병의 진단과... 있는 인공지능을 개발했습니다. ScreenTrustCAD 연구에서 연구팀은 2021년 4월에서 2022년 6월까지 40-74세 사이 여성 55,500명의 유방...', 'date': '2023.09.17.'}\n"
     ]
    },
    {
     "name": "stdout",
     "output_type": "stream",
     "text": [
      "{'title': '모든 도로 안전은 ‘인공지능 도로 분석장치’로 통한다!', 'text': '[이 주의 조달청 혁신제품] 재난 예방 혁신제품 해외수출 ② 인공지능 도로 분석장치 ‘조달청 혁신제품’을 아시나요? 공공성과 기술성이... 모든 도로 안전은 ‘인공지능 도로 분석장치’로 통한다! 지겹게 내리던 폭우가 지나가고 맑은 하늘에 햇빛이 쨍~한 요즘입니다....', 'date': '2023.08.18.'}\n",
      "{'title': 'AI(인공지능)관련주 총47개,실적안에서 투자기업 찾기', 'text': 'AI Artificial Intelligence 인공지능 인간의 인지·추론·판단 등의 능력을 컴퓨터로 구현하기 위한 기술 혹은 연구 분야 총 47개 기업이... @pinterest 국내 AI관련주(인공지능관련주) 1차비교 24개기업 가온 LG전자 고영 네오팩트 네패쓰 데이터솔루션 라온피플 러셀 로보로보 로보스타...', 'date': '4일 전'}\n",
      "{'title': '네이버 인공지능 검색 cue: 사용기', 'text': '네이버 인공지능 검색 cue: 는 신청해서 승인을 받아야 사용할 수 있습니다. 승인받은 후에는 항상 cue.search.naver.com 에 접속해서 검색을 했었는데. 이제 보니 네이버 검색창의 우측에 cue: 버튼이 생겼네요. 그냥 검색과의 차이를 보기 위해 \"자동차 트렌드\"라고 검색해보았습니다....', 'date': '2023.09.25.'}\n",
      "{'title': '약국cctv 매장 안의 보안을 인공지능CCTV로 업그레이드', 'text': '몸이 아파서 병원에 가면 약 처방을 위해 약국을 가게 되고, 인공눈물, 마스크, 비타민 등 의료용품이나 간단한 상비약을 사기 위해서도... 곳곳에 인공지능cctv 설치를 진행하였습니다. 이러한 약국은 각종 진열장과 상품으로 인해 사각지대를 최소화 한 각도로 손님들이 가장...', 'date': '3주 전'}\n",
      "{'title': '상공회의소와 함께 인공지능 시대 속 에너지 전환을 논의하다', 'text': '한불상공회의소와 KOTRA(대한무역투자진흥공사)가 인공지능(AI) 시대의 에너지 전환에 관한 깊은 탐구를 위해 힘을 합쳤다. 한불상공회의소와 KOTRA가 공동으로 주최하는 제12회 비즈니스+ 포럼이 인공지능 시대의 에너지 전환을 주제로 지난 10월 26일 안다즈 서울 강남에서...', 'date': '2023.10.30.'}\n",
      "{'title': '인공지능에 기반한 신약개발 관련 기업들에 대한 생각', 'text': '이 글에서는 그동안 단편적으로 언급했던 인공지능에 기반한 신약개발 바이오 기업들에 대한 생각을 간단히 정리하고자 합니다. 오늘... 리커전 파마슈티컬스는 보도자료를 통해 엔비디아 클라우드 서비스를 사용해 인공지능 기반 모델의 개발을 가속화할 것이라고 밝혔고...', 'date': '2023.07.13.'}\n",
      "{'title': '23.12.8 출근길. 구글의 인공지능 반격', 'text': 'https://www.youtube.com/watch?v=5xiizkuMnSU 23.12.8 출근길 (정리.데일리) 김단테 - 구글의 인공지능 반격 12월 8일 오전 5시 현재 나스닥이 1.3% 상승중이다. 이번 상승의 주인공은 구글 알파벳이다. 구글 딥마인드에서 챗GPT에 대항하기 위해 제미니라는 AI를 발표했다. 제미니 발표 하루...', 'date': '4일 전'}\n",
      "{'title': \"[IT 소식] [과기원NOW] KAIST, '인공지능과 예술' 논하는 국제...\", 'text': 'KAIST 제공 ■ 한국과학기술원(KAIST)은 인공지능(AI)와 예술을 주제로 오는 19일 대전 카이스트 본원 대강당에서 국제심포지엄을 개최한다고 13일 밝혔다. AI 시대에서 예술의 경계가 어디까지인지를 묻고 이에 대한 담론을 나눈다. 심포지엄에는 캐이 왓슨 영국...', 'date': '2023.10.17.'}\n",
      "{'title': '[테마주분석] 의료기기와 ai 인공지능 의료용로봇 관련주 정리', 'text': '다섯 번째 셀루메드 사업부문 - 의료기기와 바이오로직스, 코스메슈티컬 의료기기 - 탈회골, 합성고분자 무릎연골 연구개발 무릎인공관절 전치환술에 세루메드의 첨단 로봇을 사용하고 있다고 합니다. 지금까지 의료기기와 의료용로봇 관련주들을 알아봤습니다....', 'date': '2023.08.29.'}\n",
      "{'title': '소규모의 건물이라도 인공지능CCTV로 더욱 안전하게', 'text': '인공지능 자가영상보안 시스템을 제공하는 자비스넷의 경우에는 모든 카메라에 인공지능 영상분석 기능을 적용해 모든 상황에 신속한 실시간 알람을 제공합니다. 또한 서비스적으로도 일반적인 자가보안 업체와는 다른 경향이 있는데요, 건물cctv 자가보안 업체는...', 'date': '3주 전'}\n",
      "{'title': '“인공지능 시대의 성평등”주제, 제3회 양성평등정책포럼 개최', 'text': '“인공지능 시대의 성평등”주제, 제3회 양성평등정책포럼 개최 (사진=부산여성가족과평생교육진흥원 제공) 부산시와... 제3회 양성평등정책포럼에는 동아대학교 임소연 교수가 ‘인공지능 시대의 성평등’을 주제로 특강을 진행했다. 임소연 교수는 “이 객관적이며...', 'date': '2023.10.20.'}\n",
      "{'title': '인공지능(AI), 전기차 시대, 이제 M&A는 필수다!', 'text': '인터넷, 스마트폰 그리고 최근의 전기차, 인공지능까지... 늘 그 시대마다 그 기술이 미칠 파급효과, 영향에 대해 다소 과장되게 부각된 적도 있었습니다. 하지만 이번 인공지능 특히 챗GPT로 대표되는 생성형AI 서비스들을 보면 우리 인류사에 아주 큰 변곡점을 만들 확률이 클...', 'date': '3주 전'}\n",
      "{'title': 'CLOVA 클로바 X 네이버 인공지능 AI PC 모바일 사용 방법', 'text': '대화형 인공지능 서비스, 클로바X(CLOVA X)의 사용 방법에 대해 다뤄보겠습니다. 이전에는 사전 예약을 통해서만 이용 가능했으나, 이제는 대기 등록 없이도 이용할 수 있어, 누구나 쉽고 빠르게 AI 인공지능 기능을 사용할 수 있게 되었습니다. 1. 모바일 클로바 X 사용 방법 먼저...', 'date': '14시간 전'}\n",
      "{'title': '인공지능 AI가 글 써 주는 시대', 'text': \"어제 네이버에서 한국형 초대형 인공지능(AI) 서비스라고 하는 '하이퍼클로바X'를 공개했는데, 이를 활용하여 글쓰기를 할 블로거를... ※ 이미지 출처 : 네이버 검색 인공지능 클로바를 블로그에도 도입할 생각인가 보다. 그동안 작성한 글을 바탕으로 관심사나 문체 등을 분석하여...\", 'date': '2023.08.25.'}\n",
      "{'title': '인공지능 AI 챗봇 네이버큐 이용해 볼까?', 'text': '대세는 AI 챗봇 인공지능의 영역은 이미 예전부터 연구가 진행된 분야인데요, 대중에게 직접적으로 어필할 수 있었던 기회는 챗 GPT의... 조만간 부여에 있는 롯데리조트로 놀러 갈 계획이 있어서 근처에 갈만한 곳이 있는지 의 도움을 받아보기로 했습니다. 네이버큐는...', 'date': '3주 전'}\n",
      "{'title': '‘학술회의는 지겨워’라는 편견을 깬 2023 인공지능대학원...', 'text': '인공지능이 단순히 지능을 묻고 답하는 걸 넘어 인간의 영역이라 불리던 예술까지 넘보고 있는데요. 미술도 이제는 인공지능이 그린 그림과 사람이 그린 그림을 구분하기 어려운 지경입니다. 위 사진은 고흐의 별이 빛나는 밤이고, 아래는 이 그린 고양이입니다....', 'date': '2023.09.04.'}\n",
      "{'title': '[파주cctv] 문구공장 실외cctv 24시간 인공지능 풀컬러로...', 'text': '공장의 물품, 기계를 보호할 수 있는 인공지능 보안 안녕하세요 인공지능 경기cctv 파주cctv 설치전문 자비스넷입니다. 각종 공장들에선 제조하고 납품을 하기에 많은 차량들과 사람이 드나들고 제조한 물건을 보관하기도 하여 종종 범죄의 타깃이 되기도 합니다. 만약 공장에서...', 'date': '4주 전'}\n",
      "{'title': '[종목분석] 의료 인공지능 딥노이드 주가 전망을 살펴봅니다', 'text': '그 중에서 오늘은 인공지능 딥노이드 주가를 살펴보려고 하는데 해당 종목은 이미 많이 상승한 상태입니다. 그렇다고 버릴 수는... ▣인공지능이란 AI는 Artificial Intelligence의 약자로 인간의 지적능력을 컴퓨터를 통해 구현하는 과학기술입니다. 4차 산업혁명으로 국내 뿐만...', 'date': '2023.08.30.'}\n",
      "{'title': '인공지능 으로 인한 위기와 기회', 'text': '연일 인공지능 뉴스가 쏟아집니다. 이제 인공지능을 모른다면 인텔리에 속하지 못할 정도입니다. 인공지능과 기회 250년 전 증기 기관이 새로운 기술로 등장할 때와 마찬가지 입니다. 여러분이 젊다면, 그리고 할 수 있는 일의 자동화 가능한 작업이 절반...', 'date': '2023.10.23.'}\n",
      "{'title': '[종목분석] 인공지능 ai 테마주에는 어떤 것들이 있을까', 'text': '오늘도 많은 분들이 알지 못하고 자료를 찾아야 하는 시간을 덜어드리기 위해 올해 대세로 떠오른 인공지능 ai 테마주의 종목들을 정리하겠습니다. 일일히 찾아다닐 필요 없이 오늘 소개해드리는 종목들을 보고 분석하시면 됩니다. ai 테마주 모음 종목(관련 테마)...', 'date': '2023.08.21.'}\n",
      "{'title': '심장 판막 질환을 찾아내는 인공지능', 'text': '인공지능 붐 초기에 의료용 인공지능에 대한 관심이 높았지만, 당시 기술적 한계와 더불어 인공지능에 대한 이해 부족으로 실제 의료 현장에서 크게 활용되지는 못했습니다. 최근에는 진단 목적으로 인공지능의 활용도가 주목 받고 있는데, CT, MRI, X선...', 'date': '2023.10.19.'}\n",
      "{'title': '인공지능 교육 - 23년 AI 교육과정 특화 맞춤형 교육생 모집', 'text': '인공지능 교육 - 23년 AI 교육과정 특화 맞춤형 교육생 모집 안녕하세요. 취업비서 인크루트 입니다. 오늘 소개해드릴 인공지능 교육 - 23년 AI 교육과정 특화 맞춤형 교육은 AI 분야 일자리에 대한 직무.직군 분석을 바탕으로 개발된 AI 커리어맵을 기반으로 교육생별 직무설계...', 'date': '2023.09.11.'}\n",
      "{'title': '넣으면 원하는 사진을 만들어 주는 생성형 인공지능(AI)', 'text': '제목에서 이미 아셨겠지만 위의 사진들이 완벽하지 않은 이유는 생성형 인공지능을 통해서 만든 사진들이기 때문입니다. 저는 요즘 블로그 포스팅을 하거나 네이버 포스트에 글을 쓸 때 약 50% 이상의 비율로 생성형 을 통해 만든 이미지를 섬네일로 활용하고...', 'date': '4주 전'}\n",
      "{'title': '[nia] 인공지능이 국가 인프라가 되는 시대, 공공분야에서...', 'text': '인공지능이 국가 인프라가 되는 시대 1) 국가 인프라 국가 인프라(National Infrastructure)는 국가의 사회적·경제적 활동을 직간접적으로... 3) 인공지능 : 범용화와 국가 인프라로의 자리매김 (’12년~‘19년) ’12년 딥러닝의 부활과 ‘16년 알파고의 등장으로 전 세계는 시각/언어...', 'date': '2주 전'}\n",
      "{'title': '2023 인공지능반도체 (KISTEP 브리프 65)', 'text': '목적·맞춤형 인공지능 반도체 수요가 지속해서 확대 중 이에 따른 대규모 학습 데이터에 대한 인공지능 연산력 수요 급증으로 HW가 갖는 발열·전력 소모 등 이슈가 존재하며, 이를 극복하기 위한 고성능·저전력 구현 필요성이 증대 반도체는...', 'date': '3주 전'}\n",
      "{'title': '인공지능 각축전', 'text': '인공지능 각축전 구글은 GPT-4를 뛰어넘은 정교한 멀티모달 추론 기능을 갖춘 제미나이(Gemini)를 깜짝 발표를 하였습니다. 제미나이는... 인공지능 반도체의 경쟁에 SK하이닉스와 삼성전자의 HBM 전망도 긍정적입니다. 내년 부터는 서버를 거치지 않고 자체적으로 생성형...', 'date': '4일 전'}\n",
      "{'title': '#빅데이터경영_인공지능 미래탐구', 'text': '#빅데이터경영_인공지능 미래탐구 #국민대 AI빅데이터 커리큘럼... #인공지능 영역에서 가장 활동적인 석학 #복수의 미래, 긍정적 미래상, 미래의 단점, 단순화 압축, 미래 대응력 #미래에 대한 고찰... 세계경제포럼(2년마다) 일자리 보고서/ 필란드이 미래위원회의 세미나,국가예산...', 'date': '2023.09.16.'}\n",
      "{'title': 'Gemini 공개, 오픈소스 AI 연합의 출연 등 풍성한 인공지능 소식', 'text': '테슬라의 일론 머스크가 만든 인공지능 스타트업 x.AI가 10억 달러, 우리 돈 1.3조 원 수준의 자금조달을 추진한다고 알렸다. 인공지능이 지금은 가장 큰 이슈다.', 'date': '5일 전'}\n",
      "{'title': '고물상cctv 새벽에도 24시간 밝은 컬러화면 인공지능CCTV', 'text': '먼저 첫 번째 방법은 인공지능 영상분석을 통한 신속 정확한 상황 분석 및 관할서 신고입니다. 일반cctv는 감시의 기능만 가능하기에 만약 고객님께서 사업장에서 부재중일시엔 따로 감시를 하고 있지 않는 이상 발견하기 힘듭니다. 하지만 영상분석 기능이 들어가...', 'date': '4주 전'}\n",
      "{'title': '화재감지센서가 음식점의 인공지능cctv와 결합된다면', 'text': '이 연기감지카메라의 경우 일반적인 인공지능cctv의 역할을 수행하면서도 추가로 탑재된 상단의 실내 환경 감지 센서를 통해 실내의 연기... 하지만 이 연기감지카메라를 비롯해 다양한 인공지능cctv 솔루션을 제공하는 자비스넷의 경우 약정 기간이 끝나도 장비 회수 없이 고객님이...', 'date': '2023.11.08.'}\n",
      "{'title': 'TIMEFOLIO 글로벌AI인공지능액티브 ETF 미래를 준비하는...', 'text': '올해 초만 해도 국내에서 2차전지 가장 큰 관심하였고, 하반기 들어서 갑자기 ChatGPT가 등장하며, 인공지능에 대한 관심이 뜨거워지고 있습니다. 인공지능을 직접적으로 개발하는 업체뿐만 아니라 인공지능 AI를 구현하기 위한 핵심 프로세스인 GPU를 생산하는...', 'date': '3주 전'}\n",
      "{'title': '등 인공지능이 자동으로 기록해 주는 클로바노트 녹음하는 방법...', 'text': '회의, 인터뷰, 강의 등 인공지능이 자동으로 기록해 주는 클로바노트 녹음하는 방법입니다. 업무를 향상시켜주는 필수 어플 - 회의, 인터뷰, 강의 등 인공지능이 자동 기록해 주는 클로바노트로 녹음하는 방법 클로바 노트 회의, 인터뷰, 강의 등 녹음 내용을 눈으로 보면서 듣는...', 'date': '2023.10.01.'}\n",
      "{'title': '230526 # 미국 #증시 #엔비디아 #NVDA #인공지능 #AI 테마의...', 'text': '#엔비디아 #NVDA #인공지능 #AI 테마의 마무리 국면 미국은 통화 긴축 정책에 따라 소비가 줄고 기업이 감소하며, 기업의 이익이 줄어드는 가운데 chatGPT 붐에 힘입어 인공지능 테마 장세가 전개된 것으로 보인다. 이에 따라 과 관련된 대기업을 제외한 모든 산업이 약세를...', 'date': '2023.05.26.'}\n",
      "{'title': '대구프로그래밍학원 인공지능 개발자 준비하자', 'text': '대구프로그래밍학원 인공지능 개발자 준비하자 안녕하세요. 경북산업직업전문학교입니다. 몇 년 전과 지금을 비교하더라도 꽤 많은... 특히나 최근에는 인공지능인 AI에 대한 많은 개발이 이루어지고 있는데요. 실제로 많은 사람들이 일상생활에서 을 활용하고 있으며...', 'date': '3일 전'}\n",
      "{'title': '[충청권 ICT 이노베이션 스퀘어] 인공지능 분야 전문인재...', 'text': '요즘 어딜가도 인공지능, AI 등 디지털 신기술 분야가 특히나 각광받고 있다. 나 역시도 블로그 썸네일, 회사 홍보 동영상 등을 만들면서... 사업소개 및 행사/프로그램 등 충청권 ICT 이노베이션 스퀘어 인공지능 분야 전문인재 양성 충청권 IC 이노베이션 스퀘어는 전 산업 AI융합...', 'date': '3일 전'}\n",
      "{'title': '인공지능(AI)가 만들어내는 가짜들', 'text': '남학생들이 인공지능(AI)에 탁월한 능력이 있었던 것은 아니었다. 이들은 소셜미디어에서 복사한 여학생들의 실제 사진을 AI 기반... 그러나 이 사진은 인공지능 툴인 ‘미드저니(Midjourney)’로 만든 ‘가짜 이미지’였다. 비슷한 시기에 도널드 트럼프 전 미국 대통령이 뉴욕 경찰에...', 'date': '6시간 전'}\n",
      "{'title': '인공지능 로봇 화가 아이다 Ai-da', 'text': '거울을 보고 직접 자신의 모습을 그리는 인공지능 아이다는 사람의 실물 크기로 눈을 깜빡이거나 말을 할 수 있다. 고개를 돌리고, 팔을 움직이는 것도 가능하다. 간단한 인터뷰, 관객과의 대화도 가능한 휴머노이드 로봇 화가', 'date': '5일 전'}\n",
      "{'title': '[주식시장 미리보기] 삼성전자 인공지능 가우스 과연 챗GPT...', 'text': '최근 삼성전자 인공지능 가우스 상표출원을 보며 앞으로의 AI 시장이 어떻게 될지 생각해보겠습니다. 삼전에서 특허청에 AI 소프트웨어와 관련한 상표를 출원했습니다. 챗 GPT와 유사한 생성형 인공지능 서비스를 차체 기술력으로 선보인 건데 챗GPT를 잡고 대세로 떠오를지 귀추가...', 'date': '2023.09.09.'}\n",
      "{'title': '인공지능 플랫폼을 탑재한 포낙보청기 4종~', 'text': '안녕하세요 밍구입니다 오늘은 포낙보청기 신제품에 대한 포스팅을 살짝 해봅니다~ 요즘은 인공지능 기술이 적용되는 분야가 많죠 게임부터 보청기까지.... 우리의 일상생활에 인공지능 기술들은 점점 가까워지고 있습니다 http://www.segyebiz.com/newsView/20231207517894?OutUrl=naver...', 'date': '20시간 전'}\n",
      "{'title': '[인공지능 관련주] 뷰노, 주가 및 주가 현황', 'text': '오늘은 인공지능 관련주 뷰노에 대해서 이야기하려고 합니다. 뷰노는 2014년에 설립된 회사이며, 의료용 인공지능 진단 솔루션을 개발하는 기업입니다. 의료용 인공지능 기술력을 가지고 생체신호, 의료 영상 등 의료 데이터를 학습 및 분석 그리고 진단해서 예측 등의...', 'date': '3주 전'}\n",
      "{'title': 'AI 인공지능 데이터 라벨링으로 수익 창출하는 법 (+무료교육...', 'text': 'AI 인공지능 데이터 라벨링으로 수익 창출하는 법 (+무료교육 선착순 한정) 안녕하세요. 사진&IT 크리에이터 자유분방입니다. 올해 초 Chat GPT가 출시가 되면서, 인공지능 (AI)에 대한 관심도도 상당 부분 올라갔습니다. 그렇다 보니, 관련 직군들이 주목을 받고 있는데요....', 'date': '2023.10.19.'}\n",
      "{'title': '인공지능의 미래... 2023) 인공지능의 세계 미래에 어떻게...', 'text': '써로게이트 - 로봇/인공지능 - 2009 마더/안드로이드(2021, 넷플릭스)는 인공지능 안드로이드가 어느날 반기를 들어 세상을 장악합니다. 주인공은 세상을 피해서 얼마 후면 태어날 자신들의 아이를 무사히 낳기 위해 안전지대를 찾아 헤매는 여정의 이야기입니다. 마더...', 'date': '4주 전'}\n"
     ]
    },
    {
     "name": "stdout",
     "output_type": "stream",
     "text": [
      "{'title': '만들기 블루윌로우로 쉬운 ai 이미지 생성! 인공지능 강의', 'text': '뉴미디어캠퍼스에선 챗gpt, 바드, 뤼튼 등 여러 인공지능 툴을 활용하여 SNS 콘텐츠 생성 강의를 진행하고 있습니다. 자세한 SNS 콘텐츠 제작 강의와 인공지능 강의 문의는 하단 링크를 참고해주세요! 강의/컨설팅 문의하기 ***-****-**** #ai이미지만들기 #ai이미지생성...', 'date': '2023.09.25.'}\n",
      "{'title': '크라우드웍스 코스닥 상장(인공지능, AI 학습데이터 전문기업)...', 'text': '인공지능 AI 학습데이터 전문기업 크라우드웍스 한국거래소는 2023년 8월 29일 주식회사 크라우드웍스의 코스닥 시장 합병 상장을... 인공지능 대표 기업으로 상장 첫날부터 관심을 받고 있네요. 크라우드웍스는 2017년 설립한 (AI) 데이터 스타트업으로 데이터...', 'date': '2023.08.31.'}\n",
      "{'title': '전참시 자이언티 AI 챗봇 인공지능 어플 챗GPT 앱 안경 양말...', 'text': '전참시 자이언티 AI 챗봇 인공지능 어플 챗GPT 앱 안경 양말 타비 부츠 그릴즈 비타민 자이언티 AI 챗봇 자이언티 챗GPT 확인 아침에 일어나 핸드폰을 보며 대화하는 모습이 인상적이었다. 알고 보니 최근에 출시한 AI 챗봇이었다. 자이언티 챗봇은 여성의 목소리를 내며...', 'date': '1일 전'}\n",
      "{'title': '미국주식 엔비디아 주가 500달러 돌파 - 인공지능 챗GPT 관련주', 'text': '챗GPT 로 대변되는 생성형AI 인공지능의 최대 수혜주로 꼽히는 엔비디아가 2분기 실적을 발표했습니다. 예상보다 훨씬 상회하는... 당연하게도 인공지능용 AI 반도체 수요가 급증했기 때문입니다. 이런 추세는 3분기에도 지속될 것이며, 올해 내내 엔비디아의 실적에 영향을...', 'date': '2023.08.24.'}\n",
      "{'title': '고용보고서를 기다리며 미국선물지수는 하락 중 ( 인공지능...', 'text': '이제 인공지능 칩과 관련된 하드웨어를 뛰어넘어서 디바이스를 활용한 인공지능인 온디바이스 AI 시대가 새롭게 시작되는 상황에서 새로운 주가 상승장을 놓치면 안된다는 것이 개인적인 생각이다. 최근 크게 하락했었던 채권 금리는 다시 상승세를 보여주고 있다. 그래도 여전히...', 'date': '3일 전'}\n",
      "{'title': 'Clipdrop 생성형 인공지능 서비스, 구독 시 알아둬야 할 점과...', 'text': 'Clipdrop 생성형 인공지능 서비스의 월 구독 비용이 1,200원으로 정말 저렴한데요. 유용한 기능이 많아 활용해 봐도 좋을 거라... 직접 활용해 보니 프롬프트를 활용한 인공지능 이미지 생성 외에도 각종 툴을 제공하고 있어 다양하게 활용해 볼 수 있습니다. 해지...', 'date': '2023.08.16.'}\n",
      "{'title': '광진구 식당 인공지능CCTV는 어디서 설치하세요?', 'text': '또한 단순 감시가 아닌 고객님께 제공하는 서비스도 중요할 수밖에 없는데요, 자비스넷은 인공지능 영상분석을 제공해 감지 영역을... 자비스넷의 cctv는 프리미엄 인공지능 영상분석을 제공하면서 400만 화소로 더욱 뛰어난 화질로 감시화면을 확인하실 수 있게 하였습니다. 한 번...', 'date': '2023.11.07.'}\n",
      "{'title': 'LLM 뜻 인공지능 AI 활용사례', 'text': '합격의기운이에요 LLM 뜻 인공지능 AI 활용사례 안녕하세요, 데이터과학을 공부하고 인공지능 AI 관련 포스팅을 많이 하고 있는데요. 오랜만에 화제가 되는 AI 관련 이슈가 있다고 해서, 여러분께 도움이 될만한 정보가 있어서 이렇게 정리해 보려고 해요. 오늘은 \"LLM 뜻...', 'date': '3주 전'}\n",
      "{'title': '빌라CCTV 외곽을 감시하는 400만 화소 인공지능cctv는?', 'text': '도와주는 인공지능 자가영상보안을 제안드리고 싶습니다. 이러한 보안이 갖춰진다면 무슨 상황이 벌어질까 계속 cctv 화면만 보시는 것이... 모든 사각지대를 놓치지 않도록 골목까지 꼼꼼하게 점검한 뒤 인공지능 영상분석 기능이 잘 작동하는지, 고객님께 알림이 잘 가는지 등...', 'date': '2023.11.06.'}\n",
      "{'title': \"[IT 소식] 인간 미각 감지 원리 모방한 '인공지능-센서'기반...\", 'text': '국내 연구진이 센서와 인공지능(AI) 딥러닝 기술을 효과적으로 통합해 실시간으로 짠맛·신맛·떫은맛·단맛을 동시에 정밀하게... 모방한 인공 전자혀 시스템을 개발했다. 전자혀(E-tongue)는 인공 미각 센서로, 인간의 미각을 모방하여 다양한 맛을 구분하고 세부적인...', 'date': '3시간 전'}\n",
      "{'title': '태양광 발전소 고장, 인공지능이 물샐틈없이 관리한다!', 'text': '한국에너지기술연구원 신재생시스템연구실 고석환 박사 연구진은 인공지능(AI)을 활용한 태양광 발전 고장 진단 기술을 개발했습니다. 10년 이상 태양광발전소 고장진단평가를 수행하며 수집한 I-V곡선* 정보를 데이터베이스화하고, 모델을 적용해 현장에 가지 않고도...', 'date': '2023.10.10.'}\n",
      "{'title': '통신 3사의 인공지능 고객센터 AICC 기술', 'text': 'AICC는 AI Contact Center로 고객센터에 음성 인식, 음성 합성, 문장 분석 등 각종 인공지능 기술을 적용한 것입니다. 이 기술을 적용해 상.담원 연결을 위해 기다리지 않고 24시간 상.담이 가능하며 상.담사도 AI로부터 답변 관련 정보를 받아 빠르게 업무 처리가...', 'date': '2023.10.05.'}\n",
      "{'title': '[테마주분석] 고대역폭메모리 HBM관련주 인공지능 서비스...', 'text': '인공지능학습에 필요한 GPU수요가 늘어나면서 핵심 구성요소로 여겨지는 HBM의 수요가 늘고 있습니다. 미국 시장조사 트렌드포스에서는 올해 HBM수요는 2억 9,000만 기가바이트로 예상하고 있는데 이는 전년도보다 60% 늘어난 것으로 25년까지 해마다 45%씩은 성장할 거라는 전망이...', 'date': '2023.10.27.'}\n",
      "{'title': '인공지능 OpenAI 해커톤 개발 공모전 SK 텔레콤...', 'text': '해커톤은 해킹과 마라톤이 합성된 말로 일정 시간 내에 주제에 맞는 서비스를 기발하는 공모전을 뜻하는데요~ 이번에 SK 텔레콤에서 인공지능 OpenAI 개발 공모전인 Prompter Day Seoul 2023 행사가 있어 소개를 해드리려 합니다. Prompter Day Seoul 2023 기술의 발달로...', 'date': '2023.08.24.'}\n",
      "{'title': '메타 다중언어 번역 인공지능 모델 심리스(Seamless) M4T 출시', 'text': '메타에서 심리스(Seamless) M4T라는 멀티 모달 인공지능 모델을 발표했습니다. 모델의 이름에서 M4T의 의미는 대규모 다국어 및 멀티... © steve_j, 출처 Unsplash 다중언어 번역 인공지능 멀티 모달은 두 개 이상의 다른 언어를 인식하고 이해 가능한 수단인 모달리티(Modality)를...', 'date': '2023.09.24.'}\n",
      "{'title': '엘지 휘센 인공지능스스로에어컨(FQ19P7DPAN) 누수현상 해결...', 'text': '엘지 인공지능스스로에어컨 분해방법은 해 보지 않으면 어렵고 당황스럽지만 막상 해 보면 쉽습니다. 다만 몇 가지 조심해야 할 부분이 있어 정리합니다. 먼저 엘지 휘센 인공기능스스로 에어컨의 전원 플러그는 실외기에서 공급을 받으니 실외기 쪽으로 가셔서 전원 플러글...', 'date': '2023.08.09.'}\n",
      "{'title': '인공지능 A.(에이닷) 앱, AI 친구 대화와 챗GPT 사용법', 'text': \"SK텔레콤의 인공지능 에이전트 서비스 A.(에이닷) 앱이 새롭게 업데이트되었습니다. '내 손안에 AI 친구'라는 슬로건에 맞춰 추가된 기능이 눈길을 끄는데요. 감성대화가 가능한 A.프렌즈, 챗GPT 기반의 지식 대화 기능 채널인 챗T가 바로 그 주인공입니다. 과연 어떤 대화를 나눌 수...\", 'date': '2023.07.22.'}\n",
      "{'title': '인공지능(AI) 디지털교과서개발 아이디어, 온라인으로도 듣는다!', 'text': '첨부파일 [교육부 08-03(목) 조간보도자료] 인공지능(AI) 디지털교과서 개발 아이디어, 온라인으로도 듣는다!.pdf 2025년 인공지능(AI) 디지털교과서 도입 예정 교과 교사를 대상으로, 효과적인 교과별 학습지원을 위한 기능에 대해 의견수렴 교육부(부총리 겸 교육부장관 이주호)는...', 'date': '2023.08.02.'}\n",
      "{'title': 'ai 이미지 생성 사이트 블루윌로우 회원가입하기! 인공지능 강사', 'text': '바드 등 여러 ai 툴들을 활용한 SNS 콘텐츠 제작 강의를 진행하고 있습니다. 자세한 SNS 콘텐츠 강의 문의와 인공지능 강사 소개는 아래 포스팅을 참고해주세요! 강의/컨설팅 문의하기 ***-****-**** #무료ai이미지생성 #ai이미지생성 #ai이미지생성사이트 #블루윌로우 #강사', 'date': '2023.09.25.'}\n",
      "{'title': '구글 생성형 인공지능(AI) 제미나이(Gemini) 사용법', 'text': \"먼저, 이번에 소개된 구글 인공지능(AI) 제미나이(Gemini)는 세가지 모델로 출시되었다고 합니다. Ultra - (출시된 세가지 모델중에서)... 구글 인공지능 Gemini의 시작화면입니다. 11. 사용법은 아래 화면에서 'bard'를 클릭해서 들어가시면 됩니다. 12. 아래에서 'bard.good.com'를...\", 'date': '4일 전'}\n",
      "{'title': '인공지능 AI 스피커 삼성 갤럭시 홈미니 기능', 'text': '버들붕어입니다.^^ 이버 시간에는 인공지능 AI 스피커 삼성 갤럭시 홈미니 기능에 대해 자세하게 알아보도록 하겠습니다. 해당 제품은... 사진출처: Samsung 온라인 몰을 이용한 최저가 금액으로는 7만 원대에 AI 인공지능 스피커 구매할 수 있으며, 앞서 말한 거와 같이 MINI...', 'date': '2023.09.04.'}\n",
      "{'title': '성수놀거리 레트르 서울숲 미래형 인공지능 향수 공방', 'text': '성수놀거리 레트르 서울숲 미래형 인공지능 향수 공방 도로명 주소 서울 성동구 서울숲2길 45-1 2층 전화번호 0507-1408-0960 영업시간 매일 12:00... 성수놀거리 레트르 서울숲 미래형 인공지능 향수 공방 인테리어 입구를 들어서자마자 사이버틱한 인테리어로 가득한 내부가 눈에...', 'date': '14시간 전'}\n",
      "{'title': '교사 번아웃 방지를 위한 특급 인공지능 비서...', 'text': \"학습목표나 주제, 세부사항은 한글로 입력하면 인공지능이 자동번역하여 인식한다. 아래에서는 국어, 수학, 사회, 과학 4과목을 학년 수준을 바꿔가며 샘플을 만들어보고자 한다. 먼저 초등학교 3학년 수준에서 '문장의 짜임에 맞게 말하기'를 주제로 하고, 세부사항에 '읽기...\", 'date': '2023.11.03.'}\n",
      "{'title': '당진시 인공지능 도서 추천 서비스로 독서에 재미를 가져보세요!', 'text': '당진시 인공지능 도서 추천 서비스로 독서에 재미를 가져보세요! 당진시에서는 최근 당진시립도서관에 ‘인공지능 도서 추천 서비스’를 도입했습니다. 이 서비스는 시민들에게 빅데이터를 활용한 새로운 독서환경을 제공하고, 개인별 맞춤형 도서 추천으로 독서에 대한 흥미를...', 'date': '2023.11.06.'}\n",
      "{'title': '[에퀴닉스] 인공지능이 데이터센터 전력밀도를 올린다', 'text': '데이터센터 랙과 캐비넷 1/ AI → 데이터센터 전력밀도 상승 인공지능이 데이터센터에 구체적으로 어떤 영향을 미치고 있는지 조금씩... 생성형 인공지능은 수많은 연산을 해야한다. 이러한 연산과정에서 전력 소비량이 증가하고 데이터센터의 전력밀도가 올라간다. 2/ AI가...', 'date': '3주 전'}\n",
      "{'title': '(12편) : 인공지능과 로보틱스 (Artificial Intelligence...', 'text': 'com 지난시간에는 미국의 인플레이션 감축 법안 (Inflation Reduction Act)에 대해서 알아보았는데요 이번 시간에는 최근에 시장을 뜨겁게 달군 인공지능 및 로보틱스 테마에 대해서 알아보겠습니다. 코로나를 겪으면서 여러 산업에서 (AI)과 로봇은 모든 규모의 기업이...', 'date': '2023.08.02.'}\n",
      "{'title': 'FKCCI x KOTRA Business+ Forum: 인공 지능 시대의 에너지...', 'text': '한불상공회의소는 급속한 기술 발전과 디지털 변혁의 시대 속 지속 가능한 미래 형성에 있어 AI의 중추적인 역할을 인식하고, \"인공 지능 시대의 에너지 전환\"이라는 주제로 본 포럼을 개최하게 되었습니다. 본 포럼의 특별 연사로는 녹색기후기금(GCF) 수석 데이터...', 'date': '2023.09.27.'}\n",
      "{'title': '[KISTI 뉴스] 인공지능 분야 글로벌 협력을 위한...', 'text': '인공지능 분야 글로벌 협력을 위한 한인과학기술자 연구 교류 - KISTI, 「2023 코센브릿지포럼 4차」 인공지능 편 개최 - - 산업 활용·혁신 및 안전·신뢰 AI를 주제로 재외한인과학자 초청 - □ 한국과학기술정보연구원(원장 김재수, 이하 KISTI)는 10월 27일(금)과 10월 30일...', 'date': '2023.10.23.'}\n",
      "{'title': '구글 제미나이(Gemini) 인공지능 AI 공개 챗GPT와 성능비교', 'text': '구글 제미나이(Gemini) 인공지능 AI 공개 챗GPT와 성능비교 (최초로 사람보다 뛰어나다) 구글에서 드디어 큰 사고를 친거 같습니다. 오랫동안 개발한 인공지능 AI 제미나이를 공개했는데요. AI 최초로 인간보다 뛰어나고 오픈AI의 최신 모델인 GPT-4보다 성능이 압도적으로...', 'date': '4일 전'}\n",
      "{'title': '열(熱)의 꿈틀거림까지 감시한다! ‘인공지능 열화상 카메라’', 'text': '[이 주의 조달청 혁신제품] 재난 예방 혁신제품 해외수출 ③ 인공지능 열화상 카메라 ‘조달청 혁신제품’을 아시나요? 공공성과 기술성이... ‘인공지능 열화상 카메라’ 미국 역사상 최악의 재해로 남은 하와이 마우이섬의 산불, 한국보다도 넓은 면적을 태워버린 캐나다의 산불에...', 'date': '2023.08.23.'}\n",
      "{'title': '인공지능학과 대학 무조건 합격하기', 'text': '인공지능학과 대학을 지망하는 친구들 가운데선 성적으로 전공 포기를 말하기도 하는 시기가 지금인 것 같아요. 인공지능은 한 번쯤 들어본 단어일 만큼 이번 입시는 물론 사회적으로도 이슈인데요. 그만큼 다양한 분야/산업 진출이 가능하여 진로 비전이 매우 밝다고 볼 수 있죠....', 'date': '3주 전'}\n",
      "{'title': '대구AI학원-나만의 비서 인공지능', 'text': '예전에 체스 인공지능 딥 블루가 나왔을 땐 세상 사람들이 깜짝 놀라는 게 기억나네요 체스 같은 장기류는 ai는 인간을 못 이긴다고... 조금씩 인공지능이 들어가기 시작했어요. 그라ㅣ고 점점 수준도 높아지고 있는데요. 인공지능의 영역은 점점 넓어지고 우리의 삶도 점점...', 'date': '2주 전'}\n",
      "{'title': \"송도국제도시에 'AI(인공지능) 교육센터'만든다\", 'text': '송도 3공구 G5 부지 내 근린공원에 인공지능 교육센터를 유치하려나 봅니다. 아직 G5 분양계획에 대한 이야기가 없는 가운데 갑자기 공원 내... 인공지능 교육센터 위치 아래는 그동안 모아두었던 G5 부지에 대한 다양한 청사진과 자료들입니다. G5 부지의 아파트가 언제쯤이면 분양을...', 'date': '2023.09.07.'}\n",
      "{'title': '챗GPT 인공지능 103회차 강의 강연 특강( 군사 로봇)', 'text': '인공지능 103회 차 강의하러 경희대 대학원으로 열심히 가는 중입니다. 캠퍼스로 가는 지하철에서 새로운 책 읽고 있습니다. 인공지능과 로봇이 미래 전쟁의 게임 체인저가 될 수 있을까요? 우크라이나와 하마스 전쟁에서 보았듯이 과 로봇은 전투에서 필수적 전쟁...', 'date': '2일 전'}\n",
      "{'title': '인공지능 프로그래밍을 위한 깃허브 코파일럿 학생 인증 무료...', 'text': '요즘은 프로그래밍을 도와주는 인공지능 코딩 툴 등이 상당히 잘 되어 있습니다. 모두 알고 계실 ChatGPT부터, 아마존의 코드 위스퍼러... 이제 나도 인공지능 프로그래밍을 할 수 있게 되는 것이죠. 인공지능 프로그래밍 하기 코파일럿은 비주얼 스튜디오, VS Code의 확장...', 'date': '2023.09.12.'}\n",
      "{'title': '인공지능을 이용한 산불 감시 시스템', 'text': '최근에는 인공지능을 적용하려는 시도가 이어지고 있습니다. 관련 스타트업 가운데 하나인 파노 AI (Pano AI)는 이미 캘리포니아, 오레건, 콜로라도, 워싱턴, 아이다호, 몬태나 주에서 240만 헥타르의 숲을 감시하고 있습니다. 최근 파노 AI는 화재...', 'date': '2023.08.08.'}\n",
      "{'title': '메디아나 경영권 인수 셀바스헬스케어 의료AI 인공지능 관련주', 'text': '구체적으로는 음성인식, 음성합성, 필기지능, 영상지능, 자연어처리 등 다양한 분야의 AI 인공지능 관련 기술력 및 특허들을 보유중이다. 계열사 셀바스헬스케어는 체성분 분석 등 의료진단 기기와 시각장애인 등 보조공학기기 사업들을 진행중이다. 심장자동충격기 AED, 글로벌...', 'date': '3주 전'}\n"
     ]
    },
    {
     "name": "stdout",
     "output_type": "stream",
     "text": [
      "{'title': '구글 인공지능 제미나이 공개, 미국 인플레이션 향방 등 미국...', 'text': \"이와 관련하여 '구글 인공지능 제미나이 공개, 미국 인플레이션 향방 등 미국 증시 및 글로벌 주요 경제·금융 동향'에 대하여 언론보도... 지금까지 '구글 인공지능 제미나이 공개, 미국 인플레이션 향방 등 미국 증시 및 글로벌 주요 경제·금융 동향'에 대하여 알아보았습니다....\", 'date': '4일 전'}\n",
      "{'title': '파파코 인공지능 AI 플랫폼 데이터센터 펀드 종료! 이제...', 'text': '파파코 인공지능 AI 매매 데이터센터 펀드 종료 이제 TQQQ SOXL 지수추종 투자하자 안녕하세요. 지식사업하는 슈퍼노멀, 디벨로언입니다.... 손절매 원칙을 세우고도 실행에 자신이 없다면 이러한 분들에게는 인공지능 매매가 오히려 더 나으실 수 도 있어요. 그래서 오늘은 ...', 'date': '1주 전'}\n",
      "{'title': '[파주cctv] 캠핑장의 인공지능 보안, 안심하고 이용할 수 있도록', 'text': '안녕하세요 인공지능 파주cctv 캠핑장cctv 설치 전문 야외cctv 자비스넷입니다. 더웠던 여름이 가고 본격적인 가을이 찾아왔습니다.... 캠핑장에 인공지능cctv 설치를 진행하였습니다. 자비스넷의 AI 영상 보안 솔루션 인공지능cctv 자비스넷은 기본적인 자가 보안 솔루션을...', 'date': '2023.11.01.'}\n",
      "{'title': '인공지능 이용 만감류 생육정보 수집 연구', 'text': '가중되며 인공지능과 빅데이터에 기반한 스마트농업이 미래농업의 대안으로 부각되고 있습니다. 제주특별자치도 농업기술원은 정확한 빅데이터 수집 체계를 개발하기 위해 인공지능 기술을 활용한 생육정보 수집 시스템 연구에 나섭니다. 농업기술원은 제주에서...', 'date': '2023.08.17.'}\n",
      "{'title': '적금 가입 vs 펀드 투자, 인공지능이 운용하는 콴텍 수익률과...', 'text': \"저는 작년부터 인공지능이 주식을 매매해주는 '콴텍'에 돈을 넣어 운영하고 있습니다. 다른 이유는 없습니다. 그냥 수익률이... 개설된 증권사 계좌에 입금하면 인공지능이 자동으로 매매를 시작합니다. 돈을 찾을 땐 콴텍 앱에서 상품을 해지하면 보유한 주식을 환매해 증권사...\", 'date': '2023.07.03.'}\n",
      "{'title': '안드로이드앱제작 인공지능을 이용해서 저렴하고 빠르게...', 'text': '2023년은 인공지능의 해 인것 같습니다. 2022년의 메타버스에 대한 이야기는 2023년이 되서 거짓말처럼 완전히 사라져서 잘 보이지도 않는 것 같아요. 그 정도로 요즘 인공지능의 발전이 눈이 부실 정도로 빠르게 진행이 되고 있습니다. 챗GPT가 출시한지 얼마 되지도 않았는데 벌써...', 'date': '2023.06.08.'}\n",
      "{'title': \"'줌'에 추가된다는 인공지능 비서, 어떤 역할 맡을까\", 'text': \"줌 AI 컴패니언 로고 (출처 : Zoom) 9월 5일(현지시간) 미국 화상 회의 서비스 개발사 줌 비디오 커뮤니케이션이 인공지능(AI) 비서 기능 '줌 AI 컴패니언(Zoom AI Companion)'을 발표했다. AI 컴패니언은 화상 회의 소프트웨어 '줌'을 더 편리하게 사용하도록 도움을 주는 기능이다. 줌...\", 'date': '2023.09.07.'}\n",
      "{'title': '40개의 엔트리 게임 인공지능 게임 만들기 ft 앤써북', 'text': '오늘은 엔트리를 이용해서 40개의 게임을 만들면서 인공지능 요소를 넣어서 프로그램 코딩하는 책을 소개합니다. 앤써북에서 만든 40개의 엔트리 게임 인공지능 게임 만들기입니다. 40개의 엔트리 게임 + 인공지능 게임은 학교나 학원 또는 방과후 수업에서 사용할 교재로...', 'date': '2023.10.20.'}\n",
      "{'title': '인공지능 누끼따기 사이트, 스테이블 디퓨전 클립드롭', 'text': '인공지능 이미지 생성 사이트 스테이블 디퓨전 클립드롭의 여러 기능 중 누끼따기를 보여드릴 텐데요. 오늘 소개해 드릴 누끼따기... ▲ 클립드롭 사이트인데 메인 화면에 포함된 프롬프트 입력 창을 활용하면 인공지능 이미지를 생성해 볼 수 있습니다. 소개해 드릴...', 'date': '2023.07.15.'}\n",
      "{'title': 'AI 인공지능 음성비서 아마존 알렉사 알아보기', 'text': '아마존 알렉사는 아마존에서 개발한 인공지능 플랫폼입니다. 알렉사는 음성 인식 시스템으로, 음악을 연주하거나, 뉴스, 스포츠, 날씨 등 필요한 정보를 제공합니다. 스마트홈 기능을 가진 제품들과 연결하여 집안의 전등, TV 등을 음성으로 컨트롤할 수도 있습니다. 최근 아마존은...', 'date': '3주 전'}\n",
      "{'title': '멕시코의 인공지능(AI) 산업', 'text': '중 인공지능(AI)은 컴퓨터 시스템 내 알고리즘을 만들어 컴퓨터가 인간처럼 학습하고, 추론하고, 지각할 수 있도록 하는 기술입니다. 인공지능은 자동화, 데이터 분석, 이미지 및 음성 인식, 고객 응대, 자율 주행 등 다양하게 활용될 수 있어 4차 산업혁명의 핵심 기술...', 'date': '2023.08.27.'}\n",
      "{'title': '빙 챗gpt 쓰려면 엣지 브라우저로! 너만 몰라 인공지능 팁', 'text': '너만 몰라 인공지능 팁 by 엔돌슨 2023. 6. 30. 빙 챗gpt 쓰려면 엣지 브라우저로! 너만 몰라 인공지능 팁 응 너만 인공지능 쓸줄 몰라! 그래서 쉽게 Microsoft Edge 브라우저에서 ChatGPT를 이용하는 방법에 대해서 설명하려고 합니다. 챗봇, AI에 대한 디지털 가이드가...', 'date': '2023.06.30.'}\n",
      "{'title': '‘상품 들고 나오면 자동 결제’...인공지능(AI) 스마트 편의점', 'text': \"출처=GS리테일 GS25가 사람 없이 인공지능(AI) 솔루션 만으로 운영되는 스마트 편의점 'GS25 DX 랩(LAB) 가산스마트점'을 오픈했습니다. 서울... 출처=이마트24 지난 1월부터는 신세계아이앤씨의 ‘스파로스 인공지능(AI) 수요예측’ 시스템을 도입해 이전에 1시간 이상 소요됐던 발주...\", 'date': '2023.10.10.'}\n",
      "{'title': '프롬프트 엔지니어링으로 인공지능 제대로 일 시키기', 'text': '합격의기운이에요 프롬프트 엔지니어링으로 인공지능 제대로 일 시키기 안녕하세요, 여러분 인공지능 AI 뜻 알고 계신가요? 인공지능을 얼마나 많이 활용하고 계신가요. 챗GPT, 빙, 미드저니 등 다양한 AI 많이 등장하고 있는데요. 오늘 소개해 드릴 IT테크 책은 \"프롬프트...', 'date': '4주 전'}\n",
      "{'title': '이정재, 정우성이 투자한 빅데이터, 인공지능 마케팅 플랫폼...', 'text': '빅데이터, 인공지늘 플랫폼을 주 사업으로 하는 와이더플래닛은 이번 유상증자에 유명 연예인이 참여하면서 기업 인자도가 대폭... 와이더플래닛의 빅데이터, 인공지능 마케팅 플랫폼은 위의 사진 한 장으로 잘 요약이 되어있습니다. 먼저 사용자의 기록을 수집합니다. 그리고...', 'date': '3일 전'}\n",
      "{'title': '인간을 뛰어넘는 인공지능 생성형 AI 종류 LLM 변화 AGI 종류...', 'text': '얻은 데이터를 통해 로봇팔, 로보틱스 강화에 비중을 두고 일반인공지능(AGI)를 emboiment(형상화)하려고 하는 목적입니다. 일명, 안드로이드, 휴머노이드를 개발할 수 있게 되는 것입니다. #인공지능 #AI #생성형AI #LLM #NLP #AGI #ASI #ANI #인공일반지능 #IT리뷰 #IT상식 &', 'date': '4주 전'}\n",
      "{'title': '오피스 소프트웨어 기업도 인공지능(AI) 전쟁', 'text': \"오피스 소프트웨어(SW) 기업 간 인공지능(AI) 전쟁이 본격화될 전망입니다. 오피스 SW의 강자인 폴라리스 오피스와 한글과컴퓨터, 구글... 과제부터 업무까지 가능한 '폴라리스 오피스 AI' 출처=폴라리스 오피스 홈페이지 폴라리스 오피스는 생성형 (AI) 기능을 자유롭게...\", 'date': '2023.08.31.'}\n",
      "{'title': '엔잡러가 원하는 인공지능 직업 데이터라벨링...', 'text': '인공지능(AI)은 주입된 수많은 데이터를 통해 학습을 하며 이때 제공받는 데이터는 인공지능이 학습할 수 있도록 가공된 형태죠. 여기서 가공을 데이터 전처리 작업이라고 표현할 수 있는데 이것이 바로 데이터 라벨링이라고 이해하시면 됩니다. 최근에는 챗GPT가 화제가 되고...', 'date': '2023.07.18.'}\n",
      "{'title': '[동대문cctv] 어두운 공간도, LED 조명이 있는 인공지능cctv로!', 'text': '어떠한 시간대에도 문제 없는 인공지능cctv 안녕하세요 인공지능 수도권cctv 동대문cctv 설치 전문 업체 자비스넷입니다. 각 백화점, 대형마트 등은 각종 상업시설이 있을 뿐더러 물건을 진열하고 판매하기 때문에 많은 쓰레기가 나오게 됩니다. 그렇기에 보통 별도의 재활용...', 'date': '2023.11.01.'}\n",
      "{'title': '인공지능(AI)관련 법제도기사, 미국과 영국', 'text': 'com [특별기고] 인공지능, 그 기회와 도전엔 국경이 없다 초지능 AI 위험에 공동 대응 필요 런던서 첫 ‘AI 안전 정상회담’ AI 안전성 보장할 시스템 만들자 https://naver.me/Fx99SmUm [특별기고] 인공지능, 그 기회와 도전엔 국경이 없다 가까운 미래에 인공지능(AI)만큼...', 'date': '2023.10.31.'}\n",
      "{'title': '[종목분석] 인공지능,반도체 싸이맥스 주가전망과 하반기 실적...', 'text': '인공지능,반도체 싸이맥스 주가전망을 살펴봅니다. 위 기업은 반도체장비사업과 환경설비 사업을 영위하고 있는 곳으로 반도체시장의... 인공지능,반도체 싸이맥스 주가를 상승시키는 주력생산을 보면 EFEM과 LPM, TM입니다. 종속기업으로 있는 신도이앤지를 통해 미세먼지와...', 'date': '2023.08.26.'}\n",
      "{'title': '인공지능(AI) 디지털교과서 개발 아이디어,교사·학생...', 'text': '첨부파일 [교육부 07-07(금) 조간보도자료] 인공지능(AI) 디지털교과서 개발 아이디어, 교사·학생·학부모가 직접 제안한다!.pdf 교사·학생·학부모가 직접 참여하는 인공지능(AI) 디지털교과서 디자인연수회(워크숍) 개최 사용자 참여설계 구현을 위해 연수회(워크숍)에서 도출된...', 'date': '2023.07.06.'}\n",
      "{'title': '인공지능이 꿈을 통제할 수 있도록 도와줍니다', 'text': '프로피틱의 하드웨어 투자는 소수의 인공 지능 회사가 디바이스나 웨어러블에 투자하고 있는 시점에 이루어졌습니다. 전 애플 직원이... 울버그와 베리는 인공지능이 헤일로 장치에서 작동할 수 있는 충분한 훈련 데이터를 제공하기 위해 돈더스 연구소의 1년간의 연구...', 'date': '2023.10.15.'}\n",
      "{'title': 'AI 관련주 의료 인공지능 루닛·제이엘케이 등 주식 주가 간단...', 'text': '16%) 2023년 8월 9일 10:30 현재가 라이프시맨틱스(347700) 주가 일봉 차트 브리지텍(064480) 브리지텍(064480)은 AI(인공지능) 콜센터와 음성인식/화자인증, 보이는ARS, IP기반의 유무선(지능망서비스, 무선이동통신) 멀티미디어 서비스 관련 소프트웨어를 개발...', 'date': '2023.08.09.'}\n",
      "{'title': 'AI기술(인공지능)로 라스트마일을 개선하다!', 'text': '기업에서 인공지능(AI)을 활용하는 경우가 증가하고 있습니다. 물류 산업 역시 AI가 빠르게 적용되는 분야로 특히 라스트마일에 긍정적인 결과를 가져오고 있습니다. 오늘은 AI 기술과 라스트마일의 관계에 대해 살펴봅니다. AI를 통한 라스트마일 최적화 \"AI는 우리 네트워크에...', 'date': '2023.10.20.'}\n",
      "{'title': '챗 GPT 앱 인공지능 시대에 아이폰 chatGPT 필수 어플', 'text': '얼리어답터 리뷰/어플(App) 챗 GPT 앱 인공지능 시대에 아이폰 chatGPT 필수 어플 by 엔돌슨 2023. 6. 20. 챗 GPT 앱 인공지능 시대에 아이폰 chatGPT 필수 어플 챗gpt 앱은 채팅형 인공지능 서비스입니다. 챗GPT 앱으로 아이폰, 안드로인드 스마트폰에서 쉽게 서비스를 이용할 수...', 'date': '2023.06.20.'}\n",
      "{'title': '[관심종목] 23년 마지막 주목받을 인공지능,반도체 산업주식 종목', 'text': '23년 8월에서 12월까지 남은 5개월을 장식할 인공지능,반도체 산업주식 종목에는 뭐가 있을까? 주식은 상황과 여건에 따라 빛나는 종목이 있습니다. 올해 초부터 인공지능에 강세를 보였고 2차전지가 중심에 있었습니다. 그리고 2차전지와 관련된 에코프로가 빛을 받았죠. 그렇다면...', 'date': '2023.08.06.'}\n",
      "{'title': '2023 인공지능대학원 심포지엄(8.17~18) 개최', 'text': '인공지능대학원의 성과 공유 및 협력 연결망(네트워크) 마련 인공지능융합혁신대학원(동국대, 아주대, 부산대, 전남대) 현판 증정 및 총장 간담회 개최 과학기술정보통신부(장관 이종호, 이하 ‘과기정통부’)는 8.17(목)~18(금) 이틀 간 「2023 대학원 심포지엄」...', 'date': '2023.08.17.'}\n",
      "{'title': '인공지능 PPT 생성 - Gamma App', 'text': '정말 올해의 핫하디 핫한 키워드는, 누가 뭐라 해도 인공지능, AI 일것입니다. 물어보는것에 대답을 해주고, 일목요연하게 정리 해주고, 그림도 그려주고... 정말 무궁무진하게 발전하고 있는듯 한데요. 가볍에 테스트 해볼만한 사이트 하나 가져와봤어요! 바로바로, https://gamma.app...', 'date': '2023.09.21.'}\n",
      "{'title': '유럽 인공지능법안 / 물류 위험 / 철광석 가격 상승', 'text': '유럽연합 집행위원회가 유럽의회와 ‘인공지능법안’(AI Act)에 대해 합의하고 일부 내용을 공개 인공지능 시스템을 위험도에 따라 크게 4등급으로 나눠 각각의 경우 허용 또는 금지의 대상과 범위를 정함 ‘예외적 허용’ : 원격으로 실시간 생체 정보를 확인하는 문제(안면인식...', 'date': '20시간 전'}\n",
      "{'title': 'Ai 인공지능 사진 편집 프로그램, EVOTO 사용후기', 'text': '그렇기에 평생 남는 기록인 만큼 더욱 아름다운 모습으로 남길 원하실테고 이러한 이유로 AI, 인공지능 프로그램 등도 큰 인기 및 화제를... 이보토는 튜토리얼만 제대로 익혀도 원하는 AI, 인공지능과 같은 결과물을 얻을 수 있을 만큼 사용방법이 매우 심플합니다. 무엇보다 이보토는...', 'date': '2023.10.28.'}\n",
      "{'title': '에이닷vs믿음vs익시...통신업계 인공지능(AI) 대전', 'text': \"국내 대표 이동통신사들이 초거대 인공지능(AI) 기반 서비스를 강화하고 있습니다. 최근 SK텔레콤이 인공지능 브랜드 '에이닷'을 정식... '믿음'은 다양한 응용 사례를 쉽게 학습할 수 있는 '협업 융합 지능'을 갖췄고, 과거 대화를 기억해 활용하는 등 '사람에 더 가까운...\", 'date': '2023.10.06.'}\n",
      "{'title': '텍스트로 이미지를 만드는 인공지능 스테이블 디퓨전', 'text': '스테이블 디퓨전은 이미지 생성 인공지능입니다. 주소는 https://stablediffusionweb.com/ 사용법은 텍스트를 입력해서 이미지를 만들어 주도록 만들어진 이미지 생성 인공지능 모델입니다. 이렇게 텍스트를 입력해서 이미지를 만들어 주는 것을 text-to...', 'date': '2023.10.03.'}\n",
      "{'title': '[종목분석] 국내 인공지능 ai 대장주 루닛 주가전망과 사우디...', 'text': '지난 달 5일 의료 인공지능 ai 기업 루닛은 사우디아라비아 국가전략사업의 핵심과제 SEHA가상병원 프로젝트에 참여했습니다. 여기서... 특히 가상병원 프로젝트는 보건의료분야 최우선 과제로 이번에 참여한 인공지능 AI 의료기기를 중심으로 하는 루닛이란 기업에 좋은...', 'date': '2023.08.31.'}\n",
      "{'title': \"네이버의 새로운 인공지능(AI) 검색 'Cue(큐):'\", 'text': \"네이버 메인화면에 노출된 인공지능(AI) 검색 'Cue(큐):'. 출처=플레이 네이버 캡처화면 최근, 네이버가 생성형 AI 검색 ‘Cue(큐):’의 베타... 네이버의 새로운 인공지능(AI) 검색 'Cue(큐):' 출처='Cue(큐):' '큐(Cue):'는 네이버에서 새롭게 선보인 (AI) 검색 서비스입니다. 언어...\", 'date': '2023.09.22.'}\n",
      "{'title': '전참시 자이언티 ai 챗봇 인공지능 챗gpt 어플 사용방법...', 'text': '대화 전문 인공지능 챗봇!! 사람의 언어를 모방하는 ... 자이언티 최애 ai ... 여행스케줄도 짜주고 이미지도 만들어주고 제가 해봤을땐... ㅋㅋㅋㅋㅋ 저도 직접 챗봇 gpt를 사용해봤어요 ㅋㅋㅋ 근데 인공지능 ai지만 목소리 톤 너무 좋다! 자이언티 영상을 봐서 그런가 왜인지...', 'date': '1일 전'}\n"
     ]
    },
    {
     "name": "stdout",
     "output_type": "stream",
     "text": [
      "{'title': '통신사의 생성형 인공지능(AI) 서비스', 'text': \"생성형 인공지능(AI)과 관련한 기술을 개발하고, 이를 서비스에 적용하고 있습니다. KT는 자체 개발한 초거대 AI '믿음'을 다음달 공개할 예정이며, SKT는 생성형 AI 시장 공략을 위한 멀티 LLM 전략을 추진하고, LG유플러스는 메타버스와 광고 제작에 을 활용하고...\", 'date': '2023.09.04.'}\n",
      "{'title': '인공지능(AI) 발전할수록 냉각수 더 많이 필요 (댐 건설 필수)', 'text': '[디지털투데이 AI리포터] 최근 빅테크 기업들의 생성형 인공지능(AI) 모델 개발이 러시를 이루면서, 환경에 끼치는 영향에 대한 우려도 커지고 있다. 6일(현지시간) 경제 매체 CNBC는 AI의 발전이 빅테크 기업들의 물 사용량을 크게 늘리고 있다는 연구 결과에 대해 보도했다....', 'date': '2일 전'}\n",
      "{'title': '인공지능 테마를 통한 2차 상승장의 시작일까? 미국증시는...', 'text': '인공지능 업계에 이제 제대로 막 들어서는 구글과 함께 인공지능 칩 분야로 이제 막 들어서는 AMD는 엔비디아에 대항하기 위해 나타났고, 오늘만 10%에 가까운 주가 상승이 있었다. 주요 분야의 2등 기업들도 투자하기에 나쁜 것은 아니지만, 언제나 1등보다 적게 팔고 손해보는...', 'date': '4일 전'}\n",
      "{'title': '전국 청소년 인공지능 프론티어 챌린지 2023', 'text': \"글로벌 인공지능 기업이 함께하는 청소년 '인공지능 프론티어 챌린지' 경진대회 소식 입니다. 아마존웹서비스코리아, 구글클라우드, 한국마이크로소프트, 엔비디아 코리아, 네이버 클라우드, 엔에이치엔 클라우드, 케이티 클라우드, 삼성SDS, 쌍용정보통신 등 9개...\", 'date': '2023.08.02.'}\n",
      "{'title': '다양한 인공지능 모델들', 'text': '챗GPT를 통해 인공지능에 대한 관심이 많은데요. 인공지능을 구분해 보도록 하겠습니다. 먼저 생성형 AI라는 말이 있는데요. 생성형 AI(Generative AI) 언어 생성 모델(ChatGPT) GPT(Generative Pre-trained Transformer) 미리 학습(Pre-trained) 트랜스포머라는 언어 모델을...', 'date': '2023.09.12.'}\n",
      "{'title': '인공지능 AI 관련주 26종목 모음집', 'text': '*엑셈 데이터베이스 관리 기업으로 인공지능 기반 IT 운영 지능화 솔루션인 싸이옵스를 출시했음. *트루엔 인공지능 영상 솔루션... *마음AI 자체 보유한 기술을 조합해 AI 앱, AI 상담원 등 인공인간 서비스를 운영하고 있음. 삼성전자와 신한은행 등을 핵심 고객사로 보유하고...', 'date': '2023.10.09.'}\n",
      "{'title': \"SV인베스트먼트, 인공지능(AI) 반도체 스타트업 '리벨리온'의...\", 'text': '재료/모멘텀 인공지능(AI) 반도체 스타트업 리벨리온의 투자사 동사는 삼성전자와 협력해 내년 하반기까지 AI칩 리벨의 개발 완료 계획 리벨은 삼성 4나노 공정을 이용하며 삼성 HBM3E 메모리도 탑재 예정 데이터센터용 AI 반도체 ATOM 을 삼성 5나노 공정에서...', 'date': '2023.10.05.'}\n",
      "{'title': '(기술)인공지능과 빅데이터 분석을 위한 고성능...', 'text': '(기술)인공지능과 빅데이터 분석을 위한 고성능 분산DBMS SingleStoreDB 빅데이터와 인공지능의 보편화 최근 빅데이터와 인공지능으로 데이터 수집과 관리 기술을 많은 기업에서 사용할 만큼 보편화 되어 있습니다. 그러나 방대하고 다양한...', 'date': '4주 전'}\n",
      "{'title': '부산 동래구 평생학습관 가을 특강, 인공지능 Chat GPT 기초', 'text': '부산 동래구 평생학습관 가을 특강, 인공지능 Chat GPT 기초 오늘의 주제는 오늘의 이야기 동래구 평생 학습 가을 특강: 새로운 지식의... 인공지능 챗 GPT 기초 Chat GPT는 오픈에이아이(OpenAI)에서 만든 인공지능 모델이에요. 자연어 처리 분야에서 뛰어난 성능을 자랑하죠. 대규모...', 'date': '4주 전'}\n",
      "{'title': '안전하며, 책임감 있는 인공지능 발전에 기여할 것!\"', 'text': '글로벌 인공지능 분야의 개방형 혁신과 오픈 사이언스를 지원하기 위한 ‘인공지능 얼라이언스(AI Alliance)’가 출범했다. AI 얼라이언스는 사회의 요구와 복잡성을 보다 효과적으로 반영하도록 AI를 발전시킬 수 있는 다양한 기관들이 모여 모든 곳에서 기회를 창출할...', 'date': '4일 전'}\n",
      "{'title': '구글 ai 인공지능스피커 네스트허브 네스트미니 장단점 및...', 'text': '이번엔 구글 네스트허브와 네스트미니 인공지능 스피커 스펙과 다른 회사의 제품과 비교하면 어떤 부분인 낫고 부족한지 비교... 동시에 나온 인공지능스피커고, 각각 가성비가 좋은 제품이죠. 각각 가격이 5-6만원대 그리고 10만원대 초반이라서요. 가장 큰 차이는...', 'date': '4주 전'}\n",
      "{'title': \"일론 머스크의 혁신적 AI, '그록' 등장: 인공지능의 새 지평을...\", 'text': \"일론 머스크가 이번에는 인공지능 분야에서 새로운 화제를 던졌습니다. 바로 그의 AI 스타트업인 'x.AI'를 통해 '그록(Grok)'이라는 창의적인... 그런데, 일론 머스크는 인공지능의 미래에 대해 희망과 우려를 동시에 표현했습니다. 그는 AI와 로봇이 가져올 풍요로운 시대에 대해...\", 'date': '2023.11.07.'}\n",
      "{'title': '제주도, 인공지능 활용해 아열대‧열대작물 병‧해충 조기...', 'text': '지원사업은 인공지능 구현의 핵심 밑바탕이 되는 학습용 데이터를 구축해 산업 경쟁력과 사회적 문제해결 역량을 강화하기 위한 목적으로 과학기술정보통신부와 한국지능정보사회진흥원(NIA)이 추진하는 사업입니다. * 제주특별자치도 컨소시엄 : 제주특별자치도(주관)...', 'date': '2023.08.31.'}\n",
      "{'title': '인공지능 기술이 애플의 새로운 성장동력이 되어줄 수 있을까?', 'text': '미국의 대표 증권사 모건스탠리에서 애플의 인공지능 기술이 새로운 성장동력이 될 것이라는 전망을 내놓았다. 모건스탠리는 애플이 인공지능(AI) 기술을 본격적으로 제품과 서비스에 적용하기 시작하면서 중요한 성장 기회를 맞이할 것이라고 전망하는 모습이었다. 또한, 챗GPT와...', 'date': '4주 전'}\n",
      "{'title': '초보자도 쉽게 이해할 수 있는 인공지능 AI', 'text': '이런 현상과 함께 인공지능(AI) 또는 \"머신 러닝\" 모델은 계속 진화해 가고 있습니다. 오늘은 초보자도 쉽게 이해할 수 있는 인공지능 가이드로 챗봇을 넘어 다양한 종류의 인공지능을 발견하고 이 새로운 디지털 창조물들이 이미 우리의 삶에서 어떤 역할을 하고 있는지...', 'date': '2023.08.07.'}\n",
      "{'title': '김영갑교수의 인공지능을 활용한 2024년 외식 산업 트렌드...', 'text': '이 강연은 인공지능을 활용한 외식 경영과 마케팅 방법에 대한 내용으로, 2024년 외식 산업 트렌드 예측과 성공 전략을 다룰 예정입니다. 김영갑교수의 인공지능을 활용한 2024년 외식 산업 트렌드 예측과 성공 전략 특강 안내 12월 20일 오후 2~6시(3시간~4시간) 강의는 3시간 동안...', 'date': '5일 전'}\n",
      "{'title': '[핀테크 취준카페] #7편 - 인공지능(AI) 기업 소개', 'text': '[핀테크 취준카페] #7편 - 인공지능(AI) 기업 소개 오늘은 최근 가장 관심이 집중되고 있는 인공지능(AI)기업 중 대표적인 5곳을 알아보겠습니다. 인공지능(AI) 기업은 인공지능을 금융에 접목하여 로보어드바이저, 챗봇, 인슈어테크 등 다양한 서비스를 개발하고 있는...', 'date': '2023.09.04.'}\n",
      "{'title': '인공지능과 수묵화의 만남: 한국딥러닝의 수묵화 AI 생성...', 'text': '요즘, 인공지능(AI)은 그 어느 때보다도 우리 삶의 중심에 서 있습니다. 기술의 급격한 발전과 함께, 인공지능은 단순한 기술적 도구를 넘어서 사회와 문화의 다양한 영역에 깊숙이 그리고 빠르게 침투하고 있습니다. 특히 예술 분야에서의 의 역할은 더욱 두드러지며...', 'date': '2주 전'}\n",
      "{'title': '[인천cctv] 공장과 사무실을 밝히는 24시간 컬러 인공지능cctv!', 'text': '주변 빛이 없어서 야간이 고민이라면, 스스로 빛을 내는 인공지능cctv로! 안녕하세요 인공지능 인천cctv 공장cctv 설치 전문 자비스넷입니다. 수많은 경험, 수많은 노하우 자비스넷은 지금까지 각종 사업장에 많은 종류의 cctv를 설치하면서 많은 질문을 받곤 했습니다. 그 중...', 'date': '2023.10.31.'}\n",
      "{'title': '인공지능 어디까지 ? 예측의 과거와 현재', 'text': '\"카네기 멜론 대학 로봇연구소 한스 모리벡 박사는 인공지능이 10년마다 세대가 바뀔 정도로 급속히 발달해 2050년이면 인간의 지능을 능가할 수 있다고 전망하기도 했다. 2020년까지는 ... 생쥐(10만 MIPS) 정도의 지능을 갖춘 로봇이 등장하고 2030년까지는...', 'date': '2023.09.23.'}\n",
      "{'title': '[The IMC 소식] 인공지능으로 침수 피해를 막다, AI-SWMM', 'text': '자사에서도 SWMM을 인공지능과 결합해 효율적인 대책이 될 수 있는 AI-SWMM을 구축하고 개발 중에 있습니다. *SWMM : 강우-유출 시뮬레이션 모형(Dynamic rainfall-runoff) AI-SWMM 이란? SWMM을 인공지능과 결합해 보다 효율적으로 실행시킬 수 있는 AI 기반의 연구 모델로, 더아이엠씨의...', 'date': '2시간 전'}\n",
      "{'title': '[KTL TODAY] KTL, 의료인공지능개발지원센터 개설로...', 'text': '의료 인공지능산업 지원 위해 구축 세계 의료 AI 산업은 2027년 시장 규모가 약 674억 달러(USD)로 성장할 것으로 전망되는 고부가가치... 의료인공지능개발지원센터(디센터1976 5층/1,130평 규모)를 개소하게 됐습니다. AI 의료기기 개발과 관련 국책과제 연구 진행중 지원센터의...', 'date': '2023.09.11.'}\n",
      "완료\n"
     ]
    }
   ],
   "source": [
    "# get_view()\n",
    "views = driver.find_elements(By.CSS_SELECTOR, '.lst_view .bx')\n",
    "result = []\n",
    "\n",
    "for view in views:\n",
    "    con_dict = {}\n",
    "    con_dict['title'] = view.find_element(By.CSS_SELECTOR, '.title_link').text\n",
    "    con_dict['text'] = view.find_element(By.CSS_SELECTOR, '.dsc_link').text\n",
    "    con_dict['date'] = view.find_element(By.CSS_SELECTOR, '.sub').text\n",
    "    result.append(con_dict)\n",
    "    print(con_dict)\n",
    "    \n",
    "print('완료')"
   ]
  },
  {
   "cell_type": "code",
   "execution_count": 120,
   "id": "3ea70a7e",
   "metadata": {
    "ExecuteTime": {
     "end_time": "2023-12-12T04:39:59.882677Z",
     "start_time": "2023-12-12T04:39:51.964117Z"
    }
   },
   "outputs": [],
   "source": [
    "import pandas as pd"
   ]
  },
  {
   "cell_type": "code",
   "execution_count": 121,
   "id": "90672adf",
   "metadata": {
    "ExecuteTime": {
     "end_time": "2023-12-12T04:39:59.901584Z",
     "start_time": "2023-12-12T04:39:59.883686Z"
    }
   },
   "outputs": [
    {
     "data": {
      "text/html": [
       "<div>\n",
       "<style scoped>\n",
       "    .dataframe tbody tr th:only-of-type {\n",
       "        vertical-align: middle;\n",
       "    }\n",
       "\n",
       "    .dataframe tbody tr th {\n",
       "        vertical-align: top;\n",
       "    }\n",
       "\n",
       "    .dataframe thead th {\n",
       "        text-align: right;\n",
       "    }\n",
       "</style>\n",
       "<table border=\"1\" class=\"dataframe\">\n",
       "  <thead>\n",
       "    <tr style=\"text-align: right;\">\n",
       "      <th></th>\n",
       "      <th>title</th>\n",
       "      <th>text</th>\n",
       "      <th>date</th>\n",
       "    </tr>\n",
       "  </thead>\n",
       "  <tbody>\n",
       "    <tr>\n",
       "      <th>0</th>\n",
       "      <td>인공지능 기반 AI 로봇 똘똘이 로아이젠 돌봄 로봇 마이봄...</td>\n",
       "      <td>인공지능 시스템이 우리 일상에 어느 정도 자리 잡아 나가고 있습니다. AI 로봇이 ...</td>\n",
       "      <td>4주 전</td>\n",
       "    </tr>\n",
       "    <tr>\n",
       "      <th>1</th>\n",
       "      <td>브로드컴 주가 실적 전망 인공지능 관련주 (배당도 훌륭)</td>\n",
       "      <td>브로드컴은 분명한 인공지능 관련주 브로드컴, 미국 반도체 기업 중 하나인데, 사실 ...</td>\n",
       "      <td>5시간 전</td>\n",
       "    </tr>\n",
       "    <tr>\n",
       "      <th>2</th>\n",
       "      <td>인공지능 영상 편집 기능을 가진 필모라로 동영상 오디오...</td>\n",
       "      <td>최근 프로그램에 인공지능 기능을 도입하여 이전보다 편하게 기능을 사용할 수 있는 프...</td>\n",
       "      <td>3일 전</td>\n",
       "    </tr>\n",
       "    <tr>\n",
       "      <th>3</th>\n",
       "      <td>AI 인공지능 관련주 대장주 TOP2!</td>\n",
       "      <td>AI 인공지능 관련주 대장주! 주식 투자 노하우 함께 공유! 11월도 오늘 포함 3...</td>\n",
       "      <td>2주 전</td>\n",
       "    </tr>\n",
       "    <tr>\n",
       "      <th>4</th>\n",
       "      <td>[12월 8일 마감시황] AMD 가 인공지능(AI)용 반도체를...</td>\n",
       "      <td>AMD의 인공지능(AI) 신제품 기대감에 나스닥 지수가 상승하며 외국인의 현·선물 ...</td>\n",
       "      <td>2일 전</td>\n",
       "    </tr>\n",
       "    <tr>\n",
       "      <th>...</th>\n",
       "      <td>...</td>\n",
       "      <td>...</td>\n",
       "      <td>...</td>\n",
       "    </tr>\n",
       "    <tr>\n",
       "      <th>325</th>\n",
       "      <td>인공지능과 수묵화의 만남: 한국딥러닝의 수묵화 AI 생성...</td>\n",
       "      <td>요즘, 인공지능(AI)은 그 어느 때보다도 우리 삶의 중심에 서 있습니다. 기술의 ...</td>\n",
       "      <td>2주 전</td>\n",
       "    </tr>\n",
       "    <tr>\n",
       "      <th>326</th>\n",
       "      <td>[인천cctv] 공장과 사무실을 밝히는 24시간 컬러 인공지능cctv!</td>\n",
       "      <td>주변 빛이 없어서 야간이 고민이라면, 스스로 빛을 내는 인공지능cctv로! 안녕하세...</td>\n",
       "      <td>2023.10.31.</td>\n",
       "    </tr>\n",
       "    <tr>\n",
       "      <th>327</th>\n",
       "      <td>인공지능 어디까지 ? 예측의 과거와 현재</td>\n",
       "      <td>\"카네기 멜론 대학 로봇연구소 한스 모리벡 박사는 인공지능이 10년마다 세대가 바뀔...</td>\n",
       "      <td>2023.09.23.</td>\n",
       "    </tr>\n",
       "    <tr>\n",
       "      <th>328</th>\n",
       "      <td>[The IMC 소식] 인공지능으로 침수 피해를 막다, AI-SWMM</td>\n",
       "      <td>자사에서도 SWMM을 인공지능과 결합해 효율적인 대책이 될 수 있는 AI-SWMM을...</td>\n",
       "      <td>2시간 전</td>\n",
       "    </tr>\n",
       "    <tr>\n",
       "      <th>329</th>\n",
       "      <td>[KTL TODAY] KTL, 의료인공지능개발지원센터 개설로...</td>\n",
       "      <td>의료 인공지능산업 지원 위해 구축 세계 의료 AI 산업은 2027년 시장 규모가 약...</td>\n",
       "      <td>2023.09.11.</td>\n",
       "    </tr>\n",
       "  </tbody>\n",
       "</table>\n",
       "<p>330 rows × 3 columns</p>\n",
       "</div>"
      ],
      "text/plain": [
       "                                       title  \\\n",
       "0        인공지능 기반 AI 로봇 똘똘이 로아이젠 돌봄 로봇 마이봄...   \n",
       "1            브로드컴 주가 실적 전망 인공지능 관련주 (배당도 훌륭)   \n",
       "2          인공지능 영상 편집 기능을 가진 필모라로 동영상 오디오...   \n",
       "3                      AI 인공지능 관련주 대장주 TOP2!   \n",
       "4      [12월 8일 마감시황] AMD 가 인공지능(AI)용 반도체를...   \n",
       "..                                       ...   \n",
       "325       인공지능과 수묵화의 만남: 한국딥러닝의 수묵화 AI 생성...   \n",
       "326  [인천cctv] 공장과 사무실을 밝히는 24시간 컬러 인공지능cctv!   \n",
       "327                   인공지능 어디까지 ? 예측의 과거와 현재   \n",
       "328   [The IMC 소식] 인공지능으로 침수 피해를 막다, AI-SWMM   \n",
       "329     [KTL TODAY] KTL, 의료인공지능개발지원센터 개설로...   \n",
       "\n",
       "                                                  text         date  \n",
       "0    인공지능 시스템이 우리 일상에 어느 정도 자리 잡아 나가고 있습니다. AI 로봇이 ...         4주 전  \n",
       "1    브로드컴은 분명한 인공지능 관련주 브로드컴, 미국 반도체 기업 중 하나인데, 사실 ...        5시간 전  \n",
       "2    최근 프로그램에 인공지능 기능을 도입하여 이전보다 편하게 기능을 사용할 수 있는 프...         3일 전  \n",
       "3    AI 인공지능 관련주 대장주! 주식 투자 노하우 함께 공유! 11월도 오늘 포함 3...         2주 전  \n",
       "4    AMD의 인공지능(AI) 신제품 기대감에 나스닥 지수가 상승하며 외국인의 현·선물 ...         2일 전  \n",
       "..                                                 ...          ...  \n",
       "325  요즘, 인공지능(AI)은 그 어느 때보다도 우리 삶의 중심에 서 있습니다. 기술의 ...         2주 전  \n",
       "326  주변 빛이 없어서 야간이 고민이라면, 스스로 빛을 내는 인공지능cctv로! 안녕하세...  2023.10.31.  \n",
       "327  \"카네기 멜론 대학 로봇연구소 한스 모리벡 박사는 인공지능이 10년마다 세대가 바뀔...  2023.09.23.  \n",
       "328  자사에서도 SWMM을 인공지능과 결합해 효율적인 대책이 될 수 있는 AI-SWMM을...        2시간 전  \n",
       "329  의료 인공지능산업 지원 위해 구축 세계 의료 AI 산업은 2027년 시장 규모가 약...  2023.09.11.  \n",
       "\n",
       "[330 rows x 3 columns]"
      ]
     },
     "execution_count": 121,
     "metadata": {},
     "output_type": "execute_result"
    }
   ],
   "source": [
    "#저장된 게시물 리스트를 데이터프레임으로 변환후 csv로 저장\n",
    "df = pd.DataFrame(result)\n",
    "df"
   ]
  },
  {
   "cell_type": "code",
   "execution_count": 122,
   "id": "eccb9c2d",
   "metadata": {
    "ExecuteTime": {
     "end_time": "2023-12-12T04:40:03.456744Z",
     "start_time": "2023-12-12T04:40:03.434057Z"
    }
   },
   "outputs": [],
   "source": [
    "#데이터 프레임 저장\n",
    "# csv는 sep 쉼표가 반드시 있어야 한글이 안깨짐\n",
    "df.to_csv(f'./naver_{fname}.csv', sep=',', encoding='utf-8-sig')"
   ]
  },
  {
   "cell_type": "markdown",
   "id": "01021d31",
   "metadata": {},
   "source": [
    "예제)구글 플레이 스토어 리뷰"
   ]
  },
  {
   "cell_type": "code",
   "execution_count": 124,
   "id": "86059935",
   "metadata": {
    "ExecuteTime": {
     "end_time": "2023-12-12T04:45:02.449102Z",
     "start_time": "2023-12-12T04:44:54.580980Z"
    }
   },
   "outputs": [],
   "source": [
    "from selenium import webdriver\n",
    "from selenium.webdriver.common.by import By\n",
    "from selenium.webdriver.chrome.options import Options\n",
    "import time\n",
    "\n",
    "options = Options()\n",
    "options.add_argument('--window-size=974,1047') #옵션설정\n",
    "options.add_argument('--window-position=953,0')\n",
    "options.add_experimental_option(\"detach\", True)\n",
    "\n",
    "driver = webdriver.Chrome( options = options)\n",
    "url = 'https://play.google.com/store/apps/details?id=com.nhn.android.webtoon&hl=ko-KR'\n",
    "driver.get(url)\n",
    "time.sleep(2)"
   ]
  },
  {
   "cell_type": "code",
   "execution_count": 125,
   "id": "a7141272",
   "metadata": {
    "ExecuteTime": {
     "end_time": "2023-12-12T04:46:04.374552Z",
     "start_time": "2023-12-12T04:46:03.965382Z"
    }
   },
   "outputs": [],
   "source": [
    "driver.find_element(By.XPATH, '//*[@id=\"yDmH0d\"]/c-wiz[2]/div/div/div[2]/div[2]/div/div[1]/div[1]/c-wiz[4]/section/div/div[2]/div[5]/div/div/button/span').click()"
   ]
  },
  {
   "cell_type": "code",
   "execution_count": 126,
   "id": "d071ffe5",
   "metadata": {
    "ExecuteTime": {
     "end_time": "2023-12-12T05:05:28.047341Z",
     "start_time": "2023-12-12T05:05:17.961020Z"
    }
   },
   "outputs": [],
   "source": [
    "for i in range(5):\n",
    "    driver.execute_script('window.scrollTo(0, document.body.scrollHeight);')\n",
    "    time.sleep(2)"
   ]
  },
  {
   "cell_type": "code",
   "execution_count": 142,
   "id": "d97ca5bd",
   "metadata": {
    "ExecuteTime": {
     "end_time": "2023-12-12T05:29:50.638846Z",
     "start_time": "2023-12-12T05:29:45.532121Z"
    },
    "scrolled": true
   },
   "outputs": [
    {
     "name": "stdout",
     "output_type": "stream",
     "text": [
      "{'star': 5, 'text': '정말 잘 사용하고 있습니다 재미있는 작품도 많고,,, 근데 작품 검색해서 누르면 나오는 웹툰 페이지 부분에 보던 곳부터 이어보는 기능이 있었으면 좋겠습니다... 예전에 본 웹툰 봤던 곳 부터 이어보고 싶은데 봤다고 표시되어있는 화를 다 보지않고 중간까지만 봤었던 걸 까먹고 바로 다음 화를 봐버려서 내용 이해를 못한 경험이 꽤 있어요...!! 그렇다고 이어보기 하려면 최근본에서 하나하나 내리면서 찾아야해서 조금 힘듭니다 이런 기능 하나만 추가해주시면 더 웹툰 편하게 볼 수 있을 것 같습니다!!', 'date': '2023년 10월 22일'}\n",
      "{'star': 3, 'text': '다른건 다 좋은데 한가지 아쉬운게 있음 매일+웹툰 같은 경우 작품 회차 목록 들어갔을때 스크롤 올렸다 내렸다 할때 실수로 터치하면 내가 보려고 했던게 아닌걸로 들어가지는 경우가 종종 있음 이런 점에서 편의성을 좀 개선해 줬으면 좋겠어요 예를 들면 간단한 확인창 같은걸로 (예/아니오) 이렇게 뜨면 실수 할 일은 없을듯 싶네요', 'date': '2023년 11월 28일'}\n",
      "{'star': 5, 'text': '지금 네이버웹툰 앱을 잘 쓰고있습니다. 이 앱에는 장점이 많기는 한데, 단점도 있는 것 같습니다.. 단점은 자기가 웹툰을 보다가 끊을 수도 있는데, 나갔다가 들어오면 다시 그 회차 처음부터 봐야한다는 점이 조금 아쉬운 것 같습니다. 그 회차에서 보다가 만 부분부터 이어서 보게 해주시면 완벽할 것 같습니다!', 'date': '2023년 9월 28일'}\n",
      "{'star': 4, 'text': '좋아요! 근데 생기거나 바뀌었으면 하는 것이 있는데요. 1. 시리즈처럼 정주행 모드 있었음 좋겠어요. 정주행 할 때 불편해요. 2. 자동 스와이프 있었음 좋겠어요. 내리기 귀찮아요. 3. 정주행 할 때, 모든 회차중에 몇화봤다. 이런거 있음 좋겠네요. 메세지처럼 띵! 뜨지 말고요. 그냥 버튼처럼 가만히 있는, 아시겠죠? 4. 카테고리별로 검색 할 수 있으면 좋겠어요. 로맨스, 집착광공, 햇살캐 이런 식으로만 검색을 해도 나오게요. 이 외에 나머지는 그럭저럭 좋습니다!!', 'date': '2023년 11월 28일'}\n",
      "{'star': 1, 'text': '별점 주는 팝업창위에 자꾸 다른 웹툰광고창이 떠서 가리는데, 별점 주려면 몇번이고 뒤로가기 해서 취소해야함. 팝업창 위치 수정하든지 팝업 끌 수 있게 설정가능하게 하든지 조치 부탁드립니다. 괜히 광고로 뜨는 웹툰까지 안 보고 싶어짐.', 'date': '2023년 12월 1일'}\n",
      "{'star': 5, 'text': '👍/ 23.09.13 굉장히 잘 쓰고 있습니다 다만 한가지 건의 하고 싶은 기능이 있습니다 혹시 네이버 시리즈와 열람내역 동기화가 되는 기능을 넣어주실수 있나요? 두 앱을 모두 사용하는데 동기화가 되지않아 약간 아쉽습니다 물론 동기화를 바라지 않는 유저분들도 계시니 on/off를 넣어주시면 더욱 좋을것 같습니다', 'date': '2023년 9월 13일'}\n",
      "{'star': 5, 'text': '다른건 다 좋지만 살짝 불편한게 제가 봤던 장면을 고정할수없어서 불편합니다 ㅜㅜ.. 앱을 나가면 다시 그 장면을 찾아서 봐야하는데 기억이 잘안나면 또 다시 계속 찾아야해서 불편합니다 그래서 봤던 장면을 고정 할수있는 기능이있었으면 합니다.', 'date': '2023년 9월 17일'}\n",
      "{'star': 4, 'text': '다 좋아용 근데 ㅋㅋㅍ나 ㄷㅇ웹툰 앱처럼 정주행 모드가 없는 건 조금 아쉽습니다. 그리고 베도,,,,가 거의 방치되는 것 같아서요;;베도 작품들 괜찮은 것들 다른 플랫폼에서 많이 채가거나 연중이 많아서 베도 독자들이 점점 줄어드는 것 같습니다..물론 지상최대 공모전에서 신인웹툰들 많이 발굴하지만 그 웹툰들도 떨어지면 베도로 가는 경우를 많이 보아서요. 베도 방치하지말고 개선을 해서 예전처럼 다시 독자들을 늘리거나 없애는 게 나을 듯 합니다. 근데 베도가 옛날부터 이어져왔던만큼 없어지는 건 너무 아쉬울 것 같아서 홍보나 웹 디자인을 바꾸거나 하는 방향이 나을 듯,,, 이렇게 방치되다가 쥬니버네이버처럼 없어지는 건 싫단말이에요ㅜㅠ', 'date': '2023년 8월 15일'}\n",
      "{'star': 5, 'text': '23.9.7 리뷰 수정; 이젠 미리보기가 지금 볼 탭에서 나타나지 않네요 :) 네이버는 아직 일하고 잇군요 정말 편하게 잘 쓰고있던 앱입니다. 다만 이번 업데이트로 MY탭의 \"최근 본 -> 지금 볼\" 페이지가 매우 불편하게 바뀌었습니다. 원래는 미리보기를 결제하지 않은 웹툰은 \"지금 볼\" 페이지에는 뜨지 않았는데, 이제는 미리보기를 결제하지 않아도 무조건 뜨게 되네요. 미리보기를 결제하지 않는 작품도 뜨게 되니 요일마다 나오는 웹툰을 찾아 보기가 매우 힘듦니다. 그냥 내가 보는 웹툰 전체가 뜨게되는거면 \"지금 볼\" 페이지는 의미가 없죠. 업데이트 이전으로 되돌려주시거나, 아니면 최소한 사용자가 미리보기를 결제하지 않은 작품은 표시되지 않게 직접 설정할 수 있게 해주시면 5점짜리 앱이 될 것 같네요.', 'date': '2023년 9월 7일'}\n",
      "{'star': 4, 'text': '네이버웹툰 깐 지 얼마 안 됐지만 정말 재밌게 보고 있어요! 보통 광고엔 스릴러나 로맨틱 판타지 들이 많이 소개되는데 개인적으로 힐링 물 좋아하는 사람으로서 정말 아쉬워요. ㅜㅜ 앱을 깔아보면 연재작과 베도를 통틀어 힐링 물도 제법 많던데 광고에는 그런 작들이 소개되지 않고 있어 정말 안타깝습니다 ㅜㅜ 그래도 깔기 정말 잘한거 같아요 ! 그만큼 좋은 작도 많거든요!', 'date': '2023년 8월 20일'}\n",
      "{'star': 2, 'text': '지금 볼 웹툰들 목록이 업데이트 이후로 이전보다 불편해졌네요.. 쿠키를 사용해서 미리보기를 결제한 웹툰만 미리보기 회차가 몇개있는지 나오고, 쿠키를 사용하지 않고 무료회차까지만 감상한 웹툰은 새로운 무료회차가 나올 때까지 표시가 되지 않았던 기존 방식이 눈에도 더 잘 들어오고 더 편리합니다. 왜 이렇게 바꾼건지 이해가 되지 않네요ㅠ', 'date': '2023년 9월 1일'}\n",
      "{'star': 3, 'text': '오랫동안 잘쓰고있었는데 최근 업데이트로 최근 본 페이지에 미리보기알림도 나오는것과 웹툰보고나서 아래쪽에 다른웹툰 광고나오는것이 굉장히 불편해졌습니다. 미리보기알림은 유용하게 쓰시는 분들도 계실수있으니 설정에 이전과 같이 미리보기는 표시하지않는 기능을 만들어주셨으면 좋겠습니다. 아래쪽에 다른웹툰의 광고가 나오는것은 그냥 없애주셨으면 좋겠습니다.댓글이나 다음화를 보려고할때 갑자기 생겨서 그 웹툰으로 넘어가집니다.그렇게 광고된 웹툰은 보고싶어지는게 아닌 오히려 보고싶어지지않는 역효과를 일으키니 효과도 없습니다. 만약 광고를 넣고싶다면 다 봤을때쯤 나오는거같으니 윗쪽에 광고를 배치하신다면 갑자기 나와도 누를일이 없어서 당하지 않을것같네요.넘어가질때마다 상당히 불쾌해지니 꼭 고쳐주시길 바랍니다.최근 본 페이지도 꼭 바꿔주시구요. 정말 많이 불편합니다.', 'date': '2023년 9월 2일'}\n",
      "{'star': 3, 'text': \"기존에 새 미리보기 개수를 표기하지 않았던 걸로 기억하는데, 이번에 갑자기 새 미리보기 개수가 표기되면서 MY부분의 '지금 볼' 부분을 새로 올라온 무료 회차를 보는 용도로 잘 사용하다가 큰 불편함을 겪게 되었습니다. 이미 무료 회차를 다 본 웹툰도 미리보기를 보지 않아서 '지금 볼' 부분 최상단에 표시가 되어 읽고싶은 웹툰을 찾는 데 어려움이 생겼습니다. '지금 볼' 부분에서 미리보기/무료회차/미리보기+무료회차 중 무엇을 표기하고 싶은지 선택이 가능했으면 좋겠습니다.\", 'date': '2023년 8월 30일'}\n",
      "{'star': 5, 'text': '네이버 웹툰 너무 재밌게 보고 있어요!! 웹툰들도 많고 장르도 다양해서 보는 재미도 있는거 같아요 그런데 쪼금 불편한 점이 있어요 폰으로 웹툰을 보는데 손가락으로 올리면서 봐야 하니까 손가락이 좀 아프더라구요(저만 그런건지는 모르겠지만,)그래서 추가해줬으면 하는 기능을 추천 해드리고 싶어요! 저 처럼 스크롤 하다 손가락이 조금 아픈분들을 위해 자동 스크롤 기능을 추가 해주셨으면 좋을 것 같아요! 그리고 쿠키 미션이 조금 더 다양해졌으면 좋겠어요 긴 글 읽어주셔서 감사합니다! 네이버 웹툰 응원해요!!!!', 'date': '2023년 8월 17일'}\n",
      "{'star': 5, 'text': '정말 잘 사용하고 있었습니다만,갑자기 언제인지 모를 업데이트 이후 새 이야기 수가 표시 되는 것이 아닌 미리보기 수가 표시 되어 너무 불편합니다.설정에서 크고 끄고를 할 수 있게 만들어 주시거나 그냥 다시 원래대로 돌려놓는게 좋을것 같습니다.저 외에도 다른 많은 사람들이 불편함을 호소하고 있습니다. 부디 빠른 업데이트 부탁드립니다.', 'date': '2023년 9월 6일'}\n",
      "{'star': 5, 'text': '솔직히 저는 이앱을 많이 사용해본 경험자로서 너무 편하고 쉽게 사용할수 있는데 새로운 옵션이 생겼더라구요 1 미리보기,새로운 이야기 이런 글들이 웹툰 제목 밑에 있더라구요 웹툰을 다보고 쭉내리면 아직 안 본 웹툰들이 있는데 이 옵션이 생기고 부터 이웹툰이 본건지 안본건지 구분이 안됩니다 또 지금볼 이라고 써있는 것을 터치하면 안본 웹툰들이 있었는데 또 본건지 안본건지 헷갈려서 조작이 어렵고 사용에 힘이 들기 때문에 다시 개선해 주시기 바랍니다. 감사합니다!! 원래대로 봐꿔주셔서 감사합니다.', 'date': '2023년 9월 6일'}\n",
      "{'star': 4, 'text': '이번에 업데이트하면서 새 미리보기랑 이어보기가 생겼는데 이게 좀 헷갈리기도 하고 새 미리보기가 몇개인지 안뜨면 좋겠어요.그리고 자동으로 스크롤되는 기능도 생기면 좋겠네요,정주행할때 계속 손으로 내리기가 귀찮기도하고 계속 하다보면 손가락이 아픈 것 같기도 해서요.그 외에는 웹툰도 재미있고 쿠키굽는거 툰필터 등등 생긴게 귀엽고 재미있기도 하네욥', 'date': '2023년 9월 10일'}\n",
      "{'star': 4, 'text': '다좋은데 최근에 업데이트된걸로 확인되는 기능이 좀 불편해요. 마이페이지에 지금볼 nn하며 뜨는 탭에선 원래 무료대여권이 생긴 웹툰과, 읽지않은 이야기가 있는웹툰, 그리고 미리보기 1개이상 결제한 웹툰이 있었는데 오늘 들어가보니 미리보기를 사지않은, 미리보기를 포함해 아직 남아있는 이야기가 있는 웹툰이 다 표기되있더라구요. 이게 불편합니다. 이 탭을 원랜 안본화가 있는 작품이 있나? 하고 보던탭이 이거였는데, 이렇게 바뀌어버리니 소용이 없어졌어요', 'date': '2023년 8월 30일'}\n",
      "{'star': 4, 'text': '몇 년간 만족하며 사용하고 있었는데 my탭에 최근본 항목에서 다 본 웹툰에도 새 미리보기+가 올라오는 것으로 바뀐 것이 매우매우매우 불편합니다. 거의 my탭 기능만 이용하면서 네이버 웹툰을 사용하는데 다 본 웹툰과 아닌 웹툰을 구별하기가 너무 힘드네요.', 'date': '2023년 9월 2일'}\n",
      "{'star': 4, 'text': \"네이버웹툰 재미있게 보고있습니다. 이번 업데이트를 통해 바뀐것인지는 모르겠는데 '지금 볼'에서 새 이야기만 있는것이 아닌, 이미 본 웹툰과 이전의 본 웹툰들의 새 미리보기 정보 또한 같이 표시되어서 새 이야기와의 구별이 힙듭니다. 이 점이 네이버웹툰 앱설정에서 설정이 가능한건가요, 아니면 업데이트를 통해 새롭게 바뀐건가요?\", 'date': '2023년 8월 31일'}\n",
      "{'star': 3, 'text': \"이번 업데이트 정말 불편합니다. 특히 '지금 볼' 탭에서 '새 미리보기'가 간간히 섞여있어 업데이트 된 작품을 찾기 힘듭니다. 이렇게 되면 '최근 본 탭'에서 '전체'와 '지금 볼'이 휴재작 빼고는 다를 게 없습니다.\", 'date': '2023년 8월 30일'}\n",
      "{'star': 5, 'text': \"어플에 웹툰탭 가장 하단부 '최신 이야기를 놓치고 계신거 같아요!' 미리보기가 새로 나온건 왜 뜨게 만드신 겁니까... 이전에는 미처 못본작품을 알려줘서 좋았는데 미리보기까지 알려주니 찾아보기 너무 힘듭니다. 덕분에 그냥 안보게 되고요. 미리보기가 궁금한 작품들은 이렇게 안해도 충분히 수익률 나오지 않나요? 작품 퀄리티를 올려 수익률을 올리면 좋겠습니다...\", 'date': '2023년 9월 2일'}\n",
      "{'star': 5, 'text': '항상 잘 보고 있어요! 그런데 네이버 웹툰이 운영하는 해외 앱에 더 다양한 작품들이 있어서 그 앱을 다운받아보려고 했는데 거주 국가에서 사용할 수 없는 앱이라고 뜨고 인터넷으로 접속하는 것만 가능하더라고요.. 혹시 해외 앱을 다운받을 수 있는 방법은 없을까요?', 'date': '2023년 7월 21일'}\n",
      "{'star': 4, 'text': '진짜 너무너무 좋은 앱이에요 !! 웹툰볼때 많이 이용하고있습니다! 📢수정 바라는 내용이 있습니다📢 미리보기를 구매를 안했음에도그냥 한 웹툰보면 새로운 미리보기라면서 구매안한사람에게도 뜨더라고요? 솔직히 네이버 조금 좋았던 이유가 새로 업로드된 화들을 쉽게 찾을수있던건데 미리보기도 떠버리니... 물론 미리보기 결제하시는분들은 유용하시겠지만 저는 7일동안 기다리다 보는 무과금러라 ㅠㅠㅠㅠㅠ 수정 간곡히 부탁드립니다.. 아님 구매자분들만 구매한 웹툰 알람만 뜰수있게 해주세요 ...', 'date': '2023년 8월 30일'}\n",
      "{'star': 4, 'text': '요즘은 안하지만 굳이 리뷰를 써봅니다. 장점은 사람의 성격이 각양각색한 만큼 웹툰 장르도 각양각색하고 많기 때문에 골라보는 재미가 있고 퀄리티도 높은 편이라 흥미를 끄는 웹툰이 훑어봐도 1~2개 있고 아직 나오지 않은 화를 제외하고 나머지 화는 무료로 볼 수 있습니다. 단점은 회원가입을 할려면 매우 복잡한 과정을 거쳐야 하고 (저는 포기함) 회원가입을 하지 않으면 전에 보았던 웹툰이 가려졌을 때 볼 수 없어 일일이 찾아봐야 해서 귀찮다는 것이.... 물론 해결책은 있지만... 어쨌든 그럼에도 불구하고 가장 좋다고 생각하는 부분은 이 앱이 다른 앱 보다 낮간지러운 장면이 별로 없어 건전하다고 생각되는 부분입니다. 만약 자신의 마음에 드는 웹툰을 찾고 있다면 여기에서 자신이 원하는 숨겨진 보물을 발견할 수 있기를 바랍니다! 그리고 작가분들도 힘내시길..!!', 'date': '2023년 11월 23일'}\n",
      "{'star': 5, 'text': \"안녕하세요! 2020년부터 지금까지 4년째 네이버웹툰을 보고 있습니다😀 정말 네이버웹툰 단점도 없고, 댓글창도 클린하고 너무너무 좋은데 저번에 업데이트를 하며 '최근본 웹툰' 에 '지금 볼' 이라는 기능이 추가되어서 너무 잘쓰고 있었어요! 근데 이번에 업데이트를 하니 지금 볼 기능에 무료 회차 뿐만 아니라 유료 회차도 뜨더라구요 근데 뭐든지 알람 하나없이 딱 깔끔한거 좋아하는 저로서는 결제도 안한 미리보기까지 다 뜨는게 너무 불편해요 ㅠㅠ 이 기능을 없애는건 바라지 않지만, 이 기능을 끌 수 있는 방법이 있을까요..?? 정말 너무 불편합니다ㅜ😭 + 우와 리뷰쓴지 2주도 안된 것 같은데 바로 수정해주셨어요❗️❗️ 네이버 웹툰 최공\", 'date': '2023년 9월 6일'}\n",
      "{'star': 4, 'text': '잘 사용하고 있습니다만, pc와 모바일 이어보기가 잘 되지 않습니다. 회차이어보기는 되지만 그 회차에서 어디까지 봤는지 이어보기는 되지 않아 불편한 감이 있습니다. 그리고 두번째로, 속도 조절 할 수 있는 자동스크롤 부탁드립니다.. 정주행 할 때 손가락이 장난 아니게 아파서 생겼으면 합니다', 'date': '2023년 8월 11일'}\n",
      "{'star': 4, 'text': '잘 보고 있습니다. 다만 이전에는 무료충전완료와 새 이야기만 표시되었는데 이번에 새 미리보기가 함께 추가되어 불편합니다. 온/오프 기능을 만들거나 이전으로 되돌려주세요. +지금 볼에 최근작품 100개로 제한이 있었는데 그 개수를 수정하거나 한도를 없앨 수 있는 기능이 있으면 편리할 것 같네요.', 'date': '2023년 9월 2일'}\n",
      "{'star': 2, 'text': '이번 업데이트 이후 임시저장 기능이 많이 불편해졌습니다. 임시저장을 할때 체크를 해둔것이 스크롤을 내리거나 올려 화면에 보이지 않으면 자동으로 체크가 취소됩니다. 거기에 기존에 앱 맨아래에 있던 관심있는 웹툰중 새로 갱신된 웹툰이 뜨던 창이 사라진것도 좀 아쉽습니다.', 'date': '2023년 9월 16일'}\n",
      "{'star': 5, 'text': '안녕하세요! 네이버 웹툰을 잘 사용하고 있는 유저입니다. 다름이 아니라 추가되면 더욱 편리할 것 같은 기능을 제안드리고자 리뷰를 남깁니다. 제가 부탁드리는 기능은 자동 스크롤 기능인데요, 식사를 할 때나 집안일을 할 때, 일을 할 때 등등 손을 사용할 수 없는 상황에서는 매우 난처해지는데요. 이 기능이 추가되면 더욱 편리하게 웹툰을 감상할 수 있을 것 같습니다. 또 사람마다 웹툰을 보는 속도가 다르므로 속도 조절 기능도 추가해 주시면 감사하겠습니다.(ex: 느리게, 보통, 매우 빠르게) 자동 스크롤 기능이 있으면 웹툰을 보는 시간이 기존보다 더욱 증가하게 되고 결과적으로는 회사에게 돌아가는 이윤도 증가하게 됩니다. 몇 년간 네이버 웹툰을 사용한 사람으로써 꼭 필요한 기능이라고 생각되어 이렇게 글을 남깁니다. 긴 글 읽어주셔서 감사하고 늘 앱 개발에 힘써주셔서 감사합니다 화이팅하세요!', 'date': '2020년 4월 8일'}\n",
      "{'star': 5, 'text': '네이버 웹툰 어플을 주로 챙겨보기 시작한지 어엿 1년이 넘어선 것 같습니다. 그런데도 별 문제없이 이용한 것 같군요. 오류가 남발한다든지 그런 일들은 겪어본 적이 없습니다. 전 최적화에 간혹 문제를 일으킨다는 lg 구형폰으로도 잘 이용했었고 이 웹툰 앱은 그러한 폰으로도 이용 가능하도록 최적화가 잘 이루어진 편이었죠. 게다가 최근에는 스왑(화면을 전환시키듯 넘기며 교체시키는 모습) 방식으로 발전된 웹툰 전개능력도 문제없이 잘 보여줬습니다. 앞으로도 멋진 작품을 많이 만날 수 있었으면 좋겠습니다. 네이버 웹툰 어플만큼은 앞으로도 망가지지 않았으면 합니다. 광고도 이용자의 시간을 빼았고 시끄러운 소리를 내며 클릭을 유도하는 것이 아니라 웹툰 이야기가 끝나면 웹툰 환경에 어울리도록 추가로 웹툰방식의 제품광고를 끼워 넣으셨어요. 이용자들로 하여금 불편을 느끼게 하지 않으면서 광고를 자연스럽게 볼 수 있도록 만들었네요. 기획자가 누구신지 몰라도 머리가 좋으신 분 같습니다.', 'date': '2022년 8월 5일'}\n"
     ]
    },
    {
     "name": "stdout",
     "output_type": "stream",
     "text": [
      "{'star': 1, 'text': 'UI가 이전으로 돌아가거나 개별목록이 축소되어야 할 것 같습니다. 폰 화면이 큰 편인데도 가시성이 너무 떨어집니다. 사실 많은 사람들이 문제를 제기하지 않을 수도 있는데, 그건 순전히 귀찮음 때문일 거라고 생각합니다. 만족도 조사 팝업 띄우면 어느 정도로 이번 UI가 별로인지 알 수 있을 것 같네요. 순전히 어플 UI 업데이트가 별로라서 해당 어플을 사용하기 싫은 적은 또 처음입니다.', 'date': '2022년 8월 19일'}\n",
      "{'star': 1, 'text': '\"포스터 썸네일\"기능이 추가되고나서 판독성도 떨어지고 UI도 나빠졌습니다. 최소한 사용자들에게 \"포스터 썸네일\" 기능을 쓸지 말지 정도는 선택권을 줬으면 합니다 기존의 미니멀한 디자인에서 쓰잘대기 없는 \"포스터 썸네일\"기능을 추가함으로써 사용자들의 불편함을 유도하신 거라면 매우 성공적인 업데이트라고 생각됩니다 시스템 UI를 개편하면 적응기를 두던지 최소한 선택지를 줘야할텐데 \"포스터 썸네일\" 기능은 켰다 끌 수도 없군요 그럼 왜 기능을 업데이트 했다고 공지하신걸까요 그냥 UI를 개편했습니다 하고 마시지. 기능이라면 원할때 키고 끌 수 있어야하는데 \"포스터 썸네일\"은 그런 기본도 생각안하고 업데이트 하셨나봅니다.', 'date': '2022년 8월 21일'}\n",
      "{'star': 1, 'text': '인터페이스가 너무 피곤해졌어요. 카카오의 안좋은 점을 가져온 느낌... 한 페이지 내에 정보도 너무 많고 색상도 너무 다양하고 아래에 제목도 있는데 썸네일 이미지에 타이포까지 있으니까(심지어 작품마다 폰트도 달라서...) 한 눈에 들어오지도 않고 보던 웹툰 찾기도 힘듭니다. 시각적 피로감 뿐만 아니라 전체적인 스크롤 길이까지 길어져서 더더욱... 이전이 훨씬 깔끔하고 원하는거 찾기도 편했어요. 인터페이스만큼은 네이버가 카카오보다 훨씬 낫다고 생각하고 있었는데...🤔', 'date': '2022년 8월 21일'}\n",
      "{'star': 5, 'text': '앱은 정말 좋고 잘 쓰고 있습니다. 그런데 한가지 문제가 있습니다. 전 현재 갤럭시 s10플러스를 사용중인데 다른작업을 하다가 최근사용한 앱 화면으로 들어가서 웹툰 앱을 다시 키려고 하면 웹툰앱이 강제 종료되면서 최근사용한 앱 화면에서 없어져 버립니다. 꽤나 오래전부터 있던 문제였고 시간이 지나면 개선될줄 알고 기다렸는데 그대로여서 문의 남깁니다. 정말 잘 쓰고 있는 앱이고 이것만 더 개선되면 완벽할 것 같습니다. 빠른 개선 부탁드립니다. 감사합니다', 'date': '2021년 1월 24일'}\n",
      "{'star': 4, 'text': '네이버가 다른 어플과는 차별점이 깔끔하면서 정리된 느낌으로 딱 잡아주는 게 특징이었는데 이번 업데이트로 인해 한눈에 들어오는 느낌이 사라지고 관심웹툰으로 해놓지 않으면 못찾고 넘어갈 때도있었어요 또 제일 밑에 있는 웹툰까지 내려가는 스크롤의 길이가 길어짐에 따라 접근성이 조금은 떨어지지 않을까 생각해봅니다. 하지만 작화를 조금 크게 보면서 시각적으로는 즐겁네요ㅎㅎ', 'date': '2022년 8월 19일'}\n",
      "{'star': 3, 'text': '업데이트를 지금 발견했는데 제가 몇 달간 사용했어요. 업데이트가 되니까 이게 화면이 작아지고 웹툰을 볼 때 어떤데 up이 됐는지 잘 모르겠더라고요. 위에 있는 빨간 점을 보고 해야 한다는 게 한눈에 보기에 불편했어요. 이전에는 가로모드 같은 버전이었는데 이번 버전은 세로 같다고 느꼈어요. 다른 불편한 점은 없습니다. 요즘에 웹툰 잘 나와서 만족합니닭!', 'date': '2022년 8월 20일'}\n",
      "{'star': 5, 'text': '재밌게 보고있습니다! 다만 기능하나만 더 추가되었으면 좋겠어서요 저희 부모님께서 네이버 웹툰을 좋아하셔서 즐겨보시는데 어떤 작품들은 글씨가 너무 작아서요.. 손가락으로 확대하면 크게볼수는 있지만 일회성이라 불편하시다고 합니다. 설정상으로 화면에 꽉차게 하는 기능이나..컷을 조금 크게 볼수있는 기능 추가해주실수 있으실까요?? 요즘 집에있는 시간이 길어 자주 보시는데 더 즐겁게 즐기셨으면 합니다!! 감사합니다!', 'date': '2021년 1월 7일'}\n",
      "{'star': 5, 'text': '업데이트 이후 작품의 포스터를 제작한 것은 좋았으나, 그전인 썸네일이 더 작품의 특성을 쉽게 볼 수 있어서 좋았습니다. 또한 요일 웹툰 밑에 있는 그 외의 순위, 매일 +등이 있어 자주 이용하시는 분들에게는 도움이 되지만 번잡하며, 네이버 특유의 심플한 분위기 없어져 가는 것 같아 아쉽습니다. 이럴 거면 차라리 조금은 불편해도 네이버를 통해 웹툰을 이용하지 굳이 앱을 이용해야 할 큰 이유가 없습니다. 물론 앱에만 있는 부가적인 기능을 자주 사용하시는 분을 제외한다면 다른 분들에게 추천드리고 싶지 않습니다. 별점은 여태까지는 편리한 이용을 하였기 때문에 드리는 겁니다. 이용자를 위해 열심히 개선해 주셔서 감사합니다.', 'date': '2022년 9월 30일'}\n",
      "{'star': 2, 'text': '업데이트 이후 가독성이 좀 심각하게 안좋아졌어요. 이미지와 타이포가 너무 많고 썸네일 간 여백도 작아서 가독성이 구려졌고 거부감과 불편함이 크네요. 썸네일을 세로로 길게 늘리니까 스크롤을 더 많이 해야하고, 핸드폰 화면이 큰것도 아닌데 일러스트에 제목까지 꾸역꾸역 넣으니까 많이 조잡하게 느껴져요. 썸네일 아래에 작품 제목을 넣을거면 썸네일 일러스트 안에 제목 타이포를 굳이 넣어야 할까요..?? 그리고 썸네일 일러스트가 각 작품마다 화려하니까 다 모아봤을 때 더 복잡하게 느껴지는 것 같아요. 흰색 여백이 많았던 이전 ui가 훨씬 깔끔하고 편했는데 아쉬워요.. 썸네일 영역을 크게 할거면 카카오 웹툰처럼 레이아웃을 더 단순하게 구성하던지.. 아니면 복잡한 요소를 싹 빼줬으면 좋겠어요. 업데이트 이전으로 다시 바꾸고 싶어요... ㅠㅠ', 'date': '2022년 8월 18일'}\n",
      "{'star': 5, 'text': '이번에 웹툰 썸네일 바뀐게 맘에 안듦... 물론 작품에 흥미를 더 끌어올리기에 좋을 수도 있지만 네이버 웹툰 특유의 장점인 깔끔함이 사라짐. 즉 가볍게 웹툰만 보거나 기존 시스템에 익숙한 사람들에겐 불편하게 다가와 오히려 안좋을수도 있음. 그냥 설정에서 기존것과 업데이트 버전을 바꿀수 있게 하면 좋을듯. 웹툰들은 다 재미있음.', 'date': '2022년 8월 17일'}\n",
      "{'star': 3, 'text': '최근 바뀐 ui의 가장 큰 문제점은 작품 제목의 가독성이 안좋다는 것입니다. 옆 동네 다음 웹툰 ui는 폰트의 제한은 없지만 라는 규칙이 존재하여 작품을 명확히 구분할 수 있습니다. 현재 네웹의 디자인은 작품의 개성을 드러내기는 좋다고 생각합니다. 그러나 불규칙성으로 인해 표지와 작품 제목(및 설명)이 동떨어져 보이고 그로인해 이전 ui과 비교하여 가독성이 매우 떨어집니다. 또한 작품 이미지가 길어지면서, 위아래 / 좌우 여백의 비율이 차이나는 문제도 있다고 생각합니다. 좌우 여백이 상대적으로 좁아지면서 작품 구별이 어렵습니다. 디자인 담당하시는 분들은 저보다 더 잘 아실거라고 믿고있습니다. 넓은 마음으로 피드백을 반영하셔서 이용자 편의성을 더 높여주셨으면 좋겠습니다.', 'date': '2022년 8월 17일'}\n",
      "{'star': 5, 'text': \"어플 하단메뉴에 베스트도전 이 있듯이 '도전만화'도 같이 있으면 좋겠습니다. 매번 도전만화를 보려면 직접 컴퓨터나 모바일 피씨버전으로만 접속해야되서 이동이 불편해요ㅠ 많은 웹툰작가지망생분들을 위해서라도 좀 더 편하게 접속할수 있게끔 도입이 되었으면 좋겠습니다. :)\", 'date': '2019년 11월 28일'}\n",
      "{'star': 1, 'text': '22년8월 앱홈개편 너무 구림. 이전 버전 롤백 방법도 없는 것 같고. 가독성이 심하게 안 좋아서 쓰기 너무 불편함. 예전엔 한 눈에 들어왔다면 지금은 하나하나 이미지를 다 들여다 봐야 구분이 감. 난잡하고 업뎃 표시도 눈에 안 뜨고 단점이 너무 많은듯. 장점은 뭐가 있는지? 썸넬이 커졌지만 기존에도 각각 개성이 잘 드러나고 있었다고 생각하는데..피곤해서 찾기 귀찮거나 놓쳐서 안 보고 그냥 넘기는 웹툰도 생김.', 'date': '2022년 8월 23일'}\n",
      "{'star': 1, 'text': '만화방에 가면 표지들이 엄청 화려하고 책 종류가 많아서 뭘 볼지도 모르겠고 정신이 없는데 그런 느낌이 듭니다. 웹툰은 간편하게 폰으로 쓱쓱 보는게 큰 장점인데 앱만 들어와도 정신없고 복잡해져서 너무 아쉬워요. 예전 방식 그대로인 최근 본 웹툰 탭만 들어가서 보게 됩니다. 웹툰에 맞게 어울리는 폰트도 있지만 그냥 크게만 박아놓은 제목도 많고, 폰트를 떠나서 전체적으로 조잡해졌습니다. 하단에 추천웹툰부분이 엄청 길던데 그럴거면 추천탭을 만들었으면 좋겠어요. 안 그래도 길어졌는데 더 길어져서 답답힌 느낌까지 드네요.', 'date': '2022년 8월 24일'}\n",
      "{'star': 3, 'text': '전체적 인터페이스가 편리하고 좋은편, 기술자들이 얼마나 세심한 부분까지 조심스럽게 제작했는지 같은 프로그래머로서 존중한다. 아쉬운 점은 컷툰(스크롤링 방식이 아닌 페이지 스와이핑 방식)의 경우 아직 보지 않은 웹툰에 대한 리스트를 보여주는 기능이 제공되고 있지 않아서, 내가 보려는 웹툰을 찾기위해 my페이지로 한번은 더 이동해야 한다는 점이 아쉽다. 그래서 별점 1개를 줄였다. 그리고 또 다른 아쉬운 점은 예전과 다르게 웹툰의 질이 매우 떨어지기 시작하여 수준 미달의 작화와 스토리를 보여주는 웹툰이 정식 연재 목록에 올라오기 시작 했다는 것이다. 대한민국에서 가장 큰 플랫폼을 가지고 있는 웹툰 시장에 수준 미달 컨텐츠가 종종 발견되며, 심지어 작품 검수는 제대로 하고 있는지 의심스러운 것들 (무리한 스토리 연장, 개연성 없는 스토리 첨가, 본편 내용보다 더 긴 전회 리뷰와 광고 등)이 보이기 시작해서 매우 안타깝게 생각한다. 그래서 별점 1점을 추가로 더 깎았다.', 'date': '2022년 9월 19일'}\n",
      "{'star': 2, 'text': '결론부터 말씀 드리자면, 불편합니다. 예전엔 한 눈에 볼 수 있었던 방면, 지금은 커져서 불편해요. 예전 버전이 오히려 더 편하고 괜찮은 것 같아요. 한 눈에 보기도 쉽고, 깔끔한 디자인이 마음에 들었습니다. 하지만 이번에 업데이트가 된 버전에선 개인적인 생각이지만 오히려 더 조잡해 보인다고 생각합니다. 웹툰이 웹소설 같아 보여요. 그렇기에 저는 전버전의 형식이 더 낫다고 생각합니다.', 'date': '2022년 8월 18일'}\n",
      "{'star': 2, 'text': '이번에 바뀐 홈ui를 보고 리뷰 남깁니다. 이번 업데이트는 작은 휴대폰 화면으로 웹툰을 즐기는 사용자의 입장에서는 대단히 불편하게 바뀌었다고 생각합니다. 이번에 업데이트로 표지가 커져 부각되면서 해당 웹툰에 대해서 더 많은 정보를 얻을 수 있음은 좋았습니다. 그러나 이로인해 웹툰 제목은 가독성이 떨어지고 원하는 웹툰을 찾기도 더욱 어려워졌습니다. 무엇보다 불편했던 점은 해당 웹툰이 업데이트가 되었는지 안되었는지 파악이 어렵다는 점이었습니다. 기존의 작은 표지에 크게 up이라고 표시되었던 것과 비교해 이번 업데이트는 표지는 더욱 커진것에 비해 업데이트 여부는 우측 상단의 작은 붉은 점으로 파악해야하다보니 업데이트 여부 확인이 대단히 불편했습니다. 오랫동안 네이버 웹툰을 봐왔고, 아직까지도 재미있는 웹툰들을 즐기고있는 만큼 이번 업데이트가 빠르게 개선되길 바랍니다.', 'date': '2022년 8월 17일'}\n",
      "{'star': 4, 'text': '앱은 잘 사용하고 있습니다. 근데 몇 주 전부터 갑자기 이상하게 앱 이용 중에 잠깐 끄고(앱종료x) 다른거하다 잠시 뒤에 다시 앱 아이콘 클릭하면 원래는 보던 웹툰이 뜨거나 해야하는데 뜬금없이 나타나주세요 라는 보지도 않는 웹툰 1화가 켜져있습니다. 한두번이 아닙니다. 빠른 수정 부탁드립니다.', 'date': '2021년 6월 24일'}\n",
      "{'star': 5, 'text': '네이버웹툰앱 편리해요 두가지 건의사항이 있는데요!! 1)) 마음❤에 드는 회차들은 목록에서 ⭐별표같은 표시 로 구분👍할 수 있는 기능 2)) 위에 표시한 회차들을 ⭐별표회차만 표시⭐ 기능으로 별표회차만 보이게 하고 별표회차만 정주행 가능한 기능 3)) 소장권으로 구입한 웹툰은 원하는대로 묶어서 정주행 가능한 새로운 기능이 있으면 어떨까 싶습니다.(이어보고싶은 화들만 묶어서 1화4화10화... 이런식으로 정주행할 수 있는) 웹툰마다 레전드화거나 빠르게 정주행할 때 보면 정리되는 ♡회차들을 소장한 자에 한해서 묶어보기♡ 혹은 특히 1,2번은 가능할 것도 같아서 건의드려요 앱개발에 항상 힘써주셔서 감사합니다 좋은 하루 되세요 😊', 'date': '2021년 10월 25일'}\n",
      "{'star': 2, 'text': '다 좋은데 며칠 전부터 정식연재가 아닌 베도 웹툰을 볼때 모든 작품의 화질이 깨집니다. 네이버에서 보는건 문제 없는데 웹툰 앱으로 볼땐 항상 그럽니다. 지웠다 깔기도 해봤는데 통하지 않았고, 지인의 앱에도 화질이 깨지는걸 봤습니다 . 이번 업데이트로 인한 오류인지 다른 오류인지 모르겠으나 빠르게 고쳐주시길 바랍니다', 'date': '2019년 5월 7일'}\n",
      "{'star': 1, 'text': '아 오랜만에 업뎃했더니 많이 바뀌었는데 제일 맘에 안드는건 하단에 자꾸 광고가 뜨네요. 계속 나타났다 사라지는데 엄청 거슬려요. 설정에서 끌수도 없고 강제로 계속 봐야하는데 업뎃 삭제하고 싶어지네요. 그리고 썸네일이 커진건 괜찮은데 up을 알아보기 힘들어졌어요. 전처럼 썸네일에 좀 크게 나타나게 했으면 좋겠고 무엇보다 하단 광고는 진짜 ㅡ ㅡ 하루에 한 번이면 모를까. 짜증나요.', 'date': '2022년 8월 18일'}\n",
      "{'star': 2, 'text': '딴거 다 좋은데 광고 위치좀 조정해주세요 한두번도 아니고 업데이트 된 웹툰 클릭할때마다 광고가 뜨면서 화면이 밀리는 바람에 자꾸 미리보기 칸을 클릭하게 됩니다. 열번중에 여서일곱번은 무조건 그래요. 제가 웹툰 돈벌이인 광고때문에 1~2초 기다렸다가 업데이트 된 웹툰을 클릭해야 됩니까 데이터 속도에 따라서 광고 업로드 속도에 차이가 있다고는 하나 5g를 쓰는데도 광고가 제때제때 업데이트가 안돼서 매번 이럴 정도면 차라리 3g를 쓰겠네요', 'date': '2021년 5월 11일'}\n",
      "{'star': 3, 'text': '썸네일 구조가 변경되면서 주인공 얼굴만 나온 이전버전보다 작품의 분위기를 더 직관적으로 알수있어 좋았음. 하지만 썸네일들이 너무 과도하게 화려해지면서 난잡해진 부분이 있으며, 하단의 작품명이 너무 작게쓰여있어 원하는 작품을 찾기가 어려워짐. 이또한 금세 익숙해 지겠으나 개인적으로는 썸네일을 이렇게 크게 배치해야할 필요가 있는지 의문이 생김.', 'date': '2022년 8월 18일'}\n",
      "{'star': 2, 'text': \"다른 분들 평가에도 업데이트 관련 이야기가 많은데요. 저도 굉장히 불편했습니다. 일단 시간이 안보입니다. 원래라면 위에를 흘깃 보기만 하면 됐는데, 지금은 화면을 한번 터치한 후에서야 시간을 확인할 수 있습니다. 또, 제가 아는 웹툰 중 ' 오늘도 순정망화 ' 라는 웹툰이 있었는데요. 그 웹툰의 결말이 굉장히 이상한 것 같습니다. 아, 스토리가 이상하다는 게 아니라요. 결말나기 1화 전 화에서의 이야기와 마지막 화의 이야기가 맞지 않습니다. 또, 떡밥이 풀리지 않기도 했구요. 네이버에서 일부로 끝낸 것 처럼요. (이건 제 개인적인 생각이 아니라, 대부분의 사람들이 생각한 것입니다.) 앞으로는 (이건 확실하진 않지만)웹툰을 함부로 끝내지 않아주셨으면 좋겠습니다. 업데이트도 원상복귀 해주시면 더 좋을 것 같아요.\", 'date': '2022년 8월 28일'}\n",
      "{'star': 3, 'text': '감상이력 삭제 기능이 있었으면 참 좋겠다는 생각을 합니다. 옆집 카카오는 감상이력 삭제기능이 있어서 안 본 것처럼 깔끔히 정리할 수 있어서 좋은데 네이버는 그런 기능이 없네요. 웹툰을 누르면 강제로 마지막으로 봤던 회차로 이동하는 것도 싫습니다. 이런 기능을 쓰지 않도록 지원해주셨으면 좋겠습니다.', 'date': '2021년 10월 30일'}\n",
      "{'star': 5, 'text': '작가마다 연재 기간을 다르게 했으면 좋겠어요. 예시로 2주 간격이나 완성시키고 보완한 후에 검토하고 연재시키던지 왜냐하면 매주 유치한 독자들의 눈치만 보느라 무리수 두고 작품들이 점점 안전한 길만 걸으려고 비슷한 세계관 복붙하고 싸움물..애초에 매주 연재는 넘 어려워요. 작품성이 떨어질 수 밖에 없는 것 같아요.그러니 도전도 없고 낭만도 없고. 재미도 없고..', 'date': '2023년 9월 9일'}\n",
      "{'star': 5, 'text': '정말 잘 쓰고 있는데요.. 몇 년 전의 웹툰 순위를 볼 수 있었으면 좋겠습니다..! 옛날에 유명했던 웹툰도 찾아보고 싶은데 추천완결로 보기는 좀 불편하더라구요ㅜㅜ 지금 메인 화면에 순위 나오듯이 년도를 설정하면 그 년도의 메인 화면을 볼 수 있었으면 좋겠어요..!!', 'date': '2023년 6월 25일'}\n",
      "{'star': 4, 'text': '이해할 수 없는 이미지 로딩 오류ㅠ 웹툰앱 접근이 막힌 와이파이로 앱을 실행했다가 뒤늦게 깨달아서 해당 와이파이 끄고 웹툰앱 강제중지+최적화 후 데이터로 재실행 했습니다 그런데 그 와이파이로 눌렀던 웹툰 회차만 아무리 다시 재실행해도 이미지 오류가 계속됩니다. 타 회차는 전부 로딩 잘 되고요.', 'date': '2020년 9월 12일'}\n"
     ]
    },
    {
     "name": "stdout",
     "output_type": "stream",
     "text": [
      "{'star': 5, 'text': '진짜 너무 좋은 앱입니다. 웹툰 모바일 앱이라니! 혹시 웹소설도 이렇게 앱으로 출시될수는 없을까요 ㅠㅠ 출시한다면 연재 예약 기능이 추가되면 좋겠군요..... 굉장히 잘 쓰고 있습니다 앞으로도 이런 시스템이라면 저는 환영입니다아... 아 물론 네이버 웹툰에 추가되었으면 하는 기능은 내 댓글 찾기 기능이랄까요? 아무튼 이런 좋은 앱 만들어주셨으면 좋겠네요', 'date': '2020년 7월 4일'}\n",
      "{'star': 3, 'text': '그동안 네웹 정말 잘 써온 사람이지만 이번 업데이트는 굉장히 불편하다고 생각함. 휴대폰을 사용하는 사람으로써 차라리 PC버전에만 적용하든지 했으면 좋겠음. 어떻게든 업데이트 취소하고 싶을 정도로 많이 불편하고 같은 의견들도 많이 나오는데 설정에서 원래 화면으로 보는 기능이라도 있으면 좋겠음. 웹툰 찾기가 힘들어지니 그냥 보기 싫어지는 것 같음.', 'date': '2022년 8월 20일'}\n",
      "{'star': 4, 'text': '확실히 좋긴한데 완결 웹툰 영구 소장하고 그 보관함?? 같은 곳 가야지만 볼 수 있는 웹툰들 있잖아요 솔직히 정주행은 한 번 하는게 아니고 여러번 하는데 할 때마다 자꾸 각 화마다 끝 부분에 있어서.. 그니까 100%로 되어있어서 정주행 할 때 좀 많이 불편해요.. ㅠㅠ 정주행하는 모드를 따로 만들어 주시거나 한 화에서 다음 화로 넘어갈 때는 다음 화의 첫 부분부터 시작하는 기능을 추가해 주시면 좋을 것 같아요! 항상 잘 쓰고 있습니다!', 'date': '2019년 9월 4일'}\n",
      "{'star': 5, 'text': '안녕하세요! 네이버웹툰을 정말 잘 보고있는 10대 학생입니다! 네이버 웹툰은 편하고 재미있어서 웬만한 웹툰 앱 중에서 제일 자주 사용하는 앱이에요. 다름아닌 요즘 블편한 점을 몇 개 느낀 적이 있어서 적어보려고 해요. 읽어주시고 다른 분들 의견 반영해서 수정 해 주셨으면 합니다! 1.적용된 포스터 업데이트가 불편해요 포스터가 바뀐 점에 새롭고 개성이 뚜렷해서 좋지만 길고 커진 점 때문에 찾기 힘들다는 분들도 많아요 지속적으로 보는 웹툰은 추천웹툰으로 해 놓으면 되지만 그렇지 않은 분 들이 많아서요ㅠㅠ 호불호가 많이 갈려서 껐다 켰다 할 수 있는 기능이 생겼으면 좋겠어요. 2.지속적인 댓글빌런 때문에 불편해요 물론 요즘은 클린봇,신고기능,차단기능이 있어서 너무 좋지만 클린봇에 안걸리게 욕 쓰시는 분도 있어서요.. 댓글 달기 전, 경고메시지나 차단,신고를 많이 받은 분은 댓글 정지를 시키면 조금 더 개선 될 것 같아요! 항상 개선하는 데 힘 써주셔서, 긴 글 읽어주셔서 감사합니다!!', 'date': '2022년 8월 27일'}\n",
      "{'star': 4, 'text': '정말 좋습니다 하지만 이번 표지들과 구조들이 저에겐 불편하게 다가왔습니다 제가 네이버웹툰을 사용하는 큰이유중 하나가 표지와 구조가 안정성이 있었거든요 저는 집중력와 글을 읽는 속도가 좀 떨어지는편이라 멀리 띄어져 있고 읽기편한 전의 표지와 구조가 마음에 들더라구요 그리고 이번이 직사각형의 날카로운..?표지인데 심리적으로 좀 뭐라해야하지 불안..? 전에는 둥글둥글하고 정사각형이여서 마음이 편안했다고 해야하나.. 물론 장점도 있습니다 표지의 퀄들이 전체적으로 좋아졌구요 고급스러워 보이는 효과도 있는거 같습니다 앞으로도 많은 발전 부탁드립니다 감사합니다', 'date': '2022년 8월 19일'}\n",
      "{'star': 5, 'text': '좋고 재밌는 웹툰도 많아서 항상 즐겁게 사용하는 중입니다! 그런데 핸드폰을 바꿀 때마다 봤던 웹툰 에피소드들이 회색에서 다시 흰색으로 돌아가는 현상이 있어서 불편을 겪고 있어요ㅠㅠㅠㅠ 그건 뭐 어떻게 할 수 없는 문제인가요? ㅠㅠㅠㅠㅠ 그리고 내가 올렸던 짤, 댓글 등등을 모아서 확인할 수 있는 기능이 추가되었으면 좋겠네요...ㅠ', 'date': '2020년 9월 6일'}\n",
      "{'star': 1, 'text': '썸네일 보는 방식 예전 버전과 바뀐 버전 중 선택할 수 있도록 해 주시면 안될까요ㅠㅠ모든 웹툰 앱 중에서 가장 가독성 좋고 사용자를 배려하는 어플이라 생각했는데...이제 그 장점이 사라져 버린 것 같아요ㅠㅠ구별하기가 훨씬 힘들어졌습니다. 네이버만의 강점을 계속 유지해주셨으면 좋겠고, 의견이 전해지기를 바랍니다.', 'date': '2022년 8월 20일'}\n",
      "{'star': 5, 'text': '잘쓰고 있습니다! 한가지 개선 되었으면 하는 부분이 있는데, 특정 차수를 열람하는 시점에 봤다, 안봤다로 갈리도록 되어 있는데.. 해당차수의 전체 스크롤 중 90%정도 달성해야 봤다로 표시 될 수 있도록 개선되었으면 좋겠네요. 특히 쿠키 결제된 차수에 대해서는 상기와 같이 관리하면서 다 보지 못한 경우&&열람기간이 끝나갈 경우 푸시알림까지 더해주시면 더욱 완벽한 웹툰앱이 되지 않을까 생각됩니다!', 'date': '2023년 3월 16일'}\n",
      "{'star': 4, 'text': '안녕하세요! 네이버 웹툰을 즐기는 한 유저입니다. 일단 웹툰 종류도 많고요 재미있는 웹툰들도 엄청나게 많습니다. 그림들도 너무 멋있고요. 스토리가 좋는 작품도 있고 아닌 작품도 있지만 그래도 그 스토리 나름대로 보는 것도 너무 재미있습니다. 로맨스,스릴러 등등 많은 종류의 웹툰들이 많고 작가님들도 많으셔서 더 많은 작품을 볼 수 있는 것 같아요! 시간날 때 마다 보기도 딱 좋고요. 하지만 이 앱도 조금의 버그는 있긴 있는 거 같습니다. 화면이 잘 나오다가 갑자기 안 나온다던가 그런 버그들만 빼면 너무 좋은 앱 입니다! 그럼 더 발전해나가길 바라겠습니다.', 'date': '2023년 6월 12일'}\n",
      "{'star': 3, 'text': '좋습니다....좋습니다만...컴퓨터나 다른기기에서 이미 본 것들은 핸드폰에서 이미본것으로 나오질 않더라고요...(횟차? 색깔이 어두어지는거) 그리고 재외국민입니다..왜인지는 모르겠으나 중국에서는 웹툰을 볼수있을때도 있고 못볼때도 있더라구요..play는 영상버퍼링이 너무길고요..', 'date': '2019년 6월 26일'}\n",
      "{'star': 2, 'text': '네트웍이 4g에서 wifi로 바뀌거나 wifi에서 4g로 바뀌거나 하고 앱 실행하면 관심웹툰이 네트워크에 접속할 수 없습니다 로 뜹니다. 앱 재실행해야 관신웹툰 목록이 나옵니다. 새로고침 버튼이 있지만 동작하지 않습니다. 재설치도 해봤지만 마찬가지 입니다. 픽스되겠지 되겠지하고 업데이트 뜰때마다 했는데 여전히 그럽니다. 꽤 오래전(몇달전)부터 이 상태입니다. 버그 확인은 된 상태인지요?', 'date': '2019년 4월 23일'}\n",
      "{'star': 2, 'text': '매 요일별로 스크롤 내려서 웹툰 찾아서 보는 이용자인데요. 대부분의 이용자가 그렇지 않을까 싶습니다. 근데 스크롤 내리다보면 보기 거북한 썸네일들(ex 메모리x, 불청x 등)이 있어서 차라리 숨김기능을 넣어서 각자 정리하게 하는건 어떨까요? 스크롤 내리는데 징그러운 썸네일들 볼때마다 기분이 정말 안좋습니다ㅠㅠ.... 개발자님 썸네일 직접 확인해보시고 해당 만화들 안보는 다른 이용자들을 배려해줬으면 합니다..ㅠㅠ 자극적인 썸네일로 눈길을 잡으려는 의도는 이해가지만..불쾌감을 줄 수있는 썸네일은 내부적으로 지양하는 것도 방법일 것 같습니다.', 'date': '2022년 9월 14일'}\n",
      "{'star': 2, 'text': '새로운 방향으로 나아가시려고 하시는바 좋으시지만 이전 앱과는 달리 포스터 > 글자 위주의 구성으로 가독성이 많이 떨어집니다.. 심지어 웹툰을 보러 들어갔다가 피곤해져서 그냥 나오기도 합니다 하나하나 찾기도 너무 번거로워졌어요 그냥 놓친 웹툰추천으로만 웹툰을 보고 메인페이지는 보지않게되었습니다.. 물론 힘써주신바 알지만 전 버전이 훨씬 편하네요 🥲', 'date': '2022년 9월 5일'}\n",
      "{'star': 1, 'text': '표지 때문에 웹툰의 제목은 더 작아졌고 깔끔했던 표지가 너무 더러워진 느낌입니다. 예전 표지는 한눈에 알아보기 쉬워서 스크롤을 내리면서도 작품을 잘 확인할 수 있는 게 마음에 들었는데, 이제는 멈추지 않으면 어떤 작품인지 확인하기 힘듭니다. 차라리 예전의 방식으로 바꾸는 옵션이라도 만들어 주셨으면 좋겠습니다.', 'date': '2022년 8월 17일'}\n",
      "{'star': 2, 'text': '언제부턴가 웹툰 선택해서 들어가면 목록이 아래로 스크롤 됩니다. 확인해보니 최근에 본 회차가 아닌 5~10회차 이전의 회차가 최근 본걸로 표시 되더군요 어쩌다 한번이면 실수로 눌렀다 할텐데 매일 챙겨보고 1주일 전체로 보면 30개쯤 보는거 같은데 거의 대부분이 매주 같은 증상입니다. 볼때마다 다시 최상단으로 스크롤 하기 귀찮네요', 'date': '2022년 10월 9일'}\n",
      "{'star': 4, 'text': '소장웹툰 관련 건의 웹툰을 소장하려고 쿠키를 사서 구매한 사람입니다. 다름이 아니라 소장하려고 작품을 구매한다면 정주행 식으로 1화~마지막화까지 구매를 하는 경우가 많습니다. 그런데 한 번 정주행을 했다고 다신 안 보려면 대여를 했지 구매는 안 할 겁니다. 제가 하고 싶은 말은 보관함에서 볼 때 보관함에서가 아니라 그냥 올라와있는 작품 보듯이 보는 도중 혹은 다 보고 나가면 진행 내용(?)이 초기화 됐으면 좋겠습니다. 다 보고 다음화로 넘어갔는데 그 전 화가 100프로로 저장이 되어 있어서 다시 보고 싶을 때마다 위로 끝까지 올린 다음 봐야 하는데 상당히 불편합니다. 보는 도중 나가는 것 때문에 이런 시스템을 만드신 것 같은데 어차피 책갈피 시스템도 있고 굳이 이렇게 해야하나 싶네요... 보관함에서 볼 때도 연재중인 작품 볼 때처럼 한번 나가면 진행내용이 초기화 됐으면 좋겠습니다. 수고하세요!', 'date': '2020년 7월 18일'}\n",
      "{'star': 2, 'text': '웹툰 썸네일 크게보기... 단도직입적으로 별로에요. 리X북스 내서재 표지보는것같습니다. 웹툰이란것 자체가 인터넷을 통해 가볍게 만화보는것으로 시작한건데 모든 ui도 그 근간을 담고있어야 한다고 생각합니다. 기존의 작은 정사각형 간격없는 썸네일끼리의 조화는 스크롤링하는 시간도 적고 바로 웹툰 찾을수 있었어요. 반면 이번에 바뀐 ui는 길쭉하고 큰 표지에 사이 간격이 넓다보니 스크롤링하는 시간도 길고 시선이 분산되어 원하는 웹툰 찾기가 어렵습니다', 'date': '2022년 8월 17일'}\n",
      "{'star': 1, 'text': '\"포스터 썸네일\"이 적용되어서 이전 버전의 작품을 한 눈에 확인할 수 있다는 장점이 사라졌습니다. 최신 버전으로 받아서 사용한지 꽤 됐는데 아직도 적응이 안되고 그냥 네이버웹툰 어플 자체를 안켜게 되네요. 불편하다는 사용자들의 의견을 이대로 무시하고 가는게 맞는지 생각해보셔야 할 것 같습니다.', 'date': '2022년 9월 12일'}\n",
      "{'star': 5, 'text': '저는 이 앱의 이용에 대해 상당히 만족합니다. 이쪽과는 상관 있기도 하고 없는 일이지만 불편을 겪고 있는것이 하나 있습니다. 만화로 보다 원작 소설을 보기위해 네이버 시리즈를 다운로드 하려고 했지만 문제가 있다면서 다운로드 자체가 되지 않더군요 앱 정보까지만 내려가지고 그 아래는 흰 화면 이엇습니다. 원인이 뭔가요?', 'date': '2020년 12월 19일'}\n",
      "{'star': 4, 'text': '잘 쓰고 있습니다. 하지만 바라는 점이 있어요 좋아하는 키워드 장르(예를 들어 액션,판타지,학원물 등등..) 이런거는 따로 찾기가 힘들어서 좋아하는 웹툰 찾기가 어려워요... 아직까지 없는 걸로 보아서 이유가 있겠지 싶은데 그래도 나오면 좋겠습니다. 본론으로 들어가자면 키워드 검색이 가능하면 좋겠네요 그 이외는 다 좋습니다.', 'date': '2023년 2월 18일'}\n",
      "{'star': 1, 'text': '이번 업데이트 이후로 썸네일등 전체적으로 조잡해졌네요 이전의 깔끔한 느낌이 없어 오히려 접근성이나 네이버웹툰에 대한 이미지만 반감시키는것 같네요. 업데이트 후 들어가서 봤을때 느낀건 네이버웹툰 또 무슨 레트로 장난하나?? 너무 안좋은데 생각이 들더군요. 업데이트전 화면을 선택할수 있는 기능이 있으면 합니다.', 'date': '2022년 8월 20일'}\n",
      "완료\n"
     ]
    }
   ],
   "source": [
    "views = driver.find_elements(By.CSS_SELECTOR, '.RHo1pe')\n",
    "result = []\n",
    "\n",
    "for view in views:\n",
    "    con_dict = {}\n",
    "    con_dict['star'] = len(view.find_elements(By.CSS_SELECTOR, 'span.Z1Dz7b'))\n",
    "    con_dict['text'] = view.find_element(By.CSS_SELECTOR, '.h3YV2d').text\n",
    "    con_dict['date'] = view.find_element(By.CSS_SELECTOR, '.bp9Aid').text\n",
    "    result.append(con_dict)\n",
    "    print(con_dict)\n",
    "    \n",
    "print('완료')"
   ]
  },
  {
   "cell_type": "code",
   "execution_count": 143,
   "id": "c876a005",
   "metadata": {
    "ExecuteTime": {
     "end_time": "2023-12-12T05:29:50.649674Z",
     "start_time": "2023-12-12T05:29:50.640853Z"
    },
    "scrolled": true
   },
   "outputs": [
    {
     "data": {
      "text/html": [
       "<div>\n",
       "<style scoped>\n",
       "    .dataframe tbody tr th:only-of-type {\n",
       "        vertical-align: middle;\n",
       "    }\n",
       "\n",
       "    .dataframe tbody tr th {\n",
       "        vertical-align: top;\n",
       "    }\n",
       "\n",
       "    .dataframe thead th {\n",
       "        text-align: right;\n",
       "    }\n",
       "</style>\n",
       "<table border=\"1\" class=\"dataframe\">\n",
       "  <thead>\n",
       "    <tr style=\"text-align: right;\">\n",
       "      <th></th>\n",
       "      <th>star</th>\n",
       "      <th>text</th>\n",
       "      <th>date</th>\n",
       "    </tr>\n",
       "  </thead>\n",
       "  <tbody>\n",
       "    <tr>\n",
       "      <th>0</th>\n",
       "      <td>5</td>\n",
       "      <td>정말 잘 사용하고 있습니다 재미있는 작품도 많고,,, 근데 작품 검색해서 누르면 나...</td>\n",
       "      <td>2023년 10월 22일</td>\n",
       "    </tr>\n",
       "    <tr>\n",
       "      <th>1</th>\n",
       "      <td>3</td>\n",
       "      <td>다른건 다 좋은데 한가지 아쉬운게 있음 매일+웹툰 같은 경우 작품 회차 목록 들어갔...</td>\n",
       "      <td>2023년 11월 28일</td>\n",
       "    </tr>\n",
       "    <tr>\n",
       "      <th>2</th>\n",
       "      <td>5</td>\n",
       "      <td>지금 네이버웹툰 앱을 잘 쓰고있습니다. 이 앱에는 장점이 많기는 한데, 단점도 있는...</td>\n",
       "      <td>2023년 9월 28일</td>\n",
       "    </tr>\n",
       "    <tr>\n",
       "      <th>3</th>\n",
       "      <td>4</td>\n",
       "      <td>좋아요! 근데 생기거나 바뀌었으면 하는 것이 있는데요. 1. 시리즈처럼 정주행 모드...</td>\n",
       "      <td>2023년 11월 28일</td>\n",
       "    </tr>\n",
       "    <tr>\n",
       "      <th>4</th>\n",
       "      <td>1</td>\n",
       "      <td>별점 주는 팝업창위에 자꾸 다른 웹툰광고창이 떠서 가리는데, 별점 주려면 몇번이고 ...</td>\n",
       "      <td>2023년 12월 1일</td>\n",
       "    </tr>\n",
       "    <tr>\n",
       "      <th>...</th>\n",
       "      <td>...</td>\n",
       "      <td>...</td>\n",
       "      <td>...</td>\n",
       "    </tr>\n",
       "    <tr>\n",
       "      <th>75</th>\n",
       "      <td>2</td>\n",
       "      <td>웹툰 썸네일 크게보기... 단도직입적으로 별로에요. 리X북스 내서재 표지보는것같습니...</td>\n",
       "      <td>2022년 8월 17일</td>\n",
       "    </tr>\n",
       "    <tr>\n",
       "      <th>76</th>\n",
       "      <td>1</td>\n",
       "      <td>\"포스터 썸네일\"이 적용되어서 이전 버전의 작품을 한 눈에 확인할 수 있다는 장점이...</td>\n",
       "      <td>2022년 9월 12일</td>\n",
       "    </tr>\n",
       "    <tr>\n",
       "      <th>77</th>\n",
       "      <td>5</td>\n",
       "      <td>저는 이 앱의 이용에 대해 상당히 만족합니다. 이쪽과는 상관 있기도 하고 없는 일이...</td>\n",
       "      <td>2020년 12월 19일</td>\n",
       "    </tr>\n",
       "    <tr>\n",
       "      <th>78</th>\n",
       "      <td>4</td>\n",
       "      <td>잘 쓰고 있습니다. 하지만 바라는 점이 있어요 좋아하는 키워드 장르(예를 들어 액션...</td>\n",
       "      <td>2023년 2월 18일</td>\n",
       "    </tr>\n",
       "    <tr>\n",
       "      <th>79</th>\n",
       "      <td>1</td>\n",
       "      <td>이번 업데이트 이후로 썸네일등 전체적으로 조잡해졌네요 이전의 깔끔한 느낌이 없어 오...</td>\n",
       "      <td>2022년 8월 20일</td>\n",
       "    </tr>\n",
       "  </tbody>\n",
       "</table>\n",
       "<p>80 rows × 3 columns</p>\n",
       "</div>"
      ],
      "text/plain": [
       "    star                                               text           date\n",
       "0      5  정말 잘 사용하고 있습니다 재미있는 작품도 많고,,, 근데 작품 검색해서 누르면 나...  2023년 10월 22일\n",
       "1      3  다른건 다 좋은데 한가지 아쉬운게 있음 매일+웹툰 같은 경우 작품 회차 목록 들어갔...  2023년 11월 28일\n",
       "2      5  지금 네이버웹툰 앱을 잘 쓰고있습니다. 이 앱에는 장점이 많기는 한데, 단점도 있는...   2023년 9월 28일\n",
       "3      4  좋아요! 근데 생기거나 바뀌었으면 하는 것이 있는데요. 1. 시리즈처럼 정주행 모드...  2023년 11월 28일\n",
       "4      1  별점 주는 팝업창위에 자꾸 다른 웹툰광고창이 떠서 가리는데, 별점 주려면 몇번이고 ...   2023년 12월 1일\n",
       "..   ...                                                ...            ...\n",
       "75     2  웹툰 썸네일 크게보기... 단도직입적으로 별로에요. 리X북스 내서재 표지보는것같습니...   2022년 8월 17일\n",
       "76     1  \"포스터 썸네일\"이 적용되어서 이전 버전의 작품을 한 눈에 확인할 수 있다는 장점이...   2022년 9월 12일\n",
       "77     5  저는 이 앱의 이용에 대해 상당히 만족합니다. 이쪽과는 상관 있기도 하고 없는 일이...  2020년 12월 19일\n",
       "78     4  잘 쓰고 있습니다. 하지만 바라는 점이 있어요 좋아하는 키워드 장르(예를 들어 액션...   2023년 2월 18일\n",
       "79     1  이번 업데이트 이후로 썸네일등 전체적으로 조잡해졌네요 이전의 깔끔한 느낌이 없어 오...   2022년 8월 20일\n",
       "\n",
       "[80 rows x 3 columns]"
      ]
     },
     "execution_count": 143,
     "metadata": {},
     "output_type": "execute_result"
    }
   ],
   "source": [
    "df = pd.DataFrame(result)\n",
    "df"
   ]
  },
  {
   "cell_type": "markdown",
   "id": "82235b21",
   "metadata": {},
   "source": [
    "예제)대한민국 지역 여행기사 수집"
   ]
  },
  {
   "cell_type": "code",
   "execution_count": 144,
   "id": "a8154983",
   "metadata": {
    "ExecuteTime": {
     "end_time": "2023-12-12T05:37:00.196705Z",
     "start_time": "2023-12-12T05:37:00.192735Z"
    }
   },
   "outputs": [],
   "source": [
    "from selenium import webdriver\n",
    "from selenium.webdriver.common.by import By\n",
    "from selenium.webdriver.chrome.options import Options\n",
    "import math, time #math, time 사용\n",
    "\n",
    "options = Options()\n",
    "options.add_argument('--window-size=974,1047')\n",
    "options.add_argument('--window-position=953,0')\n",
    "options.add_experimental_option(\"detach\", True)"
   ]
  },
  {
   "cell_type": "code",
   "execution_count": 145,
   "id": "63773243",
   "metadata": {
    "ExecuteTime": {
     "end_time": "2023-12-12T05:37:23.251382Z",
     "start_time": "2023-12-12T05:37:17.738878Z"
    }
   },
   "outputs": [
    {
     "name": "stdout",
     "output_type": "stream",
     "text": [
      "검색어를 입력하세요.서울\n"
     ]
    }
   ],
   "source": [
    "search = input('검색어를 입력하세요.')"
   ]
  },
  {
   "cell_type": "code",
   "execution_count": 147,
   "id": "015a89db",
   "metadata": {
    "ExecuteTime": {
     "end_time": "2023-12-12T05:38:23.907344Z",
     "start_time": "2023-12-12T05:38:14.441419Z"
    }
   },
   "outputs": [],
   "source": [
    "URL = 'https://korean.visitkorea.or.kr/search/search_list.do?keyword='+search\n",
    "\n",
    "driver = webdriver.Chrome(options=options)\n",
    "driver.get(URL)\n",
    "time.sleep(3)"
   ]
  },
  {
   "cell_type": "code",
   "execution_count": 148,
   "id": "55dc8291",
   "metadata": {
    "ExecuteTime": {
     "end_time": "2023-12-12T05:39:08.094694Z",
     "start_time": "2023-12-12T05:39:07.809474Z"
    }
   },
   "outputs": [],
   "source": [
    "driver.find_element(By.XPATH, '//*[@id=\"s_attraction\"]/div[2]/a').click()"
   ]
  },
  {
   "cell_type": "code",
   "execution_count": null,
   "id": "3a4dc1b7",
   "metadata": {},
   "outputs": [],
   "source": [
    "driver.find_element(By.CSS_SELECT), \"#s_recommend > .more_view > a\""
   ]
  },
  {
   "cell_type": "code",
   "execution_count": 156,
   "id": "afa4081d",
   "metadata": {
    "ExecuteTime": {
     "end_time": "2023-12-12T05:52:40.192370Z",
     "start_time": "2023-12-12T05:52:40.149936Z"
    },
    "scrolled": true
   },
   "outputs": [
    {
     "data": {
      "text/plain": [
       "''"
      ]
     },
     "execution_count": 156,
     "metadata": {},
     "output_type": "execute_result"
    }
   ],
   "source": [
    "result = driver.find_elements(By.CSS_SELECTOR, '.tit a')\n",
    "result[0].text #자바스크립트로 되어있어서 안됨"
   ]
  },
  {
   "cell_type": "code",
   "execution_count": 158,
   "id": "4547d5bf",
   "metadata": {
    "ExecuteTime": {
     "end_time": "2023-12-12T05:53:32.174838Z",
     "start_time": "2023-12-12T05:53:32.132555Z"
    }
   },
   "outputs": [
    {
     "data": {
      "text/plain": [
       "'롯데월드타워 서울스카이'"
      ]
     },
     "execution_count": 158,
     "metadata": {},
     "output_type": "execute_result"
    }
   ],
   "source": [
    "a = driver.find_element(By.XPATH, '//*[@id=\"search_result\"]/ul/li[1]/div[1]/div[1]/a')\n",
    "a.text #XPATH안에서 규칙을 찾는다"
   ]
  },
  {
   "cell_type": "code",
   "execution_count": 167,
   "id": "51cc3d60",
   "metadata": {
    "ExecuteTime": {
     "end_time": "2023-12-12T06:07:51.091914Z",
     "start_time": "2023-12-12T06:07:51.037044Z"
    }
   },
   "outputs": [
    {
     "data": {
      "text/plain": [
       "(10, '롯데월드타워 서울스카이', '서울옥션 강남센터')"
      ]
     },
     "execution_count": 167,
     "metadata": {},
     "output_type": "execute_result"
    }
   ],
   "source": [
    "tit_xpath = '//*[@id=\"search_result\"]/ul/li[*]/div[1]/div[1]/a'\n",
    "result = driver.find_elements(By.XPATH, tit_xpath)\n",
    "len(result), result[0].text, result[1].text"
   ]
  },
  {
   "cell_type": "code",
   "execution_count": 169,
   "id": "33d51664",
   "metadata": {
    "ExecuteTime": {
     "end_time": "2023-12-12T06:08:51.304770Z",
     "start_time": "2023-12-12T06:08:51.139686Z"
    }
   },
   "outputs": [
    {
     "name": "stdout",
     "output_type": "stream",
     "text": [
      "1 롯데월드타워 서울스카이\n",
      "2 서울옥션 강남센터\n",
      "3 서울혁신파크\n",
      "4 서울함공원\n",
      "5 서울기록원\n",
      "6 서울생활문화센터 체부\n",
      "7 서울성북 미디어문화마루\n",
      "8 서울숲\n",
      "9 서울도심등산관광센터\n",
      "10 석파정서울미술관\n"
     ]
    }
   ],
   "source": [
    "for i, title in enumerate(result,1):\n",
    "    print(i, title.text)"
   ]
  },
  {
   "cell_type": "markdown",
   "id": "a931781e",
   "metadata": {},
   "source": [
    "페이지 이동\n",
    "\n",
    "1 : 수집 갯수를 입력받는다.\n",
    "2 : 수집 갯수에 따라 페이지를 이동한다.\n",
    "3 : 각 페이지별 데이터를 수집한다. (타이틀 텍스트)\n",
    "4 : 출력"
   ]
  },
  {
   "cell_type": "code",
   "execution_count": 175,
   "id": "d04de01c",
   "metadata": {
    "ExecuteTime": {
     "end_time": "2023-12-12T06:20:59.693171Z",
     "start_time": "2023-12-12T06:20:59.552472Z"
    },
    "scrolled": true
   },
   "outputs": [],
   "source": [
    "페이지 이동 = driver.find_element(By.XPATH, '/html/body/div[3]/div/div[1]/div[15]/a[2]').click()#full xpath"
   ]
  },
  {
   "cell_type": "code",
   "execution_count": 181,
   "id": "bece4ef1",
   "metadata": {
    "ExecuteTime": {
     "end_time": "2023-12-12T06:29:28.850579Z",
     "start_time": "2023-12-12T06:29:28.845155Z"
    }
   },
   "outputs": [
    {
     "ename": "SyntaxError",
     "evalue": "invalid syntax (2243955314.py, line 6)",
     "output_type": "error",
     "traceback": [
      "\u001b[1;36m  Cell \u001b[1;32mIn[181], line 6\u001b[1;36m\u001b[0m\n\u001b[1;33m    페이지 이동 = driver.find_element(By.XPATH, '/html/body/div[3]/div/div[1]/div[15]/a[2]').click()\u001b[0m\n\u001b[1;37m        ^\u001b[0m\n\u001b[1;31mSyntaxError\u001b[0m\u001b[1;31m:\u001b[0m invalid syntax\n"
     ]
    }
   ],
   "source": [
    "페이지 = 0\n",
    "num = input('페이지 넘버를 입력하세요.')\n",
    "while True :\n",
    "    if num == 1 :\n",
    "        페이지 =+ 1\n",
    "        페이지 이동 = driver.find_element(By.XPATH, '/html/body/div[3]/div/div[1]/div[15]/a[2]').click()\n",
    "    else:\n",
    "        break"
   ]
  },
  {
   "cell_type": "code",
   "execution_count": 183,
   "id": "b82f819c",
   "metadata": {
    "ExecuteTime": {
     "end_time": "2023-12-12T06:33:50.176285Z",
     "start_time": "2023-12-12T06:33:45.913909Z"
    }
   },
   "outputs": [
    {
     "name": "stdout",
     "output_type": "stream",
     "text": [
      "크롤링 할 건수는 몇건입니까?: 15\n"
     ]
    },
    {
     "data": {
      "text/plain": [
       "15"
      ]
     },
     "execution_count": 183,
     "metadata": {},
     "output_type": "execute_result"
    }
   ],
   "source": [
    "cnt = int(input('크롤링 할 건수는 몇건입니까?: '))\n",
    "cnt"
   ]
  },
  {
   "cell_type": "code",
   "execution_count": null,
   "id": "d8bced2c",
   "metadata": {},
   "outputs": [],
   "source": [
    "page_cnt = math.ceil(cnt/10)\n",
    "print(page_cnt)"
   ]
  }
 ],
 "metadata": {
  "kernelspec": {
   "display_name": "Python 3 (ipykernel)",
   "language": "python",
   "name": "python3"
  },
  "language_info": {
   "codemirror_mode": {
    "name": "ipython",
    "version": 3
   },
   "file_extension": ".py",
   "mimetype": "text/x-python",
   "name": "python",
   "nbconvert_exporter": "python",
   "pygments_lexer": "ipython3",
   "version": "3.11.5"
  },
  "toc": {
   "base_numbering": 1,
   "nav_menu": {},
   "number_sections": true,
   "sideBar": true,
   "skip_h1_title": false,
   "title_cell": "Table of Contents",
   "title_sidebar": "Contents",
   "toc_cell": false,
   "toc_position": {},
   "toc_section_display": true,
   "toc_window_display": false
  }
 },
 "nbformat": 4,
 "nbformat_minor": 5
}
