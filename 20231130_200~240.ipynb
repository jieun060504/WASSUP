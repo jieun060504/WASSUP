{
 "cells": [
  {
   "cell_type": "code",
   "execution_count": 2,
   "id": "38dd787a",
   "metadata": {
    "ExecuteTime": {
     "end_time": "2023-11-30T11:37:57.050054Z",
     "start_time": "2023-11-30T11:37:57.045122Z"
    }
   },
   "outputs": [
    {
     "name": "stdout",
     "output_type": "stream",
     "text": [
      "비트코인\n"
     ]
    }
   ],
   "source": [
    "def print_coin(name):\n",
    "    print(f\"{name}\")\n",
    "print_coin(\"비트코인\")"
   ]
  },
  {
   "cell_type": "code",
   "execution_count": 17,
   "id": "4c444a2b",
   "metadata": {
    "ExecuteTime": {
     "end_time": "2023-11-30T11:44:01.658442Z",
     "start_time": "2023-11-30T11:44:01.653920Z"
    }
   },
   "outputs": [
    {
     "name": "stdout",
     "output_type": "stream",
     "text": [
      "1.비트코인\n",
      "2.비트코인\n",
      "3.비트코인\n",
      "4.비트코인\n",
      "5.비트코인\n",
      "6.비트코인\n",
      "7.비트코인\n",
      "8.비트코인\n",
      "9.비트코인\n",
      "10.비트코인\n",
      "11.비트코인\n",
      "12.비트코인\n",
      "13.비트코인\n",
      "14.비트코인\n",
      "15.비트코인\n",
      "16.비트코인\n",
      "17.비트코인\n",
      "18.비트코인\n",
      "19.비트코인\n",
      "20.비트코인\n",
      "21.비트코인\n",
      "22.비트코인\n",
      "23.비트코인\n",
      "24.비트코인\n",
      "25.비트코인\n",
      "26.비트코인\n",
      "27.비트코인\n",
      "28.비트코인\n",
      "29.비트코인\n",
      "30.비트코인\n",
      "31.비트코인\n",
      "32.비트코인\n",
      "33.비트코인\n",
      "34.비트코인\n",
      "35.비트코인\n",
      "36.비트코인\n",
      "37.비트코인\n",
      "38.비트코인\n",
      "39.비트코인\n",
      "40.비트코인\n",
      "41.비트코인\n",
      "42.비트코인\n",
      "43.비트코인\n",
      "44.비트코인\n",
      "45.비트코인\n",
      "46.비트코인\n",
      "47.비트코인\n",
      "48.비트코인\n",
      "49.비트코인\n",
      "50.비트코인\n",
      "51.비트코인\n",
      "52.비트코인\n",
      "53.비트코인\n",
      "54.비트코인\n",
      "55.비트코인\n",
      "56.비트코인\n",
      "57.비트코인\n",
      "58.비트코인\n",
      "59.비트코인\n",
      "60.비트코인\n",
      "61.비트코인\n",
      "62.비트코인\n",
      "63.비트코인\n",
      "64.비트코인\n",
      "65.비트코인\n",
      "66.비트코인\n",
      "67.비트코인\n",
      "68.비트코인\n",
      "69.비트코인\n",
      "70.비트코인\n",
      "71.비트코인\n",
      "72.비트코인\n",
      "73.비트코인\n",
      "74.비트코인\n",
      "75.비트코인\n",
      "76.비트코인\n",
      "77.비트코인\n",
      "78.비트코인\n",
      "79.비트코인\n",
      "80.비트코인\n",
      "81.비트코인\n",
      "82.비트코인\n",
      "83.비트코인\n",
      "84.비트코인\n",
      "85.비트코인\n",
      "86.비트코인\n",
      "87.비트코인\n",
      "88.비트코인\n",
      "89.비트코인\n",
      "90.비트코인\n",
      "91.비트코인\n",
      "92.비트코인\n",
      "93.비트코인\n",
      "94.비트코인\n",
      "95.비트코인\n",
      "96.비트코인\n",
      "97.비트코인\n",
      "98.비트코인\n",
      "99.비트코인\n",
      "100.비트코인\n"
     ]
    }
   ],
   "source": [
    "i = 1\n",
    "while i < 101 :\n",
    "    print_coin(f\"{i}.비트코인\")\n",
    "    i += 1"
   ]
  },
  {
   "cell_type": "code",
   "execution_count": 20,
   "id": "92f240b8",
   "metadata": {
    "ExecuteTime": {
     "end_time": "2023-11-30T11:46:08.984854Z",
     "start_time": "2023-11-30T11:46:08.980022Z"
    }
   },
   "outputs": [
    {
     "name": "stdout",
     "output_type": "stream",
     "text": [
      "Hi\n"
     ]
    }
   ],
   "source": [
    "def hello():\n",
    "    print(\"Hi\")\n",
    "hello()"
   ]
  },
  {
   "cell_type": "code",
   "execution_count": 21,
   "id": "de2ad373",
   "metadata": {
    "ExecuteTime": {
     "end_time": "2023-11-30T11:47:53.634769Z",
     "start_time": "2023-11-30T11:47:53.628615Z"
    },
    "scrolled": true
   },
   "outputs": [
    {
     "name": "stdout",
     "output_type": "stream",
     "text": [
      "A\n",
      "B\n",
      "C\n",
      "A\n",
      "B\n"
     ]
    }
   ],
   "source": [
    "def message() :\n",
    "    print(\"A\")\n",
    "    print(\"B\")\n",
    "\n",
    "message()\n",
    "print(\"C\")\n",
    "message()"
   ]
  },
  {
   "cell_type": "code",
   "execution_count": 22,
   "id": "afc3cae0",
   "metadata": {
    "ExecuteTime": {
     "end_time": "2023-11-30T11:50:44.903834Z",
     "start_time": "2023-11-30T11:50:44.898317Z"
    }
   },
   "outputs": [
    {
     "name": "stdout",
     "output_type": "stream",
     "text": [
      "A\n",
      "C\n",
      "B\n",
      "E\n",
      "D\n"
     ]
    }
   ],
   "source": [
    "print(\"A\")\n",
    "def message1() :\n",
    "    print(\"B\")\n",
    "print(\"C\")\n",
    "def message2() :\n",
    "    print(\"D\")\n",
    "message1()\n",
    "print(\"E\")\n",
    "message2()\n",
    "\n",
    "#A\n",
    "#C\n",
    "#B\n",
    "#E\n",
    "#D\n"
   ]
  },
  {
   "cell_type": "code",
   "execution_count": 24,
   "id": "3025ed04",
   "metadata": {
    "ExecuteTime": {
     "end_time": "2023-11-30T11:52:48.085297Z",
     "start_time": "2023-11-30T11:52:48.080275Z"
    },
    "scrolled": true
   },
   "outputs": [
    {
     "name": "stdout",
     "output_type": "stream",
     "text": [
      "B\n",
      "A\n"
     ]
    }
   ],
   "source": [
    "def message1():\n",
    "    print(\"A\")\n",
    "\n",
    "def message2():\n",
    "    print(\"B\")\n",
    "    message1()\n",
    "\n",
    "message2()\n",
    "\n",
    "#B\n",
    "#A"
   ]
  },
  {
   "cell_type": "code",
   "execution_count": 25,
   "id": "633befd7",
   "metadata": {
    "ExecuteTime": {
     "end_time": "2023-11-30T11:53:32.584745Z",
     "start_time": "2023-11-30T11:53:32.579013Z"
    }
   },
   "outputs": [
    {
     "name": "stdout",
     "output_type": "stream",
     "text": [
      "B\n",
      "C\n",
      "B\n",
      "C\n",
      "B\n",
      "C\n",
      "A\n"
     ]
    }
   ],
   "source": [
    "def message1():\n",
    "    print(\"A\")\n",
    "\n",
    "def message2():\n",
    "    print(\"B\")\n",
    "\n",
    "def message3():\n",
    "    for i in range (3) :\n",
    "        message2()\n",
    "        print(\"C\")\n",
    "    message1()\n",
    "\n",
    "message3()"
   ]
  },
  {
   "cell_type": "code",
   "execution_count": 26,
   "id": "826587b2",
   "metadata": {
    "ExecuteTime": {
     "end_time": "2023-11-30T11:56:07.484972Z",
     "start_time": "2023-11-30T11:56:07.480263Z"
    }
   },
   "outputs": [
    {
     "name": "stdout",
     "output_type": "stream",
     "text": [
      "안녕\n",
      "Hi\n"
     ]
    }
   ],
   "source": [
    "def 함수(문자열) :\n",
    "    print(문자열)\n",
    "\n",
    "함수(\"안녕\")\n",
    "함수(\"Hi\")"
   ]
  },
  {
   "cell_type": "code",
   "execution_count": 27,
   "id": "39f11044",
   "metadata": {
    "ExecuteTime": {
     "end_time": "2023-11-30T11:56:21.752127Z",
     "start_time": "2023-11-30T11:56:21.746372Z"
    }
   },
   "outputs": [
    {
     "name": "stdout",
     "output_type": "stream",
     "text": [
      "7\n",
      "15\n"
     ]
    }
   ],
   "source": [
    "def 함수(a, b) :\n",
    "    print(a + b)\n",
    "\n",
    "함수(3, 4)\n",
    "함수(7, 8)"
   ]
  },
  {
   "cell_type": "code",
   "execution_count": 31,
   "id": "879a9083",
   "metadata": {
    "ExecuteTime": {
     "end_time": "2023-11-30T11:58:11.824774Z",
     "start_time": "2023-11-30T11:58:11.819740Z"
    }
   },
   "outputs": [
    {
     "name": "stdout",
     "output_type": "stream",
     "text": [
      "문자열\n"
     ]
    }
   ],
   "source": [
    "def 함수(문자열) :\n",
    "    print(문자열)\n",
    "함수('문자열')"
   ]
  },
  {
   "cell_type": "code",
   "execution_count": 32,
   "id": "a9c47eca",
   "metadata": {
    "ExecuteTime": {
     "end_time": "2023-11-30T11:58:50.100496Z",
     "start_time": "2023-11-30T11:58:50.096492Z"
    }
   },
   "outputs": [
    {
     "name": "stdout",
     "output_type": "stream",
     "text": [
      "안녕3\n"
     ]
    }
   ],
   "source": [
    "def 함수(a, b) :\n",
    "    print(a + b)\n",
    "\n",
    "함수(\"안녕\", \"3\")"
   ]
  },
  {
   "cell_type": "code",
   "execution_count": 36,
   "id": "063016b3",
   "metadata": {
    "ExecuteTime": {
     "end_time": "2023-11-30T12:09:44.465531Z",
     "start_time": "2023-11-30T12:09:44.460397Z"
    }
   },
   "outputs": [
    {
     "name": "stdout",
     "output_type": "stream",
     "text": [
      "안녕하세요:D\n",
      "멘토님 감사합니다:D\n"
     ]
    }
   ],
   "source": [
    "def print_with_smile(str_1) : #내장함수 역할을 잃음\n",
    "    print(f\"{str_1}:D\")\n",
    "print_with_smile(\"안녕하세요\")\n",
    "print_with_smile(\"멘토님 감사합니다\")"
   ]
  },
  {
   "cell_type": "code",
   "execution_count": 37,
   "id": "e1e83c01",
   "metadata": {
    "ExecuteTime": {
     "end_time": "2023-11-30T12:11:37.167559Z",
     "start_time": "2023-11-30T12:11:37.162243Z"
    }
   },
   "outputs": [
    {
     "name": "stdout",
     "output_type": "stream",
     "text": [
      "13000.0\n"
     ]
    }
   ],
   "source": [
    "def print_upper_price(int_1) :\n",
    "    print(int_1*1.3)\n",
    "print_upper_price(10000)"
   ]
  },
  {
   "cell_type": "code",
   "execution_count": 38,
   "id": "8c86e615",
   "metadata": {
    "ExecuteTime": {
     "end_time": "2023-11-30T12:12:40.165350Z",
     "start_time": "2023-11-30T12:12:40.161725Z"
    }
   },
   "outputs": [
    {
     "name": "stdout",
     "output_type": "stream",
     "text": [
      "7\n"
     ]
    }
   ],
   "source": [
    "#혼자 풀었다\n",
    "def print_sum(int_2, int_3) :\n",
    "    print(int_2 + int_3)\n",
    "print_sum(3,4)"
   ]
  },
  {
   "cell_type": "code",
   "execution_count": 41,
   "id": "b6f5cfc3",
   "metadata": {
    "ExecuteTime": {
     "end_time": "2023-11-30T12:17:24.143802Z",
     "start_time": "2023-11-30T12:17:24.137867Z"
    }
   },
   "outputs": [
    {
     "name": "stdout",
     "output_type": "stream",
     "text": [
      "3 + 4 = 7\n",
      "3 - 4 = -1\n",
      "3 * 4 = 12\n",
      "3 / 4 = 0.75\n"
     ]
    }
   ],
   "source": [
    "def p_a_o(int_4, int_5) :\n",
    "    print(f\"{int_4} + {int_5} = {int_4 + int_5}\")\n",
    "    print(f\"{int_4} - {int_5} = {int_4 - int_5}\")\n",
    "    print(f\"{int_4} * {int_5} = {int_4 * int_5}\")\n",
    "    print(f\"{int_4} / {int_5} = {int_4 / int_5}\")\n",
    "p_a_o(3,4)"
   ]
  },
  {
   "cell_type": "code",
   "execution_count": 43,
   "id": "02dc6dc5",
   "metadata": {
    "ExecuteTime": {
     "end_time": "2023-11-30T12:18:23.069719Z",
     "start_time": "2023-11-30T12:18:23.063965Z"
    }
   },
   "outputs": [
    {
     "data": {
      "text/plain": [
       "3"
      ]
     },
     "execution_count": 43,
     "metadata": {},
     "output_type": "execute_result"
    }
   ],
   "source": [
    "max(3, 4, 5)\n",
    "min(3, 4, 5)"
   ]
  },
  {
   "cell_type": "code",
   "execution_count": 44,
   "id": "dd66819c",
   "metadata": {
    "ExecuteTime": {
     "end_time": "2023-11-30T12:19:49.942016Z",
     "start_time": "2023-11-30T12:19:49.937986Z"
    }
   },
   "outputs": [
    {
     "name": "stdout",
     "output_type": "stream",
     "text": [
      "5\n"
     ]
    }
   ],
   "source": [
    "def p_m(int_4, int_5, int_6) :\n",
    "    print(max(int_4, int_5, int_6))\n",
    "p_m(3, 4, 5)"
   ]
  },
  {
   "cell_type": "code",
   "execution_count": 47,
   "id": "81d50752",
   "metadata": {
    "ExecuteTime": {
     "end_time": "2023-11-30T12:24:03.225676Z",
     "start_time": "2023-11-30T12:24:03.220482Z"
    }
   },
   "outputs": [
    {
     "name": "stdout",
     "output_type": "stream",
     "text": [
      "5\n"
     ]
    }
   ],
   "source": [
    "def p_m(int_4, int_5, int_6) :\n",
    "    if int_5<int_4 and int_6<int_4 :\n",
    "        print(int_4)\n",
    "    elif int_4<int_5 and int_6<int_5 :\n",
    "        print(int_5)\n",
    "    elif int_4<int_6 and int_5<int_6 :\n",
    "        print(int_6)\n",
    "p_m(3, 4, 5)"
   ]
  },
  {
   "cell_type": "code",
   "execution_count": 55,
   "id": "750437fd",
   "metadata": {
    "ExecuteTime": {
     "end_time": "2023-11-30T12:32:44.238779Z",
     "start_time": "2023-11-30T12:32:44.233786Z"
    }
   },
   "outputs": [
    {
     "name": "stdout",
     "output_type": "stream",
     "text": [
      "nohtyp\n"
     ]
    }
   ],
   "source": [
    "def p_r(str_2) :\n",
    "    str_2[::-1] #스텝. 디폴트가 1이면 하나하나 출력. \n",
    "    print(str_2[::-1])\n",
    "p_r(\"python\")"
   ]
  },
  {
   "cell_type": "code",
   "execution_count": 56,
   "id": "7d581ac7",
   "metadata": {
    "ExecuteTime": {
     "end_time": "2023-11-30T12:33:15.578142Z",
     "start_time": "2023-11-30T12:33:15.573793Z"
    }
   },
   "outputs": [
    {
     "name": "stdout",
     "output_type": "stream",
     "text": [
      "thon\n"
     ]
    }
   ],
   "source": [
    "def p_r(str_2) :\n",
    "    str_2[::-1] #스텝. 디폴트가 1이면 하나하나 출력. \n",
    "    print(str_2[2::])\n",
    "p_r(\"python\")"
   ]
  },
  {
   "cell_type": "code",
   "execution_count": 59,
   "id": "d1ec4947",
   "metadata": {
    "ExecuteTime": {
     "end_time": "2023-11-30T12:39:33.560320Z",
     "start_time": "2023-11-30T12:39:33.555049Z"
    }
   },
   "outputs": [
    {
     "name": "stdout",
     "output_type": "stream",
     "text": [
      "2.0\n"
     ]
    }
   ],
   "source": [
    "def p_s(score) :\n",
    "    total = 0\n",
    "    for a in score :\n",
    "        total += a\n",
    "    print(total / len(score))\n",
    "p_s([1,2,3])"
   ]
  },
  {
   "cell_type": "code",
   "execution_count": 65,
   "id": "c1d07634",
   "metadata": {
    "ExecuteTime": {
     "end_time": "2023-11-30T12:43:56.586107Z",
     "start_time": "2023-11-30T12:43:56.581107Z"
    }
   },
   "outputs": [
    {
     "name": "stdout",
     "output_type": "stream",
     "text": [
      "[[1, 3, 2, 10, 12, 11, 15]]\n",
      "[[1, 3, 2, 10, 12, 11, 15]]\n",
      "[[1, 3, 2, 10, 12, 11, 15]]\n"
     ]
    }
   ],
   "source": [
    "def p_e(even) :\n",
    "    for a in even :\n",
    "        if a % 2 == 0 :\n",
    "            print([even])\n",
    "p_e([1, 3, 2, 10, 12, 11, 15])"
   ]
  },
  {
   "cell_type": "code",
   "execution_count": 73,
   "id": "4e6a16ac",
   "metadata": {
    "ExecuteTime": {
     "end_time": "2023-11-30T12:46:26.863661Z",
     "start_time": "2023-11-30T12:46:26.858741Z"
    }
   },
   "outputs": [
    {
     "name": "stdout",
     "output_type": "stream",
     "text": [
      "[2, 10, 12]\n"
     ]
    }
   ],
   "source": [
    "def p_e(even) :\n",
    "    result = [a for a in even if a % 2 ==0]\n",
    "    print(result)\n",
    "p_e([1, 3, 2, 10, 12, 11, 15])"
   ]
  },
  {
   "cell_type": "code",
   "execution_count": 74,
   "id": "eda77b09",
   "metadata": {
    "ExecuteTime": {
     "end_time": "2023-11-30T12:48:51.876456Z",
     "start_time": "2023-11-30T12:48:51.871421Z"
    }
   },
   "outputs": [
    {
     "name": "stdout",
     "output_type": "stream",
     "text": [
      "dict_keys(['이름', '나이', '성별'])\n"
     ]
    }
   ],
   "source": [
    "def p_k(a) :\n",
    "    result = a.keys()\n",
    "    print(result)\n",
    "p_k({\"이름\":\"김말똥\", \"나이\":30, \"성별\":0})"
   ]
  },
  {
   "cell_type": "code",
   "execution_count": 75,
   "id": "1bd05b7f",
   "metadata": {
    "ExecuteTime": {
     "end_time": "2023-11-30T12:49:43.288156Z",
     "start_time": "2023-11-30T12:49:43.283920Z"
    }
   },
   "outputs": [
    {
     "name": "stdout",
     "output_type": "stream",
     "text": [
      "이름\n",
      "나이\n",
      "성별\n"
     ]
    }
   ],
   "source": [
    "def print_keys(dic):\n",
    "    for keys in dic.keys():\n",
    "        print(keys)\n",
    "print_keys({\"이름\":\"김말똥\", \"나이\":30, \"성별\":0})"
   ]
  },
  {
   "cell_type": "code",
   "execution_count": 76,
   "id": "6c888f17",
   "metadata": {
    "ExecuteTime": {
     "end_time": "2023-11-30T12:54:24.656854Z",
     "start_time": "2023-11-30T12:54:24.650871Z"
    }
   },
   "outputs": [
    {
     "name": "stdout",
     "output_type": "stream",
     "text": [
      "[100, 130, 100, 100]\n"
     ]
    }
   ],
   "source": [
    "my_dict = {\"10/26\" : [100, 130, 100, 100],\n",
    "           \"10/27\" : [10, 12, 10, 11]}\n",
    "def p_v_k(a, b) :\n",
    "    print(a[b])\n",
    "p_v_k(my_dict, \"10/26\")"
   ]
  },
  {
   "cell_type": "code",
   "execution_count": 77,
   "id": "66d38018",
   "metadata": {
    "ExecuteTime": {
     "end_time": "2023-11-30T12:58:33.460805Z",
     "start_time": "2023-11-30T12:58:33.455793Z"
    }
   },
   "outputs": [
    {
     "ename": "SyntaxError",
     "evalue": "unexpected character after line continuation character (4077906341.py, line 2)",
     "output_type": "error",
     "traceback": [
      "\u001b[1;36m  Cell \u001b[1;32mIn[77], line 2\u001b[1;36m\u001b[0m\n\u001b[1;33m    result = str_1\\n\u001b[0m\n\u001b[1;37m                   ^\u001b[0m\n\u001b[1;31mSyntaxError\u001b[0m\u001b[1;31m:\u001b[0m unexpected character after line continuation character\n"
     ]
    }
   ],
   "source": [
    "def p_x(str_1) :\n",
    "    result = str_1\\n"
   ]
  },
  {
   "cell_type": "code",
   "execution_count": 87,
   "id": "bf280dda",
   "metadata": {
    "ExecuteTime": {
     "end_time": "2023-11-30T13:03:05.328651Z",
     "start_time": "2023-11-30T13:03:05.324534Z"
    }
   },
   "outputs": [
    {
     "name": "stdout",
     "output_type": "stream",
     "text": [
      "1002880.08\n"
     ]
    }
   ],
   "source": [
    "def c_m_s(salary) :\n",
    "    print(round((salary/12),2))\n",
    "c_m_s(12034561)"
   ]
  },
  {
   "cell_type": "code",
   "execution_count": 88,
   "id": "55b3edf1",
   "metadata": {
    "ExecuteTime": {
     "end_time": "2023-11-30T13:06:47.024158Z",
     "start_time": "2023-11-30T13:06:47.019627Z"
    }
   },
   "outputs": [
    {
     "name": "stdout",
     "output_type": "stream",
     "text": [
      "왼쪽: 100\n",
      "오른쪽: 200\n"
     ]
    }
   ],
   "source": [
    "def my_print (a, b) :\n",
    "    print(\"왼쪽:\", a)\n",
    "    print(\"오른쪽:\", b)\n",
    "\n",
    "my_print(a=100, b=200)\n",
    "#왼쪽: 100\n",
    "#오른쪽: 200"
   ]
  },
  {
   "cell_type": "code",
   "execution_count": 89,
   "id": "56bdbf00",
   "metadata": {
    "ExecuteTime": {
     "end_time": "2023-11-30T13:07:23.090044Z",
     "start_time": "2023-11-30T13:07:23.085645Z"
    }
   },
   "outputs": [
    {
     "name": "stdout",
     "output_type": "stream",
     "text": [
      "왼쪽: 200\n",
      "오른쪽: 100\n"
     ]
    }
   ],
   "source": [
    "def my_print (a, b) :\n",
    "    print(\"왼쪽:\", a)\n",
    "    print(\"오른쪽:\", b)\n",
    "\n",
    "my_print(b=100, a=200)\n",
    "#왼쪽: 200\n",
    "#오른쪽: 100"
   ]
  },
  {
   "cell_type": "code",
   "execution_count": 94,
   "id": "3e69feb2",
   "metadata": {
    "ExecuteTime": {
     "end_time": "2023-11-30T13:10:50.022896Z",
     "start_time": "2023-11-30T13:10:50.018894Z"
    }
   },
   "outputs": [
    {
     "name": "stdout",
     "output_type": "stream",
     "text": [
      "4\n"
     ]
    }
   ],
   "source": [
    "def n_plus_1 (n) :\n",
    "    result = n + 1\n",
    "    return result\n",
    "\n",
    "result = n_plus_1(3)\n",
    "print (result)\n",
    "#4"
   ]
  },
  {
   "cell_type": "code",
   "execution_count": 98,
   "id": "38ce90ad",
   "metadata": {
    "ExecuteTime": {
     "end_time": "2023-11-30T13:13:36.070975Z",
     "start_time": "2023-11-30T13:13:36.065843Z"
    }
   },
   "outputs": [
    {
     "name": "stdout",
     "output_type": "stream",
     "text": [
      "www.naver.com\n"
     ]
    }
   ],
   "source": [
    "def make_url(a) :\n",
    "    if a == \"naver\" :\n",
    "        print(\"www.naver.com\")\n",
    "a = \"naver\"\n",
    "make_url(a)"
   ]
  },
  {
   "cell_type": "code",
   "execution_count": 99,
   "id": "e1e588a4",
   "metadata": {
    "ExecuteTime": {
     "end_time": "2023-11-30T13:14:12.477338Z",
     "start_time": "2023-11-30T13:14:12.472647Z"
    }
   },
   "outputs": [
    {
     "name": "stdout",
     "output_type": "stream",
     "text": [
      "www.naver.com\n"
     ]
    }
   ],
   "source": [
    "def make_url(a) :\n",
    "    if a == \"naver\" :\n",
    "        print(\"www.naver.com\")\n",
    "\n",
    "make_url(\"naver\")"
   ]
  },
  {
   "cell_type": "code",
   "execution_count": 100,
   "id": "2adf17de",
   "metadata": {
    "ExecuteTime": {
     "end_time": "2023-11-30T13:15:41.734452Z",
     "start_time": "2023-11-30T13:15:41.730368Z"
    }
   },
   "outputs": [],
   "source": [
    "def make_list (string) :\n",
    "    my_list = []\n",
    "    for 변수 in string :\n",
    "        my_list.append(변수)\n",
    "    return my_list\n",
    "#233번 나중에 해보기~"
   ]
  },
  {
   "cell_type": "code",
   "execution_count": 101,
   "id": "ed7e1f0c",
   "metadata": {
    "ExecuteTime": {
     "end_time": "2023-11-30T13:17:50.367848Z",
     "start_time": "2023-11-30T13:17:50.362470Z"
    }
   },
   "outputs": [
    {
     "name": "stdout",
     "output_type": "stream",
     "text": [
      "[4, 6, 8]\n"
     ]
    }
   ],
   "source": [
    "def p_e(even) :\n",
    "    result = [a for a in even if a % 2 ==0]\n",
    "    print(result)\n",
    "p_e([3, 4, 5, 6, 7, 8])"
   ]
  },
  {
   "cell_type": "code",
   "execution_count": 107,
   "id": "02c05195",
   "metadata": {
    "ExecuteTime": {
     "end_time": "2023-11-30T13:22:29.635688Z",
     "start_time": "2023-11-30T13:22:29.631291Z"
    }
   },
   "outputs": [
    {
     "name": "stdout",
     "output_type": "stream",
     "text": [
      "1234567\n"
     ]
    }
   ],
   "source": [
    "def c_i(a) :\n",
    "    print(a.replace(\",\",\"\"))\n",
    "c_i(\"1,234,567\")"
   ]
  },
  {
   "cell_type": "code",
   "execution_count": 108,
   "id": "3de7bfa3",
   "metadata": {
    "ExecuteTime": {
     "end_time": "2023-11-30T13:24:30.165810Z",
     "start_time": "2023-11-30T13:24:30.160847Z"
    }
   },
   "outputs": [
    {
     "name": "stdout",
     "output_type": "stream",
     "text": [
      "22\n"
     ]
    }
   ],
   "source": [
    "def 함수(num) :\n",
    "    return num + 4\n",
    "\n",
    "a = 함수(10)\n",
    "b = 함수(a)\n",
    "c = 함수(b)\n",
    "print(c)\n",
    "#22 #리턴을 해서 할당해줬기 때문에 나오는 것."
   ]
  },
  {
   "cell_type": "code",
   "execution_count": 109,
   "id": "1adb0229",
   "metadata": {
    "ExecuteTime": {
     "end_time": "2023-11-30T13:25:53.332349Z",
     "start_time": "2023-11-30T13:25:53.328032Z"
    }
   },
   "outputs": [
    {
     "name": "stdout",
     "output_type": "stream",
     "text": [
      "22\n"
     ]
    }
   ],
   "source": [
    "def 함수(num) :\n",
    "    return num + 4\n",
    "\n",
    "c = 함수(함수(함수(10)))\n",
    "print(c)\n",
    "#22"
   ]
  },
  {
   "cell_type": "code",
   "execution_count": 110,
   "id": "5a19a646",
   "metadata": {
    "ExecuteTime": {
     "end_time": "2023-11-30T13:26:23.257973Z",
     "start_time": "2023-11-30T13:26:23.253820Z"
    }
   },
   "outputs": [
    {
     "name": "stdout",
     "output_type": "stream",
     "text": [
      "140\n"
     ]
    }
   ],
   "source": [
    "def 함수1(num) :\n",
    "    return num + 4\n",
    "\n",
    "def 함수2(num) :\n",
    "    return num * 10\n",
    "\n",
    "a = 함수1(10)\n",
    "c = 함수2(a)\n",
    "print(c)\n",
    "#140"
   ]
  },
  {
   "cell_type": "code",
   "execution_count": 111,
   "id": "6bbaa8b3",
   "metadata": {
    "ExecuteTime": {
     "end_time": "2023-11-30T13:27:07.425318Z",
     "start_time": "2023-11-30T13:27:07.419627Z"
    }
   },
   "outputs": [
    {
     "name": "stdout",
     "output_type": "stream",
     "text": [
      "16\n"
     ]
    }
   ],
   "source": [
    "def 함수1(num) :\n",
    "    return num + 4\n",
    "\n",
    "def 함수2(num) :\n",
    "    num = num + 2\n",
    "    return 함수1(num)\n",
    "\n",
    "c = 함수2(10)\n",
    "print(c)\n",
    "#16"
   ]
  },
  {
   "cell_type": "code",
   "execution_count": 112,
   "id": "16949d00",
   "metadata": {
    "ExecuteTime": {
     "end_time": "2023-11-30T13:27:55.892191Z",
     "start_time": "2023-11-30T13:27:55.886201Z"
    }
   },
   "outputs": [
    {
     "name": "stdout",
     "output_type": "stream",
     "text": [
      "28\n"
     ]
    }
   ],
   "source": [
    "def 함수0(num) :\n",
    "    return num * 2\n",
    "\n",
    "def 함수1(num) :\n",
    "    return 함수0(num + 2)\n",
    "\n",
    "def 함수2(num) :\n",
    "    num = num + 10\n",
    "    return 함수1(num)\n",
    "\n",
    "c = 함수2(2)\n",
    "print(c)\n",
    "#28"
   ]
  },
  {
   "cell_type": "code",
   "execution_count": null,
   "id": "6f28326f",
   "metadata": {},
   "outputs": [],
   "source": []
  }
 ],
 "metadata": {
  "kernelspec": {
   "display_name": "Python 3 (ipykernel)",
   "language": "python",
   "name": "python3"
  },
  "language_info": {
   "codemirror_mode": {
    "name": "ipython",
    "version": 3
   },
   "file_extension": ".py",
   "mimetype": "text/x-python",
   "name": "python",
   "nbconvert_exporter": "python",
   "pygments_lexer": "ipython3",
   "version": "3.11.5"
  },
  "toc": {
   "base_numbering": 1,
   "nav_menu": {},
   "number_sections": true,
   "sideBar": true,
   "skip_h1_title": false,
   "title_cell": "Table of Contents",
   "title_sidebar": "Contents",
   "toc_cell": false,
   "toc_position": {},
   "toc_section_display": true,
   "toc_window_display": false
  }
 },
 "nbformat": 4,
 "nbformat_minor": 5
}
