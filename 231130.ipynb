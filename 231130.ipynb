{
 "cells": [
  {
   "cell_type": "markdown",
   "id": "24cbaee6",
   "metadata": {},
   "source": [
    "# 함수\n",
    "def 함수_이름(매개변수) : #매개변수는 입력하기 위한 인자\n",
    "    수행할_문장 1\n",
    "    수행할_문장 2\n",
    "    ..."
   ]
  },
  {
   "cell_type": "code",
   "execution_count": 1,
   "id": "9fee5a6b",
   "metadata": {
    "ExecuteTime": {
     "end_time": "2023-11-30T01:20:34.096283Z",
     "start_time": "2023-11-30T01:20:34.092422Z"
    }
   },
   "outputs": [],
   "source": [
    "def add(a, b) :\n",
    "    return a + b"
   ]
  },
  {
   "cell_type": "code",
   "execution_count": 2,
   "id": "3a99ca3d",
   "metadata": {
    "ExecuteTime": {
     "end_time": "2023-11-30T01:21:05.081332Z",
     "start_time": "2023-11-30T01:21:05.075870Z"
    }
   },
   "outputs": [
    {
     "name": "stdout",
     "output_type": "stream",
     "text": [
      "7\n"
     ]
    }
   ],
   "source": [
    "a = 3\n",
    "b = 4\n",
    "c = add(a,b) #함수 실행할 때는 add\n",
    "print(c)"
   ]
  },
  {
   "cell_type": "code",
   "execution_count": 3,
   "id": "c024d936",
   "metadata": {
    "ExecuteTime": {
     "end_time": "2023-11-30T01:23:39.478837Z",
     "start_time": "2023-11-30T01:23:39.474692Z"
    }
   },
   "outputs": [],
   "source": [
    "# 함수를 정의할 때만드는 a,b가 매개변수\n",
    "# 함수를 호출할 때 부르는 값을 인수\n",
    "# 일반적인 함수\n",
    "def add(a, b) :\n",
    "    result= a+b\n",
    "    return result"
   ]
  },
  {
   "cell_type": "code",
   "execution_count": 4,
   "id": "b8659f38",
   "metadata": {
    "ExecuteTime": {
     "end_time": "2023-11-30T01:23:50.142243Z",
     "start_time": "2023-11-30T01:23:50.137816Z"
    }
   },
   "outputs": [
    {
     "name": "stdout",
     "output_type": "stream",
     "text": [
      "7\n"
     ]
    }
   ],
   "source": [
    "a = add(3, 4)\n",
    "print(a)"
   ]
  },
  {
   "cell_type": "code",
   "execution_count": 5,
   "id": "f8720420",
   "metadata": {
    "ExecuteTime": {
     "end_time": "2023-11-30T01:26:39.739208Z",
     "start_time": "2023-11-30T01:26:38.981655Z"
    }
   },
   "outputs": [
    {
     "ename": "NameError",
     "evalue": "name 'say' is not defined",
     "output_type": "error",
     "traceback": [
      "\u001b[1;31m---------------------------------------------------------------------------\u001b[0m",
      "\u001b[1;31mNameError\u001b[0m                                 Traceback (most recent call last)",
      "Cell \u001b[1;32mIn[5], line 2\u001b[0m\n\u001b[0;32m      1\u001b[0m \u001b[38;5;66;03m# 입력값이 없는 함수. 매개변수를 받지 않을 수 있음.\u001b[39;00m\n\u001b[1;32m----> 2\u001b[0m a \u001b[38;5;241m=\u001b[39m say()\n\u001b[0;32m      3\u001b[0m \u001b[38;5;28mprint\u001b[39m(a)\n",
      "\u001b[1;31mNameError\u001b[0m: name 'say' is not defined"
     ]
    }
   ],
   "source": [
    "# 입력값이 없는 함수. 매개변수를 받지 않을 수 있음.\n",
    "a = say()\n",
    "print(a)"
   ]
  },
  {
   "cell_type": "code",
   "execution_count": 6,
   "id": "739fe9d3",
   "metadata": {
    "ExecuteTime": {
     "end_time": "2023-11-30T01:28:18.370384Z",
     "start_time": "2023-11-30T01:28:18.366539Z"
    }
   },
   "outputs": [],
   "source": [
    "#리턴값이 없는 함수\n",
    "def add(a, b) : \n",
    "    print(\"%d, %d의 합은 %d입니다.\") % (a, b, a+b)"
   ]
  },
  {
   "cell_type": "code",
   "execution_count": 8,
   "id": "72063a64",
   "metadata": {
    "ExecuteTime": {
     "end_time": "2023-11-30T01:29:31.859974Z",
     "start_time": "2023-11-30T01:29:31.837982Z"
    }
   },
   "outputs": [
    {
     "name": "stdout",
     "output_type": "stream",
     "text": [
      "%d, %d의 합은 %d입니다.\n"
     ]
    },
    {
     "ename": "TypeError",
     "evalue": "unsupported operand type(s) for %: 'NoneType' and 'tuple'",
     "output_type": "error",
     "traceback": [
      "\u001b[1;31m---------------------------------------------------------------------------\u001b[0m",
      "\u001b[1;31mTypeError\u001b[0m                                 Traceback (most recent call last)",
      "Cell \u001b[1;32mIn[8], line 1\u001b[0m\n\u001b[1;32m----> 1\u001b[0m add(\u001b[38;5;241m3\u001b[39m, \u001b[38;5;241m4\u001b[39m)\n\u001b[0;32m      2\u001b[0m \u001b[38;5;28mprint\u001b[39m(a)\n",
      "Cell \u001b[1;32mIn[6], line 3\u001b[0m, in \u001b[0;36madd\u001b[1;34m(a, b)\u001b[0m\n\u001b[0;32m      2\u001b[0m \u001b[38;5;28;01mdef\u001b[39;00m \u001b[38;5;21madd\u001b[39m(a, b) : \n\u001b[1;32m----> 3\u001b[0m     \u001b[38;5;28mprint\u001b[39m(\u001b[38;5;124m\"\u001b[39m\u001b[38;5;132;01m%d\u001b[39;00m\u001b[38;5;124m, \u001b[39m\u001b[38;5;132;01m%d\u001b[39;00m\u001b[38;5;124m의 합은 \u001b[39m\u001b[38;5;132;01m%d\u001b[39;00m\u001b[38;5;124m입니다.\u001b[39m\u001b[38;5;124m\"\u001b[39m) \u001b[38;5;241m%\u001b[39m (a, b, a\u001b[38;5;241m+\u001b[39mb)\n",
      "\u001b[1;31mTypeError\u001b[0m: unsupported operand type(s) for %: 'NoneType' and 'tuple'"
     ]
    }
   ],
   "source": [
    "add(3, 4)\n",
    "print(a)"
   ]
  },
  {
   "cell_type": "code",
   "execution_count": 9,
   "id": "5cb97b31",
   "metadata": {
    "ExecuteTime": {
     "end_time": "2023-11-30T01:30:07.430037Z",
     "start_time": "2023-11-30T01:30:07.426227Z"
    }
   },
   "outputs": [],
   "source": [
    "#입력값도 리턴값도 없는 함수\n",
    "def say() : \n",
    "    print('hi')"
   ]
  },
  {
   "cell_type": "code",
   "execution_count": 10,
   "id": "382f1006",
   "metadata": {
    "ExecuteTime": {
     "end_time": "2023-11-30T01:30:11.748328Z",
     "start_time": "2023-11-30T01:30:11.744804Z"
    }
   },
   "outputs": [
    {
     "name": "stdout",
     "output_type": "stream",
     "text": [
      "hi\n"
     ]
    }
   ],
   "source": [
    "say()"
   ]
  },
  {
   "cell_type": "code",
   "execution_count": 11,
   "id": "ee57fd04",
   "metadata": {
    "ExecuteTime": {
     "end_time": "2023-11-30T01:31:09.858768Z",
     "start_time": "2023-11-30T01:31:09.855715Z"
    }
   },
   "outputs": [],
   "source": [
    "def sub(a, b) :\n",
    "    return a - b"
   ]
  },
  {
   "cell_type": "code",
   "execution_count": 12,
   "id": "816f997b",
   "metadata": {
    "ExecuteTime": {
     "end_time": "2023-11-30T01:31:33.853188Z",
     "start_time": "2023-11-30T01:31:33.848610Z"
    }
   },
   "outputs": [
    {
     "name": "stdout",
     "output_type": "stream",
     "text": [
      "4\n"
     ]
    }
   ],
   "source": [
    "result = sub(a=7, b=3)\n",
    "print(result)"
   ]
  },
  {
   "cell_type": "code",
   "execution_count": 13,
   "id": "e8000da8",
   "metadata": {
    "ExecuteTime": {
     "end_time": "2023-11-30T01:40:53.644990Z",
     "start_time": "2023-11-30T01:40:53.640776Z"
    }
   },
   "outputs": [],
   "source": [
    "#입력값이 가변적일때. 어떤 입력값이 들어올지 모를 때 *args\n",
    "def add_many(*args) :\n",
    "    result = 0\n",
    "    for i in args :\n",
    "        result = result + i #*args에 입력받은 모든 값을 더한다\n",
    "    return result"
   ]
  },
  {
   "cell_type": "code",
   "execution_count": 15,
   "id": "61d3200e",
   "metadata": {
    "ExecuteTime": {
     "end_time": "2023-11-30T01:41:53.480841Z",
     "start_time": "2023-11-30T01:41:53.476103Z"
    }
   },
   "outputs": [
    {
     "name": "stdout",
     "output_type": "stream",
     "text": [
      "6\n"
     ]
    }
   ],
   "source": [
    "result = add_many(1,2,3)\n",
    "print(result)"
   ]
  },
  {
   "cell_type": "code",
   "execution_count": 16,
   "id": "065b4ca1",
   "metadata": {
    "ExecuteTime": {
     "end_time": "2023-11-30T01:42:15.502689Z",
     "start_time": "2023-11-30T01:42:15.497958Z"
    }
   },
   "outputs": [
    {
     "name": "stdout",
     "output_type": "stream",
     "text": [
      "55\n"
     ]
    }
   ],
   "source": [
    "result = add_many(1,2,3,4,5,6,7,8,9,10)\n",
    "print(result)"
   ]
  },
  {
   "cell_type": "code",
   "execution_count": 17,
   "id": "68f6730b",
   "metadata": {
    "ExecuteTime": {
     "end_time": "2023-11-30T01:46:51.360344Z",
     "start_time": "2023-11-30T01:46:51.356012Z"
    }
   },
   "outputs": [],
   "source": [
    "#고정인수 : 인자를 지정해준 것들.\n",
    "#args : 가변인수\n",
    "#혼합해서 사용할 때는 고정인수가 반드시 먼저 나와야함.\n",
    "\n",
    "def add_mul(choice, *args) :\n",
    "    if choice == \"add\" :\n",
    "        result = 0\n",
    "        for i in args :\n",
    "            result = result + i\n",
    "    elif choice == \"mul\" :\n",
    "        result = 1\n",
    "        for i in args :\n",
    "            result = result * i\n",
    "    return result"
   ]
  },
  {
   "cell_type": "code",
   "execution_count": 18,
   "id": "1e627e8b",
   "metadata": {
    "ExecuteTime": {
     "end_time": "2023-11-30T01:47:10.347969Z",
     "start_time": "2023-11-30T01:47:10.343797Z"
    }
   },
   "outputs": [
    {
     "name": "stdout",
     "output_type": "stream",
     "text": [
      "15\n"
     ]
    }
   ],
   "source": [
    "result = add_mul('add', 1,2,3,4,5)\n",
    "print(result)"
   ]
  },
  {
   "cell_type": "code",
   "execution_count": 19,
   "id": "08ade416",
   "metadata": {
    "ExecuteTime": {
     "end_time": "2023-11-30T01:47:29.562771Z",
     "start_time": "2023-11-30T01:47:29.558340Z"
    }
   },
   "outputs": [
    {
     "name": "stdout",
     "output_type": "stream",
     "text": [
      "120\n"
     ]
    }
   ],
   "source": [
    "result = add_mul('mul', 1,2,3,4,5)\n",
    "print(result)"
   ]
  },
  {
   "cell_type": "code",
   "execution_count": 20,
   "id": "f4a50bf9",
   "metadata": {
    "ExecuteTime": {
     "end_time": "2023-11-30T02:02:20.659462Z",
     "start_time": "2023-11-30T02:02:20.655695Z"
    }
   },
   "outputs": [
    {
     "name": "stdout",
     "output_type": "stream",
     "text": [
      "{'a': 1}\n"
     ]
    }
   ],
   "source": [
    "#키워드 매개변수\n",
    "#키워드 매개변수는 딕셔너리로 저장해주는 함수\n",
    "def print_kwargs(**kwargs) :\n",
    "    print(kwargs)\n",
    "print_kwargs(a=1)"
   ]
  },
  {
   "cell_type": "code",
   "execution_count": 21,
   "id": "f18293f6",
   "metadata": {
    "ExecuteTime": {
     "end_time": "2023-11-30T02:02:47.658816Z",
     "start_time": "2023-11-30T02:02:47.655345Z"
    }
   },
   "outputs": [
    {
     "name": "stdout",
     "output_type": "stream",
     "text": [
      "{'name': 'foo', 'age': 3}\n"
     ]
    }
   ],
   "source": [
    "print_kwargs(name='foo', age=3)"
   ]
  },
  {
   "cell_type": "code",
   "execution_count": 26,
   "id": "da6fe8ad",
   "metadata": {
    "ExecuteTime": {
     "end_time": "2023-11-30T02:05:54.102987Z",
     "start_time": "2023-11-30T02:05:54.099258Z"
    }
   },
   "outputs": [],
   "source": [
    "#함수의 리턴값은 언제나 하나\n",
    "def add_and_mul(a, b) :\n",
    "    return a+b, a*b"
   ]
  },
  {
   "cell_type": "code",
   "execution_count": 27,
   "id": "f122907e",
   "metadata": {
    "ExecuteTime": {
     "end_time": "2023-11-30T02:05:55.673790Z",
     "start_time": "2023-11-30T02:05:55.669665Z"
    }
   },
   "outputs": [],
   "source": [
    "result = add_and_mul(3, 4)"
   ]
  },
  {
   "cell_type": "code",
   "execution_count": 28,
   "id": "db037cac",
   "metadata": {
    "ExecuteTime": {
     "end_time": "2023-11-30T02:06:24.434597Z",
     "start_time": "2023-11-30T02:06:24.426727Z"
    }
   },
   "outputs": [
    {
     "data": {
      "text/plain": [
       "(7, 12)"
      ]
     },
     "execution_count": 28,
     "metadata": {},
     "output_type": "execute_result"
    }
   ],
   "source": [
    "result #튜플로 묶어서 하나로 반환"
   ]
  },
  {
   "cell_type": "code",
   "execution_count": 29,
   "id": "e0480c07",
   "metadata": {
    "ExecuteTime": {
     "end_time": "2023-11-30T02:07:10.059360Z",
     "start_time": "2023-11-30T02:07:10.056097Z"
    }
   },
   "outputs": [
    {
     "name": "stdout",
     "output_type": "stream",
     "text": [
      "7\n",
      "12\n"
     ]
    }
   ],
   "source": [
    "#분리해서 받고 싶을 때\n",
    "result1, result2 = add_and_mul(3, 4)\n",
    "print(result1)\n",
    "print(result2)"
   ]
  },
  {
   "cell_type": "code",
   "execution_count": 30,
   "id": "b1b1c5a3",
   "metadata": {
    "ExecuteTime": {
     "end_time": "2023-11-30T02:07:45.250871Z",
     "start_time": "2023-11-30T02:07:45.246692Z"
    }
   },
   "outputs": [
    {
     "name": "stdout",
     "output_type": "stream",
     "text": [
      "7\n",
      "12\n"
     ]
    }
   ],
   "source": [
    "#받고싶은 값만 받을 수 있음\n",
    "resut1, _ = add_and_mul(3,4)\n",
    "print(result1)\n",
    "print(_) #실제로 _ 변수로 받는 것. just 가독성 목적."
   ]
  },
  {
   "cell_type": "code",
   "execution_count": 32,
   "id": "3c76f162",
   "metadata": {
    "ExecuteTime": {
     "end_time": "2023-11-30T02:08:55.570713Z",
     "start_time": "2023-11-30T02:08:55.567879Z"
    }
   },
   "outputs": [],
   "source": [
    "def add_and_mul(a,b) :\n",
    "    return a+b\n",
    "    return a*b\n",
    "#리턴을 만나는 순간 끝난다 ??"
   ]
  },
  {
   "cell_type": "code",
   "execution_count": 34,
   "id": "fdbb995f",
   "metadata": {
    "ExecuteTime": {
     "end_time": "2023-11-30T02:10:02.365307Z",
     "start_time": "2023-11-30T02:10:02.361342Z"
    }
   },
   "outputs": [],
   "source": [
    "#리턴의 다른 쓰임새\n",
    "def say_nick(nick) :\n",
    "    if nick == \"바보\" :\n",
    "        return\n",
    "    print(\"나의 별명은 %s 입니다.\" % nick)"
   ]
  },
  {
   "cell_type": "code",
   "execution_count": 36,
   "id": "d985983b",
   "metadata": {
    "ExecuteTime": {
     "end_time": "2023-11-30T02:10:22.459366Z",
     "start_time": "2023-11-30T02:10:22.456069Z"
    }
   },
   "outputs": [
    {
     "name": "stdout",
     "output_type": "stream",
     "text": [
      "나의 별명은 야호 입니다.\n"
     ]
    }
   ],
   "source": [
    "say_nick('야호')"
   ]
  },
  {
   "cell_type": "code",
   "execution_count": 38,
   "id": "619c1ace",
   "metadata": {
    "ExecuteTime": {
     "end_time": "2023-11-30T02:13:37.309815Z",
     "start_time": "2023-11-30T02:13:37.305930Z"
    }
   },
   "outputs": [],
   "source": [
    "#매개변수 초깃값 미리 설정하기.\n",
    "def say_myself(name, age, man=True) :\n",
    "    print(\"나의 이름은 %s 입니다.\" % name)\n",
    "    print(\"나이는 %d살입니다.\" % age)\n",
    "    if man :\n",
    "        print(\"남자입니다.\")\n",
    "    else :\n",
    "        print(\"여자입니다\")"
   ]
  },
  {
   "cell_type": "code",
   "execution_count": 39,
   "id": "f739edd4",
   "metadata": {
    "ExecuteTime": {
     "end_time": "2023-11-30T02:13:50.922923Z",
     "start_time": "2023-11-30T02:13:50.919049Z"
    }
   },
   "outputs": [
    {
     "name": "stdout",
     "output_type": "stream",
     "text": [
      "나의 이름은 오지은 입니다.\n",
      "나이는 27살입니다.\n",
      "남자입니다.\n"
     ]
    }
   ],
   "source": [
    "say_myself(\"오지은\", 27) #man이 디폴트값으로 들어가있기 때문."
   ]
  },
  {
   "cell_type": "code",
   "execution_count": 41,
   "id": "2df7c811",
   "metadata": {
    "ExecuteTime": {
     "end_time": "2023-11-30T02:14:17.699394Z",
     "start_time": "2023-11-30T02:14:17.694309Z"
    }
   },
   "outputs": [
    {
     "name": "stdout",
     "output_type": "stream",
     "text": [
      "나의 이름은 오지은 입니다.\n",
      "나이는 27살입니다.\n",
      "여자입니다\n"
     ]
    }
   ],
   "source": [
    "say_myself(\"오지은\", 27, False) #기본값이 False로 바뀜"
   ]
  },
  {
   "cell_type": "code",
   "execution_count": 42,
   "id": "852a3611",
   "metadata": {
    "ExecuteTime": {
     "end_time": "2023-11-30T02:15:46.030441Z",
     "start_time": "2023-11-30T02:15:46.027004Z"
    }
   },
   "outputs": [],
   "source": [
    "#초기와 매개변수는 마지막에 넣어줘야한다."
   ]
  },
  {
   "cell_type": "code",
   "execution_count": 43,
   "id": "06b9274e",
   "metadata": {
    "ExecuteTime": {
     "end_time": "2023-11-30T02:16:40.126475Z",
     "start_time": "2023-11-30T02:16:40.121327Z"
    }
   },
   "outputs": [
    {
     "name": "stdout",
     "output_type": "stream",
     "text": [
      "1\n"
     ]
    }
   ],
   "source": [
    "#함수 안에서 선언한 변수의 효력 범위.(지역vs전역)\n",
    "#함수 안에서 사용할 변수의 이름을 함수 밖에서도 동일하게 사용한다면?\n",
    "a = 1 #전역변수\n",
    "def vartest(a) :\n",
    "    a = a +1 #지역변수\n",
    "vartest(a)\n",
    "print(a)\n",
    "#1이 나온 이유 : 함수 매개변수는 함수 안에서만 사용하는 \"지역\"변수이기 때문."
   ]
  },
  {
   "cell_type": "code",
   "execution_count": 44,
   "id": "5d4225f1",
   "metadata": {
    "ExecuteTime": {
     "end_time": "2023-11-30T02:20:13.483628Z",
     "start_time": "2023-11-30T02:20:13.467278Z"
    }
   },
   "outputs": [
    {
     "ename": "NameError",
     "evalue": "name 'aa' is not defined",
     "output_type": "error",
     "traceback": [
      "\u001b[1;31m---------------------------------------------------------------------------\u001b[0m",
      "\u001b[1;31mNameError\u001b[0m                                 Traceback (most recent call last)",
      "Cell \u001b[1;32mIn[44], line 4\u001b[0m\n\u001b[0;32m      2\u001b[0m     aa \u001b[38;5;241m=\u001b[39m aa \u001b[38;5;241m+\u001b[39m \u001b[38;5;241m1\u001b[39m\n\u001b[0;32m      3\u001b[0m vartest(\u001b[38;5;241m3\u001b[39m)\n\u001b[1;32m----> 4\u001b[0m \u001b[38;5;28mprint\u001b[39m(aa)\n",
      "\u001b[1;31mNameError\u001b[0m: name 'aa' is not defined"
     ]
    }
   ],
   "source": [
    "def vartest(aa):\n",
    "    aa = aa + 1\n",
    "vartest(3)\n",
    "print(aa)"
   ]
  },
  {
   "cell_type": "code",
   "execution_count": 45,
   "id": "4678b41a",
   "metadata": {
    "ExecuteTime": {
     "end_time": "2023-11-30T02:22:32.260440Z",
     "start_time": "2023-11-30T02:22:32.255373Z"
    }
   },
   "outputs": [
    {
     "name": "stdout",
     "output_type": "stream",
     "text": [
      "2\n"
     ]
    }
   ],
   "source": [
    "#글로벌 명령 사용하기\n",
    "#이 a는 지역변수가 아니라 전역변수로 사용할거야\n",
    "a = 1\n",
    "def vartest():\n",
    "    global a\n",
    "    a = a+1\n",
    "vartest()\n",
    "print(a)"
   ]
  },
  {
   "cell_type": "code",
   "execution_count": 47,
   "id": "2402faac",
   "metadata": {
    "ExecuteTime": {
     "end_time": "2023-11-30T02:30:03.607840Z",
     "start_time": "2023-11-30T02:30:03.602764Z"
    }
   },
   "outputs": [
    {
     "name": "stdout",
     "output_type": "stream",
     "text": [
      "7\n"
     ]
    }
   ],
   "source": [
    "#람다는 1회성 함수\n",
    "add = lambda a, b : a+b\n",
    "result = add(3, 4)\n",
    "print(result)"
   ]
  },
  {
   "cell_type": "code",
   "execution_count": 48,
   "id": "1249ef2d",
   "metadata": {
    "ExecuteTime": {
     "end_time": "2023-11-30T02:30:36.022557Z",
     "start_time": "2023-11-30T02:30:36.017539Z"
    }
   },
   "outputs": [
    {
     "name": "stdout",
     "output_type": "stream",
     "text": [
      "7\n"
     ]
    }
   ],
   "source": [
    "def add(a, b):\n",
    "    return a+b\n",
    "result = add(3, 4)\n",
    "print(result)"
   ]
  },
  {
   "cell_type": "code",
   "execution_count": 49,
   "id": "88320b09",
   "metadata": {
    "ExecuteTime": {
     "end_time": "2023-11-30T02:36:45.394507Z",
     "start_time": "2023-11-30T02:36:43.165367Z"
    }
   },
   "outputs": [
    {
     "name": "stdout",
     "output_type": "stream",
     "text": [
      "히히헤헤\n"
     ]
    },
    {
     "data": {
      "text/plain": [
       "'히히헤헤'"
      ]
     },
     "execution_count": 49,
     "metadata": {},
     "output_type": "execute_result"
    }
   ],
   "source": [
    "# 사용자 입출력\n",
    "a = input()\n",
    "a"
   ]
  },
  {
   "cell_type": "code",
   "execution_count": 50,
   "id": "646a7e6f",
   "metadata": {
    "ExecuteTime": {
     "end_time": "2023-11-30T02:37:03.013164Z",
     "start_time": "2023-11-30T02:37:00.355400Z"
    }
   },
   "outputs": [
    {
     "name": "stdout",
     "output_type": "stream",
     "text": [
      "안내_문구히힛\n"
     ]
    },
    {
     "data": {
      "text/plain": [
       "'히힛'"
      ]
     },
     "execution_count": 50,
     "metadata": {},
     "output_type": "execute_result"
    }
   ],
   "source": [
    "input(\"안내_문구\")"
   ]
  },
  {
   "cell_type": "code",
   "execution_count": 51,
   "id": "ef24b6dd",
   "metadata": {
    "ExecuteTime": {
     "end_time": "2023-11-30T02:37:29.089347Z",
     "start_time": "2023-11-30T02:37:29.085660Z"
    }
   },
   "outputs": [
    {
     "name": "stdout",
     "output_type": "stream",
     "text": [
      "123\n"
     ]
    }
   ],
   "source": [
    "a = 123\n",
    "print(a)"
   ]
  },
  {
   "cell_type": "code",
   "execution_count": 53,
   "id": "16354833",
   "metadata": {
    "ExecuteTime": {
     "end_time": "2023-11-30T02:37:46.504782Z",
     "start_time": "2023-11-30T02:37:46.500876Z"
    }
   },
   "outputs": [
    {
     "name": "stdout",
     "output_type": "stream",
     "text": [
      "python\n"
     ]
    }
   ],
   "source": [
    "a = \"python\"\n",
    "print(a)"
   ]
  },
  {
   "cell_type": "code",
   "execution_count": 54,
   "id": "6ac4105c",
   "metadata": {
    "ExecuteTime": {
     "end_time": "2023-11-30T02:38:11.120174Z",
     "start_time": "2023-11-30T02:38:11.115012Z"
    }
   },
   "outputs": [
    {
     "name": "stdout",
     "output_type": "stream",
     "text": [
      "lifeistooshort\n"
     ]
    }
   ],
   "source": [
    "print(\"life\" \"is\" \"too\" \"short\")"
   ]
  },
  {
   "cell_type": "code",
   "execution_count": 55,
   "id": "5dadf4e6",
   "metadata": {
    "ExecuteTime": {
     "end_time": "2023-11-30T02:38:38.278268Z",
     "start_time": "2023-11-30T02:38:38.272985Z"
    }
   },
   "outputs": [
    {
     "ename": "SyntaxError",
     "evalue": "expected ':' (110047776.py, line 1)",
     "output_type": "error",
     "traceback": [
      "\u001b[1;36m  Cell \u001b[1;32mIn[55], line 1\u001b[1;36m\u001b[0m\n\u001b[1;33m    for i in range(10)\u001b[0m\n\u001b[1;37m                      ^\u001b[0m\n\u001b[1;31mSyntaxError\u001b[0m\u001b[1;31m:\u001b[0m expected ':'\n"
     ]
    }
   ],
   "source": [
    "for i in range(10)\n",
    "print(i, end='')"
   ]
  },
  {
   "cell_type": "code",
   "execution_count": null,
   "id": "d10f6ce0",
   "metadata": {},
   "outputs": [],
   "source": [
    "ㅇ"
   ]
  }
 ],
 "metadata": {
  "kernelspec": {
   "display_name": "Python 3 (ipykernel)",
   "language": "python",
   "name": "python3"
  },
  "language_info": {
   "codemirror_mode": {
    "name": "ipython",
    "version": 3
   },
   "file_extension": ".py",
   "mimetype": "text/x-python",
   "name": "python",
   "nbconvert_exporter": "python",
   "pygments_lexer": "ipython3",
   "version": "3.11.5"
  },
  "toc": {
   "base_numbering": 1,
   "nav_menu": {},
   "number_sections": true,
   "sideBar": true,
   "skip_h1_title": false,
   "title_cell": "Table of Contents",
   "title_sidebar": "Contents",
   "toc_cell": false,
   "toc_position": {},
   "toc_section_display": true,
   "toc_window_display": false
  }
 },
 "nbformat": 4,
 "nbformat_minor": 5
}
