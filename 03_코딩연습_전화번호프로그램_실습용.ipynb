{
 "cells": [
  {
   "cell_type": "markdown",
   "metadata": {
    "id": "--4OkJRjoPgo"
   },
   "source": [
    "# 전화번호 프로그램 만들기\n",
    "\n",
    "* 홍길동 010-123-4567\n",
    "* 기능1 : 연락처 추가\n",
    "* 기능2 : 연락처 전체 보기\n",
    "* 기능3 : 검색, 이름을 입력받아서 전화번호 조회\n",
    "* 기능4 : 수정, 이름을 입력받아서 전화번호 입력수정\n",
    "* 기능5 : 삭제, 이름 입력받아서 삭제\n",
    "* 기능6 : 프로그램 종료"
   ]
  },
  {
   "cell_type": "code",
   "execution_count": null,
   "metadata": {},
   "outputs": [],
   "source": [
    "연락처 = {}"
   ]
  },
  {
   "cell_type": "code",
   "execution_count": 4,
   "metadata": {
    "ExecuteTime": {
     "end_time": "2023-11-29T11:30:13.437982Z",
     "start_time": "2023-11-29T11:29:16.947646Z"
    },
    "id": "bNves5CLoPgs"
   },
   "outputs": [
    {
     "name": "stdout",
     "output_type": "stream",
     "text": [
      "1\n",
      "오지은\n",
      "01012341234\n",
      "2\n",
      "{'홍길동': '01014725788', '오지은': '01012341234'}\n",
      "3\n",
      "오지은\n",
      "01012341234\n",
      "4\n",
      "오지은\n",
      "수정할 전화번호\n",
      "015648646\n",
      "5\n",
      "오지은\n",
      "2\n",
      "{'홍길동': '01014725788'}\n",
      "6\n"
     ]
    }
   ],
   "source": [
    "```\n",
    "while True :\n",
    "    inp = int(input()) #정수\n",
    "    if inp == 1 :\n",
    "        name = input()\n",
    "        tel = input()\n",
    "        연락처[name]=tel\n",
    "    elif inp == 2 :\n",
    "        print(연락처)\n",
    "    elif inp == 3 :\n",
    "        name = input()\n",
    "        print(연락처[name])\n",
    "    elif inp == 4 :\n",
    "        name = input()\n",
    "        print(\"수정할 전화번호\")\n",
    "        tel = input()\n",
    "        연락처[name] = tel\n",
    "    elif inp == 5 :\n",
    "        name = input()\n",
    "        del 연락처[name]\n",
    "    elif inp == 6 :\n",
    "        break\n",
    "``` "
   ]
  },
  {
   "cell_type": "code",
   "execution_count": 2,
   "metadata": {
    "ExecuteTime": {
     "end_time": "2023-11-29T11:17:55.822668Z",
     "start_time": "2023-11-29T11:17:55.818991Z"
    },
    "id": "J3B08XTroX4b"
   },
   "outputs": [
    {
     "name": "stdout",
     "output_type": "stream",
     "text": [
      "{'홍길동': '01012341234'}\n"
     ]
    }
   ],
   "source": [
    "print(연락처)"
   ]
  }
 ],
 "metadata": {
  "colab": {
   "provenance": []
  },
  "kernelspec": {
   "display_name": "Python 3 (ipykernel)",
   "language": "python",
   "name": "python3"
  },
  "language_info": {
   "codemirror_mode": {
    "name": "ipython",
    "version": 3
   },
   "file_extension": ".py",
   "mimetype": "text/x-python",
   "name": "python",
   "nbconvert_exporter": "python",
   "pygments_lexer": "ipython3",
   "version": "3.11.5"
  },
  "toc": {
   "base_numbering": 1,
   "nav_menu": {},
   "number_sections": true,
   "sideBar": true,
   "skip_h1_title": false,
   "title_cell": "Table of Contents",
   "title_sidebar": "Contents",
   "toc_cell": false,
   "toc_position": {},
   "toc_section_display": true,
   "toc_window_display": false
  },
  "varInspector": {
   "cols": {
    "lenName": 16,
    "lenType": 16,
    "lenVar": 40
   },
   "kernels_config": {
    "python": {
     "delete_cmd_postfix": "",
     "delete_cmd_prefix": "del ",
     "library": "var_list.py",
     "varRefreshCmd": "print(var_dic_list())"
    },
    "r": {
     "delete_cmd_postfix": ") ",
     "delete_cmd_prefix": "rm(",
     "library": "var_list.r",
     "varRefreshCmd": "cat(var_dic_list()) "
    }
   },
   "types_to_exclude": [
    "module",
    "function",
    "builtin_function_or_method",
    "instance",
    "_Feature"
   ],
   "window_display": false
  }
 },
 "nbformat": 4,
 "nbformat_minor": 1
}
