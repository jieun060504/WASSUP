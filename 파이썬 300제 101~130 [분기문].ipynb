{
 "cells": [
  {
   "cell_type": "code",
   "execution_count": 1,
   "id": "55048db4",
   "metadata": {
    "ExecuteTime": {
     "end_time": "2023-12-09T15:59:29.099442Z",
     "start_time": "2023-12-09T15:59:29.095809Z"
    }
   },
   "outputs": [],
   "source": [
    "#101\n",
    "#파이썬에서 True 혹은 False를 갖는 데이터 타입은 무엇인가?\n",
    "#bool타입"
   ]
  },
  {
   "cell_type": "code",
   "execution_count": 2,
   "id": "172230ad",
   "metadata": {
    "ExecuteTime": {
     "end_time": "2023-12-09T15:59:45.319266Z",
     "start_time": "2023-12-09T15:59:45.315375Z"
    }
   },
   "outputs": [
    {
     "name": "stdout",
     "output_type": "stream",
     "text": [
      "False\n"
     ]
    }
   ],
   "source": [
    "#102\n",
    "print(3 == 5)\n",
    "#False"
   ]
  },
  {
   "cell_type": "code",
   "execution_count": 3,
   "id": "d24f9064",
   "metadata": {
    "ExecuteTime": {
     "end_time": "2023-12-09T15:59:56.918094Z",
     "start_time": "2023-12-09T15:59:56.913156Z"
    }
   },
   "outputs": [
    {
     "name": "stdout",
     "output_type": "stream",
     "text": [
      "True\n"
     ]
    }
   ],
   "source": [
    "#103\n",
    "print(3 < 5)\n",
    "#True"
   ]
  },
  {
   "cell_type": "code",
   "execution_count": 4,
   "id": "5932b7cb",
   "metadata": {
    "ExecuteTime": {
     "end_time": "2023-12-09T16:00:11.274276Z",
     "start_time": "2023-12-09T16:00:11.270260Z"
    }
   },
   "outputs": [
    {
     "name": "stdout",
     "output_type": "stream",
     "text": [
      "True\n"
     ]
    }
   ],
   "source": [
    "#104\n",
    "x = 4\n",
    "print(1 < x < 5)\n",
    "#True"
   ]
  },
  {
   "cell_type": "code",
   "execution_count": 5,
   "id": "42dd5035",
   "metadata": {
    "ExecuteTime": {
     "end_time": "2023-12-09T16:00:24.749484Z",
     "start_time": "2023-12-09T16:00:24.745214Z"
    }
   },
   "outputs": [
    {
     "name": "stdout",
     "output_type": "stream",
     "text": [
      "True\n"
     ]
    }
   ],
   "source": [
    "#105\n",
    "print ((3 == 3) and (4 != 3))\n",
    "#True"
   ]
  },
  {
   "cell_type": "code",
   "execution_count": 6,
   "id": "ed6036a4",
   "metadata": {
    "ExecuteTime": {
     "end_time": "2023-12-09T16:01:20.098476Z",
     "start_time": "2023-12-09T16:01:20.092090Z"
    }
   },
   "outputs": [
    {
     "ename": "SyntaxError",
     "evalue": "expression cannot contain assignment, perhaps you meant \"==\"? (4113284830.py, line 2)",
     "output_type": "error",
     "traceback": [
      "\u001b[1;36m  Cell \u001b[1;32mIn[6], line 2\u001b[1;36m\u001b[0m\n\u001b[1;33m    print(3 => 4)\u001b[0m\n\u001b[1;37m          ^\u001b[0m\n\u001b[1;31mSyntaxError\u001b[0m\u001b[1;31m:\u001b[0m expression cannot contain assignment, perhaps you meant \"==\"?\n"
     ]
    }
   ],
   "source": [
    "#106\n",
    "print(3 => 4)\n",
    "#수식이 이상함 (지원하지 않는 연산자)"
   ]
  },
  {
   "cell_type": "code",
   "execution_count": 7,
   "id": "9cbe0872",
   "metadata": {
    "ExecuteTime": {
     "end_time": "2023-12-09T16:01:47.037427Z",
     "start_time": "2023-12-09T16:01:47.033162Z"
    }
   },
   "outputs": [],
   "source": [
    "#107\n",
    "if 4 < 3:\n",
    "    print(\"Hello World\")\n",
    "#False 이므로 실행안함"
   ]
  },
  {
   "cell_type": "code",
   "execution_count": 8,
   "id": "4ad133b0",
   "metadata": {
    "ExecuteTime": {
     "end_time": "2023-12-09T16:02:14.694259Z",
     "start_time": "2023-12-09T16:02:14.691174Z"
    }
   },
   "outputs": [
    {
     "name": "stdout",
     "output_type": "stream",
     "text": [
      "Hi, there.\n"
     ]
    }
   ],
   "source": [
    "#108\n",
    "if 4 < 3:\n",
    "    print(\"Hello World.\")\n",
    "else:\n",
    "    print(\"Hi, there.\")\n",
    "#Hi, there."
   ]
  },
  {
   "cell_type": "code",
   "execution_count": 9,
   "id": "4ea08da8",
   "metadata": {
    "ExecuteTime": {
     "end_time": "2023-12-09T16:02:41.446307Z",
     "start_time": "2023-12-09T16:02:41.442215Z"
    }
   },
   "outputs": [
    {
     "name": "stdout",
     "output_type": "stream",
     "text": [
      "1\n",
      "2\n",
      "4\n"
     ]
    }
   ],
   "source": [
    "#109 틀렸당\n",
    "if True :\n",
    "    print (\"1\")\n",
    "    print (\"2\")\n",
    "else :\n",
    "    print(\"3\")\n",
    "print(\"4\")\n",
    "#3"
   ]
  },
  {
   "cell_type": "code",
   "execution_count": 10,
   "id": "08e9e2c8",
   "metadata": {
    "ExecuteTime": {
     "end_time": "2023-12-09T16:04:34.541166Z",
     "start_time": "2023-12-09T16:04:34.535361Z"
    }
   },
   "outputs": [
    {
     "name": "stdout",
     "output_type": "stream",
     "text": [
      "3\n",
      "5\n"
     ]
    }
   ],
   "source": [
    "#110\n",
    "if True :\n",
    "    if False:\n",
    "        print(\"1\")\n",
    "        print(\"2\")\n",
    "    else:\n",
    "        print(\"3\")\n",
    "else :\n",
    "    print(\"4\")\n",
    "print(\"5\")\n",
    "#3 5"
   ]
  },
  {
   "cell_type": "code",
   "execution_count": 12,
   "id": "4ae70494",
   "metadata": {
    "ExecuteTime": {
     "end_time": "2023-12-09T16:05:43.809400Z",
     "start_time": "2023-12-09T16:05:38.532207Z"
    },
    "scrolled": false
   },
   "outputs": [
    {
     "name": "stdout",
     "output_type": "stream",
     "text": [
      "안녕하세요\n",
      "안녕하세요안녕하세요\n"
     ]
    }
   ],
   "source": [
    "#111\n",
    "print(input()*2)"
   ]
  },
  {
   "cell_type": "code",
   "execution_count": 14,
   "id": "efd02013",
   "metadata": {
    "ExecuteTime": {
     "end_time": "2023-12-09T16:06:53.419605Z",
     "start_time": "2023-12-09T16:06:52.088875Z"
    }
   },
   "outputs": [
    {
     "name": "stdout",
     "output_type": "stream",
     "text": [
      "숫자를 입력하세요: 40\n",
      "50\n"
     ]
    }
   ],
   "source": [
    "#112\n",
    "user = input(\"숫자를 입력하세요: \")\n",
    "print(int(user) + 10)"
   ]
  },
  {
   "cell_type": "code",
   "execution_count": 27,
   "id": "dea88168",
   "metadata": {
    "ExecuteTime": {
     "end_time": "2023-12-09T16:12:33.390749Z",
     "start_time": "2023-12-09T16:12:32.199264Z"
    }
   },
   "outputs": [
    {
     "name": "stdout",
     "output_type": "stream",
     "text": [
      "숫자를 입력하세요: 35\n",
      "짝수\n"
     ]
    }
   ],
   "source": [
    "#113\n",
    "user = input(\"숫자를 입력하세요: \")\n",
    "if True:\n",
    "    int(user)//2 == 0\n",
    "    print(\"짝수\")\n",
    "else :\n",
    "    int(user)//2 == 1\n",
    "    print(\"홀수\")"
   ]
  },
  {
   "cell_type": "code",
   "execution_count": 28,
   "id": "2028e118",
   "metadata": {
    "ExecuteTime": {
     "end_time": "2023-12-09T16:13:05.883469Z",
     "start_time": "2023-12-09T16:13:05.033440Z"
    }
   },
   "outputs": [
    {
     "name": "stdout",
     "output_type": "stream",
     "text": [
      "35\n",
      "홀수\n"
     ]
    }
   ],
   "source": [
    "#113 정답확인\n",
    "user = input(\"\")\n",
    "if int(user) % 2 == 0:\n",
    "    print(\"짝수\")\n",
    "else:\n",
    "    print(\"홀수\")\n",
    "# 몫 //\n",
    "# 나머지 %"
   ]
  },
  {
   "cell_type": "code",
   "execution_count": 44,
   "id": "1d75a970",
   "metadata": {
    "ExecuteTime": {
     "end_time": "2023-12-09T16:24:28.354587Z",
     "start_time": "2023-12-09T16:24:25.499411Z"
    }
   },
   "outputs": [
    {
     "name": "stdout",
     "output_type": "stream",
     "text": [
      "입력값 :240\n",
      "255\n"
     ]
    }
   ],
   "source": [
    "#114 #내가해냄\n",
    "user = input(\"입력값 :\")\n",
    "if (int(user)+20) < 255 :\n",
    "    print(int(user)+20)\n",
    "else :\n",
    "    a > 255\n",
    "    print(255)"
   ]
  },
  {
   "cell_type": "code",
   "execution_count": 45,
   "id": "7a0dcb78",
   "metadata": {
    "ExecuteTime": {
     "end_time": "2023-12-09T16:25:34.418232Z",
     "start_time": "2023-12-09T16:25:23.779591Z"
    },
    "scrolled": true
   },
   "outputs": [
    {
     "name": "stdout",
     "output_type": "stream",
     "text": [
      "입력값: 220\n",
      "240\n"
     ]
    }
   ],
   "source": [
    "#114 정답확인\n",
    "user = input(\"입력값: \")\n",
    "num = 20 + int(user)\n",
    "if num > 255:\n",
    "    print(255)\n",
    "else:\n",
    "    print(num)"
   ]
  },
  {
   "cell_type": "code",
   "execution_count": 49,
   "id": "9513fb1c",
   "metadata": {
    "ExecuteTime": {
     "end_time": "2023-12-09T16:28:16.978307Z",
     "start_time": "2023-12-09T16:28:12.297117Z"
    }
   },
   "outputs": [
    {
     "name": "stdout",
     "output_type": "stream",
     "text": [
      "입력값: 280\n",
      "255\n"
     ]
    }
   ],
   "source": [
    "#115\n",
    "user = input(\"입력값: \")\n",
    "num = int(user)-20\n",
    "if 0 < num < 255 :\n",
    "    print(num)\n",
    "elif num < 0 :\n",
    "    print(0)\n",
    "else :\n",
    "    num > 255\n",
    "    print(255)"
   ]
  },
  {
   "cell_type": "code",
   "execution_count": 52,
   "id": "584377c6",
   "metadata": {
    "ExecuteTime": {
     "end_time": "2023-12-09T16:33:53.766930Z",
     "start_time": "2023-12-09T16:33:47.492718Z"
    }
   },
   "outputs": [
    {
     "name": "stdout",
     "output_type": "stream",
     "text": [
      "현재시간:04:56\n",
      "정각이 아닙니다.\n"
     ]
    }
   ],
   "source": [
    "#116\n",
    "user = input(\"현재시간:\")\n",
    "if user[-2:] == '00' :\n",
    "    print(\"정각 입니다.\")\n",
    "else :\n",
    "    print(\"정각이 아닙니다.\")"
   ]
  },
  {
   "cell_type": "code",
   "execution_count": 54,
   "id": "95762581",
   "metadata": {
    "ExecuteTime": {
     "end_time": "2023-12-09T16:35:33.355290Z",
     "start_time": "2023-12-09T16:35:32.067197Z"
    }
   },
   "outputs": [
    {
     "name": "stdout",
     "output_type": "stream",
     "text": [
      "좋아하는 과일은? : 사과\n",
      "정답입니다.\n"
     ]
    }
   ],
   "source": [
    "#117 #내가해냄\n",
    "fruit = [\"사과\", \"포도\", \"홍시\"]\n",
    "user = input(\"좋아하는 과일은? : \")\n",
    "if user in fruit:\n",
    "    print(\"정답입니다.\")\n",
    "else:\n",
    "    print(\"오답입니다.\")"
   ]
  },
  {
   "cell_type": "code",
   "execution_count": 66,
   "id": "50e772d9",
   "metadata": {
    "ExecuteTime": {
     "end_time": "2023-12-09T16:39:53.364031Z",
     "start_time": "2023-12-09T16:39:51.620522Z"
    }
   },
   "outputs": [
    {
     "name": "stdout",
     "output_type": "stream",
     "text": [
      "종목명 : Google\n",
      "투자 경고 종목입니다.\n"
     ]
    }
   ],
   "source": [
    "#118\n",
    "warn_investment_list = [\"Microsoft\", \"Google\", \"Naver\", \"Kakao\", \"SAMSUNG\", \"LG\"]\n",
    "user = input(\"종목명 : \")\n",
    "if user in warn_investment_list :\n",
    "    print(\"투자 경고 종목입니다.\")\n",
    "else :\n",
    "    print(\"투자 경고 종목이 아닙니다.\")"
   ]
  },
  {
   "cell_type": "code",
   "execution_count": 74,
   "id": "893f4263",
   "metadata": {
    "ExecuteTime": {
     "end_time": "2023-12-09T16:42:12.549325Z",
     "start_time": "2023-12-09T16:42:11.864353Z"
    }
   },
   "outputs": [
    {
     "name": "stdout",
     "output_type": "stream",
     "text": [
      "제가 좋아하는 계절은 : 사과\n",
      "오답입니다.\n"
     ]
    }
   ],
   "source": [
    "#119\n",
    "fruit = {\"봄\" : \"딸기\", \"여름\" : \"토마토\", \"가을\" : \"사과\"}\n",
    "user = input(\"제가 좋아하는 계절은 : \")\n",
    "if user in fruit.keys():\n",
    "    print(\"정답입니다.\")\n",
    "else :\n",
    "    print(\"오답입니다.\")"
   ]
  },
  {
   "cell_type": "code",
   "execution_count": 76,
   "id": "b6d6b858",
   "metadata": {
    "ExecuteTime": {
     "end_time": "2023-12-09T16:45:03.975502Z",
     "start_time": "2023-12-09T16:45:02.731047Z"
    }
   },
   "outputs": [
    {
     "name": "stdout",
     "output_type": "stream",
     "text": [
      "좋아하는 과일은? : 딸기\n",
      "정답입니다.\n"
     ]
    }
   ],
   "source": [
    "#120\n",
    "fruit = {\"봄\" : \"딸기\", \"여름\" : \"토마토\", \"가을\" : \"사과\"}\n",
    "user = input(\"좋아하는 과일은? : \")\n",
    "if user in fruit.values():\n",
    "    print(\"정답입니다.\")\n",
    "else :\n",
    "    print(\"오답입니다.\")"
   ]
  },
  {
   "cell_type": "code",
   "execution_count": 96,
   "id": "5e021dc9",
   "metadata": {
    "ExecuteTime": {
     "end_time": "2023-12-09T17:02:16.577362Z",
     "start_time": "2023-12-09T17:02:15.019024Z"
    }
   },
   "outputs": [
    {
     "name": "stdout",
     "output_type": "stream",
     "text": [
      "알파벳을 입력하세요 : d\n",
      "<built-in method upper of str object at 0x00007FFDE89D47A8>\n"
     ]
    }
   ],
   "source": [
    "#121\n",
    "user = input(\"알파벳을 입력하세요 : \")\n",
    "if user.islower() :\n",
    "    a = user.upper\n",
    "    print(a)\n",
    "else:\n",
    "    user.isupper\n",
    "    print(lower(user))"
   ]
  },
  {
   "cell_type": "code",
   "execution_count": 98,
   "id": "23645fa6",
   "metadata": {
    "ExecuteTime": {
     "end_time": "2023-12-09T17:03:27.157079Z",
     "start_time": "2023-12-09T17:03:25.010115Z"
    }
   },
   "outputs": [
    {
     "name": "stdout",
     "output_type": "stream",
     "text": [
      "d\n",
      "D\n"
     ]
    }
   ],
   "source": [
    "#121 정답확인\n",
    "user = input(\"\")\n",
    "if user.islower():\n",
    "    print(user.upper())\n",
    "else:\n",
    "    print(user.lower())"
   ]
  },
  {
   "cell_type": "code",
   "execution_count": 102,
   "id": "74682d0b",
   "metadata": {
    "ExecuteTime": {
     "end_time": "2023-12-09T17:13:40.217791Z",
     "start_time": "2023-12-09T17:13:09.559387Z"
    }
   },
   "outputs": [
    {
     "name": "stdout",
     "output_type": "stream",
     "text": [
      "score: 34\n",
      "grade is D\n"
     ]
    }
   ],
   "source": [
    "#122\n",
    "score = input(\"score: \")\n",
    "a = int(score)\n",
    "if 81 <= a <= 100 :\n",
    "    print(\"grade is A\")\n",
    "elif 61 <= a <= 80 :\n",
    "    print(\"grade is B\")\n",
    "elif 41 <= a <= 60 :\n",
    "    print(\"grade is C\")\n",
    "elif 21 <= a <= 40 :\n",
    "    print(\"grade is D\")\n",
    "else:\n",
    "    print(\"grade is E\")"
   ]
  },
  {
   "cell_type": "code",
   "execution_count": 120,
   "id": "cce566cd",
   "metadata": {
    "ExecuteTime": {
     "end_time": "2023-12-09T17:41:30.453719Z",
     "start_time": "2023-12-09T17:41:28.851553Z"
    },
    "scrolled": true
   },
   "outputs": [
    {
     "name": "stdout",
     "output_type": "stream",
     "text": [
      "입력 :100 엔\n",
      "109.60원"
     ]
    }
   ],
   "source": [
    "#123\n",
    "user = input(\"입력 :\")\n",
    "inputval = user.split()\n",
    "amount, currency = inputval\n",
    "if currency == '달러':\n",
    "    print(float(amount)*1167, end=\"원\")\n",
    "elif currency == '엔':\n",
    "    print('%0.2f'% (float(amount)*1.096), end=\"원\")\n",
    "elif currency == '유로':\n",
    "    print(float(amount)*1268, end=\"원\")\n",
    "else :\n",
    "    print(float(amount)*171, end=\"원\")"
   ]
  },
  {
   "cell_type": "code",
   "execution_count": 122,
   "id": "49614d2a",
   "metadata": {
    "ExecuteTime": {
     "end_time": "2023-12-09T17:43:28.779743Z",
     "start_time": "2023-12-09T17:43:23.777354Z"
    }
   },
   "outputs": [
    {
     "name": "stdout",
     "output_type": "stream",
     "text": [
      "number1 :50\n",
      "number2 :30\n",
      "number3 :20\n",
      "50\n"
     ]
    }
   ],
   "source": [
    "#124\n",
    "user1 = input(\"number1 :\")\n",
    "user2 = input(\"number2 :\")\n",
    "user3 = input(\"number3 :\")\n",
    "print(max(user1, user2, user3))"
   ]
  },
  {
   "cell_type": "code",
   "execution_count": 124,
   "id": "4ffd377c",
   "metadata": {
    "ExecuteTime": {
     "end_time": "2023-12-09T17:46:38.023046Z",
     "start_time": "2023-12-09T17:46:32.628185Z"
    }
   },
   "outputs": [
    {
     "name": "stdout",
     "output_type": "stream",
     "text": [
      "휴대전화 번호 입력: 011-3333-4444\n",
      "당신은 SKT 사용자입니다.\n"
     ]
    }
   ],
   "source": [
    "#125\n",
    "user = input(\"휴대전화 번호 입력: \")\n",
    "if user[:3] == '011' :\n",
    "    print(\"당신은 SKT 사용자입니다.\")\n",
    "elif user[:3] == '016' :\n",
    "    print(\"당신은 KT 사용자입니다.\")\n",
    "elif user[:3] == '019' :\n",
    "    print(\"당신은 LGU+ 사용자입니다.\")\n",
    "else :\n",
    "    print(\"통신사를 알수 없습니다.\")"
   ]
  },
  {
   "cell_type": "code",
   "execution_count": null,
   "id": "29b01d13",
   "metadata": {},
   "outputs": [],
   "source": [
    "#125 정답확인\n",
    "number = input(\"휴대전화 번호 입력: \")\n",
    "num = number.split(\"-\")[0]\n",
    "if num == \"011\":\n",
    "    com = \"SKT\"\n",
    "elif num == \"016\":\n",
    "    com = \"KT\"\n",
    "elif num == \"019\":\n",
    "    com = \"LGU\"\n",
    "else:\n",
    "    com = \"알수없음\"\n",
    "print(f\"당신은 {com} 사용자입니다.\")"
   ]
  },
  {
   "cell_type": "code",
   "execution_count": 143,
   "id": "a535acfc",
   "metadata": {
    "ExecuteTime": {
     "end_time": "2023-12-09T17:58:10.816712Z",
     "start_time": "2023-12-09T17:58:08.614400Z"
    },
    "scrolled": true
   },
   "outputs": [
    {
     "name": "stdout",
     "output_type": "stream",
     "text": [
      "우편번호 5자리를 입력하세요: 01709\n",
      "노원구\n"
     ]
    }
   ],
   "source": [
    "#126\n",
    "user = input(\"우편번호 5자리를 입력하세요: \")\n",
    "a = list(user)\n",
    "if a[2] in ('0','1','2'):\n",
    "    print(\"강북구\")\n",
    "elif a[2] in ('3','4','5'):\n",
    "    print(\"도봉구\")\n",
    "else :\n",
    "    print(\"노원구\")"
   ]
  },
  {
   "cell_type": "code",
   "execution_count": 172,
   "id": "5e2855d7",
   "metadata": {
    "ExecuteTime": {
     "end_time": "2023-12-09T18:14:17.703099Z",
     "start_time": "2023-12-09T18:14:10.589752Z"
    },
    "scrolled": false
   },
   "outputs": [
    {
     "name": "stdout",
     "output_type": "stream",
     "text": [
      "주민등록번호를 입력하세요: 821010-2635210\n",
      "남자\n"
     ]
    }
   ],
   "source": [
    "#127\n",
    "user = input(\"주민등록번호를 입력하세요: \")\n",
    "a = user.split(\"-\") #'123456', '1234567'\n",
    "b = a[1][0]\n",
    "if b == '1' or '3':\n",
    "    print(\"남자\")\n",
    "else :\n",
    "    print(\"여자\")"
   ]
  },
  {
   "cell_type": "code",
   "execution_count": null,
   "id": "8c53d815",
   "metadata": {},
   "outputs": [],
   "source": [
    "#127 정답확인\n",
    "주민번호 = input(\"주민등록번호: \")\n",
    "주민번호 = 주민번호.split(\"-\")[1]\n",
    "if 주민번호[0] == \"1\" or 주민번호[0] == \"3\":\n",
    "    print(\"남자\")\n",
    "else:\n",
    "    print(\"여자\")"
   ]
  },
  {
   "cell_type": "code",
   "execution_count": 181,
   "id": "675907c2",
   "metadata": {
    "ExecuteTime": {
     "end_time": "2023-12-09T18:23:46.552351Z",
     "start_time": "2023-12-09T18:23:42.417202Z"
    }
   },
   "outputs": [
    {
     "name": "stdout",
     "output_type": "stream",
     "text": [
      "주민등록번호: 861010-1055210\n",
      "서울 입니다.\n"
     ]
    }
   ],
   "source": [
    "#128\n",
    "user = input(\"주민등록번호: \") #'123456', '1234567'\n",
    "num = user.split(\"-\")[1][1:3]#'1234567'\n",
    "if num in (\"00\",\"01\",\"02\",\"03\",\"04\",\"05\",\"06\",\"07\",\"08\"):\n",
    "    print(\"서울 입니다.\")\n",
    "else :\n",
    "    print(\"서울이 아닙니다.\")"
   ]
  },
  {
   "cell_type": "code",
   "execution_count": null,
   "id": "d03d53f9",
   "metadata": {},
   "outputs": [],
   "source": [
    "#128 정답확인\n",
    "주민번호 = input(\"주민등록번호: \")\n",
    "뒷자리 = 주민번호.split(\"-\")[1]\n",
    "if 0 <= int(뒷자리[1:3]) <= 8:\n",
    "    print(\"서울입니다.\")\n",
    "else:\n",
    "    print(\"서울이 아닙니다.\")"
   ]
  },
  {
   "cell_type": "code",
   "execution_count": 198,
   "id": "8578e841",
   "metadata": {
    "ExecuteTime": {
     "end_time": "2023-12-10T01:33:55.910003Z",
     "start_time": "2023-12-10T01:33:54.085119Z"
    },
    "scrolled": true
   },
   "outputs": [
    {
     "name": "stdout",
     "output_type": "stream",
     "text": [
      "주민등록번호: 821010-1635210\n",
      "['821010', '1635210']\n",
      "['821010', '1635210']\n"
     ]
    }
   ],
   "source": [
    "#129\n",
    "주민번호 = input(\"주민등록번호: \")\n",
    "a = 주민번호.split(\"-\")\n",
    "b = list(a[::1])\n",
    "print(a)\n",
    "print(b)\n",
    "\n",
    "b = (a[0]*2)+(a[1]*3)+(a[2]*4)+(a[3]*5)+(a[4]*6)+(a[5]*7)+(a[6]*8)+(a[7]*9)+(a[8]*2)+(a[9]*3)+(a[10]*4)+(a[11]*5)\n",
    "\n",
    "print(b)"
   ]
  },
  {
   "cell_type": "code",
   "execution_count": 206,
   "id": "3a0f2ac6",
   "metadata": {
    "ExecuteTime": {
     "end_time": "2023-12-10T01:49:10.777746Z",
     "start_time": "2023-12-10T01:49:08.301001Z"
    }
   },
   "outputs": [
    {
     "name": "stdout",
     "output_type": "stream",
     "text": [
      "주민등록번호: 821010-1635214\n",
      "유효한 주민등록 번호입니다.\n"
     ]
    }
   ],
   "source": [
    "#129 답지 보고 다시 생각하며 풀어보기\n",
    "a = input(\"주민등록번호: \") #012345-7890123\n",
    "b = (int(a[0])*2)+(int(a[1])*3)+(int(a[2])*4)+(int(a[3])*5)+(int(a[4])*6)+(int(a[5])*7)+(int(a[7])*8)+(int(a[8])*9)+(int(a[9])*2)+(int(a[10])*3)+(int(a[11])*4)+(int(a[12])*5)\n",
    "c = 11 - (b % 11)\n",
    "\n",
    "if int(a[-1]) == c:\n",
    "    print(\"유효한 주민등록 번호입니다.\")\n",
    "else :\n",
    "    print(\"유효하지 않은 주민등록번호입니다.\")\n",
    "# 나눗셈 /\n",
    "# 나머지 %\n",
    "# 몫 //"
   ]
  },
  {
   "cell_type": "code",
   "execution_count": 207,
   "id": "8a950498",
   "metadata": {
    "ExecuteTime": {
     "end_time": "2023-12-10T01:53:11.430351Z",
     "start_time": "2023-12-10T01:53:10.739781Z"
    }
   },
   "outputs": [
    {
     "ename": "NameError",
     "evalue": "name 'max_price' is not defined",
     "output_type": "error",
     "traceback": [
      "\u001b[1;31m---------------------------------------------------------------------------\u001b[0m",
      "\u001b[1;31mNameError\u001b[0m                                 Traceback (most recent call last)",
      "Cell \u001b[1;32mIn[207], line 4\u001b[0m\n\u001b[0;32m      2\u001b[0m \u001b[38;5;28;01mimport\u001b[39;00m \u001b[38;5;21;01mrequests\u001b[39;00m\n\u001b[0;32m      3\u001b[0m btc \u001b[38;5;241m=\u001b[39m requests\u001b[38;5;241m.\u001b[39mget(\u001b[38;5;124m\"\u001b[39m\u001b[38;5;124mhttps://api.bithumb.com/public/ticker/\u001b[39m\u001b[38;5;124m\"\u001b[39m)\u001b[38;5;241m.\u001b[39mjson()[\u001b[38;5;124m'\u001b[39m\u001b[38;5;124mdata\u001b[39m\u001b[38;5;124m'\u001b[39m]\n\u001b[1;32m----> 4\u001b[0m 변동폭 \u001b[38;5;241m=\u001b[39m max_price \u001b[38;5;241m-\u001b[39m min_price\n\u001b[0;32m      5\u001b[0m \u001b[38;5;28;01mif\u001b[39;00m max_price \u001b[38;5;241m>\u001b[39m (opening_price\u001b[38;5;241m+\u001b[39m변동폭) :\n\u001b[0;32m      6\u001b[0m     \u001b[38;5;28mprint\u001b[39m(\u001b[38;5;124m\"\u001b[39m\u001b[38;5;124m상승장\u001b[39m\u001b[38;5;124m\"\u001b[39m)\n",
      "\u001b[1;31mNameError\u001b[0m: name 'max_price' is not defined"
     ]
    }
   ],
   "source": [
    "#130\n",
    "import requests\n",
    "btc = requests.get(\"https://api.bithumb.com/public/ticker/\").json()['data']\n",
    "변동폭 = max_price - min_price\n",
    "if max_price > (opening_price+변동폭) :\n",
    "    print(\"상승장\")\n",
    "else :\n",
    "    print(\"하락장\")"
   ]
  },
  {
   "cell_type": "code",
   "execution_count": 213,
   "id": "36716b7d",
   "metadata": {
    "ExecuteTime": {
     "end_time": "2023-12-10T02:00:10.883746Z",
     "start_time": "2023-12-10T02:00:10.374631Z"
    }
   },
   "outputs": [
    {
     "name": "stdout",
     "output_type": "stream",
     "text": [
      "상승장\n"
     ]
    }
   ],
   "source": [
    "#130 정답보고 다시풀기\n",
    "import requests\n",
    "btc = requests.get(\"https://api.bithumb.com/public/ticker/\").json()['data']\n",
    "\n",
    "변동폭 = float(btc['max_price']) - float(btc['min_price'])\n",
    "시가 = float(btc['opening_price'])\n",
    "최고가 = float(btc['max_price'])\n",
    "\n",
    "if (시가+변동폭) > 최고가 :\n",
    "    print(\"상승장\")\n",
    "else : \n",
    "    print(\"하락장\")"
   ]
  }
 ],
 "metadata": {
  "kernelspec": {
   "display_name": "Python 3 (ipykernel)",
   "language": "python",
   "name": "python3"
  },
  "language_info": {
   "codemirror_mode": {
    "name": "ipython",
    "version": 3
   },
   "file_extension": ".py",
   "mimetype": "text/x-python",
   "name": "python",
   "nbconvert_exporter": "python",
   "pygments_lexer": "ipython3",
   "version": "3.11.5"
  },
  "toc": {
   "base_numbering": 1,
   "nav_menu": {},
   "number_sections": true,
   "sideBar": true,
   "skip_h1_title": false,
   "title_cell": "Table of Contents",
   "title_sidebar": "Contents",
   "toc_cell": false,
   "toc_position": {},
   "toc_section_display": true,
   "toc_window_display": false
  }
 },
 "nbformat": 4,
 "nbformat_minor": 5
}
