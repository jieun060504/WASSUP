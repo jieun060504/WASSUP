{
 "cells": [
  {
   "cell_type": "code",
   "execution_count": 1,
   "id": "020ba173",
   "metadata": {
    "ExecuteTime": {
     "end_time": "2023-12-05T04:15:34.256962Z",
     "start_time": "2023-12-05T04:15:34.249665Z"
    }
   },
   "outputs": [],
   "source": [
    "#클래스 상속\n",
    "#기능을 물려받은 새로운 클래스를 만들 수 있는 것"
   ]
  },
  {
   "cell_type": "code",
   "execution_count": 2,
   "id": "bb4eb7d4",
   "metadata": {
    "ExecuteTime": {
     "end_time": "2023-12-05T04:19:36.850032Z",
     "start_time": "2023-12-05T04:19:35.043674Z"
    }
   },
   "outputs": [
    {
     "ename": "NameError",
     "evalue": "name 'FourCal' is not defined",
     "output_type": "error",
     "traceback": [
      "\u001b[1;31m---------------------------------------------------------------------------\u001b[0m",
      "\u001b[1;31mNameError\u001b[0m                                 Traceback (most recent call last)",
      "Cell \u001b[1;32mIn[2], line 1\u001b[0m\n\u001b[1;32m----> 1\u001b[0m \u001b[38;5;28;01mclass\u001b[39;00m \u001b[38;5;21;01mMoreFourCal\u001b[39;00m(FourCal):\n\u001b[0;32m      2\u001b[0m     \u001b[38;5;28;01mpass\u001b[39;00m\n",
      "\u001b[1;31mNameError\u001b[0m: name 'FourCal' is not defined"
     ]
    }
   ],
   "source": [
    "class MoreFourCal(FourCal):\n",
    "    pass"
   ]
  },
  {
   "cell_type": "code",
   "execution_count": 3,
   "id": "30f8c73f",
   "metadata": {
    "ExecuteTime": {
     "end_time": "2023-12-05T04:20:59.833927Z",
     "start_time": "2023-12-05T04:20:59.776135Z"
    }
   },
   "outputs": [
    {
     "ename": "NameError",
     "evalue": "name 'FourCal' is not defined",
     "output_type": "error",
     "traceback": [
      "\u001b[1;31m---------------------------------------------------------------------------\u001b[0m",
      "\u001b[1;31mNameError\u001b[0m                                 Traceback (most recent call last)",
      "Cell \u001b[1;32mIn[3], line 1\u001b[0m\n\u001b[1;32m----> 1\u001b[0m \u001b[38;5;28;01mclass\u001b[39;00m \u001b[38;5;21;01mMoreFourCal\u001b[39;00m(FourCal):\n\u001b[0;32m      2\u001b[0m     \u001b[38;5;28;01mdef\u001b[39;00m \u001b[38;5;21mpow\u001b[39m(\u001b[38;5;28mself\u001b[39m):\n\u001b[0;32m      3\u001b[0m         result \u001b[38;5;241m=\u001b[39m \u001b[38;5;28mself\u001b[39m\u001b[38;5;241m.\u001b[39mfirst \u001b[38;5;241m*\u001b[39m\u001b[38;5;241m*\u001b[39m \u001b[38;5;28mself\u001b[39m\u001b[38;5;241m.\u001b[39msecond\n",
      "\u001b[1;31mNameError\u001b[0m: name 'FourCal' is not defined"
     ]
    }
   ],
   "source": [
    "class MoreFourCal(FourCal):\n",
    "    def pow(self):\n",
    "        result = self.first ** self.second\n",
    "        return result"
   ]
  },
  {
   "cell_type": "code",
   "execution_count": null,
   "id": "f001b88c",
   "metadata": {},
   "outputs": [],
   "source": [
    "#메서드 오버라이딩\n",
    "class SafeFourCal(FourCal):\n",
    "    def div(self):\n",
    "        if self.second == 0\n",
    "            return 0\n",
    "        else :\n",
    "            return self.first / self.second"
   ]
  },
  {
   "cell_type": "code",
   "execution_count": 4,
   "id": "7920db23",
   "metadata": {
    "ExecuteTime": {
     "end_time": "2023-12-05T04:37:21.605751Z",
     "start_time": "2023-12-05T04:37:21.588831Z"
    }
   },
   "outputs": [
    {
     "data": {
      "text/plain": [
       "'김'"
      ]
     },
     "execution_count": 4,
     "metadata": {},
     "output_type": "execute_result"
    }
   ],
   "source": [
    "#클래스 변수\n",
    "#클래스 안에서만 사용되는 변수. '지역변수'\n",
    "#클래스 변수는 클래스로 만든 모든 객체에 공유됨\n",
    "class Family:\n",
    "    lastname = \"김\"\n",
    "Family.lastname"
   ]
  },
  {
   "cell_type": "code",
   "execution_count": 5,
   "id": "eae3d92a",
   "metadata": {
    "ExecuteTime": {
     "end_time": "2023-12-05T04:37:36.318690Z",
     "start_time": "2023-12-05T04:37:36.307356Z"
    }
   },
   "outputs": [
    {
     "data": {
      "text/plain": [
       "'김'"
      ]
     },
     "execution_count": 5,
     "metadata": {},
     "output_type": "execute_result"
    }
   ],
   "source": [
    "a = Family()\n",
    "b = Family()\n",
    "a.lastname"
   ]
  },
  {
   "cell_type": "code",
   "execution_count": 6,
   "id": "0d1687f8",
   "metadata": {
    "ExecuteTime": {
     "end_time": "2023-12-05T04:37:40.079391Z",
     "start_time": "2023-12-05T04:37:40.068323Z"
    }
   },
   "outputs": [
    {
     "data": {
      "text/plain": [
       "'김'"
      ]
     },
     "execution_count": 6,
     "metadata": {},
     "output_type": "execute_result"
    }
   ],
   "source": [
    "b.lastname"
   ]
  },
  {
   "cell_type": "code",
   "execution_count": 7,
   "id": "3f10f635",
   "metadata": {
    "ExecuteTime": {
     "end_time": "2023-12-05T04:37:56.071525Z",
     "start_time": "2023-12-05T04:37:56.064002Z"
    }
   },
   "outputs": [
    {
     "data": {
      "text/plain": [
       "'박'"
      ]
     },
     "execution_count": 7,
     "metadata": {},
     "output_type": "execute_result"
    }
   ],
   "source": [
    "Family.lastname=\"박\"\n",
    "a.lastname"
   ]
  },
  {
   "cell_type": "code",
   "execution_count": 8,
   "id": "bbc3e35b",
   "metadata": {
    "ExecuteTime": {
     "end_time": "2023-12-05T04:37:59.267303Z",
     "start_time": "2023-12-05T04:37:59.258273Z"
    }
   },
   "outputs": [
    {
     "data": {
      "text/plain": [
       "'박'"
      ]
     },
     "execution_count": 8,
     "metadata": {},
     "output_type": "execute_result"
    }
   ],
   "source": [
    "b.lastname"
   ]
  },
  {
   "cell_type": "code",
   "execution_count": 9,
   "id": "268d7dbb",
   "metadata": {
    "ExecuteTime": {
     "end_time": "2023-12-05T04:38:19.158658Z",
     "start_time": "2023-12-05T04:38:19.148971Z"
    }
   },
   "outputs": [
    {
     "data": {
      "text/plain": [
       "'최'"
      ]
     },
     "execution_count": 9,
     "metadata": {},
     "output_type": "execute_result"
    }
   ],
   "source": [
    "a.lastname = \"최\"\n",
    "a.lastname"
   ]
  },
  {
   "cell_type": "code",
   "execution_count": 10,
   "id": "4998277b",
   "metadata": {
    "ExecuteTime": {
     "end_time": "2023-12-05T04:38:27.484882Z",
     "start_time": "2023-12-05T04:38:27.473354Z"
    }
   },
   "outputs": [
    {
     "data": {
      "text/plain": [
       "'박'"
      ]
     },
     "execution_count": 10,
     "metadata": {},
     "output_type": "execute_result"
    }
   ],
   "source": [
    "Family.lastname"
   ]
  },
  {
   "cell_type": "code",
   "execution_count": 11,
   "id": "57873353",
   "metadata": {
    "ExecuteTime": {
     "end_time": "2023-12-05T04:38:32.612036Z",
     "start_time": "2023-12-05T04:38:32.603358Z"
    }
   },
   "outputs": [
    {
     "data": {
      "text/plain": [
       "'박'"
      ]
     },
     "execution_count": 11,
     "metadata": {},
     "output_type": "execute_result"
    }
   ],
   "source": [
    "b.lastname"
   ]
  },
  {
   "cell_type": "code",
   "execution_count": 12,
   "id": "5043601f",
   "metadata": {
    "ExecuteTime": {
     "end_time": "2023-12-05T04:46:01.364324Z",
     "start_time": "2023-12-05T04:46:01.356367Z"
    }
   },
   "outputs": [],
   "source": [
    "#예외처리\n",
    "#하드웨어, 퍼포먼스, 운영체제, 통신 오류가 있을 수 있음.\n",
    "#케이스가 나올 확률이 높은 오류인가?"
   ]
  },
  {
   "cell_type": "code",
   "execution_count": 13,
   "id": "edf42abe",
   "metadata": {
    "ExecuteTime": {
     "end_time": "2023-12-05T04:48:44.449129Z",
     "start_time": "2023-12-05T04:48:44.443548Z"
    }
   },
   "outputs": [],
   "source": [
    "#try-except문\n",
    "#오류 발생 가능성 있는 코드 넣기\n",
    "#오류가 발생할 가능성이 있을때 ~~게 처리해줘"
   ]
  },
  {
   "cell_type": "code",
   "execution_count": 14,
   "id": "53b1491d",
   "metadata": {
    "ExecuteTime": {
     "end_time": "2023-12-05T04:49:41.848675Z",
     "start_time": "2023-12-05T04:49:41.839636Z"
    }
   },
   "outputs": [
    {
     "name": "stdout",
     "output_type": "stream",
     "text": [
      "오류발생\n"
     ]
    }
   ],
   "source": [
    "try :\n",
    "    4 / 0\n",
    "except:\n",
    "    print('오류발생')\n",
    "#프로그램 내부에서 사용하는 것. 터미널에서만 뿌려줌\n",
    "#바깥 사용자에겐 알 수 없음."
   ]
  },
  {
   "cell_type": "code",
   "execution_count": 15,
   "id": "f7f98507",
   "metadata": {
    "ExecuteTime": {
     "end_time": "2023-12-05T04:50:14.696219Z",
     "start_time": "2023-12-05T04:50:14.688805Z"
    }
   },
   "outputs": [
    {
     "name": "stdout",
     "output_type": "stream",
     "text": [
      "division by zero\n"
     ]
    }
   ],
   "source": [
    "try :\n",
    "    4/0\n",
    "except ZeroDivisionError as e :\n",
    "    print(e)\n",
    "#사용자에게 사용할 수 있음."
   ]
  },
  {
   "cell_type": "code",
   "execution_count": 17,
   "id": "cdd355a9",
   "metadata": {
    "ExecuteTime": {
     "end_time": "2023-12-05T05:02:37.431753Z",
     "start_time": "2023-12-05T05:02:37.424111Z"
    }
   },
   "outputs": [],
   "source": [
    "#try-finally문\n",
    "try:\n",
    "    f = open('foo.txt', 'w')\n",
    "finally:\n",
    "    f.close()"
   ]
  },
  {
   "cell_type": "code",
   "execution_count": 18,
   "id": "ec6adc5e",
   "metadata": {
    "ExecuteTime": {
     "end_time": "2023-12-05T05:05:13.044438Z",
     "start_time": "2023-12-05T05:05:12.954247Z"
    }
   },
   "outputs": [
    {
     "ename": "NameError",
     "evalue": "name 'indexError' is not defined",
     "output_type": "error",
     "traceback": [
      "\u001b[1;31m---------------------------------------------------------------------------\u001b[0m",
      "\u001b[1;31mIndexError\u001b[0m                                Traceback (most recent call last)",
      "Cell \u001b[1;32mIn[18], line 3\u001b[0m\n\u001b[0;32m      2\u001b[0m a \u001b[38;5;241m=\u001b[39m [\u001b[38;5;241m1\u001b[39m,\u001b[38;5;241m2\u001b[39m]\n\u001b[1;32m----> 3\u001b[0m \u001b[38;5;28mprint\u001b[39m(a[\u001b[38;5;241m3\u001b[39m])\n\u001b[0;32m      4\u001b[0m \u001b[38;5;241m4\u001b[39m\u001b[38;5;241m/\u001b[39m\u001b[38;5;241m0\u001b[39m\n",
      "\u001b[1;31mIndexError\u001b[0m: list index out of range",
      "\nDuring handling of the above exception, another exception occurred:\n",
      "\u001b[1;31mNameError\u001b[0m                                 Traceback (most recent call last)",
      "Cell \u001b[1;32mIn[18], line 7\u001b[0m\n\u001b[0;32m      5\u001b[0m \u001b[38;5;28;01mexcept\u001b[39;00m \u001b[38;5;167;01mZeroDivisionError\u001b[39;00m:\n\u001b[0;32m      6\u001b[0m     \u001b[38;5;28mprint\u001b[39m(\u001b[38;5;124m\"\u001b[39m\u001b[38;5;124m0으로 나눌 수 없습니다.\u001b[39m\u001b[38;5;124m\"\u001b[39m)\n\u001b[1;32m----> 7\u001b[0m \u001b[38;5;28;01mexcept\u001b[39;00m indexError :\n\u001b[0;32m      8\u001b[0m     \u001b[38;5;28mprint\u001b[39m(\u001b[38;5;124m\"\u001b[39m\u001b[38;5;124m인덱싱 할 수 없습니다.\u001b[39m\u001b[38;5;124m\"\u001b[39m)\n",
      "\u001b[1;31mNameError\u001b[0m: name 'indexError' is not defined"
     ]
    }
   ],
   "source": [
    "try : \n",
    "    a = [1,2]\n",
    "    print(a[3])\n",
    "    4/0\n",
    "except ZeroDivisionError:\n",
    "    print(\"0으로 나눌 수 없습니다.\")\n",
    "except indexError :\n",
    "    print(\"인덱싱 할 수 없습니다.\")\n",
    "#코드는 순서대로 발생함. 위에꺼는 실행조차 안된 것."
   ]
  },
  {
   "cell_type": "code",
   "execution_count": 19,
   "id": "2b44cb47",
   "metadata": {
    "ExecuteTime": {
     "end_time": "2023-12-05T05:08:28.874341Z",
     "start_time": "2023-12-05T05:08:26.212949Z"
    }
   },
   "outputs": [
    {
     "name": "stdout",
     "output_type": "stream",
     "text": [
      "나이를 입력하세요: 13\n",
      "미성년자는 출입금지입니다.\n"
     ]
    }
   ],
   "source": [
    "try :\n",
    "    age = int(input('나이를 입력하세요: '))\n",
    "except :\n",
    "    print('입력이 정확하지 않습니다.')\n",
    "else :\n",
    "    if age <= 18 :\n",
    "        print('미성년자는 출입금지입니다.')\n",
    "    else :\n",
    "        print('환영합니다.')"
   ]
  },
  {
   "cell_type": "code",
   "execution_count": 20,
   "id": "013ca748",
   "metadata": {
    "ExecuteTime": {
     "end_time": "2023-12-05T05:10:00.251791Z",
     "start_time": "2023-12-05T05:10:00.242270Z"
    }
   },
   "outputs": [],
   "source": [
    "# 오류 회피하기\n",
    "try :\n",
    "    f = open('나없는파일', 'r')\n",
    "except FileNotFoundError :\n",
    "    pass"
   ]
  },
  {
   "cell_type": "code",
   "execution_count": 21,
   "id": "f21ebb82",
   "metadata": {
    "ExecuteTime": {
     "end_time": "2023-12-05T05:18:45.727678Z",
     "start_time": "2023-12-05T05:18:45.721849Z"
    }
   },
   "outputs": [],
   "source": [
    "#내장함수\n",
    "#파이썬 자체가 제공하는 내장함수\n",
    "#import안해도 됨"
   ]
  },
  {
   "cell_type": "code",
   "execution_count": 22,
   "id": "0966e7eb",
   "metadata": {
    "ExecuteTime": {
     "end_time": "2023-12-05T05:18:55.835555Z",
     "start_time": "2023-12-05T05:18:55.822465Z"
    }
   },
   "outputs": [
    {
     "data": {
      "text/plain": [
       "3"
      ]
     },
     "execution_count": 22,
     "metadata": {},
     "output_type": "execute_result"
    }
   ],
   "source": [
    "#abs\n",
    "abs(3)"
   ]
  },
  {
   "cell_type": "code",
   "execution_count": 23,
   "id": "98ca1c72",
   "metadata": {
    "ExecuteTime": {
     "end_time": "2023-12-05T05:19:10.007458Z",
     "start_time": "2023-12-05T05:19:09.997406Z"
    }
   },
   "outputs": [
    {
     "data": {
      "text/plain": [
       "True"
      ]
     },
     "execution_count": 23,
     "metadata": {},
     "output_type": "execute_result"
    }
   ],
   "source": [
    "#all\n",
    "all([1,2,3])"
   ]
  },
  {
   "cell_type": "code",
   "execution_count": 24,
   "id": "00209ef3",
   "metadata": {
    "ExecuteTime": {
     "end_time": "2023-12-05T05:19:18.823079Z",
     "start_time": "2023-12-05T05:19:18.813275Z"
    }
   },
   "outputs": [
    {
     "data": {
      "text/plain": [
       "False"
      ]
     },
     "execution_count": 24,
     "metadata": {},
     "output_type": "execute_result"
    }
   ],
   "source": [
    "all([1,2,3,0])"
   ]
  },
  {
   "cell_type": "code",
   "execution_count": 25,
   "id": "74d4531f",
   "metadata": {
    "ExecuteTime": {
     "end_time": "2023-12-05T05:19:45.315121Z",
     "start_time": "2023-12-05T05:19:45.305325Z"
    }
   },
   "outputs": [
    {
     "data": {
      "text/plain": [
       "True"
      ]
     },
     "execution_count": 25,
     "metadata": {},
     "output_type": "execute_result"
    }
   ],
   "source": [
    "all([1,2,3,-3])"
   ]
  },
  {
   "cell_type": "code",
   "execution_count": 26,
   "id": "46f0e9ad",
   "metadata": {
    "ExecuteTime": {
     "end_time": "2023-12-05T05:19:50.233780Z",
     "start_time": "2023-12-05T05:19:50.226500Z"
    }
   },
   "outputs": [
    {
     "data": {
      "text/plain": [
       "True"
      ]
     },
     "execution_count": 26,
     "metadata": {},
     "output_type": "execute_result"
    }
   ],
   "source": [
    "all([])"
   ]
  },
  {
   "cell_type": "code",
   "execution_count": 27,
   "id": "88419ee8",
   "metadata": {
    "ExecuteTime": {
     "end_time": "2023-12-05T05:20:30.263497Z",
     "start_time": "2023-12-05T05:20:30.251156Z"
    }
   },
   "outputs": [
    {
     "data": {
      "text/plain": [
       "True"
      ]
     },
     "execution_count": 27,
     "metadata": {},
     "output_type": "execute_result"
    }
   ],
   "source": [
    "#any\n",
    "#하나라도 참이 있으면 True\n",
    "#x 모두 거짓일 때 False\n",
    "any([1,2,3,0])"
   ]
  },
  {
   "cell_type": "code",
   "execution_count": 28,
   "id": "a282d6de",
   "metadata": {
    "ExecuteTime": {
     "end_time": "2023-12-05T05:20:38.413933Z",
     "start_time": "2023-12-05T05:20:38.403025Z"
    }
   },
   "outputs": [
    {
     "data": {
      "text/plain": [
       "False"
      ]
     },
     "execution_count": 28,
     "metadata": {},
     "output_type": "execute_result"
    }
   ],
   "source": [
    "any([0,\"\"])"
   ]
  },
  {
   "cell_type": "code",
   "execution_count": 29,
   "id": "356777df",
   "metadata": {
    "ExecuteTime": {
     "end_time": "2023-12-05T05:20:43.068422Z",
     "start_time": "2023-12-05T05:20:43.059490Z"
    }
   },
   "outputs": [
    {
     "data": {
      "text/plain": [
       "False"
      ]
     },
     "execution_count": 29,
     "metadata": {},
     "output_type": "execute_result"
    }
   ],
   "source": [
    "any([])"
   ]
  },
  {
   "cell_type": "code",
   "execution_count": 30,
   "id": "842ef5fc",
   "metadata": {
    "ExecuteTime": {
     "end_time": "2023-12-05T05:21:37.769575Z",
     "start_time": "2023-12-05T05:21:37.760364Z"
    }
   },
   "outputs": [
    {
     "data": {
      "text/plain": [
       "'a'"
      ]
     },
     "execution_count": 30,
     "metadata": {},
     "output_type": "execute_result"
    }
   ],
   "source": [
    "#chr\n",
    "chr(97)"
   ]
  },
  {
   "cell_type": "code",
   "execution_count": 31,
   "id": "0a84cac9",
   "metadata": {
    "ExecuteTime": {
     "end_time": "2023-12-05T05:22:10.574317Z",
     "start_time": "2023-12-05T05:22:10.563364Z"
    }
   },
   "outputs": [
    {
     "data": {
      "text/plain": [
       "'가'"
      ]
     },
     "execution_count": 31,
     "metadata": {},
     "output_type": "execute_result"
    }
   ],
   "source": [
    "chr(44032)"
   ]
  },
  {
   "cell_type": "code",
   "execution_count": 32,
   "id": "d7a38b47",
   "metadata": {
    "ExecuteTime": {
     "end_time": "2023-12-05T05:22:32.959643Z",
     "start_time": "2023-12-05T05:22:32.946801Z"
    }
   },
   "outputs": [
    {
     "data": {
      "text/plain": [
       "['__add__',\n",
       " '__class__',\n",
       " '__class_getitem__',\n",
       " '__contains__',\n",
       " '__delattr__',\n",
       " '__delitem__',\n",
       " '__dir__',\n",
       " '__doc__',\n",
       " '__eq__',\n",
       " '__format__',\n",
       " '__ge__',\n",
       " '__getattribute__',\n",
       " '__getitem__',\n",
       " '__getstate__',\n",
       " '__gt__',\n",
       " '__hash__',\n",
       " '__iadd__',\n",
       " '__imul__',\n",
       " '__init__',\n",
       " '__init_subclass__',\n",
       " '__iter__',\n",
       " '__le__',\n",
       " '__len__',\n",
       " '__lt__',\n",
       " '__mul__',\n",
       " '__ne__',\n",
       " '__new__',\n",
       " '__reduce__',\n",
       " '__reduce_ex__',\n",
       " '__repr__',\n",
       " '__reversed__',\n",
       " '__rmul__',\n",
       " '__setattr__',\n",
       " '__setitem__',\n",
       " '__sizeof__',\n",
       " '__str__',\n",
       " '__subclasshook__',\n",
       " 'append',\n",
       " 'clear',\n",
       " 'copy',\n",
       " 'count',\n",
       " 'extend',\n",
       " 'index',\n",
       " 'insert',\n",
       " 'pop',\n",
       " 'remove',\n",
       " 'reverse',\n",
       " 'sort']"
      ]
     },
     "execution_count": 32,
     "metadata": {},
     "output_type": "execute_result"
    }
   ],
   "source": [
    "#dir\n",
    "#객체가 지닌 변수나 함수를 보여주는 함수\n",
    "dir([1,2,3])"
   ]
  },
  {
   "cell_type": "code",
   "execution_count": 33,
   "id": "0986a8fc",
   "metadata": {
    "ExecuteTime": {
     "end_time": "2023-12-05T05:23:31.353452Z",
     "start_time": "2023-12-05T05:23:31.342250Z"
    }
   },
   "outputs": [
    {
     "ename": "SyntaxError",
     "evalue": "invalid syntax. Perhaps you forgot a comma? (3400721998.py, line 1)",
     "output_type": "error",
     "traceback": [
      "\u001b[1;36m  Cell \u001b[1;32mIn[33], line 1\u001b[1;36m\u001b[0m\n\u001b[1;33m    print(dir{1,2,3})\u001b[0m\n\u001b[1;37m          ^\u001b[0m\n\u001b[1;31mSyntaxError\u001b[0m\u001b[1;31m:\u001b[0m invalid syntax. Perhaps you forgot a comma?\n"
     ]
    }
   ],
   "source": [
    "print(dir{1,2,3})"
   ]
  },
  {
   "cell_type": "code",
   "execution_count": 34,
   "id": "5aab444c",
   "metadata": {
    "ExecuteTime": {
     "end_time": "2023-12-05T05:23:43.277528Z",
     "start_time": "2023-12-05T05:23:43.265673Z"
    }
   },
   "outputs": [
    {
     "data": {
      "text/plain": [
       "(2, 1)"
      ]
     },
     "execution_count": 34,
     "metadata": {},
     "output_type": "execute_result"
    }
   ],
   "source": [
    "#divmod\n",
    "#몫, 나머지 반환\n",
    "divmod(7, 3)"
   ]
  },
  {
   "cell_type": "code",
   "execution_count": 35,
   "id": "43d06d15",
   "metadata": {
    "ExecuteTime": {
     "end_time": "2023-12-05T05:23:51.804830Z",
     "start_time": "2023-12-05T05:23:51.794101Z"
    }
   },
   "outputs": [
    {
     "data": {
      "text/plain": [
       "(2, 1)"
      ]
     },
     "execution_count": 35,
     "metadata": {},
     "output_type": "execute_result"
    }
   ],
   "source": [
    "7//3, 7%3"
   ]
  },
  {
   "cell_type": "code",
   "execution_count": 36,
   "id": "80fd5459",
   "metadata": {
    "ExecuteTime": {
     "end_time": "2023-12-05T05:24:51.765222Z",
     "start_time": "2023-12-05T05:24:51.757948Z"
    }
   },
   "outputs": [
    {
     "name": "stdout",
     "output_type": "stream",
     "text": [
      "0 body\n",
      "1 foo\n",
      "2 bar\n"
     ]
    }
   ],
   "source": [
    "#enumerate\n",
    "#인덱스를 붙여주는 것, for문과 함께 많이 사용\n",
    "for i, name in enumerate(['body', 'foo', 'bar']):\n",
    "    print(i, name)"
   ]
  },
  {
   "cell_type": "code",
   "execution_count": 37,
   "id": "95658217",
   "metadata": {
    "ExecuteTime": {
     "end_time": "2023-12-05T05:26:05.158162Z",
     "start_time": "2023-12-05T05:26:05.150385Z"
    }
   },
   "outputs": [
    {
     "data": {
      "text/plain": [
       "3"
      ]
     },
     "execution_count": 37,
     "metadata": {},
     "output_type": "execute_result"
    }
   ],
   "source": [
    "#eval\n",
    "#문자열로 구성된 표현식을 입력받아 수식으로 보고 결과값 리턴\n",
    "eval('1+2')"
   ]
  },
  {
   "cell_type": "code",
   "execution_count": 38,
   "id": "1becf1c8",
   "metadata": {
    "ExecuteTime": {
     "end_time": "2023-12-05T05:26:21.716434Z",
     "start_time": "2023-12-05T05:26:21.707358Z"
    }
   },
   "outputs": [
    {
     "data": {
      "text/plain": [
       "'hia'"
      ]
     },
     "execution_count": 38,
     "metadata": {},
     "output_type": "execute_result"
    }
   ],
   "source": [
    "eval(\"'hi' + 'a'\")"
   ]
  },
  {
   "cell_type": "code",
   "execution_count": 41,
   "id": "7fed77e7",
   "metadata": {
    "ExecuteTime": {
     "end_time": "2023-12-05T05:27:53.788611Z",
     "start_time": "2023-12-05T05:27:53.778966Z"
    }
   },
   "outputs": [
    {
     "name": "stdout",
     "output_type": "stream",
     "text": [
      "[1, 2, 6]\n"
     ]
    }
   ],
   "source": [
    "#filter\n",
    "#무엇을 걸러낸다. 함수를 입력하고 반복 가능한 데이터를 같이 입력.\n",
    "#리턴값이 참인 것만 묶어서 리턴함\n",
    "def positive(l):\n",
    "    result = []\n",
    "    for i in l :\n",
    "        if i > 0 :\n",
    "            result.append(i)\n",
    "    return result\n",
    "print(positive([1, -3, 2, 0, -5, 6]))\n",
    "#컴프리헨션의 조건식\n",
    "#람다"
   ]
  },
  {
   "cell_type": "code",
   "execution_count": 42,
   "id": "792cd4de",
   "metadata": {
    "ExecuteTime": {
     "end_time": "2023-12-05T05:28:30.781719Z",
     "start_time": "2023-12-05T05:28:30.774157Z"
    }
   },
   "outputs": [
    {
     "name": "stdout",
     "output_type": "stream",
     "text": [
      "[1, 2, 6]\n"
     ]
    }
   ],
   "source": [
    "def positive(x):\n",
    "    return x > 0\n",
    "print(list(filter(positive, [1, -3, 2, 0, -5, 6])))"
   ]
  },
  {
   "cell_type": "code",
   "execution_count": 44,
   "id": "8489316c",
   "metadata": {
    "ExecuteTime": {
     "end_time": "2023-12-05T05:33:37.917989Z",
     "start_time": "2023-12-05T05:33:37.906143Z"
    }
   },
   "outputs": [
    {
     "data": {
      "text/plain": [
       "[1, 2, 6]"
      ]
     },
     "execution_count": 44,
     "metadata": {},
     "output_type": "execute_result"
    }
   ],
   "source": [
    "list(filter(lambda x : x > 0, [1, -3, 2, 0, -5, 6]))"
   ]
  },
  {
   "cell_type": "code",
   "execution_count": 45,
   "id": "f1606f50",
   "metadata": {
    "ExecuteTime": {
     "end_time": "2023-12-05T05:34:07.659780Z",
     "start_time": "2023-12-05T05:34:07.650416Z"
    }
   },
   "outputs": [
    {
     "data": {
      "text/plain": [
       "'0xea'"
      ]
     },
     "execution_count": 45,
     "metadata": {},
     "output_type": "execute_result"
    }
   ],
   "source": [
    "#hex\n",
    "hex(234)"
   ]
  },
  {
   "cell_type": "code",
   "execution_count": 46,
   "id": "5ced2e9b",
   "metadata": {
    "ExecuteTime": {
     "end_time": "2023-12-05T05:34:10.561131Z",
     "start_time": "2023-12-05T05:34:10.551843Z"
    }
   },
   "outputs": [
    {
     "data": {
      "text/plain": [
       "'0x3'"
      ]
     },
     "execution_count": 46,
     "metadata": {},
     "output_type": "execute_result"
    }
   ],
   "source": [
    "hex(3)"
   ]
  },
  {
   "cell_type": "code",
   "execution_count": 47,
   "id": "23157a95",
   "metadata": {
    "ExecuteTime": {
     "end_time": "2023-12-05T05:34:25.280755Z",
     "start_time": "2023-12-05T05:34:25.268441Z"
    }
   },
   "outputs": [
    {
     "data": {
      "text/plain": [
       "(140727927804776, 140727927804776)"
      ]
     },
     "execution_count": 47,
     "metadata": {},
     "output_type": "execute_result"
    }
   ],
   "source": [
    "#id\n",
    "a = 3\n",
    "id(3), id(a)"
   ]
  },
  {
   "cell_type": "code",
   "execution_count": 48,
   "id": "73174c6f",
   "metadata": {
    "ExecuteTime": {
     "end_time": "2023-12-05T05:34:45.468705Z",
     "start_time": "2023-12-05T05:34:45.462507Z"
    }
   },
   "outputs": [],
   "source": [
    "#input"
   ]
  },
  {
   "cell_type": "code",
   "execution_count": 49,
   "id": "61add39b",
   "metadata": {
    "ExecuteTime": {
     "end_time": "2023-12-05T05:34:53.042490Z",
     "start_time": "2023-12-05T05:34:53.034529Z"
    }
   },
   "outputs": [
    {
     "data": {
      "text/plain": [
       "3"
      ]
     },
     "execution_count": 49,
     "metadata": {},
     "output_type": "execute_result"
    }
   ],
   "source": [
    "#int\n",
    "int('3')"
   ]
  },
  {
   "cell_type": "code",
   "execution_count": 50,
   "id": "8f4d5ba2",
   "metadata": {
    "ExecuteTime": {
     "end_time": "2023-12-05T05:34:59.325015Z",
     "start_time": "2023-12-05T05:34:59.313908Z"
    }
   },
   "outputs": [
    {
     "data": {
      "text/plain": [
       "3"
      ]
     },
     "execution_count": 50,
     "metadata": {},
     "output_type": "execute_result"
    }
   ],
   "source": [
    "int(3.4)"
   ]
  },
  {
   "cell_type": "code",
   "execution_count": 52,
   "id": "a1472f0a",
   "metadata": {
    "ExecuteTime": {
     "end_time": "2023-12-05T05:35:38.471198Z",
     "start_time": "2023-12-05T05:35:38.458677Z"
    }
   },
   "outputs": [
    {
     "data": {
      "text/plain": [
       "3"
      ]
     },
     "execution_count": 52,
     "metadata": {},
     "output_type": "execute_result"
    }
   ],
   "source": [
    "int('11', 2)"
   ]
  },
  {
   "cell_type": "code",
   "execution_count": 53,
   "id": "09a1ae30",
   "metadata": {
    "ExecuteTime": {
     "end_time": "2023-12-05T05:35:54.450641Z",
     "start_time": "2023-12-05T05:35:54.443719Z"
    }
   },
   "outputs": [
    {
     "data": {
      "text/plain": [
       "26"
      ]
     },
     "execution_count": 53,
     "metadata": {},
     "output_type": "execute_result"
    }
   ],
   "source": [
    "int('1A', 16)"
   ]
  },
  {
   "cell_type": "code",
   "execution_count": 54,
   "id": "d09b9937",
   "metadata": {
    "ExecuteTime": {
     "end_time": "2023-12-05T05:36:20.774760Z",
     "start_time": "2023-12-05T05:36:20.763647Z"
    }
   },
   "outputs": [
    {
     "data": {
      "text/plain": [
       "True"
      ]
     },
     "execution_count": 54,
     "metadata": {},
     "output_type": "execute_result"
    }
   ],
   "source": [
    "#isinstance\n",
    "class Person : pass\n",
    "a = Person()\n",
    "isinstance(a, Person)"
   ]
  },
  {
   "cell_type": "code",
   "execution_count": 56,
   "id": "650e55bc",
   "metadata": {
    "ExecuteTime": {
     "end_time": "2023-12-05T05:36:53.621931Z",
     "start_time": "2023-12-05T05:36:53.613593Z"
    }
   },
   "outputs": [
    {
     "data": {
      "text/plain": [
       "False"
      ]
     },
     "execution_count": 56,
     "metadata": {},
     "output_type": "execute_result"
    }
   ],
   "source": [
    "b = 3\n",
    "isinstance(b, Person)"
   ]
  },
  {
   "cell_type": "code",
   "execution_count": 57,
   "id": "1f603a5a",
   "metadata": {
    "ExecuteTime": {
     "end_time": "2023-12-05T05:37:10.521515Z",
     "start_time": "2023-12-05T05:37:10.512698Z"
    }
   },
   "outputs": [
    {
     "data": {
      "text/plain": [
       "6"
      ]
     },
     "execution_count": 57,
     "metadata": {},
     "output_type": "execute_result"
    }
   ],
   "source": [
    "#len\n",
    "len(\"python\")"
   ]
  },
  {
   "cell_type": "code",
   "execution_count": 58,
   "id": "c4563bf7",
   "metadata": {
    "ExecuteTime": {
     "end_time": "2023-12-05T05:37:26.794928Z",
     "start_time": "2023-12-05T05:37:26.784602Z"
    }
   },
   "outputs": [
    {
     "data": {
      "text/plain": [
       "['p', 'y', 't', 'h', 'o', 'n']"
      ]
     },
     "execution_count": 58,
     "metadata": {},
     "output_type": "execute_result"
    }
   ],
   "source": [
    "#list\n",
    "list(\"python\")"
   ]
  },
  {
   "cell_type": "code",
   "execution_count": 59,
   "id": "2c859e40",
   "metadata": {
    "ExecuteTime": {
     "end_time": "2023-12-05T05:37:37.208221Z",
     "start_time": "2023-12-05T05:37:37.198420Z"
    }
   },
   "outputs": [
    {
     "data": {
      "text/plain": [
       "[1, 2, 3]"
      ]
     },
     "execution_count": 59,
     "metadata": {},
     "output_type": "execute_result"
    }
   ],
   "source": [
    "list((1,2,3))"
   ]
  },
  {
   "cell_type": "code",
   "execution_count": 61,
   "id": "c1ff195b",
   "metadata": {
    "ExecuteTime": {
     "end_time": "2023-12-05T05:40:04.067590Z",
     "start_time": "2023-12-05T05:40:04.057889Z"
    }
   },
   "outputs": [
    {
     "name": "stdout",
     "output_type": "stream",
     "text": [
      "[2, 4, 6, 8]\n"
     ]
    }
   ],
   "source": [
    "#map\n",
    "#함수,반복 가능한 데이터\n",
    "#입력받은 데이터의 각 요소를 함수에 적용한 결과를 리턴하는 함수\n",
    "def two_times(numberList):\n",
    "    result = []\n",
    "    for number in numberList:\n",
    "        result.append(number*2)\n",
    "    return result\n",
    "result = two_times([1, 2, 3, 4])\n",
    "print(result)"
   ]
  },
  {
   "cell_type": "code",
   "execution_count": 63,
   "id": "b9c96a15",
   "metadata": {
    "ExecuteTime": {
     "end_time": "2023-12-05T05:41:08.981956Z",
     "start_time": "2023-12-05T05:41:08.970364Z"
    }
   },
   "outputs": [
    {
     "data": {
      "text/plain": [
       "[2, 4, 6, 8]"
      ]
     },
     "execution_count": 63,
     "metadata": {},
     "output_type": "execute_result"
    }
   ],
   "source": [
    "def two_times(x):\n",
    "    return x*2\n",
    "list(map(two_times, [1, 2, 3, 4]))"
   ]
  },
  {
   "cell_type": "code",
   "execution_count": 64,
   "id": "bfb5d427",
   "metadata": {
    "ExecuteTime": {
     "end_time": "2023-12-05T05:43:41.394297Z",
     "start_time": "2023-12-05T05:43:41.388592Z"
    }
   },
   "outputs": [],
   "source": [
    "#특정 기준에 충족되는 것만 보여주는 것 - 필터\n",
    "#다 보여줌 - 맵"
   ]
  },
  {
   "cell_type": "code",
   "execution_count": 65,
   "id": "606aadce",
   "metadata": {
    "ExecuteTime": {
     "end_time": "2023-12-05T05:44:20.417995Z",
     "start_time": "2023-12-05T05:44:20.408132Z"
    }
   },
   "outputs": [
    {
     "data": {
      "text/plain": [
       "[2, 4, 6, 8]"
      ]
     },
     "execution_count": 65,
     "metadata": {},
     "output_type": "execute_result"
    }
   ],
   "source": [
    "list(map(lambda a : a*2, [1, 2, 3, 4]))"
   ]
  },
  {
   "cell_type": "code",
   "execution_count": 66,
   "id": "283723ab",
   "metadata": {
    "ExecuteTime": {
     "end_time": "2023-12-05T05:45:34.102202Z",
     "start_time": "2023-12-05T05:45:34.093902Z"
    }
   },
   "outputs": [
    {
     "data": {
      "text/plain": [
       "3"
      ]
     },
     "execution_count": 66,
     "metadata": {},
     "output_type": "execute_result"
    }
   ],
   "source": [
    "#max\n",
    "max([1, 2, 3])"
   ]
  },
  {
   "cell_type": "code",
   "execution_count": 67,
   "id": "c07fd1e1",
   "metadata": {
    "ExecuteTime": {
     "end_time": "2023-12-05T05:45:40.764772Z",
     "start_time": "2023-12-05T05:45:40.754377Z"
    }
   },
   "outputs": [
    {
     "data": {
      "text/plain": [
       "'y'"
      ]
     },
     "execution_count": 67,
     "metadata": {},
     "output_type": "execute_result"
    }
   ],
   "source": [
    "max(\"python\")"
   ]
  },
  {
   "cell_type": "code",
   "execution_count": 69,
   "id": "f507d206",
   "metadata": {
    "ExecuteTime": {
     "end_time": "2023-12-05T05:46:27.245372Z",
     "start_time": "2023-12-05T05:46:27.236962Z"
    }
   },
   "outputs": [
    {
     "ename": "SyntaxError",
     "evalue": "unterminated string literal (detected at line 2) (2625440589.py, line 2)",
     "output_type": "error",
     "traceback": [
      "\u001b[1;36m  Cell \u001b[1;32mIn[69], line 2\u001b[1;36m\u001b[0m\n\u001b[1;33m    print(f'{i}:{ord(i)}'', end=' ')\u001b[0m\n\u001b[1;37m                                  ^\u001b[0m\n\u001b[1;31mSyntaxError\u001b[0m\u001b[1;31m:\u001b[0m unterminated string literal (detected at line 2)\n"
     ]
    }
   ],
   "source": [
    "for i in \"python\":\n",
    "    print(f'{i}:{ord(i)}'', end=' ')"
   ]
  },
  {
   "cell_type": "code",
   "execution_count": 70,
   "id": "804ebd76",
   "metadata": {
    "ExecuteTime": {
     "end_time": "2023-12-05T05:47:30.472825Z",
     "start_time": "2023-12-05T05:47:30.464999Z"
    }
   },
   "outputs": [
    {
     "data": {
      "text/plain": [
       "16"
      ]
     },
     "execution_count": 70,
     "metadata": {},
     "output_type": "execute_result"
    }
   ],
   "source": [
    "#pow \n",
    "#제곱\n",
    "pow(2, 4)"
   ]
  },
  {
   "cell_type": "code",
   "execution_count": 71,
   "id": "89d6eae7",
   "metadata": {
    "ExecuteTime": {
     "end_time": "2023-12-05T05:47:33.968223Z",
     "start_time": "2023-12-05T05:47:33.958032Z"
    }
   },
   "outputs": [
    {
     "data": {
      "text/plain": [
       "27"
      ]
     },
     "execution_count": 71,
     "metadata": {},
     "output_type": "execute_result"
    }
   ],
   "source": [
    "pow(3, 3)"
   ]
  },
  {
   "cell_type": "code",
   "execution_count": 72,
   "id": "5b4b92b8",
   "metadata": {
    "ExecuteTime": {
     "end_time": "2023-12-05T05:47:50.570237Z",
     "start_time": "2023-12-05T05:47:50.559676Z"
    }
   },
   "outputs": [
    {
     "data": {
      "text/plain": [
       "[0, 1, 2, 3, 4]"
      ]
     },
     "execution_count": 72,
     "metadata": {},
     "output_type": "execute_result"
    }
   ],
   "source": [
    "#range\n",
    "list(range(5))"
   ]
  },
  {
   "cell_type": "code",
   "execution_count": 73,
   "id": "6c373ccd",
   "metadata": {
    "ExecuteTime": {
     "end_time": "2023-12-05T05:47:58.851730Z",
     "start_time": "2023-12-05T05:47:58.839325Z"
    }
   },
   "outputs": [
    {
     "data": {
      "text/plain": [
       "[5, 6, 7, 8, 9]"
      ]
     },
     "execution_count": 73,
     "metadata": {},
     "output_type": "execute_result"
    }
   ],
   "source": [
    "list(range(5, 10))"
   ]
  },
  {
   "cell_type": "code",
   "execution_count": 74,
   "id": "8b42365a",
   "metadata": {
    "ExecuteTime": {
     "end_time": "2023-12-05T05:48:12.621114Z",
     "start_time": "2023-12-05T05:48:12.612317Z"
    }
   },
   "outputs": [
    {
     "data": {
      "text/plain": [
       "[1, 3, 5, 7, 9]"
      ]
     },
     "execution_count": 74,
     "metadata": {},
     "output_type": "execute_result"
    }
   ],
   "source": [
    "list(range(1, 10, 2))"
   ]
  },
  {
   "cell_type": "code",
   "execution_count": 75,
   "id": "82ffc99a",
   "metadata": {
    "ExecuteTime": {
     "end_time": "2023-12-05T05:48:27.174275Z",
     "start_time": "2023-12-05T05:48:27.163472Z"
    }
   },
   "outputs": [
    {
     "data": {
      "text/plain": [
       "[0, -1, -2, -3, -4, -5, -6, -7, -8, -9]"
      ]
     },
     "execution_count": 75,
     "metadata": {},
     "output_type": "execute_result"
    }
   ],
   "source": [
    "list(range(0, -10, -1))"
   ]
  },
  {
   "cell_type": "code",
   "execution_count": 76,
   "id": "e3ae6227",
   "metadata": {
    "ExecuteTime": {
     "end_time": "2023-12-05T05:50:03.604730Z",
     "start_time": "2023-12-05T05:50:03.596623Z"
    }
   },
   "outputs": [
    {
     "data": {
      "text/plain": [
       "5"
      ]
     },
     "execution_count": 76,
     "metadata": {},
     "output_type": "execute_result"
    }
   ],
   "source": [
    "#round\n",
    "#반올림\n",
    "round(4.6)"
   ]
  },
  {
   "cell_type": "code",
   "execution_count": 77,
   "id": "41631c54",
   "metadata": {
    "ExecuteTime": {
     "end_time": "2023-12-05T05:50:07.525584Z",
     "start_time": "2023-12-05T05:50:07.516612Z"
    }
   },
   "outputs": [
    {
     "data": {
      "text/plain": [
       "4"
      ]
     },
     "execution_count": 77,
     "metadata": {},
     "output_type": "execute_result"
    }
   ],
   "source": [
    "round(4.2)"
   ]
  },
  {
   "cell_type": "code",
   "execution_count": 78,
   "id": "c3c9c474",
   "metadata": {
    "ExecuteTime": {
     "end_time": "2023-12-05T05:50:12.994827Z",
     "start_time": "2023-12-05T05:50:12.986340Z"
    }
   },
   "outputs": [
    {
     "data": {
      "text/plain": [
       "5"
      ]
     },
     "execution_count": 78,
     "metadata": {},
     "output_type": "execute_result"
    }
   ],
   "source": [
    "round(4.56)"
   ]
  },
  {
   "cell_type": "code",
   "execution_count": 79,
   "id": "7bcae329",
   "metadata": {
    "ExecuteTime": {
     "end_time": "2023-12-05T06:06:05.359947Z",
     "start_time": "2023-12-05T06:06:05.348549Z"
    }
   },
   "outputs": [
    {
     "data": {
      "text/plain": [
       "4.32"
      ]
     },
     "execution_count": 79,
     "metadata": {},
     "output_type": "execute_result"
    }
   ],
   "source": [
    "round(4.324, 2)"
   ]
  },
  {
   "cell_type": "code",
   "execution_count": 80,
   "id": "78acb569",
   "metadata": {
    "ExecuteTime": {
     "end_time": "2023-12-05T06:06:19.719314Z",
     "start_time": "2023-12-05T06:06:19.707722Z"
    }
   },
   "outputs": [
    {
     "data": {
      "text/plain": [
       "[1, 2, 3]"
      ]
     },
     "execution_count": 80,
     "metadata": {},
     "output_type": "execute_result"
    }
   ],
   "source": [
    "#sorted\n",
    "sorted([3, 1, 2])"
   ]
  },
  {
   "cell_type": "code",
   "execution_count": 82,
   "id": "717cfd11",
   "metadata": {
    "ExecuteTime": {
     "end_time": "2023-12-05T06:07:01.846357Z",
     "start_time": "2023-12-05T06:07:01.837668Z"
    }
   },
   "outputs": [
    {
     "name": "stdout",
     "output_type": "stream",
     "text": [
      "[1, 2, 3]\n",
      "[3, 1, 2]\n"
     ]
    }
   ],
   "source": [
    "b = [3, 1, 2]\n",
    "print(sorted(b)) #원본 안바꿈, sort는 원본 바꿈\n",
    "print(b)"
   ]
  },
  {
   "cell_type": "code",
   "execution_count": 85,
   "id": "838988b3",
   "metadata": {
    "ExecuteTime": {
     "end_time": "2023-12-05T06:08:04.496967Z",
     "start_time": "2023-12-05T06:08:04.487847Z"
    }
   },
   "outputs": [
    {
     "data": {
      "text/plain": [
       "'3'"
      ]
     },
     "execution_count": 85,
     "metadata": {},
     "output_type": "execute_result"
    }
   ],
   "source": [
    "#str\n",
    "str(3)"
   ]
  },
  {
   "cell_type": "code",
   "execution_count": 84,
   "id": "a152642f",
   "metadata": {
    "ExecuteTime": {
     "end_time": "2023-12-05T06:08:00.293053Z",
     "start_time": "2023-12-05T06:08:00.282131Z"
    }
   },
   "outputs": [
    {
     "data": {
      "text/plain": [
       "'hi'"
      ]
     },
     "execution_count": 84,
     "metadata": {},
     "output_type": "execute_result"
    }
   ],
   "source": [
    "str('hi')"
   ]
  },
  {
   "cell_type": "code",
   "execution_count": 86,
   "id": "431065c1",
   "metadata": {
    "ExecuteTime": {
     "end_time": "2023-12-05T06:08:24.002901Z",
     "start_time": "2023-12-05T06:08:23.995007Z"
    }
   },
   "outputs": [
    {
     "data": {
      "text/plain": [
       "6"
      ]
     },
     "execution_count": 86,
     "metadata": {},
     "output_type": "execute_result"
    }
   ],
   "source": [
    "#sum\n",
    "sum([1,2,3])"
   ]
  },
  {
   "cell_type": "code",
   "execution_count": 88,
   "id": "a6475ef4",
   "metadata": {
    "ExecuteTime": {
     "end_time": "2023-12-05T06:08:33.551705Z",
     "start_time": "2023-12-05T06:08:33.543337Z"
    }
   },
   "outputs": [
    {
     "data": {
      "text/plain": [
       "12"
      ]
     },
     "execution_count": 88,
     "metadata": {},
     "output_type": "execute_result"
    }
   ],
   "source": [
    "sum([3,4,5])"
   ]
  },
  {
   "cell_type": "code",
   "execution_count": 89,
   "id": "3998e773",
   "metadata": {
    "ExecuteTime": {
     "end_time": "2023-12-05T06:08:52.245727Z",
     "start_time": "2023-12-05T06:08:52.237024Z"
    }
   },
   "outputs": [
    {
     "data": {
      "text/plain": [
       "str"
      ]
     },
     "execution_count": 89,
     "metadata": {},
     "output_type": "execute_result"
    }
   ],
   "source": [
    "#type\n",
    "type('abe')"
   ]
  },
  {
   "cell_type": "code",
   "execution_count": 90,
   "id": "5f9ba188",
   "metadata": {
    "ExecuteTime": {
     "end_time": "2023-12-05T06:08:59.938300Z",
     "start_time": "2023-12-05T06:08:59.927522Z"
    }
   },
   "outputs": [
    {
     "data": {
      "text/plain": [
       "list"
      ]
     },
     "execution_count": 90,
     "metadata": {},
     "output_type": "execute_result"
    }
   ],
   "source": [
    "type([])"
   ]
  },
  {
   "cell_type": "code",
   "execution_count": 91,
   "id": "e3511dfe",
   "metadata": {
    "ExecuteTime": {
     "end_time": "2023-12-05T06:09:47.617864Z",
     "start_time": "2023-12-05T06:09:47.608667Z"
    }
   },
   "outputs": [
    {
     "data": {
      "text/plain": [
       "<zip at 0x21540843940>"
      ]
     },
     "execution_count": 91,
     "metadata": {},
     "output_type": "execute_result"
    }
   ],
   "source": [
    "#zip\n",
    "#동일한 개수로 이루어진 데이터들을 묶어서 리턴하는 함수\n",
    "zip([1,2,3], [4,5,6])\n",
    "#요소 순서대로 합쳐줌. 1과 4, 2와 5, 3과 6"
   ]
  },
  {
   "cell_type": "code",
   "execution_count": 92,
   "id": "4813779e",
   "metadata": {
    "ExecuteTime": {
     "end_time": "2023-12-05T06:10:28.593310Z",
     "start_time": "2023-12-05T06:10:28.580764Z"
    }
   },
   "outputs": [
    {
     "data": {
      "text/plain": [
       "[(1, 4), (2, 5), (3, 6)]"
      ]
     },
     "execution_count": 92,
     "metadata": {},
     "output_type": "execute_result"
    }
   ],
   "source": [
    "list(zip([1,2,3,],[4,5,6]))"
   ]
  },
  {
   "cell_type": "code",
   "execution_count": 95,
   "id": "d6fad601",
   "metadata": {
    "ExecuteTime": {
     "end_time": "2023-12-05T06:10:59.820106Z",
     "start_time": "2023-12-05T06:10:59.807053Z"
    }
   },
   "outputs": [
    {
     "data": {
      "text/plain": [
       "[(1, 4, 7), (2, 5, 8), (3, 6, 9)]"
      ]
     },
     "execution_count": 95,
     "metadata": {},
     "output_type": "execute_result"
    }
   ],
   "source": [
    "list(zip([1,2,3], [4,5,6], [7,8,9]))"
   ]
  },
  {
   "cell_type": "code",
   "execution_count": 96,
   "id": "5da998f6",
   "metadata": {
    "ExecuteTime": {
     "end_time": "2023-12-05T06:11:08.101228Z",
     "start_time": "2023-12-05T06:11:08.092658Z"
    }
   },
   "outputs": [
    {
     "data": {
      "text/plain": [
       "[('a', 'd'), ('b', 'e'), ('c', 'f')]"
      ]
     },
     "execution_count": 96,
     "metadata": {},
     "output_type": "execute_result"
    }
   ],
   "source": [
    "list(zip(\"abc\", \"def\"))"
   ]
  },
  {
   "cell_type": "code",
   "execution_count": 97,
   "id": "439f9cc4",
   "metadata": {
    "ExecuteTime": {
     "end_time": "2023-12-05T06:13:01.411921Z",
     "start_time": "2023-12-05T06:13:01.404558Z"
    }
   },
   "outputs": [],
   "source": [
    "#표준 라이브러리\n",
    "#파이썬이 제공하는 라이브러리\n",
    "#라이브러리는 import 사용"
   ]
  },
  {
   "cell_type": "code",
   "execution_count": 98,
   "id": "9ffa79ef",
   "metadata": {
    "ExecuteTime": {
     "end_time": "2023-12-05T06:14:27.463100Z",
     "start_time": "2023-12-05T06:14:27.454352Z"
    }
   },
   "outputs": [],
   "source": [
    "#datetime.date\n",
    "#연, 월, 일로 날짜 표현할때 사용하는 함수\n",
    "import datetime #datetime이 모듈\n",
    "day1 = datetime.date(2023, 5, 19) #datetime 모듈에 date 메서드\n",
    "day2 = datetime.date(2023, 12, 5)"
   ]
  },
  {
   "cell_type": "code",
   "execution_count": 99,
   "id": "5578a988",
   "metadata": {
    "ExecuteTime": {
     "end_time": "2023-12-05T06:14:32.968566Z",
     "start_time": "2023-12-05T06:14:32.957798Z"
    }
   },
   "outputs": [
    {
     "data": {
      "text/plain": [
       "datetime.date(2023, 5, 19)"
      ]
     },
     "execution_count": 99,
     "metadata": {},
     "output_type": "execute_result"
    }
   ],
   "source": [
    "day1"
   ]
  },
  {
   "cell_type": "code",
   "execution_count": 100,
   "id": "76587f9f",
   "metadata": {
    "ExecuteTime": {
     "end_time": "2023-12-05T06:14:36.554708Z",
     "start_time": "2023-12-05T06:14:36.542359Z"
    }
   },
   "outputs": [
    {
     "data": {
      "text/plain": [
       "datetime.date(2023, 12, 5)"
      ]
     },
     "execution_count": 100,
     "metadata": {},
     "output_type": "execute_result"
    }
   ],
   "source": [
    "day2"
   ]
  },
  {
   "cell_type": "code",
   "execution_count": 101,
   "id": "d0f8f13f",
   "metadata": {
    "ExecuteTime": {
     "end_time": "2023-12-05T06:14:46.532158Z",
     "start_time": "2023-12-05T06:14:46.523366Z"
    }
   },
   "outputs": [
    {
     "data": {
      "text/plain": [
       "datetime.timedelta(days=200)"
      ]
     },
     "execution_count": 101,
     "metadata": {},
     "output_type": "execute_result"
    }
   ],
   "source": [
    "diff = day2-day1\n",
    "diff"
   ]
  },
  {
   "cell_type": "code",
   "execution_count": 102,
   "id": "61d401d4",
   "metadata": {
    "ExecuteTime": {
     "end_time": "2023-12-05T06:15:30.747919Z",
     "start_time": "2023-12-05T06:15:30.738971Z"
    }
   },
   "outputs": [
    {
     "data": {
      "text/plain": [
       "200"
      ]
     },
     "execution_count": 102,
     "metadata": {},
     "output_type": "execute_result"
    }
   ],
   "source": [
    "diff.days"
   ]
  },
  {
   "cell_type": "code",
   "execution_count": 103,
   "id": "c1682d38",
   "metadata": {
    "ExecuteTime": {
     "end_time": "2023-12-05T06:15:56.719928Z",
     "start_time": "2023-12-05T06:15:56.707152Z"
    }
   },
   "outputs": [
    {
     "data": {
      "text/plain": [
       "1"
      ]
     },
     "execution_count": 103,
     "metadata": {},
     "output_type": "execute_result"
    }
   ],
   "source": [
    "day = datetime.date(2023, 12, 5)\n",
    "day.weekday()"
   ]
  },
  {
   "cell_type": "code",
   "execution_count": 104,
   "id": "872a4785",
   "metadata": {
    "ExecuteTime": {
     "end_time": "2023-12-05T06:16:06.413093Z",
     "start_time": "2023-12-05T06:16:06.402217Z"
    }
   },
   "outputs": [],
   "source": [
    "day.weekday?"
   ]
  },
  {
   "cell_type": "code",
   "execution_count": 105,
   "id": "bf65bd3e",
   "metadata": {
    "ExecuteTime": {
     "end_time": "2023-12-05T06:16:42.549738Z",
     "start_time": "2023-12-05T06:16:42.541892Z"
    }
   },
   "outputs": [
    {
     "data": {
      "text/plain": [
       "2"
      ]
     },
     "execution_count": 105,
     "metadata": {},
     "output_type": "execute_result"
    }
   ],
   "source": [
    "day.isoweekday() #월요일을 1부터 시작"
   ]
  },
  {
   "cell_type": "code",
   "execution_count": 106,
   "id": "4b542cd6",
   "metadata": {
    "ExecuteTime": {
     "end_time": "2023-12-05T06:17:28.112888Z",
     "start_time": "2023-12-05T06:17:28.103912Z"
    }
   },
   "outputs": [
    {
     "data": {
      "text/plain": [
       "1701757048.106002"
      ]
     },
     "execution_count": 106,
     "metadata": {},
     "output_type": "execute_result"
    }
   ],
   "source": [
    "#time\n",
    "#UTC를 사용하여 현재 시간을 실수 형태로 리턴\n",
    "#1970년 1월 1일 0시 0분 0초를 기준으로 지난 시간을 초단위로 리턴\n",
    "import time\n",
    "time.time()"
   ]
  },
  {
   "cell_type": "code",
   "execution_count": 109,
   "id": "c93df099",
   "metadata": {
    "ExecuteTime": {
     "end_time": "2023-12-05T06:20:19.350627Z",
     "start_time": "2023-12-05T06:20:19.342299Z"
    }
   },
   "outputs": [
    {
     "data": {
      "text/plain": [
       "time.struct_time(tm_year=2023, tm_mon=12, tm_mday=5, tm_hour=15, tm_min=20, tm_sec=19, tm_wday=1, tm_yday=339, tm_isdst=0)"
      ]
     },
     "execution_count": 109,
     "metadata": {},
     "output_type": "execute_result"
    }
   ],
   "source": [
    "#time.localtime\n",
    "time.localtime(time.time())"
   ]
  },
  {
   "cell_type": "code",
   "execution_count": 111,
   "id": "a5b46e43",
   "metadata": {
    "ExecuteTime": {
     "end_time": "2023-12-05T06:20:34.977145Z",
     "start_time": "2023-12-05T06:20:34.969113Z"
    }
   },
   "outputs": [
    {
     "data": {
      "text/plain": [
       "'Tue Dec  5 15:20:34 2023'"
      ]
     },
     "execution_count": 111,
     "metadata": {},
     "output_type": "execute_result"
    }
   ],
   "source": [
    "#time.asctime\n",
    "time.asctime(time.localtime(time.time()))"
   ]
  },
  {
   "cell_type": "code",
   "execution_count": 112,
   "id": "3483ce7c",
   "metadata": {
    "ExecuteTime": {
     "end_time": "2023-12-05T06:20:43.746872Z",
     "start_time": "2023-12-05T06:20:43.737349Z"
    }
   },
   "outputs": [
    {
     "data": {
      "text/plain": [
       "'Tue Dec  5 15:20:43 2023'"
      ]
     },
     "execution_count": 112,
     "metadata": {},
     "output_type": "execute_result"
    }
   ],
   "source": [
    "time.ctime()"
   ]
  },
  {
   "cell_type": "code",
   "execution_count": 113,
   "id": "ceec67d0",
   "metadata": {
    "ExecuteTime": {
     "end_time": "2023-12-05T06:21:33.571382Z",
     "start_time": "2023-12-05T06:21:33.560016Z"
    }
   },
   "outputs": [
    {
     "data": {
      "text/plain": [
       "'12/05/23'"
      ]
     },
     "execution_count": 113,
     "metadata": {},
     "output_type": "execute_result"
    }
   ],
   "source": [
    "import time\n",
    "time.strftime('%x', time.localtime(time.time())) #시간 데이터 반환할때 포멧 설정해줄 수 있음."
   ]
  },
  {
   "cell_type": "code",
   "execution_count": 114,
   "id": "a319274e",
   "metadata": {
    "ExecuteTime": {
     "end_time": "2023-12-05T06:21:56.153190Z",
     "start_time": "2023-12-05T06:21:56.143695Z"
    }
   },
   "outputs": [
    {
     "data": {
      "text/plain": [
       "'Tue Dec  5 15:21:56 2023'"
      ]
     },
     "execution_count": 114,
     "metadata": {},
     "output_type": "execute_result"
    }
   ],
   "source": [
    "time.strftime('%c', time.localtime(time.time()))"
   ]
  },
  {
   "cell_type": "code",
   "execution_count": 115,
   "id": "b0a89030",
   "metadata": {
    "ExecuteTime": {
     "end_time": "2023-12-05T06:24:44.793214Z",
     "start_time": "2023-12-05T06:24:34.777154Z"
    }
   },
   "outputs": [
    {
     "name": "stdout",
     "output_type": "stream",
     "text": [
      "0\n",
      "1\n",
      "2\n",
      "3\n",
      "4\n",
      "5\n",
      "6\n",
      "7\n",
      "8\n",
      "9\n"
     ]
    }
   ],
   "source": [
    "time.sleep\n",
    "for i in range(10):\n",
    "    print(i)\n",
    "    time.sleep(1)"
   ]
  },
  {
   "cell_type": "code",
   "execution_count": 116,
   "id": "2b0caa9c",
   "metadata": {
    "ExecuteTime": {
     "end_time": "2023-12-05T06:25:13.039438Z",
     "start_time": "2023-12-05T06:25:10.529069Z"
    }
   },
   "outputs": [
    {
     "name": "stdout",
     "output_type": "stream",
     "text": [
      "0\n",
      "1\n",
      "2\n",
      "3\n",
      "4\n"
     ]
    }
   ],
   "source": [
    "time.sleep\n",
    "for i in range(5):\n",
    "    print(i)\n",
    "    time.sleep(0.5)"
   ]
  },
  {
   "cell_type": "code",
   "execution_count": 117,
   "id": "7d65362c",
   "metadata": {
    "ExecuteTime": {
     "end_time": "2023-12-05T06:25:50.592805Z",
     "start_time": "2023-12-05T06:25:50.582198Z"
    }
   },
   "outputs": [
    {
     "data": {
      "text/plain": [
       "time.struct_time(tm_year=2023, tm_mon=12, tm_mday=5, tm_hour=15, tm_min=25, tm_sec=50, tm_wday=1, tm_yday=339, tm_isdst=0)"
      ]
     },
     "execution_count": 117,
     "metadata": {},
     "output_type": "execute_result"
    }
   ],
   "source": [
    "#인수 없이 time 함수 사용하기\n",
    "time.localtime()"
   ]
  },
  {
   "cell_type": "code",
   "execution_count": 118,
   "id": "b59db52a",
   "metadata": {
    "ExecuteTime": {
     "end_time": "2023-12-05T06:25:56.912756Z",
     "start_time": "2023-12-05T06:25:56.900845Z"
    }
   },
   "outputs": [
    {
     "data": {
      "text/plain": [
       "'Tue Dec  5 15:25:56 2023'"
      ]
     },
     "execution_count": 118,
     "metadata": {},
     "output_type": "execute_result"
    }
   ],
   "source": [
    "time.asctime()"
   ]
  },
  {
   "cell_type": "code",
   "execution_count": 119,
   "id": "dfdb6d36",
   "metadata": {
    "ExecuteTime": {
     "end_time": "2023-12-05T06:26:05.080763Z",
     "start_time": "2023-12-05T06:26:05.071614Z"
    }
   },
   "outputs": [
    {
     "data": {
      "text/plain": [
       "'Tue Dec  5 15:26:05 2023'"
      ]
     },
     "execution_count": 119,
     "metadata": {},
     "output_type": "execute_result"
    }
   ],
   "source": [
    "time.strftime('%c')"
   ]
  },
  {
   "cell_type": "code",
   "execution_count": 121,
   "id": "79fee5a7",
   "metadata": {
    "ExecuteTime": {
     "end_time": "2023-12-05T06:28:25.021923Z",
     "start_time": "2023-12-05T06:28:25.010968Z"
    }
   },
   "outputs": [
    {
     "data": {
      "text/plain": [
       "0.8853576502693506"
      ]
     },
     "execution_count": 121,
     "metadata": {},
     "output_type": "execute_result"
    }
   ],
   "source": [
    "#random\n",
    "import random\n",
    "random.random()"
   ]
  },
  {
   "cell_type": "code",
   "execution_count": 124,
   "id": "118f6847",
   "metadata": {
    "ExecuteTime": {
     "end_time": "2023-12-05T06:28:57.048864Z",
     "start_time": "2023-12-05T06:28:57.040893Z"
    }
   },
   "outputs": [
    {
     "data": {
      "text/plain": [
       "5"
      ]
     },
     "execution_count": 124,
     "metadata": {},
     "output_type": "execute_result"
    }
   ],
   "source": [
    "random.randint(1, 10)"
   ]
  },
  {
   "cell_type": "code",
   "execution_count": 125,
   "id": "a10a72df",
   "metadata": {
    "ExecuteTime": {
     "end_time": "2023-12-05T06:29:58.768166Z",
     "start_time": "2023-12-05T06:29:58.757557Z"
    }
   },
   "outputs": [
    {
     "name": "stdout",
     "output_type": "stream",
     "text": [
      "1\n",
      "4\n",
      "5\n",
      "3\n",
      "2\n"
     ]
    }
   ],
   "source": [
    "import random\n",
    "def random_pop(data):\n",
    "    number = random.randint(0, len(data)-1)\n",
    "    return data.pop(number)\n",
    "if __name__ == \"__main__\":\n",
    "    data = [1, 2, 3, 4, 5]\n",
    "    while data:\n",
    "        print(random_pop(data))"
   ]
  },
  {
   "cell_type": "code",
   "execution_count": 126,
   "id": "18d64bd6",
   "metadata": {
    "ExecuteTime": {
     "end_time": "2023-12-05T06:33:33.668989Z",
     "start_time": "2023-12-05T06:33:33.661336Z"
    }
   },
   "outputs": [],
   "source": [
    "def random_pop(data):\n",
    "    number = random.choice(data)\n",
    "    data.remove(number)\n",
    "    return number"
   ]
  },
  {
   "cell_type": "code",
   "execution_count": 128,
   "id": "f5dfd091",
   "metadata": {
    "ExecuteTime": {
     "end_time": "2023-12-05T06:35:15.803448Z",
     "start_time": "2023-12-05T06:35:15.789367Z"
    }
   },
   "outputs": [
    {
     "data": {
      "text/plain": [
       "[5, 1, 3, 4, 2]"
      ]
     },
     "execution_count": 128,
     "metadata": {},
     "output_type": "execute_result"
    }
   ],
   "source": [
    "import random\n",
    "data = [1, 2, 3, 4, 5]\n",
    "random.sample(data, len(data)) #무작위 섞고싶을때\n",
    "[5, 1, 3, 4, 2]"
   ]
  },
  {
   "cell_type": "code",
   "execution_count": 129,
   "id": "a7d7183f",
   "metadata": {
    "ExecuteTime": {
     "end_time": "2023-12-05T06:35:44.183746Z",
     "start_time": "2023-12-05T06:35:44.177100Z"
    }
   },
   "outputs": [
    {
     "data": {
      "text/plain": [
       "[1, 4]"
      ]
     },
     "execution_count": 129,
     "metadata": {},
     "output_type": "execute_result"
    }
   ],
   "source": [
    "random.sample(data, 2)"
   ]
  },
  {
   "cell_type": "code",
   "execution_count": 132,
   "id": "27d0c3ff",
   "metadata": {
    "ExecuteTime": {
     "end_time": "2023-12-05T06:38:57.701330Z",
     "start_time": "2023-12-05T06:38:57.692273Z"
    },
    "scrolled": true
   },
   "outputs": [
    {
     "data": {
      "text/plain": [
       "['C:\\\\workspace\\\\python\\\\WASSUP\\\\00_마크다운_실습용.ipynb',\n",
       " 'C:\\\\workspace\\\\python\\\\WASSUP\\\\01_자료형과 변수.ipynb',\n",
       " 'C:\\\\workspace\\\\python\\\\WASSUP\\\\20231130_200~240.ipynb',\n",
       " 'C:\\\\workspace\\\\python\\\\WASSUP\\\\coffee.py',\n",
       " 'C:\\\\workspace\\\\python\\\\WASSUP\\\\README.md',\n",
       " 'C:\\\\workspace\\\\python\\\\WASSUP\\\\새파일.txt']"
      ]
     },
     "execution_count": 132,
     "metadata": {},
     "output_type": "execute_result"
    }
   ],
   "source": [
    "#glob\n",
    "import glob\n",
    "glob.glob(\"C:\\workspace\\python\\WASSUP/*\")"
   ]
  },
  {
   "cell_type": "code",
   "execution_count": 133,
   "id": "072c1aa7",
   "metadata": {
    "ExecuteTime": {
     "end_time": "2023-12-05T06:39:08.253794Z",
     "start_time": "2023-12-05T06:39:08.242290Z"
    }
   },
   "outputs": [
    {
     "data": {
      "text/plain": [
       "['C:\\\\workspace\\\\python\\\\WASSUP\\\\00_마크다운_실습용.ipynb',\n",
       " 'C:\\\\workspace\\\\python\\\\WASSUP\\\\01_자료형과 변수.ipynb',\n",
       " 'C:\\\\workspace\\\\python\\\\WASSUP\\\\20231130_200~240.ipynb']"
      ]
     },
     "execution_count": 133,
     "metadata": {},
     "output_type": "execute_result"
    }
   ],
   "source": [
    "import glob\n",
    "glob.glob(\"C:\\workspace\\python\\WASSUP/*.ipynb\")"
   ]
  },
  {
   "cell_type": "code",
   "execution_count": 140,
   "id": "a0ca9261",
   "metadata": {
    "ExecuteTime": {
     "end_time": "2023-12-05T06:47:08.704586Z",
     "start_time": "2023-12-05T06:47:08.696804Z"
    }
   },
   "outputs": [
    {
     "name": "stdout",
     "output_type": "stream",
     "text": [
      "C:\\workspace\\python\\WASSUP\\00_마크다운_실습용\n",
      "C:\\workspace\\python\\WASSUP\\01_자료형과 변수\n",
      "C:\\workspace\\python\\WASSUP\\20231130_200~240\n"
     ]
    }
   ],
   "source": [
    "#파일명 추출하기\n",
    "file_list = glob.glob(\"C:\\workspace\\python\\WASSUP/*.ipynb\")\n",
    "for file in file_list:\n",
    "    print(file.split('.')[0])"
   ]
  },
  {
   "cell_type": "code",
   "execution_count": 141,
   "id": "e0b9c9ea",
   "metadata": {
    "ExecuteTime": {
     "end_time": "2023-12-05T06:49:39.520604Z",
     "start_time": "2023-12-05T06:49:39.513862Z"
    }
   },
   "outputs": [],
   "source": [
    "#pickle\n"
   ]
  },
  {
   "cell_type": "code",
   "execution_count": 142,
   "id": "86f8ec9a",
   "metadata": {
    "ExecuteTime": {
     "end_time": "2023-12-05T06:49:49.777637Z",
     "start_time": "2023-12-05T06:49:49.735085Z"
    }
   },
   "outputs": [
    {
     "ename": "NameError",
     "evalue": "name 'os' is not defined",
     "output_type": "error",
     "traceback": [
      "\u001b[1;31m---------------------------------------------------------------------------\u001b[0m",
      "\u001b[1;31mNameError\u001b[0m                                 Traceback (most recent call last)",
      "Cell \u001b[1;32mIn[142], line 2\u001b[0m\n\u001b[0;32m      1\u001b[0m \u001b[38;5;66;03m#os.getcwd\u001b[39;00m\n\u001b[1;32m----> 2\u001b[0m os\u001b[38;5;241m.\u001b[39mgetcwd()\n",
      "\u001b[1;31mNameError\u001b[0m: name 'os' is not defined"
     ]
    }
   ],
   "source": [
    "#os.getcwd\n",
    "os.getcwd()"
   ]
  },
  {
   "cell_type": "code",
   "execution_count": null,
   "id": "1f4f7e74",
   "metadata": {},
   "outputs": [],
   "source": []
  }
 ],
 "metadata": {
  "kernelspec": {
   "display_name": "Python 3 (ipykernel)",
   "language": "python",
   "name": "python3"
  },
  "language_info": {
   "codemirror_mode": {
    "name": "ipython",
    "version": 3
   },
   "file_extension": ".py",
   "mimetype": "text/x-python",
   "name": "python",
   "nbconvert_exporter": "python",
   "pygments_lexer": "ipython3",
   "version": "3.11.5"
  },
  "toc": {
   "base_numbering": 1,
   "nav_menu": {},
   "number_sections": true,
   "sideBar": true,
   "skip_h1_title": false,
   "title_cell": "Table of Contents",
   "title_sidebar": "Contents",
   "toc_cell": false,
   "toc_position": {},
   "toc_section_display": true,
   "toc_window_display": false
  }
 },
 "nbformat": 4,
 "nbformat_minor": 5
}
