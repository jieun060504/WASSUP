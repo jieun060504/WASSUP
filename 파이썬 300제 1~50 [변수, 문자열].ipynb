{
 "cells": [
  {
   "cell_type": "markdown",
   "id": "1a8db58d",
   "metadata": {},
   "source": [
    "# 001~010"
   ]
  },
  {
   "cell_type": "code",
   "execution_count": 3,
   "id": "8c519046",
   "metadata": {
    "ExecuteTime": {
     "end_time": "2023-11-30T02:45:59.647449Z",
     "start_time": "2023-11-30T02:45:59.643439Z"
    }
   },
   "outputs": [
    {
     "name": "stdout",
     "output_type": "stream",
     "text": [
      "Hello World\n",
      "Hello World\n"
     ]
    }
   ],
   "source": [
    "#001\n",
    "a = \"Hello World\"\n",
    "print(a)\n",
    "print(\"Hello World\")"
   ]
  },
  {
   "cell_type": "code",
   "execution_count": 4,
   "id": "e8cec279",
   "metadata": {
    "ExecuteTime": {
     "end_time": "2023-11-30T02:46:23.295155Z",
     "start_time": "2023-11-30T02:46:23.290734Z"
    }
   },
   "outputs": [
    {
     "name": "stdout",
     "output_type": "stream",
     "text": [
      "Mary's cosmetics\n"
     ]
    }
   ],
   "source": [
    "#002\n",
    "print(\"Mary's cosmetics\")"
   ]
  },
  {
   "cell_type": "code",
   "execution_count": 5,
   "id": "04c3d747",
   "metadata": {
    "ExecuteTime": {
     "end_time": "2023-11-30T02:47:05.144391Z",
     "start_time": "2023-11-30T02:47:05.140938Z"
    }
   },
   "outputs": [
    {
     "name": "stdout",
     "output_type": "stream",
     "text": [
      "신씨가 소리질렀다. \"도둑이야\".\n"
     ]
    }
   ],
   "source": [
    "#003\n",
    "print('신씨가 소리질렀다. \"도둑이야\".')"
   ]
  },
  {
   "cell_type": "code",
   "execution_count": 6,
   "id": "4a90878e",
   "metadata": {
    "ExecuteTime": {
     "end_time": "2023-12-01T14:48:02.427681Z",
     "start_time": "2023-12-01T14:48:02.415804Z"
    }
   },
   "outputs": [
    {
     "name": "stdout",
     "output_type": "stream",
     "text": [
      "C:\\Windows\n"
     ]
    }
   ],
   "source": [
    "#004\n",
    "print(\"C:\\Windows\")"
   ]
  },
  {
   "cell_type": "code",
   "execution_count": 7,
   "id": "fbbd25d9",
   "metadata": {
    "ExecuteTime": {
     "end_time": "2023-12-01T15:00:39.175095Z",
     "start_time": "2023-12-01T15:00:39.165241Z"
    }
   },
   "outputs": [
    {
     "name": "stdout",
     "output_type": "stream",
     "text": [
      "안녕하세요.\n",
      "만나서\t\t반갑습니다.\n"
     ]
    }
   ],
   "source": [
    "#005\n",
    "print(\"안녕하세요.\\n만나서\\t\\t반갑습니다.\")\n",
    "#이스케이프코드\n",
    "# \\n 줄바꿈\n",
    "# \\t 사이 탭 간격\n",
    "# \\\\ \\를 그대로 사용할 때\n",
    "# \\' '작따 그대로 사용할 때\n",
    "# \\\" \"큰따 그대로 사용할 때\n",
    "# \\r 캐리지 리턴(줄 바꿈 문자, 커서를 현재 줄의 가장 앞으로 이동)\n",
    "# \\f 폼피드(줄 바꿈 문자, 커서를 현재 줄의 다음 줄로 이동)\n",
    "# \\a 벨 소리(출력할 때 PC 스피커에서 삑 소리가 난다)\n",
    "# \\b 백 스페이스\n",
    "# \\000 널 문자"
   ]
  },
  {
   "cell_type": "code",
   "execution_count": 8,
   "id": "6d87b6b1",
   "metadata": {
    "ExecuteTime": {
     "end_time": "2023-12-01T15:01:20.645989Z",
     "start_time": "2023-12-01T15:01:20.635340Z"
    }
   },
   "outputs": [
    {
     "name": "stdout",
     "output_type": "stream",
     "text": [
      "안\\녕하세요.\n",
      "만나서\t\t반갑습니\u0007다.\n"
     ]
    }
   ],
   "source": [
    "print(\"안\\\\녕하세요.\\n만나서\\t\\t반갑습니\\a다.\")"
   ]
  },
  {
   "cell_type": "code",
   "execution_count": 9,
   "id": "90072529",
   "metadata": {
    "ExecuteTime": {
     "end_time": "2023-12-01T15:02:07.876633Z",
     "start_time": "2023-12-01T15:02:07.869182Z"
    }
   },
   "outputs": [
    {
     "name": "stdout",
     "output_type": "stream",
     "text": [
      "오늘은 일요일\n"
     ]
    }
   ],
   "source": [
    "#006\n",
    "print (\"오늘은\", \"일요일\")\n",
    "#\"오늘은\", \"일요일\" => 여러 값을 출력하려면 print 함수에서 쉼표로 구분.\n",
    "#쉼표는 띄어쓰기 됨."
   ]
  },
  {
   "cell_type": "code",
   "execution_count": 10,
   "id": "21a542c2",
   "metadata": {
    "ExecuteTime": {
     "end_time": "2023-12-01T15:03:08.898583Z",
     "start_time": "2023-12-01T15:03:08.890459Z"
    }
   },
   "outputs": [
    {
     "name": "stdout",
     "output_type": "stream",
     "text": [
      "naver;kakao;sk;samsung\n"
     ]
    }
   ],
   "source": [
    "#007\n",
    "print(\"naver;kakao;sk;samsung\")"
   ]
  },
  {
   "cell_type": "code",
   "execution_count": 11,
   "id": "c9be7700",
   "metadata": {
    "ExecuteTime": {
     "end_time": "2023-12-01T15:04:20.976629Z",
     "start_time": "2023-12-01T15:04:20.962716Z"
    }
   },
   "outputs": [
    {
     "name": "stdout",
     "output_type": "stream",
     "text": [
      "naver;kakao;samsung\n"
     ]
    }
   ],
   "source": [
    "#007\n",
    "print(\"naver\", \"kakao\", \"samsung\", sep=\";\")\n",
    "#sep인자는 \";\"를 입력하면 출력되는 값들 사이에 한 칸의 공백 대신 세미콜론 출력"
   ]
  },
  {
   "cell_type": "code",
   "execution_count": 12,
   "id": "ad905691",
   "metadata": {
    "ExecuteTime": {
     "end_time": "2023-12-01T15:04:51.348494Z",
     "start_time": "2023-12-01T15:04:51.340156Z"
    }
   },
   "outputs": [
    {
     "name": "stdout",
     "output_type": "stream",
     "text": [
      "naver:kakao:sk:samsung\n"
     ]
    }
   ],
   "source": [
    "#007\n",
    "print(\"naver\", \"kakao\", \"sk\", \"samsung\", sep=\":\")"
   ]
  },
  {
   "cell_type": "code",
   "execution_count": 13,
   "id": "4addc546",
   "metadata": {
    "ExecuteTime": {
     "end_time": "2023-12-01T15:05:24.438843Z",
     "start_time": "2023-12-01T15:05:24.432025Z"
    }
   },
   "outputs": [
    {
     "name": "stdout",
     "output_type": "stream",
     "text": [
      "naver/kakao/sk/samsung\n"
     ]
    }
   ],
   "source": [
    "#008\n",
    "print(\"naver\", \"kakao\", \"sk\", \"samsung\", sep=\"/\")"
   ]
  },
  {
   "cell_type": "code",
   "execution_count": 19,
   "id": "f910c266",
   "metadata": {
    "ExecuteTime": {
     "end_time": "2023-12-01T15:10:00.276886Z",
     "start_time": "2023-12-01T15:10:00.268399Z"
    }
   },
   "outputs": [
    {
     "name": "stdout",
     "output_type": "stream",
     "text": [
      "first second"
     ]
    }
   ],
   "source": [
    "#009\n",
    "print(\"first\", end=\" second\")"
   ]
  },
  {
   "cell_type": "code",
   "execution_count": 21,
   "id": "8a001f82",
   "metadata": {
    "ExecuteTime": {
     "end_time": "2023-12-01T15:10:19.936838Z",
     "start_time": "2023-12-01T15:10:19.929171Z"
    }
   },
   "outputs": [
    {
     "name": "stdout",
     "output_type": "stream",
     "text": [
      "first second\n"
     ]
    }
   ],
   "source": [
    "#009\n",
    "print(\"first\", end=\" \");print(\"second\")\n",
    "#end=\"\" 출력값과 이어서 출력(줄바꿈X)"
   ]
  },
  {
   "cell_type": "code",
   "execution_count": 22,
   "id": "7b950c87",
   "metadata": {
    "ExecuteTime": {
     "end_time": "2023-12-01T15:11:17.512434Z",
     "start_time": "2023-12-01T15:11:17.505488Z"
    }
   },
   "outputs": [
    {
     "name": "stdout",
     "output_type": "stream",
     "text": [
      "1.6666666666666667\n"
     ]
    }
   ],
   "source": [
    "#010\n",
    "print(5/3)"
   ]
  },
  {
   "cell_type": "code",
   "execution_count": 23,
   "id": "e9209462",
   "metadata": {
    "ExecuteTime": {
     "end_time": "2023-12-01T15:31:04.794058Z",
     "start_time": "2023-12-01T15:31:04.785582Z"
    }
   },
   "outputs": [
    {
     "name": "stdout",
     "output_type": "stream",
     "text": [
      "500000\n"
     ]
    }
   ],
   "source": [
    "#011\n",
    "a = 50000\n",
    "print(a*10)"
   ]
  },
  {
   "cell_type": "code",
   "execution_count": 30,
   "id": "5da7663c",
   "metadata": {
    "ExecuteTime": {
     "end_time": "2023-12-01T15:35:42.411159Z",
     "start_time": "2023-12-01T15:35:42.402600Z"
    }
   },
   "outputs": [
    {
     "name": "stdout",
     "output_type": "stream",
     "text": [
      "298조,50,000원,15.79\n"
     ]
    }
   ],
   "source": [
    "#012\n",
    "시가총액 = \"298조\"\n",
    "현재가 = \"50,000원\"\n",
    "PER = 15.79\n",
    "print(시가총액, 현재가, PER, sep=\",\")"
   ]
  },
  {
   "cell_type": "code",
   "execution_count": 31,
   "id": "da26a1ad",
   "metadata": {
    "ExecuteTime": {
     "end_time": "2023-12-01T15:35:59.726015Z",
     "start_time": "2023-12-01T15:35:59.714081Z"
    }
   },
   "outputs": [
    {
     "name": "stdout",
     "output_type": "stream",
     "text": [
      "298000000000000 <class 'int'>\n",
      "50000 <class 'int'>\n",
      "15.79 <class 'float'>\n"
     ]
    }
   ],
   "source": [
    "시가총액 = 298000000000000\n",
    "현재가 = 50000\n",
    "PER = 15.79\n",
    "print(시가총액, type(시가총액))\n",
    "print(현재가, type(현재가))\n",
    "print(PER, type(PER))"
   ]
  },
  {
   "cell_type": "code",
   "execution_count": 38,
   "id": "25cd5b0e",
   "metadata": {
    "ExecuteTime": {
     "end_time": "2023-12-01T15:38:27.111402Z",
     "start_time": "2023-12-01T15:38:27.103668Z"
    }
   },
   "outputs": [
    {
     "name": "stdout",
     "output_type": "stream",
     "text": [
      "hello! python\n"
     ]
    }
   ],
   "source": [
    "#013\n",
    "s = \"hello\"\n",
    "t = \"python\"\n",
    "print(s + \"!\"+ \" \" + t)"
   ]
  },
  {
   "cell_type": "code",
   "execution_count": 39,
   "id": "026de034",
   "metadata": {
    "ExecuteTime": {
     "end_time": "2023-12-01T15:39:12.268188Z",
     "start_time": "2023-12-01T15:39:12.250957Z"
    }
   },
   "outputs": [
    {
     "data": {
      "text/plain": [
       "8"
      ]
     },
     "execution_count": 39,
     "metadata": {},
     "output_type": "execute_result"
    }
   ],
   "source": [
    "#014\n",
    "2 + 2 * 3\n",
    "#8"
   ]
  },
  {
   "cell_type": "code",
   "execution_count": 40,
   "id": "101eea53",
   "metadata": {
    "ExecuteTime": {
     "end_time": "2023-12-01T15:39:54.182709Z",
     "start_time": "2023-12-01T15:39:54.175063Z"
    }
   },
   "outputs": [
    {
     "name": "stdout",
     "output_type": "stream",
     "text": [
      "<class 'str'>\n"
     ]
    }
   ],
   "source": [
    "#015\n",
    "a = \"132\"\n",
    "print (type(a))\n",
    "#str으로 나오겠지"
   ]
  },
  {
   "cell_type": "code",
   "execution_count": 41,
   "id": "58931923",
   "metadata": {
    "ExecuteTime": {
     "end_time": "2023-12-01T15:40:21.877993Z",
     "start_time": "2023-12-01T15:40:21.868935Z"
    }
   },
   "outputs": [
    {
     "name": "stdout",
     "output_type": "stream",
     "text": [
      "<class 'int'>\n"
     ]
    }
   ],
   "source": [
    "#016\n",
    "num_str = 720\n",
    "print(type(num_str))"
   ]
  },
  {
   "cell_type": "code",
   "execution_count": 43,
   "id": "56a86a09",
   "metadata": {
    "ExecuteTime": {
     "end_time": "2023-12-01T15:41:31.734508Z",
     "start_time": "2023-12-01T15:41:31.727346Z"
    }
   },
   "outputs": [
    {
     "name": "stdout",
     "output_type": "stream",
     "text": [
      "720 <class 'int'>\n"
     ]
    }
   ],
   "source": [
    "#016\n",
    "num_str = \"720\"\n",
    "num_int = int(num_str) #int안에 넣으면 정수형으로 변환\n",
    "print(num_int, type(num_int))"
   ]
  },
  {
   "cell_type": "code",
   "execution_count": 44,
   "id": "e84a6e09",
   "metadata": {
    "ExecuteTime": {
     "end_time": "2023-12-01T15:42:31.984930Z",
     "start_time": "2023-12-01T15:42:31.975983Z"
    }
   },
   "outputs": [
    {
     "name": "stdout",
     "output_type": "stream",
     "text": [
      "100 <class 'str'>\n"
     ]
    }
   ],
   "source": [
    "#017\n",
    "num = 100\n",
    "num_str = str(num)\n",
    "print(num_str, type(num_str))"
   ]
  },
  {
   "cell_type": "code",
   "execution_count": 46,
   "id": "abc28056",
   "metadata": {
    "ExecuteTime": {
     "end_time": "2023-12-01T15:43:54.556505Z",
     "start_time": "2023-12-01T15:43:54.547373Z"
    }
   },
   "outputs": [
    {
     "name": "stdout",
     "output_type": "stream",
     "text": [
      "15.79 <class 'float'>\n"
     ]
    }
   ],
   "source": [
    "#018\n",
    "a = \"15.79\"\n",
    "b = float(a) #float() : 숫자나 문자열을 실수형으로 변환\n",
    "print(b, type(b))"
   ]
  },
  {
   "cell_type": "code",
   "execution_count": 48,
   "id": "3befabee",
   "metadata": {
    "ExecuteTime": {
     "end_time": "2023-12-01T15:45:27.372061Z",
     "start_time": "2023-12-01T15:45:27.364578Z"
    }
   },
   "outputs": [
    {
     "name": "stdout",
     "output_type": "stream",
     "text": [
      "2020,2019,2018,2017\n"
     ]
    }
   ],
   "source": [
    "#019\n",
    "year = \"2020\"\n",
    "year_int = int(year)\n",
    "print(year_int, year_int-1, year_int-2, year_int-3, sep=\",\")"
   ]
  },
  {
   "cell_type": "code",
   "execution_count": 52,
   "id": "e6e35ab0",
   "metadata": {
    "ExecuteTime": {
     "end_time": "2023-12-01T15:47:01.712337Z",
     "start_time": "2023-12-01T15:47:01.703294Z"
    }
   },
   "outputs": [
    {
     "name": "stdout",
     "output_type": "stream",
     "text": [
      "1749024원"
     ]
    }
   ],
   "source": [
    "#020\n",
    "에어컨 = 48584\n",
    "총금액 = 에어컨 * 36\n",
    "print(총금액, end=\"원\")"
   ]
  },
  {
   "cell_type": "code",
   "execution_count": 55,
   "id": "e4d4aa2e",
   "metadata": {
    "ExecuteTime": {
     "end_time": "2023-12-01T15:48:34.239566Z",
     "start_time": "2023-12-01T15:48:34.231174Z"
    }
   },
   "outputs": [
    {
     "name": "stdout",
     "output_type": "stream",
     "text": [
      "p t\n"
     ]
    }
   ],
   "source": [
    "#021\n",
    "letters = 'python'\n",
    "letters[0], letters[2] #인덱싱\n",
    "print(letters[0], letters[2])"
   ]
  },
  {
   "cell_type": "code",
   "execution_count": 56,
   "id": "591feafe",
   "metadata": {
    "ExecuteTime": {
     "end_time": "2023-12-01T15:49:20.530831Z",
     "start_time": "2023-12-01T15:49:20.521775Z"
    }
   },
   "outputs": [
    {
     "name": "stdout",
     "output_type": "stream",
     "text": [
      "2210\n"
     ]
    }
   ],
   "source": [
    "#022\n",
    "license_plate = \"24가 2210\"\n",
    "print(license_plate[4:]) #슬라이싱"
   ]
  },
  {
   "cell_type": "code",
   "execution_count": 59,
   "id": "d034abd5",
   "metadata": {
    "ExecuteTime": {
     "end_time": "2023-12-01T15:50:51.126240Z",
     "start_time": "2023-12-01T15:50:51.118007Z"
    }
   },
   "outputs": [
    {
     "name": "stdout",
     "output_type": "stream",
     "text": [
      "홀 홀 홀\n"
     ]
    }
   ],
   "source": [
    "#023\n",
    "string = \"홀짝홀짝홀짝\"\n",
    "print(string[0], string[2], string[4])"
   ]
  },
  {
   "cell_type": "code",
   "execution_count": 60,
   "id": "a975aa50",
   "metadata": {
    "ExecuteTime": {
     "end_time": "2023-12-01T15:51:07.607565Z",
     "start_time": "2023-12-01T15:51:07.600962Z"
    }
   },
   "outputs": [
    {
     "name": "stdout",
     "output_type": "stream",
     "text": [
      "홀홀홀\n"
     ]
    }
   ],
   "source": [
    "#023\n",
    "string = \"홀짝홀짝홀짝\"\n",
    "print(string[::2])\n",
    "#슬라이싱할 때 `시작인덱스:끝인덱스:인덱스 증가폭`을 지정할 수 있습니다."
   ]
  },
  {
   "cell_type": "code",
   "execution_count": 62,
   "id": "37d2631c",
   "metadata": {
    "ExecuteTime": {
     "end_time": "2023-12-01T15:56:18.195952Z",
     "start_time": "2023-12-01T15:56:18.182965Z"
    }
   },
   "outputs": [
    {
     "data": {
      "text/plain": [
       "[20, 50]"
      ]
     },
     "execution_count": 62,
     "metadata": {},
     "output_type": "execute_result"
    }
   ],
   "source": [
    "a = [0, 10, 20, 30, 40, 50, 60, 70, 80, 90]\n",
    "a[2:8:3]    # 인덱스 2부터 3씩 증가시키면서 인덱스 7까지 가져옴\n",
    "[20, 50]"
   ]
  },
  {
   "cell_type": "code",
   "execution_count": 63,
   "id": "bde7f35a",
   "metadata": {
    "ExecuteTime": {
     "end_time": "2023-12-01T15:56:47.748450Z",
     "start_time": "2023-12-01T15:56:47.741410Z"
    }
   },
   "outputs": [
    {
     "data": {
      "text/plain": [
       "'NOHTYP'"
      ]
     },
     "execution_count": 63,
     "metadata": {},
     "output_type": "execute_result"
    }
   ],
   "source": [
    "#024\n",
    "string = \"PYTHON\"\n",
    "string[::-1]"
   ]
  },
  {
   "cell_type": "code",
   "execution_count": 2,
   "id": "03f43be2",
   "metadata": {
    "ExecuteTime": {
     "end_time": "2023-12-09T09:02:11.332490Z",
     "start_time": "2023-12-09T09:02:11.322701Z"
    }
   },
   "outputs": [
    {
     "data": {
      "text/plain": [
       "'010 1111 2222'"
      ]
     },
     "execution_count": 2,
     "metadata": {},
     "output_type": "execute_result"
    }
   ],
   "source": [
    "#025\n",
    "phone_number = \"010-1111-2222\"\n",
    "phone_number.replace(\"-\",\" \")"
   ]
  },
  {
   "cell_type": "code",
   "execution_count": 66,
   "id": "d96366ea",
   "metadata": {
    "ExecuteTime": {
     "end_time": "2023-12-01T15:58:39.631519Z",
     "start_time": "2023-12-01T15:58:39.620027Z"
    }
   },
   "outputs": [
    {
     "data": {
      "text/plain": [
       "'01011112222'"
      ]
     },
     "execution_count": 66,
     "metadata": {},
     "output_type": "execute_result"
    }
   ],
   "source": [
    "#026\n",
    "phone_number = \"010-1111-2222\"\n",
    "phone_number.replace(\"-\",\"\")"
   ]
  },
  {
   "cell_type": "code",
   "execution_count": 68,
   "id": "16521a79",
   "metadata": {
    "ExecuteTime": {
     "end_time": "2023-12-01T15:59:34.674204Z",
     "start_time": "2023-12-01T15:59:34.666668Z"
    }
   },
   "outputs": [
    {
     "data": {
      "text/plain": [
       "'kr'"
      ]
     },
     "execution_count": 68,
     "metadata": {},
     "output_type": "execute_result"
    }
   ],
   "source": [
    "#027\n",
    "url = \"http://sharebook.kr\"\n",
    "url[17:]"
   ]
  },
  {
   "cell_type": "code",
   "execution_count": 72,
   "id": "b3189712",
   "metadata": {
    "ExecuteTime": {
     "end_time": "2023-12-01T16:01:31.634552Z",
     "start_time": "2023-12-01T16:01:31.625178Z"
    }
   },
   "outputs": [
    {
     "name": "stdout",
     "output_type": "stream",
     "text": [
      "['http://sharebook', 'kr']\n",
      "kr\n"
     ]
    }
   ],
   "source": [
    "#027\n",
    "url = \"http://sharebook.kr\"\n",
    "a = url.split(\".\") #.기준으로 문자열을 나눠줌\n",
    "print(a)\n",
    "print(a[-1])\n",
    "#split() 아무 값도 안넣으면 space, tab, enter 기준으로 나눔"
   ]
  },
  {
   "cell_type": "code",
   "execution_count": 73,
   "id": "1df6de69",
   "metadata": {
    "ExecuteTime": {
     "end_time": "2023-12-01T16:02:33.687137Z",
     "start_time": "2023-12-01T16:02:33.663487Z"
    }
   },
   "outputs": [
    {
     "ename": "TypeError",
     "evalue": "'str' object does not support item assignment",
     "output_type": "error",
     "traceback": [
      "\u001b[1;31m---------------------------------------------------------------------------\u001b[0m",
      "\u001b[1;31mTypeError\u001b[0m                                 Traceback (most recent call last)",
      "Cell \u001b[1;32mIn[73], line 3\u001b[0m\n\u001b[0;32m      1\u001b[0m \u001b[38;5;66;03m#028\u001b[39;00m\n\u001b[0;32m      2\u001b[0m lang \u001b[38;5;241m=\u001b[39m \u001b[38;5;124m'\u001b[39m\u001b[38;5;124mpython\u001b[39m\u001b[38;5;124m'\u001b[39m\n\u001b[1;32m----> 3\u001b[0m lang[\u001b[38;5;241m0\u001b[39m] \u001b[38;5;241m=\u001b[39m \u001b[38;5;124m'\u001b[39m\u001b[38;5;124mP\u001b[39m\u001b[38;5;124m'\u001b[39m\n\u001b[0;32m      4\u001b[0m \u001b[38;5;28mprint\u001b[39m(lang)\n",
      "\u001b[1;31mTypeError\u001b[0m: 'str' object does not support item assignment"
     ]
    }
   ],
   "source": [
    "#028 #무슨말이지?\n",
    "lang = 'python'\n",
    "lang[0] = 'P'\n",
    "print(lang)\n",
    "#python\n",
    "#정답확인 -> 문자열은 수정할 수 없음. 문자열이 할당 메서드를 지원하지 않음."
   ]
  },
  {
   "cell_type": "code",
   "execution_count": 4,
   "id": "f4b02248",
   "metadata": {
    "ExecuteTime": {
     "end_time": "2023-12-09T09:07:10.769101Z",
     "start_time": "2023-12-09T09:07:10.764217Z"
    }
   },
   "outputs": [
    {
     "data": {
      "text/plain": [
       "'Python'"
      ]
     },
     "execution_count": 4,
     "metadata": {},
     "output_type": "execute_result"
    }
   ],
   "source": [
    "#028, P로 바꾸고 싶다면?\n",
    "lang = 'python'\n",
    "lang.replace('p','P')"
   ]
  },
  {
   "cell_type": "code",
   "execution_count": 81,
   "id": "22b0a1dd",
   "metadata": {
    "ExecuteTime": {
     "end_time": "2023-12-01T16:06:21.339811Z",
     "start_time": "2023-12-01T16:06:21.331998Z"
    }
   },
   "outputs": [
    {
     "data": {
      "text/plain": [
       "'Abcdfe2A354A32A'"
      ]
     },
     "execution_count": 81,
     "metadata": {},
     "output_type": "execute_result"
    }
   ],
   "source": [
    "#029\n",
    "string = 'abcdfe2a354a32a'\n",
    "string.replace('a','A')"
   ]
  },
  {
   "cell_type": "code",
   "execution_count": 79,
   "id": "8650c152",
   "metadata": {
    "ExecuteTime": {
     "end_time": "2023-12-01T16:05:32.628742Z",
     "start_time": "2023-12-01T16:05:32.620277Z"
    }
   },
   "outputs": [
    {
     "name": "stdout",
     "output_type": "stream",
     "text": [
      "abcd\n"
     ]
    }
   ],
   "source": [
    "#030\n",
    "string = 'abcd'\n",
    "string.replace('b', 'B')\n",
    "print(string)\n",
    "#aBcd\n",
    "#문자열은 변경할 수 없는 자료형!\n",
    "#replace 메서드를 사용하면 원본은 그대로 둔채로 변경된 새로운 문자열 객체를 리턴해줌"
   ]
  },
  {
   "cell_type": "code",
   "execution_count": 82,
   "id": "a9a05071",
   "metadata": {
    "ExecuteTime": {
     "end_time": "2023-12-01T16:07:19.147652Z",
     "start_time": "2023-12-01T16:07:19.109212Z"
    }
   },
   "outputs": [
    {
     "ename": "AttributeError",
     "evalue": "'int' object has no attribute 'replace'",
     "output_type": "error",
     "traceback": [
      "\u001b[1;31m---------------------------------------------------------------------------\u001b[0m",
      "\u001b[1;31mAttributeError\u001b[0m                            Traceback (most recent call last)",
      "Cell \u001b[1;32mIn[82], line 2\u001b[0m\n\u001b[0;32m      1\u001b[0m a \u001b[38;5;241m=\u001b[39m \u001b[38;5;241m1234\u001b[39m\n\u001b[1;32m----> 2\u001b[0m a\u001b[38;5;241m.\u001b[39mreplace(\u001b[38;5;241m1\u001b[39m, \u001b[38;5;241m5\u001b[39m)\n\u001b[0;32m      3\u001b[0m \u001b[38;5;28mprint\u001b[39m(a)\n",
      "\u001b[1;31mAttributeError\u001b[0m: 'int' object has no attribute 'replace'"
     ]
    }
   ],
   "source": [
    "a = 1234\n",
    "a.replace(1, 5)\n",
    "print(a)\n",
    "#int는 repalce안됨"
   ]
  },
  {
   "cell_type": "code",
   "execution_count": 83,
   "id": "0ff69dee",
   "metadata": {
    "ExecuteTime": {
     "end_time": "2023-12-01T16:08:12.600800Z",
     "start_time": "2023-12-01T16:08:12.592373Z"
    }
   },
   "outputs": [
    {
     "name": "stdout",
     "output_type": "stream",
     "text": [
      "34\n"
     ]
    }
   ],
   "source": [
    "#031\n",
    "a = \"3\"\n",
    "b = \"4\"\n",
    "print(a + b)\n",
    "#34"
   ]
  },
  {
   "cell_type": "code",
   "execution_count": 84,
   "id": "2d22181a",
   "metadata": {
    "ExecuteTime": {
     "end_time": "2023-12-01T16:08:42.589125Z",
     "start_time": "2023-12-01T16:08:42.582052Z"
    }
   },
   "outputs": [
    {
     "name": "stdout",
     "output_type": "stream",
     "text": [
      "HiHiHi\n"
     ]
    }
   ],
   "source": [
    "#032\n",
    "print(\"Hi\" * 3)\n",
    "#HiHiHi"
   ]
  },
  {
   "cell_type": "code",
   "execution_count": 85,
   "id": "49639419",
   "metadata": {
    "ExecuteTime": {
     "end_time": "2023-12-01T16:09:02.532275Z",
     "start_time": "2023-12-01T16:09:02.525287Z"
    }
   },
   "outputs": [
    {
     "name": "stdout",
     "output_type": "stream",
     "text": [
      "--------------------------------------------------------------------------------\n"
     ]
    }
   ],
   "source": [
    "#033\n",
    "print('-'*80)"
   ]
  },
  {
   "cell_type": "code",
   "execution_count": 97,
   "id": "ee84ff9e",
   "metadata": {
    "ExecuteTime": {
     "end_time": "2023-12-01T16:12:17.312093Z",
     "start_time": "2023-12-01T16:12:17.304783Z"
    }
   },
   "outputs": [
    {
     "name": "stdout",
     "output_type": "stream",
     "text": [
      "python java python java python java python java \n"
     ]
    }
   ],
   "source": [
    "#034\n",
    "t1 = 'python'\n",
    "t2 = 'java'\n",
    "print((t1+\" \"+t2+\" \")*4)"
   ]
  },
  {
   "cell_type": "code",
   "execution_count": 100,
   "id": "fd0ee0f4",
   "metadata": {
    "ExecuteTime": {
     "end_time": "2023-12-01T16:14:38.028710Z",
     "start_time": "2023-12-01T16:14:37.987542Z"
    }
   },
   "outputs": [
    {
     "ename": "TypeError",
     "evalue": "not all arguments converted during string formatting",
     "output_type": "error",
     "traceback": [
      "\u001b[1;31m---------------------------------------------------------------------------\u001b[0m",
      "\u001b[1;31mTypeError\u001b[0m                                 Traceback (most recent call last)",
      "Cell \u001b[1;32mIn[100], line 6\u001b[0m\n\u001b[0;32m      4\u001b[0m name2 \u001b[38;5;241m=\u001b[39m \u001b[38;5;124m\"\u001b[39m\u001b[38;5;124m이철희\u001b[39m\u001b[38;5;124m\"\u001b[39m\n\u001b[0;32m      5\u001b[0m age2 \u001b[38;5;241m=\u001b[39m \u001b[38;5;241m13\u001b[39m\n\u001b[1;32m----> 6\u001b[0m \u001b[38;5;28mprint\u001b[39m(\u001b[38;5;124m\"\u001b[39m\u001b[38;5;124m이름: \u001b[39m\u001b[38;5;132;01m{0}\u001b[39;00m\u001b[38;5;124m, 나이: \u001b[39m\u001b[38;5;132;01m{1}\u001b[39;00m\u001b[38;5;124m\"\u001b[39m \u001b[38;5;241m%\u001b[39m (name1, age1))\n\u001b[0;32m      7\u001b[0m \u001b[38;5;28mprint\u001b[39m(\u001b[38;5;124m\"\u001b[39m\u001b[38;5;124m이름: \u001b[39m\u001b[38;5;132;01m{2}\u001b[39;00m\u001b[38;5;124m, 나이: \u001b[39m\u001b[38;5;132;01m{3}\u001b[39;00m\u001b[38;5;124m\"\u001b[39m\u001b[38;5;241m%\u001b[39m (name2, age2))\n",
      "\u001b[1;31mTypeError\u001b[0m: not all arguments converted during string formatting"
     ]
    }
   ],
   "source": [
    "#035\n",
    "name1 = \"김민수\" \n",
    "age1 = 10\n",
    "name2 = \"이철희\"\n",
    "age2 = 13\n",
    "print(\"이름: {0}, 나이: {1}\" % (name1, age1))\n",
    "print(\"이름: {2}, 나이: {3}\"% (name2, age2))"
   ]
  },
  {
   "cell_type": "code",
   "execution_count": 14,
   "id": "d0d792c1",
   "metadata": {
    "ExecuteTime": {
     "end_time": "2023-12-09T09:20:53.273315Z",
     "start_time": "2023-12-09T09:20:53.268372Z"
    }
   },
   "outputs": [
    {
     "name": "stdout",
     "output_type": "stream",
     "text": [
      "이름: 김민수 나이: 10\n",
      "이름: 이철희 나이: 13\n"
     ]
    }
   ],
   "source": [
    "#재시도!!\n",
    "name1 = \"김민수\" \n",
    "age1 = 10\n",
    "name2 = \"이철희\"\n",
    "age2 = 13\n",
    "a = f'이름: {name1} 나이: {age1}'\n",
    "b = f'이름: {name2} 나이: {age2}'\n",
    "print(a, b, sep=\"\\n\")"
   ]
  },
  {
   "cell_type": "code",
   "execution_count": 16,
   "id": "a09ae1af",
   "metadata": {
    "ExecuteTime": {
     "end_time": "2023-12-09T09:25:23.302858Z",
     "start_time": "2023-12-09T09:25:23.299036Z"
    },
    "scrolled": true
   },
   "outputs": [
    {
     "name": "stdout",
     "output_type": "stream",
     "text": [
      "이름: 김민수 나이: 10\n",
      "이름: 이철희 나이: 13\n"
     ]
    }
   ],
   "source": [
    "#035 정답확인\n",
    "name1 = \"김민수\" \n",
    "age1 = 10\n",
    "name2 = \"이철희\"\n",
    "age2 = 13\n",
    "print(\"이름: %s 나이: %d\" % (name1, age1))\n",
    "print(\"이름: %s 나이: %d\"% (name2, age2))"
   ]
  },
  {
   "cell_type": "code",
   "execution_count": 22,
   "id": "790b072b",
   "metadata": {
    "ExecuteTime": {
     "end_time": "2023-12-09T09:28:54.148821Z",
     "start_time": "2023-12-09T09:28:54.144294Z"
    }
   },
   "outputs": [
    {
     "name": "stdout",
     "output_type": "stream",
     "text": [
      "이름: 김민수, 나이: 10\n",
      "이름: 이철희, 나이: 13\n"
     ]
    }
   ],
   "source": [
    "#36 format 메서드\n",
    "name1 = \"김민수\" \n",
    "age1 = 10\n",
    "name2 = \"이철희\"\n",
    "age2 = 13\n",
    "print(\"이름: {0}, 나이: {1}\".format(name1, age1))\n",
    "print(\"이름: {0}, 나이: {1}\".format(name2, age2))"
   ]
  },
  {
   "cell_type": "code",
   "execution_count": 23,
   "id": "13c5a4f0",
   "metadata": {
    "ExecuteTime": {
     "end_time": "2023-12-09T09:29:35.973522Z",
     "start_time": "2023-12-09T09:29:35.968484Z"
    }
   },
   "outputs": [
    {
     "name": "stdout",
     "output_type": "stream",
     "text": [
      "이름: 김민수 나이: 10\n",
      "이름: 이철희 나이: 13\n"
     ]
    }
   ],
   "source": [
    "#36 정답확인\n",
    "name1 = \"김민수\" \n",
    "age1 = 10\n",
    "name2 = \"이철희\"\n",
    "age2 = 13\n",
    "print(\"이름: {} 나이: {}\".format(name1, age1))\n",
    "print(\"이름: {} 나이: {}\".format(name2, age2))\n",
    "#{} 값 비워놓고도 가능"
   ]
  },
  {
   "cell_type": "code",
   "execution_count": 27,
   "id": "edbaa5ff",
   "metadata": {
    "ExecuteTime": {
     "end_time": "2023-12-09T09:31:17.064122Z",
     "start_time": "2023-12-09T09:31:17.059964Z"
    }
   },
   "outputs": [
    {
     "name": "stdout",
     "output_type": "stream",
     "text": [
      "이름: 김민수 나이: 10\n",
      "이름: 이철희 나이: 13\n"
     ]
    }
   ],
   "source": [
    "#37 f-string\n",
    "name1 = \"김민수\" \n",
    "age1 = 10\n",
    "name2 = \"이철희\"\n",
    "age2 = 13\n",
    "print(f'이름: {name1} 나이: {age1}')\n",
    "print(f'이름: {name2} 나이: {age2}')"
   ]
  },
  {
   "cell_type": "code",
   "execution_count": 40,
   "id": "63579159",
   "metadata": {
    "ExecuteTime": {
     "end_time": "2023-12-09T09:36:02.569318Z",
     "start_time": "2023-12-09T09:36:02.562868Z"
    }
   },
   "outputs": [
    {
     "name": "stdout",
     "output_type": "stream",
     "text": [
      "5969782550\n"
     ]
    },
    {
     "data": {
      "text/plain": [
       "int"
      ]
     },
     "execution_count": 40,
     "metadata": {},
     "output_type": "execute_result"
    }
   ],
   "source": [
    "#38\n",
    "상장주식수 = \"5,969,782,550\"\n",
    "a_int = int(상장주식수.replace(\",\",\"\"))\n",
    "print(a_int)\n",
    "type(a_int)"
   ]
  },
  {
   "cell_type": "code",
   "execution_count": 41,
   "id": "d9111fd9",
   "metadata": {
    "ExecuteTime": {
     "end_time": "2023-12-09T09:36:55.430218Z",
     "start_time": "2023-12-09T09:36:55.425302Z"
    }
   },
   "outputs": [
    {
     "data": {
      "text/plain": [
       "'2020/03'"
      ]
     },
     "execution_count": 41,
     "metadata": {},
     "output_type": "execute_result"
    }
   ],
   "source": [
    "#39\n",
    "분기 = \"2020/03(E) (IFRS연결)\"\n",
    "분기[0:7]"
   ]
  },
  {
   "cell_type": "code",
   "execution_count": 45,
   "id": "78dd1ecc",
   "metadata": {
    "ExecuteTime": {
     "end_time": "2023-12-09T09:37:55.580575Z",
     "start_time": "2023-12-09T09:37:55.575170Z"
    }
   },
   "outputs": [
    {
     "data": {
      "text/plain": [
       "'삼성전자'"
      ]
     },
     "execution_count": 45,
     "metadata": {},
     "output_type": "execute_result"
    }
   ],
   "source": [
    "#40\n",
    "data = \"   삼성전자    \"\n",
    "data.replace(\" \",\"\")"
   ]
  },
  {
   "cell_type": "code",
   "execution_count": 46,
   "id": "2be7f5e8",
   "metadata": {
    "ExecuteTime": {
     "end_time": "2023-12-09T09:38:22.426002Z",
     "start_time": "2023-12-09T09:38:22.422375Z"
    }
   },
   "outputs": [
    {
     "name": "stdout",
     "output_type": "stream",
     "text": [
      "삼성전자\n"
     ]
    }
   ],
   "source": [
    "#40 정답확인 strip()\n",
    "data = \"   삼성전자    \"\n",
    "data1 = data.strip()\n",
    "print(data1)\n",
    "#strip() -> 좌우 공백 제거 가능.\n",
    "#원본 문자열은 그대로 유지되고, 공백이 제거된 새로운 문자열 반환\n",
    "#rstrip() 오른쪽 공백 지우기\n",
    "#lstrip() 왼쪽공백지우기\n",
    "#strip() 양쪽공백지우기"
   ]
  },
  {
   "cell_type": "code",
   "execution_count": 49,
   "id": "6e7de548",
   "metadata": {
    "ExecuteTime": {
     "end_time": "2023-12-09T09:41:07.166789Z",
     "start_time": "2023-12-09T09:41:07.161601Z"
    }
   },
   "outputs": [
    {
     "data": {
      "text/plain": [
       "'btc_krw'"
      ]
     },
     "execution_count": 49,
     "metadata": {},
     "output_type": "execute_result"
    }
   ],
   "source": [
    "#41\n",
    "ticker = \"btc_krw\"\n",
    "ticker.upper() #원본 문자열 유지, 새로운 문자열 객체 반환"
   ]
  },
  {
   "cell_type": "code",
   "execution_count": 50,
   "id": "a6330d4a",
   "metadata": {
    "ExecuteTime": {
     "end_time": "2023-12-09T09:41:34.983079Z",
     "start_time": "2023-12-09T09:41:34.979264Z"
    }
   },
   "outputs": [
    {
     "name": "stdout",
     "output_type": "stream",
     "text": [
      "btc_krw\n"
     ]
    }
   ],
   "source": [
    "#42\n",
    "ticker = \"BTC_KRW\"\n",
    "ticker2 = ticker.lower()\n",
    "print(ticker2)"
   ]
  },
  {
   "cell_type": "code",
   "execution_count": 53,
   "id": "ae571658",
   "metadata": {
    "ExecuteTime": {
     "end_time": "2023-12-09T09:42:25.559396Z",
     "start_time": "2023-12-09T09:42:25.554570Z"
    }
   },
   "outputs": [
    {
     "data": {
      "text/plain": [
       "'Hello'"
      ]
     },
     "execution_count": 53,
     "metadata": {},
     "output_type": "execute_result"
    }
   ],
   "source": [
    "#43\n",
    "a = \"hello\"\n",
    "a.capitalize()"
   ]
  },
  {
   "cell_type": "code",
   "execution_count": 55,
   "id": "f26b1a4d",
   "metadata": {
    "ExecuteTime": {
     "end_time": "2023-12-09T09:43:11.299351Z",
     "start_time": "2023-12-09T09:43:11.293992Z"
    }
   },
   "outputs": [
    {
     "data": {
      "text/plain": [
       "True"
      ]
     },
     "execution_count": 55,
     "metadata": {},
     "output_type": "execute_result"
    }
   ],
   "source": [
    "#44 정답확인\n",
    "file_name = \"보고서.xlsx\"\n",
    "file_name.endswith(\"xlsx\")\n",
    "#str.endswith() -> 문자열이 지정 문자로 끝나면 True 반환\n",
    "#str.endswith(suffix[, start[,end]])\n",
    "#suffix : 찾고자 하는 지정 문자(들)\n",
    "#start : 문자열 시작 위치 인덱스\n",
    "#end : 문자열 끝 위치 인덱스"
   ]
  },
  {
   "cell_type": "code",
   "execution_count": 59,
   "id": "2f929ac6",
   "metadata": {
    "ExecuteTime": {
     "end_time": "2023-12-09T09:50:29.584381Z",
     "start_time": "2023-12-09T09:50:29.580086Z"
    }
   },
   "outputs": [
    {
     "name": "stdout",
     "output_type": "stream",
     "text": [
      "True\n",
      "False\n"
     ]
    }
   ],
   "source": [
    "#45\n",
    "file_name = \"보고서.xlsx\"\n",
    "print(file_name.endswith(\"xlsx\"))\n",
    "print(file_name.endswith(\"xls\"))"
   ]
  },
  {
   "cell_type": "code",
   "execution_count": 61,
   "id": "67eef6f9",
   "metadata": {
    "ExecuteTime": {
     "end_time": "2023-12-09T09:51:08.088022Z",
     "start_time": "2023-12-09T09:51:08.082786Z"
    }
   },
   "outputs": [
    {
     "data": {
      "text/plain": [
       "True"
      ]
     },
     "execution_count": 61,
     "metadata": {},
     "output_type": "execute_result"
    }
   ],
   "source": [
    "#45 정답확인\n",
    "file_name = \"보고서.xlsx\"\n",
    "file_name.endswith((\"xlsx\", \"xls\")) #튜플 가능"
   ]
  },
  {
   "cell_type": "code",
   "execution_count": 62,
   "id": "489ad2fc",
   "metadata": {
    "ExecuteTime": {
     "end_time": "2023-12-09T09:52:13.148990Z",
     "start_time": "2023-12-09T09:52:13.143657Z"
    }
   },
   "outputs": [
    {
     "data": {
      "text/plain": [
       "True"
      ]
     },
     "execution_count": 62,
     "metadata": {},
     "output_type": "execute_result"
    }
   ],
   "source": [
    "#46\n",
    "file_name = \"2020_보고서.xlsx\"\n",
    "file_name.startswith(\"2020\")"
   ]
  },
  {
   "cell_type": "code",
   "execution_count": 63,
   "id": "971c278f",
   "metadata": {
    "ExecuteTime": {
     "end_time": "2023-12-09T09:52:34.588158Z",
     "start_time": "2023-12-09T09:52:34.583066Z"
    }
   },
   "outputs": [
    {
     "data": {
      "text/plain": [
       "['hello', 'world']"
      ]
     },
     "execution_count": 63,
     "metadata": {},
     "output_type": "execute_result"
    }
   ],
   "source": [
    "#47\n",
    "a = \"hello world\"\n",
    "a.split(\" \")"
   ]
  },
  {
   "cell_type": "code",
   "execution_count": 65,
   "id": "75d882a2",
   "metadata": {
    "ExecuteTime": {
     "end_time": "2023-12-09T09:53:01.251026Z",
     "start_time": "2023-12-09T09:53:01.246689Z"
    }
   },
   "outputs": [
    {
     "data": {
      "text/plain": [
       "['hello', 'world']"
      ]
     },
     "execution_count": 65,
     "metadata": {},
     "output_type": "execute_result"
    }
   ],
   "source": [
    "a = \"hello world\"\n",
    "a.split()"
   ]
  },
  {
   "cell_type": "code",
   "execution_count": 66,
   "id": "532af499",
   "metadata": {
    "ExecuteTime": {
     "end_time": "2023-12-09T09:53:31.317899Z",
     "start_time": "2023-12-09T09:53:31.312392Z"
    }
   },
   "outputs": [
    {
     "data": {
      "text/plain": [
       "['btc', 'krw']"
      ]
     },
     "execution_count": 66,
     "metadata": {},
     "output_type": "execute_result"
    }
   ],
   "source": [
    "#48\n",
    "ticker = \"btc_krw\"\n",
    "ticker.split(\"_\")"
   ]
  },
  {
   "cell_type": "code",
   "execution_count": 78,
   "id": "51b32d10",
   "metadata": {
    "ExecuteTime": {
     "end_time": "2023-12-09T09:59:09.812229Z",
     "start_time": "2023-12-09T09:59:09.808475Z"
    }
   },
   "outputs": [
    {
     "name": "stdout",
     "output_type": "stream",
     "text": [
      "['2020', '05', '01']\n",
      "연도: 2020, 월: 05, 일: 01\n"
     ]
    }
   ],
   "source": [
    "#49\n",
    "date= \"2020-05-01\"\n",
    "a = date.split(\"-\")\n",
    "print(a)\n",
    "print(f\"연도: {a[0]}, 월: {a[1]}, 일: {a[2]}\")"
   ]
  },
  {
   "cell_type": "code",
   "execution_count": 79,
   "id": "5fcd263f",
   "metadata": {
    "ExecuteTime": {
     "end_time": "2023-12-09T09:59:47.932548Z",
     "start_time": "2023-12-09T09:59:47.928044Z"
    }
   },
   "outputs": [
    {
     "data": {
      "text/plain": [
       "'039490'"
      ]
     },
     "execution_count": 79,
     "metadata": {},
     "output_type": "execute_result"
    }
   ],
   "source": [
    "#50\n",
    "data = \"039490     \"\n",
    "data.rstrip()"
   ]
  },
  {
   "cell_type": "code",
   "execution_count": 84,
   "id": "41192438",
   "metadata": {
    "ExecuteTime": {
     "end_time": "2023-12-09T10:01:04.590813Z",
     "start_time": "2023-12-09T10:01:04.587238Z"
    }
   },
   "outputs": [],
   "source": [
    "data = \"039490     \"\n",
    "data = data.rstrip()\n",
    "#data 변수 새로 바인딩\n",
    "#기존 공백 포함된 문자열은 메모리에서 자동 삭제됨"
   ]
  },
  {
   "cell_type": "code",
   "execution_count": null,
   "id": "8f6f1cbe",
   "metadata": {},
   "outputs": [],
   "source": []
  }
 ],
 "metadata": {
  "kernelspec": {
   "display_name": "Python 3 (ipykernel)",
   "language": "python",
   "name": "python3"
  },
  "language_info": {
   "codemirror_mode": {
    "name": "ipython",
    "version": 3
   },
   "file_extension": ".py",
   "mimetype": "text/x-python",
   "name": "python",
   "nbconvert_exporter": "python",
   "pygments_lexer": "ipython3",
   "version": "3.11.5"
  },
  "toc": {
   "base_numbering": 1,
   "nav_menu": {},
   "number_sections": true,
   "sideBar": true,
   "skip_h1_title": false,
   "title_cell": "Table of Contents",
   "title_sidebar": "Contents",
   "toc_cell": false,
   "toc_position": {},
   "toc_section_display": true,
   "toc_window_display": false
  }
 },
 "nbformat": 4,
 "nbformat_minor": 5
}
