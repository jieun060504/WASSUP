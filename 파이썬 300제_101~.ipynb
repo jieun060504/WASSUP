{
 "cells": [
  {
   "cell_type": "markdown",
   "id": "d8a20564",
   "metadata": {},
   "source": [
    "### 101"
   ]
  },
  {
   "cell_type": "markdown",
   "id": "5f4ea73e",
   "metadata": {},
   "source": [
    "파이썬에서 True 혹은 False를 갖는 데이터 타입은 무엇인가?"
   ]
  },
  {
   "cell_type": "markdown",
   "id": "225be629",
   "metadata": {
    "ExecuteTime": {
     "end_time": "2023-11-28T01:00:47.571834Z",
     "start_time": "2023-11-28T01:00:47.561118Z"
    }
   },
   "source": [
    "bool 타입"
   ]
  },
  {
   "cell_type": "markdown",
   "id": "29a67a87",
   "metadata": {},
   "source": [
    "### 102~110\n",
    "아래 코드의 출력 결과를 예상하라"
   ]
  },
  {
   "cell_type": "code",
   "execution_count": 2,
   "id": "2768d0d7",
   "metadata": {
    "ExecuteTime": {
     "end_time": "2023-11-28T01:03:01.748574Z",
     "start_time": "2023-11-28T01:03:01.740298Z"
    }
   },
   "outputs": [
    {
     "name": "stdout",
     "output_type": "stream",
     "text": [
      "False\n"
     ]
    }
   ],
   "source": [
    "print(3 == 5)\n",
    "#False"
   ]
  },
  {
   "cell_type": "code",
   "execution_count": 3,
   "id": "d42f79e5",
   "metadata": {
    "ExecuteTime": {
     "end_time": "2023-11-28T01:03:44.630979Z",
     "start_time": "2023-11-28T01:03:44.624955Z"
    }
   },
   "outputs": [
    {
     "name": "stdout",
     "output_type": "stream",
     "text": [
      "True\n"
     ]
    }
   ],
   "source": [
    "print (3 < 5)\n",
    "#True"
   ]
  },
  {
   "cell_type": "code",
   "execution_count": 4,
   "id": "5e3f6bc8",
   "metadata": {
    "ExecuteTime": {
     "end_time": "2023-11-28T01:04:04.547918Z",
     "start_time": "2023-11-28T01:04:04.539755Z"
    }
   },
   "outputs": [
    {
     "name": "stdout",
     "output_type": "stream",
     "text": [
      "True\n"
     ]
    }
   ],
   "source": [
    "x = 4\n",
    "print(1 < x < 5)\n",
    "#True"
   ]
  },
  {
   "cell_type": "code",
   "execution_count": 5,
   "id": "c3cd7e05",
   "metadata": {
    "ExecuteTime": {
     "end_time": "2023-11-28T01:04:50.561877Z",
     "start_time": "2023-11-28T01:04:50.552085Z"
    }
   },
   "outputs": [
    {
     "name": "stdout",
     "output_type": "stream",
     "text": [
      "True\n"
     ]
    }
   ],
   "source": [
    "print ((3 == 3) and (4 != 3))\n",
    "#True\n",
    "#and는 모두 참이어야 참\n",
    "#x != y => x와 y가 같지 않다"
   ]
  },
  {
   "cell_type": "code",
   "execution_count": 6,
   "id": "3af3f841",
   "metadata": {
    "ExecuteTime": {
     "end_time": "2023-11-28T03:55:48.759932Z",
     "start_time": "2023-11-28T03:55:48.744110Z"
    }
   },
   "outputs": [
    {
     "ename": "SyntaxError",
     "evalue": "expression cannot contain assignment, perhaps you meant \"==\"? (1142740626.py, line 1)",
     "output_type": "error",
     "traceback": [
      "\u001b[1;36m  Cell \u001b[1;32mIn[6], line 1\u001b[1;36m\u001b[0m\n\u001b[1;33m    print(3 =>4)\u001b[0m\n\u001b[1;37m          ^\u001b[0m\n\u001b[1;31mSyntaxError\u001b[0m\u001b[1;31m:\u001b[0m expression cannot contain assignment, perhaps you meant \"==\"?\n"
     ]
    }
   ],
   "source": [
    "print(3 =>4)\n",
    "#비교연산자가 옳지 않음"
   ]
  },
  {
   "cell_type": "code",
   "execution_count": 7,
   "id": "f69173e3",
   "metadata": {
    "ExecuteTime": {
     "end_time": "2023-11-28T03:56:04.349169Z",
     "start_time": "2023-11-28T03:56:04.339682Z"
    }
   },
   "outputs": [
    {
     "name": "stdout",
     "output_type": "stream",
     "text": [
      "False\n"
     ]
    }
   ],
   "source": [
    "print(3>=4)"
   ]
  },
  {
   "cell_type": "code",
   "execution_count": 8,
   "id": "0fe109de",
   "metadata": {
    "ExecuteTime": {
     "end_time": "2023-11-28T03:57:07.174555Z",
     "start_time": "2023-11-28T03:57:07.167683Z"
    }
   },
   "outputs": [],
   "source": [
    "if 4 < 3:\n",
    "    print(\"Hello World\")\n",
    "#틀렸으니까 프린트하지 않음"
   ]
  },
  {
   "cell_type": "code",
   "execution_count": 9,
   "id": "a9f0853e",
   "metadata": {
    "ExecuteTime": {
     "end_time": "2023-11-28T03:58:05.988240Z",
     "start_time": "2023-11-28T03:58:05.981861Z"
    }
   },
   "outputs": [
    {
     "name": "stdout",
     "output_type": "stream",
     "text": [
      "Hi, there.\n"
     ]
    }
   ],
   "source": [
    "if 4 < 3:\n",
    "    print(\"Hello World\")\n",
    "else:\n",
    "    print(\"Hi, there.\")\n",
    "#\"Hi, there\""
   ]
  },
  {
   "cell_type": "code",
   "execution_count": 10,
   "id": "6297a900",
   "metadata": {
    "ExecuteTime": {
     "end_time": "2023-11-28T03:59:04.624226Z",
     "start_time": "2023-11-28T03:59:04.617587Z"
    }
   },
   "outputs": [
    {
     "name": "stdout",
     "output_type": "stream",
     "text": [
      "1\n",
      "2\n",
      "4\n"
     ]
    }
   ],
   "source": [
    "if True :\n",
    "    print (\"1\")\n",
    "    print(\"2\")\n",
    "else :\n",
    "    print(\"3\")\n",
    "print(\"4\")\n",
    "#1, 2\n",
    "#왜 4가 나오는거지?"
   ]
  },
  {
   "cell_type": "code",
   "execution_count": 12,
   "id": "4b2123da",
   "metadata": {
    "ExecuteTime": {
     "end_time": "2023-11-28T04:02:29.895255Z",
     "start_time": "2023-11-28T04:02:29.886885Z"
    }
   },
   "outputs": [
    {
     "name": "stdout",
     "output_type": "stream",
     "text": [
      "3\n",
      "5\n"
     ]
    }
   ],
   "source": [
    "if True :\n",
    "    if False:\n",
    "        print(\"1\")\n",
    "        print(\"2\")\n",
    "    else:\n",
    "        print(\"3\")\n",
    "else:\n",
    "    print(\"4\")\n",
    "print(\"5\")\n",
    "#3, 5"
   ]
  },
  {
   "cell_type": "markdown",
   "id": "8e979e51",
   "metadata": {},
   "source": [
    "### 111~120"
   ]
  },
  {
   "cell_type": "code",
   "execution_count": 15,
   "id": "bde40531",
   "metadata": {
    "ExecuteTime": {
     "end_time": "2023-11-28T04:08:04.625361Z",
     "start_time": "2023-11-28T04:07:56.163666Z"
    }
   },
   "outputs": [
    {
     "name": "stdout",
     "output_type": "stream",
     "text": [
      "입력:안녕하세요\n",
      "안녕하세요안녕하세요\n"
     ]
    }
   ],
   "source": [
    "#111\n",
    "#사용자로부터 입력받은 문자열을 두 번 출력하라.아래는 사용자가\n",
    "#\"안녕하세요\"를 입력한 경우의 출력 결과이다.\n",
    "user = input(\"입력:\")\n",
    "print(user * 2)\n",
    "#정답 봤음 !!!!!!!!!"
   ]
  },
  {
   "cell_type": "code",
   "execution_count": 18,
   "id": "fae78047",
   "metadata": {
    "ExecuteTime": {
     "end_time": "2023-11-28T06:54:40.551464Z",
     "start_time": "2023-11-28T06:54:39.209961Z"
    }
   },
   "outputs": [
    {
     "name": "stdout",
     "output_type": "stream",
     "text": [
      "숫자를 입력하세요:44\n"
     ]
    },
    {
     "ename": "TypeError",
     "evalue": "can only concatenate str (not \"int\") to str",
     "output_type": "error",
     "traceback": [
      "\u001b[1;31m---------------------------------------------------------------------------\u001b[0m",
      "\u001b[1;31mTypeError\u001b[0m                                 Traceback (most recent call last)",
      "Cell \u001b[1;32mIn[18], line 3\u001b[0m\n\u001b[0;32m      1\u001b[0m \u001b[38;5;66;03m#사용자로부터 하나의 숫자를 입력받고, 입력 받은 숫자에 10을 더해 출력하라.\u001b[39;00m\n\u001b[0;32m      2\u001b[0m user \u001b[38;5;241m=\u001b[39m \u001b[38;5;28minput\u001b[39m(\u001b[38;5;124m\"\u001b[39m\u001b[38;5;124m숫자를 입력하세요:\u001b[39m\u001b[38;5;124m\"\u001b[39m)\n\u001b[1;32m----> 3\u001b[0m \u001b[38;5;28mprint\u001b[39m(user \u001b[38;5;241m+\u001b[39m \u001b[38;5;28mint\u001b[39m(\u001b[38;5;241m10\u001b[39m))\n",
      "\u001b[1;31mTypeError\u001b[0m: can only concatenate str (not \"int\") to str"
     ]
    }
   ],
   "source": [
    "#112\n",
    "#사용자로부터 하나의 숫자를 입력받고, 입력 받은 숫자에 10을 더해 출력하라.\n",
    "user = input(\"숫자를 입력하세요:\")\n",
    "print(user + int(10))"
   ]
  },
  {
   "cell_type": "code",
   "execution_count": 19,
   "id": "5092507f",
   "metadata": {
    "ExecuteTime": {
     "end_time": "2023-11-28T06:55:24.821385Z",
     "start_time": "2023-11-28T06:55:23.605443Z"
    }
   },
   "outputs": [
    {
     "name": "stdout",
     "output_type": "stream",
     "text": [
      "숫자를 입력하세요:33\n",
      "43\n"
     ]
    }
   ],
   "source": [
    "#112\n",
    "#사용자로부터 하나의 숫자를 입력받고, 입력 받은 숫자에 10을 더해 출력하라.\n",
    "user = input(\"숫자를 입력하세요:\")\n",
    "print(10 + int(user))\n",
    "#정답봄\n",
    "#왜 int안에 user을 넣는거지..???"
   ]
  },
  {
   "cell_type": "code",
   "execution_count": null,
   "id": "e367ba62",
   "metadata": {
    "ExecuteTime": {
     "start_time": "2023-11-28T06:56:59.742Z"
    }
   },
   "outputs": [],
   "source": [
    "#113\n",
    "#사용자로부터 하나의 숫자를 입력 받고 짝수/홀수를 판별하라.\n",
    "a = 0\n",
    "user = input(하나의 숫자를 입력하세요:)\n",
    "\n"
   ]
  },
  {
   "cell_type": "code",
   "execution_count": null,
   "id": "879a3929",
   "metadata": {},
   "outputs": [],
   "source": []
  }
 ],
 "metadata": {
  "kernelspec": {
   "display_name": "Python 3 (ipykernel)",
   "language": "python",
   "name": "python3"
  },
  "language_info": {
   "codemirror_mode": {
    "name": "ipython",
    "version": 3
   },
   "file_extension": ".py",
   "mimetype": "text/x-python",
   "name": "python",
   "nbconvert_exporter": "python",
   "pygments_lexer": "ipython3",
   "version": "3.11.5"
  },
  "toc": {
   "base_numbering": 1,
   "nav_menu": {},
   "number_sections": true,
   "sideBar": true,
   "skip_h1_title": false,
   "title_cell": "Table of Contents",
   "title_sidebar": "Contents",
   "toc_cell": false,
   "toc_position": {},
   "toc_section_display": true,
   "toc_window_display": false
  }
 },
 "nbformat": 4,
 "nbformat_minor": 5
}
