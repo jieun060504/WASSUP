{
 "cells": [
  {
   "cell_type": "code",
   "execution_count": 3,
   "id": "df033c11",
   "metadata": {
    "ExecuteTime": {
     "end_time": "2023-12-10T16:13:09.459575Z",
     "start_time": "2023-12-10T16:13:09.449658Z"
    },
    "scrolled": true
   },
   "outputs": [
    {
     "name": "stdout",
     "output_type": "stream",
     "text": [
      "사과\n",
      "귤\n",
      "수박\n"
     ]
    }
   ],
   "source": [
    "#131\n",
    "과일 = [\"사과\", \"귤\", \"수박\"]\n",
    "for 변수 in 과일:\n",
    "    print(변수)\n",
    "#\"사과\"\n",
    "#\"귤\"\n",
    "#\"수박\""
   ]
  },
  {
   "cell_type": "code",
   "execution_count": 15,
   "id": "d7e2a494",
   "metadata": {
    "ExecuteTime": {
     "end_time": "2023-12-10T16:19:36.486443Z",
     "start_time": "2023-12-10T16:19:36.480514Z"
    }
   },
   "outputs": [
    {
     "name": "stdout",
     "output_type": "stream",
     "text": [
      "은진이\n",
      "은진이\n",
      "은진이\n",
      "은진이\n"
     ]
    }
   ],
   "source": [
    "#132\n",
    "과일 = [\"사과\", \"귤\", \"수박\", \"은지오\"]\n",
    "for 변수 in 과일:\n",
    "  print(\"은진이\")\n",
    "# #####"
   ]
  },
  {
   "cell_type": "code",
   "execution_count": 16,
   "id": "f8d5cc44",
   "metadata": {
    "ExecuteTime": {
     "end_time": "2023-12-10T16:20:55.465617Z",
     "start_time": "2023-12-10T16:20:55.456365Z"
    },
    "scrolled": true
   },
   "outputs": [
    {
     "name": "stdout",
     "output_type": "stream",
     "text": [
      "A\n",
      "B\n",
      "C\n"
     ]
    }
   ],
   "source": [
    "#133\n",
    "영어 = [\"A\", \"B\", \"C\"]\n",
    "for 변수 in 영어:\n",
    "    print(변수)"
   ]
  },
  {
   "cell_type": "code",
   "execution_count": 30,
   "id": "dd52d195",
   "metadata": {
    "ExecuteTime": {
     "end_time": "2023-12-10T16:30:15.136004Z",
     "start_time": "2023-12-10T16:30:15.130046Z"
    }
   },
   "outputs": [
    {
     "name": "stdout",
     "output_type": "stream",
     "text": [
      "출력: A\n",
      "출력: B\n",
      "출력: C\n"
     ]
    }
   ],
   "source": [
    "#134\n",
    "print(\"출력:\", \"A\")\n",
    "print(\"출력:\", \"B\")\n",
    "print(\"출력:\", \"C\")"
   ]
  },
  {
   "cell_type": "code",
   "execution_count": 32,
   "id": "7eb2efc7",
   "metadata": {
    "ExecuteTime": {
     "end_time": "2023-12-10T16:31:13.090065Z",
     "start_time": "2023-12-10T16:31:13.081636Z"
    }
   },
   "outputs": [
    {
     "name": "stdout",
     "output_type": "stream",
     "text": [
      "변환: a\n",
      "변환: b\n",
      "변환: c\n"
     ]
    }
   ],
   "source": [
    "#135\n",
    "print(\"변환:\", \"A\".lower())\n",
    "print(\"변환:\", \"B\".lower())\n",
    "print(\"변환:\", \"C\".lower())"
   ]
  },
  {
   "cell_type": "code",
   "execution_count": 33,
   "id": "42a1123e",
   "metadata": {
    "ExecuteTime": {
     "end_time": "2023-12-10T16:31:51.697026Z",
     "start_time": "2023-12-10T16:31:51.687743Z"
    }
   },
   "outputs": [
    {
     "name": "stdout",
     "output_type": "stream",
     "text": [
      "10\n",
      "20\n",
      "30\n"
     ]
    }
   ],
   "source": [
    "#136~137\n",
    "num = [\"10\",\"20\",\"30\"]\n",
    "for i in num:\n",
    "    print(i)"
   ]
  },
  {
   "cell_type": "code",
   "execution_count": 34,
   "id": "7f733ff8",
   "metadata": {
    "ExecuteTime": {
     "end_time": "2023-12-10T16:33:35.097615Z",
     "start_time": "2023-12-10T16:33:35.089153Z"
    }
   },
   "outputs": [
    {
     "name": "stdout",
     "output_type": "stream",
     "text": [
      "10\n",
      "-------\n",
      "20\n",
      "-------\n",
      "30\n",
      "-------\n"
     ]
    }
   ],
   "source": [
    "#138\n",
    "for i in [10, 20, 30]:\n",
    "    print(i)\n",
    "    print(\"-------\")"
   ]
  },
  {
   "cell_type": "code",
   "execution_count": 35,
   "id": "9e1fe7f2",
   "metadata": {
    "ExecuteTime": {
     "end_time": "2023-12-10T16:34:14.501840Z",
     "start_time": "2023-12-10T16:34:14.492744Z"
    }
   },
   "outputs": [
    {
     "name": "stdout",
     "output_type": "stream",
     "text": [
      "++++\n",
      "10\n",
      "20\n",
      "30\n"
     ]
    }
   ],
   "source": [
    "#139\n",
    "print(\"++++\")\n",
    "for i in [10, 20, 30]:\n",
    "    print(i)"
   ]
  },
  {
   "cell_type": "code",
   "execution_count": 36,
   "id": "b428159e",
   "metadata": {
    "ExecuteTime": {
     "end_time": "2023-12-10T16:34:39.990973Z",
     "start_time": "2023-12-10T16:34:39.983462Z"
    }
   },
   "outputs": [
    {
     "name": "stdout",
     "output_type": "stream",
     "text": [
      "------\n",
      "------\n",
      "------\n",
      "------\n"
     ]
    }
   ],
   "source": [
    "#140\n",
    "for i in [1, 2, 3, 4]:\n",
    "    print(\"------\")"
   ]
  },
  {
   "cell_type": "code",
   "execution_count": 37,
   "id": "ef6d3ee4",
   "metadata": {
    "ExecuteTime": {
     "end_time": "2023-12-10T16:35:25.604536Z",
     "start_time": "2023-12-10T16:35:25.597026Z"
    }
   },
   "outputs": [
    {
     "name": "stdout",
     "output_type": "stream",
     "text": [
      "110\n",
      "210\n",
      "310\n"
     ]
    }
   ],
   "source": [
    "#141\n",
    "for i in [100, 200, 300]:\n",
    "    result = i + 10\n",
    "    print(result)"
   ]
  },
  {
   "cell_type": "code",
   "execution_count": 38,
   "id": "a7c5c5f7",
   "metadata": {
    "ExecuteTime": {
     "end_time": "2023-12-10T16:36:18.024600Z",
     "start_time": "2023-12-10T16:36:18.016155Z"
    }
   },
   "outputs": [
    {
     "name": "stdout",
     "output_type": "stream",
     "text": [
      "오늘의 메뉴: 김밥\n",
      "오늘의 메뉴: 라면\n",
      "오늘의 메뉴: 튀김\n"
     ]
    }
   ],
   "source": [
    "#142\n",
    "리스트 = [\"김밥\", \"라면\", \"튀김\"]\n",
    "for 메뉴 in 리스트 :\n",
    "    print(\"오늘의 메뉴:\", 메뉴)"
   ]
  },
  {
   "cell_type": "code",
   "execution_count": 39,
   "id": "b04ce017",
   "metadata": {
    "ExecuteTime": {
     "end_time": "2023-12-10T16:37:00.315576Z",
     "start_time": "2023-12-10T16:37:00.307087Z"
    }
   },
   "outputs": [
    {
     "name": "stdout",
     "output_type": "stream",
     "text": [
      "6\n",
      "4\n",
      "4\n"
     ]
    }
   ],
   "source": [
    "#143\n",
    "리스트 = [\"SK하이닉스\", \"삼성전자\", \"LG전자\"]\n",
    "for i in 리스트:\n",
    "    print(len(i))"
   ]
  },
  {
   "cell_type": "code",
   "execution_count": 40,
   "id": "349d5ec5",
   "metadata": {
    "ExecuteTime": {
     "end_time": "2023-12-10T16:37:41.326095Z",
     "start_time": "2023-12-10T16:37:41.318741Z"
    }
   },
   "outputs": [
    {
     "name": "stdout",
     "output_type": "stream",
     "text": [
      "dog 3\n",
      "cat 3\n",
      "parrot 6\n"
     ]
    }
   ],
   "source": [
    "#144\n",
    "리스트 = ['dog', 'cat', 'parrot']\n",
    "for i in 리스트 :\n",
    "    print(i, len(i))"
   ]
  },
  {
   "cell_type": "code",
   "execution_count": 41,
   "id": "62d3c84e",
   "metadata": {
    "ExecuteTime": {
     "end_time": "2023-12-10T16:38:09.106561Z",
     "start_time": "2023-12-10T16:38:09.098497Z"
    }
   },
   "outputs": [
    {
     "name": "stdout",
     "output_type": "stream",
     "text": [
      "d\n",
      "c\n",
      "p\n"
     ]
    }
   ],
   "source": [
    "#145\n",
    "리스트 = ['dog', 'cat', 'parrot']\n",
    "for i in 리스트:\n",
    "    print(i[0])"
   ]
  },
  {
   "cell_type": "code",
   "execution_count": 43,
   "id": "940615ab",
   "metadata": {
    "ExecuteTime": {
     "end_time": "2023-12-10T16:39:02.606195Z",
     "start_time": "2023-12-10T16:39:02.597755Z"
    }
   },
   "outputs": [
    {
     "name": "stdout",
     "output_type": "stream",
     "text": [
      "3 x 1\n",
      "3 x 2\n",
      "3 x 3\n"
     ]
    }
   ],
   "source": [
    "#146\n",
    "리스트 = [1, 2, 3]\n",
    "for i in 리스트 :\n",
    "    print(3,\"x\",i)"
   ]
  },
  {
   "cell_type": "code",
   "execution_count": 45,
   "id": "d75f8e2d",
   "metadata": {
    "ExecuteTime": {
     "end_time": "2023-12-10T16:40:28.252776Z",
     "start_time": "2023-12-10T16:40:28.244493Z"
    }
   },
   "outputs": [
    {
     "name": "stdout",
     "output_type": "stream",
     "text": [
      "3 x 1 = 3\n",
      "3 x 2 = 6\n",
      "3 x 3 = 9\n"
     ]
    }
   ],
   "source": [
    "#147\n",
    "리스트 = [1, 2, 3]\n",
    "for i in 리스트 :\n",
    "    print(\"3 x\", i,\"=\",(i*3))"
   ]
  },
  {
   "cell_type": "code",
   "execution_count": null,
   "id": "a21d423d",
   "metadata": {},
   "outputs": [],
   "source": [
    "#147 정답확인 format\n",
    "리스트 = [1, 2, 3]\n",
    "for 변수 in 리스트:\n",
    "  print(\"3 x {} = {}\".format(변수, 3 * 변수))"
   ]
  },
  {
   "cell_type": "code",
   "execution_count": 49,
   "id": "1defc54b",
   "metadata": {
    "ExecuteTime": {
     "end_time": "2023-12-10T16:43:07.711999Z",
     "start_time": "2023-12-10T16:43:07.669084Z"
    },
    "scrolled": true
   },
   "outputs": [
    {
     "ename": "IndexError",
     "evalue": "string index out of range",
     "output_type": "error",
     "traceback": [
      "\u001b[1;31m---------------------------------------------------------------------------\u001b[0m",
      "\u001b[1;31mIndexError\u001b[0m                                Traceback (most recent call last)",
      "Cell \u001b[1;32mIn[49], line 4\u001b[0m\n\u001b[0;32m      2\u001b[0m 리스트 \u001b[38;5;241m=\u001b[39m [\u001b[38;5;124m\"\u001b[39m\u001b[38;5;124m가\u001b[39m\u001b[38;5;124m\"\u001b[39m, \u001b[38;5;124m\"\u001b[39m\u001b[38;5;124m나\u001b[39m\u001b[38;5;124m\"\u001b[39m, \u001b[38;5;124m\"\u001b[39m\u001b[38;5;124m다\u001b[39m\u001b[38;5;124m\"\u001b[39m, \u001b[38;5;124m\"\u001b[39m\u001b[38;5;124m라\u001b[39m\u001b[38;5;124m\"\u001b[39m]\n\u001b[0;32m      3\u001b[0m \u001b[38;5;28;01mfor\u001b[39;00m i \u001b[38;5;129;01min\u001b[39;00m 리스트:\n\u001b[1;32m----> 4\u001b[0m     \u001b[38;5;28mprint\u001b[39m(i[\u001b[38;5;241m1\u001b[39m])\n",
      "\u001b[1;31mIndexError\u001b[0m: string index out of range"
     ]
    }
   ],
   "source": [
    "#148\n",
    "리스트 = [\"가\", \"나\", \"다\", \"라\"]\n",
    "for i in 리스트:\n",
    "    print(i[1])"
   ]
  },
  {
   "cell_type": "code",
   "execution_count": 50,
   "id": "6bc8ce6c",
   "metadata": {
    "ExecuteTime": {
     "end_time": "2023-12-10T16:44:22.346982Z",
     "start_time": "2023-12-10T16:44:22.336611Z"
    }
   },
   "outputs": [
    {
     "name": "stdout",
     "output_type": "stream",
     "text": [
      "나\n",
      "다\n",
      "라\n"
     ]
    }
   ],
   "source": [
    "#148 정답확인\n",
    "리스트 = [\"가\", \"나\", \"다\", \"라\"]\n",
    "나다라 = 리스트[1:]\n",
    "for i in 나다라:\n",
    "    print(i)"
   ]
  },
  {
   "cell_type": "code",
   "execution_count": 53,
   "id": "26a2b879",
   "metadata": {
    "ExecuteTime": {
     "end_time": "2023-12-10T16:45:35.325666Z",
     "start_time": "2023-12-10T16:45:35.315100Z"
    }
   },
   "outputs": [
    {
     "name": "stdout",
     "output_type": "stream",
     "text": [
      "가\n",
      "다\n"
     ]
    }
   ],
   "source": [
    "#149\n",
    "리스트 = [\"가\", \"나\", \"다\", \"라\"]\n",
    "가다 = 리스트[::2]\n",
    "for i in 가다:\n",
    "    print(i)"
   ]
  },
  {
   "cell_type": "code",
   "execution_count": 55,
   "id": "c3601c48",
   "metadata": {
    "ExecuteTime": {
     "end_time": "2023-12-10T16:46:18.122282Z",
     "start_time": "2023-12-10T16:46:18.113970Z"
    }
   },
   "outputs": [
    {
     "name": "stdout",
     "output_type": "stream",
     "text": [
      "라\n",
      "다\n",
      "나\n",
      "가\n"
     ]
    }
   ],
   "source": [
    "#150\n",
    "리스트 = [\"가\", \"나\", \"다\", \"라\"]\n",
    "라다나가 = 리스트[::-1]\n",
    "for i in 라다나가 :\n",
    "    print(i)"
   ]
  },
  {
   "cell_type": "code",
   "execution_count": 59,
   "id": "b8d5589a",
   "metadata": {
    "ExecuteTime": {
     "end_time": "2023-12-10T16:47:46.471450Z",
     "start_time": "2023-12-10T16:47:46.461707Z"
    }
   },
   "outputs": [
    {
     "name": "stdout",
     "output_type": "stream",
     "text": [
      "-20\n",
      "-3\n"
     ]
    }
   ],
   "source": [
    "#151\n",
    "리스트 = [3, -20, -3, 44]\n",
    "음수 = 리스트[1:3]\n",
    "for i in 음수:\n",
    "    print(i)\n"
   ]
  },
  {
   "cell_type": "code",
   "execution_count": 60,
   "id": "8cea635b",
   "metadata": {
    "ExecuteTime": {
     "end_time": "2023-12-10T16:48:36.191820Z",
     "start_time": "2023-12-10T16:48:36.183452Z"
    }
   },
   "outputs": [
    {
     "name": "stdout",
     "output_type": "stream",
     "text": [
      "-20\n",
      "-3\n"
     ]
    }
   ],
   "source": [
    "#151 정답확인\n",
    "리스트 = [3, -20, -3, 44]\n",
    "for i in 리스트:\n",
    "    if i < 0:\n",
    "        print(i)"
   ]
  },
  {
   "cell_type": "code",
   "execution_count": 61,
   "id": "e21f8541",
   "metadata": {
    "ExecuteTime": {
     "end_time": "2023-12-10T16:49:17.348600Z",
     "start_time": "2023-12-10T16:49:17.339279Z"
    }
   },
   "outputs": [
    {
     "name": "stdout",
     "output_type": "stream",
     "text": [
      "3\n"
     ]
    }
   ],
   "source": [
    "#152\n",
    "리스트 = [3, 100, 23, 44]\n",
    "for i in 리스트:\n",
    "    if i % 3 == 0 :\n",
    "        print(i)"
   ]
  },
  {
   "cell_type": "code",
   "execution_count": 62,
   "id": "15ccb8ac",
   "metadata": {
    "ExecuteTime": {
     "end_time": "2023-12-10T16:50:13.122757Z",
     "start_time": "2023-12-10T16:50:13.113490Z"
    },
    "scrolled": true
   },
   "outputs": [
    {
     "name": "stdout",
     "output_type": "stream",
     "text": [
      "12\n",
      "18\n"
     ]
    }
   ],
   "source": [
    "#153\n",
    "리스트 = [13, 21, 12, 14, 30, 18]\n",
    "for i in 리스트:\n",
    "    if i < 20 and i % 3 == 0 :\n",
    "        print(i)"
   ]
  },
  {
   "cell_type": "code",
   "execution_count": 63,
   "id": "5d4dda76",
   "metadata": {
    "ExecuteTime": {
     "end_time": "2023-12-10T16:50:58.831211Z",
     "start_time": "2023-12-10T16:50:58.821334Z"
    }
   },
   "outputs": [
    {
     "name": "stdout",
     "output_type": "stream",
     "text": [
      "study\n",
      "python\n",
      "language\n"
     ]
    }
   ],
   "source": [
    "#154\n",
    "리스트 = [\"I\", \"study\", \"python\", \"language\", \"!\"]\n",
    "for i in 리스트:\n",
    "    if len(i) >= 3 :\n",
    "        print(i)"
   ]
  },
  {
   "cell_type": "code",
   "execution_count": 64,
   "id": "f14c115e",
   "metadata": {
    "ExecuteTime": {
     "end_time": "2023-12-10T16:51:58.179415Z",
     "start_time": "2023-12-10T16:51:58.169472Z"
    }
   },
   "outputs": [
    {
     "name": "stdout",
     "output_type": "stream",
     "text": [
      "A\n",
      "D\n"
     ]
    }
   ],
   "source": [
    "#155 #한번더해보면좋을듯\n",
    "리스트 = [\"A\", \"b\", \"c\", \"D\"]\n",
    "for i in 리스트 :\n",
    "    if i.isupper():\n",
    "        print(i)"
   ]
  },
  {
   "cell_type": "code",
   "execution_count": 65,
   "id": "38c5b437",
   "metadata": {
    "ExecuteTime": {
     "end_time": "2023-12-10T16:52:51.709640Z",
     "start_time": "2023-12-10T16:52:51.700858Z"
    }
   },
   "outputs": [
    {
     "name": "stdout",
     "output_type": "stream",
     "text": [
      "b\n",
      "c\n"
     ]
    }
   ],
   "source": [
    "#156\n",
    "리스트 = [\"A\", \"b\", \"c\", \"D\"]\n",
    "for i in 리스트:\n",
    "    if i.islower():\n",
    "        print(i)"
   ]
  },
  {
   "cell_type": "code",
   "execution_count": 76,
   "id": "6243d69d",
   "metadata": {
    "ExecuteTime": {
     "end_time": "2023-12-10T16:58:07.175941Z",
     "start_time": "2023-12-10T16:58:07.166113Z"
    }
   },
   "outputs": [
    {
     "name": "stdout",
     "output_type": "stream",
     "text": [
      "Dog\n",
      "Cat\n",
      "Parrot\n"
     ]
    }
   ],
   "source": [
    "#157\n",
    "리스트 = ['dog', 'cat', 'parrot']\n",
    "for i in 리스트:\n",
    "    print(i.capitalize())"
   ]
  },
  {
   "cell_type": "code",
   "execution_count": 77,
   "id": "9cafb1ed",
   "metadata": {
    "ExecuteTime": {
     "end_time": "2023-12-10T16:59:00.283656Z",
     "start_time": "2023-12-10T16:59:00.276049Z"
    }
   },
   "outputs": [
    {
     "name": "stdout",
     "output_type": "stream",
     "text": [
      "Dog\n",
      "Cat\n",
      "Parrot\n"
     ]
    }
   ],
   "source": [
    "#157 정답확인 굳이 이렇게?\n",
    "리스트 = ['dog', 'cat', 'parrot']\n",
    "for 변수 in 리스트:\n",
    "  첫글자 = 변수[0]              # 1)\n",
    "  대문자 = 첫글자.upper()     # 2)\n",
    "  print(대문자 + 변수[1:])      # 3)"
   ]
  },
  {
   "cell_type": "code",
   "execution_count": 84,
   "id": "d7db199d",
   "metadata": {
    "ExecuteTime": {
     "end_time": "2023-12-10T17:03:45.200668Z",
     "start_time": "2023-12-10T17:03:45.193818Z"
    }
   },
   "outputs": [
    {
     "name": "stdout",
     "output_type": "stream",
     "text": [
      "hello\n",
      "ex01\n",
      "intro\n"
     ]
    }
   ],
   "source": [
    "#158 다시 풀어보기\n",
    "리스트 = ['hello.py', 'ex01.py', 'intro.hwp']\n",
    "for i in 리스트:\n",
    "    split = i.split(\".\")\n",
    "    print(split[0])"
   ]
  },
  {
   "cell_type": "code",
   "execution_count": 87,
   "id": "45b5baa1",
   "metadata": {
    "ExecuteTime": {
     "end_time": "2023-12-10T17:06:07.106149Z",
     "start_time": "2023-12-10T17:06:07.097553Z"
    }
   },
   "outputs": [],
   "source": [
    "#159 왜안되지?\n",
    "리스트 = ['intra.h', 'intra.c', 'define.h', 'run.py']\n",
    "for i in 리스트:\n",
    "    if i[:-2] == \".h\":\n",
    "        print(i)"
   ]
  },
  {
   "cell_type": "code",
   "execution_count": 89,
   "id": "5cbb065e",
   "metadata": {
    "ExecuteTime": {
     "end_time": "2023-12-10T17:07:31.423919Z",
     "start_time": "2023-12-10T17:07:31.414567Z"
    }
   },
   "outputs": [
    {
     "name": "stdout",
     "output_type": "stream",
     "text": [
      "intra.h\n",
      "define.h\n"
     ]
    }
   ],
   "source": [
    "#159\n",
    "리스트 = ['intra.h', 'intra.c', 'define.h', 'run.py']\n",
    "for i in 리스트:\n",
    "    split = i.split(\".\")\n",
    "    if split[1] == \"h\":\n",
    "        print(i)"
   ]
  },
  {
   "cell_type": "code",
   "execution_count": 99,
   "id": "8df23b97",
   "metadata": {
    "ExecuteTime": {
     "end_time": "2023-12-10T17:11:22.583922Z",
     "start_time": "2023-12-10T17:11:22.573470Z"
    }
   },
   "outputs": [
    {
     "name": "stdout",
     "output_type": "stream",
     "text": [
      "intra.h\n",
      "intra.c\n",
      "define.h\n"
     ]
    }
   ],
   "source": [
    "#160\n",
    "리스트 = ['intra.h', 'intra.c', 'define.h', 'run.py']\n",
    "for i in 리스트:\n",
    "    split = i.split(\".\")\n",
    "    if split[1] == \"h\" :\n",
    "        print(i)\n",
    "    elif split[1] == \"c\":\n",
    "        print(i)"
   ]
  },
  {
   "cell_type": "code",
   "execution_count": 102,
   "id": "a29747da",
   "metadata": {
    "ExecuteTime": {
     "end_time": "2023-12-10T17:12:42.565208Z",
     "start_time": "2023-12-10T17:12:42.556971Z"
    }
   },
   "outputs": [
    {
     "name": "stdout",
     "output_type": "stream",
     "text": [
      "intra.h\n",
      "intra.c\n",
      "define.h\n"
     ]
    }
   ],
   "source": [
    "#160\n",
    "리스트 = ['intra.h', 'intra.c', 'define.h', 'run.py']\n",
    "for i in 리스트:\n",
    "    split = i.split(\".\")\n",
    "    if (split[1] == \"h\") or (split[1] == \"c\"):\n",
    "        print(i)"
   ]
  },
  {
   "cell_type": "code",
   "execution_count": 100,
   "id": "4ccb2d3d",
   "metadata": {
    "ExecuteTime": {
     "end_time": "2023-12-10T17:11:59.863894Z",
     "start_time": "2023-12-10T17:11:59.854408Z"
    }
   },
   "outputs": [
    {
     "name": "stdout",
     "output_type": "stream",
     "text": [
      "intra.h\n",
      "intra.c\n",
      "define.h\n"
     ]
    }
   ],
   "source": [
    "#160 정답확인\n",
    "리스트 = ['intra.h', 'intra.c', 'define.h', 'run.py']\n",
    "for 변수 in 리스트:\n",
    "  split = 변수.split(\".\")\n",
    "  if (split[1] == \"h\") or (split[1] == \"c\"):\n",
    "    print(변수)"
   ]
  }
 ],
 "metadata": {
  "kernelspec": {
   "display_name": "Python 3 (ipykernel)",
   "language": "python",
   "name": "python3"
  },
  "language_info": {
   "codemirror_mode": {
    "name": "ipython",
    "version": 3
   },
   "file_extension": ".py",
   "mimetype": "text/x-python",
   "name": "python",
   "nbconvert_exporter": "python",
   "pygments_lexer": "ipython3",
   "version": "3.11.5"
  },
  "toc": {
   "base_numbering": 1,
   "nav_menu": {},
   "number_sections": true,
   "sideBar": true,
   "skip_h1_title": false,
   "title_cell": "Table of Contents",
   "title_sidebar": "Contents",
   "toc_cell": false,
   "toc_position": {},
   "toc_section_display": true,
   "toc_window_display": false
  }
 },
 "nbformat": 4,
 "nbformat_minor": 5
}
